{
  "cells": [
    {
      "cell_type": "code",
      "execution_count": 1,
      "metadata": {
        "id": "U-dBc7ujfK2E"
      },
      "outputs": [],
      "source": [
        "import nltk\n",
        "import re\n",
        "\n",
        "import pandas as pd\n",
        "import numpy as np\n",
        "\n",
        "import matplotlib.pyplot as plt\n",
        "import seaborn as sns\n",
        "import gensim\n",
        "\n",
        "from nltk.corpus import stopwords\n",
        "from nltk.stem.wordnet import WordNetLemmatizer\n",
        "from gensim.models.doc2vec import Doc2Vec, TaggedDocument\n",
        "\n",
        "from sklearn.feature_extraction.text import TfidfVectorizer\n",
        "\n",
        "from sklearn.preprocessing import StandardScaler\n",
        "from sklearn.cluster import KMeans\n",
        "from sklearn.metrics import silhouette_score\n",
        "from sklearn.manifold import TSNE"
      ]
    },
    {
      "cell_type": "markdown",
      "metadata": {
        "id": "_5FqhU3tbiq5"
      },
      "source": [
        "<div class=\"alert alert-block alert-danger\">\n",
        "<b>Gensim</b> is a Python library for topic modelling, document indexing and similarity retrieval with large corpora. Target audience is the natural language processing (NLP) and information retrieval (IR) community <br><br>\n",
        "    <b>https://pypi.org/project/gensim/ </b>\n",
        "</div>"
      ]
    },
    {
      "cell_type": "code",
      "execution_count": 2,
      "metadata": {
        "colab": {
          "base_uri": "https://localhost:8080/"
        },
        "id": "xSkD9sklbl27",
        "outputId": "599ce3c6-0cab-4b33-9ff2-626751212952"
      },
      "outputs": [
        {
          "output_type": "stream",
          "name": "stdout",
          "text": [
            "Genism Version:  4.3.2\n"
          ]
        }
      ],
      "source": [
        "print(\"Genism Version: \", gensim.__version__)"
      ]
    },
    {
      "cell_type": "code",
      "execution_count": 3,
      "metadata": {
        "id": "YyIgWiIj4Iia"
      },
      "outputs": [],
      "source": [
        "sns.set_context('talk')"
      ]
    },
    {
      "cell_type": "code",
      "execution_count": 4,
      "metadata": {
        "colab": {
          "base_uri": "https://localhost:8080/"
        },
        "id": "tavAXOobgXz9",
        "outputId": "d6ef569d-528b-41ef-f82f-c09790025f84"
      },
      "outputs": [
        {
          "output_type": "stream",
          "name": "stderr",
          "text": [
            "[nltk_data] Downloading package stopwords to /root/nltk_data...\n",
            "[nltk_data]   Unzipping corpora/stopwords.zip.\n",
            "[nltk_data] Downloading package punkt to /root/nltk_data...\n",
            "[nltk_data]   Unzipping tokenizers/punkt.zip.\n",
            "[nltk_data] Downloading package wordnet to /root/nltk_data...\n",
            "[nltk_data] Downloading package omw-1.4 to /root/nltk_data...\n"
          ]
        },
        {
          "output_type": "execute_result",
          "data": {
            "text/plain": [
              "True"
            ]
          },
          "metadata": {},
          "execution_count": 4
        }
      ],
      "source": [
        "nltk.download('stopwords')\n",
        "nltk.download('punkt')\n",
        "nltk.download('wordnet')\n",
        "nltk.download('omw-1.4')"
      ]
    },
    {
      "cell_type": "code",
      "execution_count": 5,
      "metadata": {
        "id": "QLr8StWRaO4U"
      },
      "outputs": [],
      "source": [
        "def add_movie_descriptor(data: pd.DataFrame, corpus_df: pd.DataFrame):\n",
        "    \"\"\"\n",
        "    Adds \"Movie Description\" to the supplied dataframe, in the form {Genre}_{P|N}_{Movie Title}_{DocID}\n",
        "    \"\"\"\n",
        "    review = np.where(corpus_df['Review Type (pos or neg)'] == 'Positive', 'P', 'N')\n",
        "    data['Descriptor'] = corpus_df['Genre of Movie'] + '_' + corpus_df['Movie Title'] + '_' + review + '_' + corpus_df['Doc_ID'].astype(str)\n",
        "\n",
        "def get_corpus_df(path):\n",
        "    data = pd.read_csv(path, encoding=\"utf-8\")\n",
        "    add_movie_descriptor(data, data)\n",
        "    sorted_data = data.sort_values(['Descriptor'])\n",
        "    indexed_data = sorted_data.set_index(['Doc_ID'])\n",
        "    indexed_data['Doc_ID'] = indexed_data.index\n",
        "    return indexed_data"
      ]
    },
    {
      "cell_type": "markdown",
      "metadata": {
        "id": "TIm9iGUGi2ay"
      },
      "source": [
        "# Data"
      ]
    },
    {
      "cell_type": "code",
      "source": [
        "from google.colab import drive\n",
        "drive.mount('/content/gdrive')"
      ],
      "metadata": {
        "id": "DQ_wMDCyw21o",
        "outputId": "1b732e0c-f3f8-4061-fba1-9947da120199",
        "colab": {
          "base_uri": "https://localhost:8080/"
        }
      },
      "execution_count": 6,
      "outputs": [
        {
          "output_type": "stream",
          "name": "stdout",
          "text": [
            "Mounted at /content/gdrive\n"
          ]
        }
      ]
    },
    {
      "cell_type": "code",
      "execution_count": 7,
      "metadata": {
        "id": "YO7HAYfPaO4V"
      },
      "outputs": [],
      "source": [
        "CORPUS_PATH=\\\n",
        "'/content/gdrive/MyDrive/Temp/MSDS453/MSDS453_ClassCorpus_Final_Sec57_v2_20230928.csv'\n",
        "class_corpus = get_corpus_df(CORPUS_PATH)"
      ]
    },
    {
      "cell_type": "code",
      "execution_count": 8,
      "metadata": {
        "colab": {
          "base_uri": "https://localhost:8080/"
        },
        "id": "L2omUYiMi_Bi",
        "outputId": "61b2588b-018a-43a0-cb94-8d792096458b"
      },
      "outputs": [
        {
          "output_type": "stream",
          "name": "stdout",
          "text": [
            "<class 'pandas.core.frame.DataFrame'>\n",
            "Int64Index: 200 entries, 90 to 164\n",
            "Data columns (total 9 columns):\n",
            " #   Column                    Non-Null Count  Dtype \n",
            "---  ------                    --------------  ----- \n",
            " 0   DSI_Title                 200 non-null    object\n",
            " 1   Text                      200 non-null    object\n",
            " 2   Submission File Name      200 non-null    object\n",
            " 3   Student Name              200 non-null    object\n",
            " 4   Genre of Movie            200 non-null    object\n",
            " 5   Review Type (pos or neg)  200 non-null    object\n",
            " 6   Movie Title               200 non-null    object\n",
            " 7   Descriptor                200 non-null    object\n",
            " 8   Doc_ID                    200 non-null    int64 \n",
            "dtypes: int64(1), object(8)\n",
            "memory usage: 15.6+ KB\n"
          ]
        }
      ],
      "source": [
        "class_corpus.info()"
      ]
    },
    {
      "cell_type": "markdown",
      "metadata": {
        "id": "oUApF6gXi0Ob"
      },
      "source": [
        "# Preprocessing"
      ]
    },
    {
      "cell_type": "code",
      "execution_count": 9,
      "metadata": {
        "id": "3f0E2HBMgaoP"
      },
      "outputs": [],
      "source": [
        "STOP_WORDS = set(nltk.corpus.stopwords.words('english'))"
      ]
    },
    {
      "cell_type": "code",
      "execution_count": 10,
      "metadata": {
        "id": "x9UqR31CgbG9"
      },
      "outputs": [],
      "source": [
        "def remove_punctuation(text):\n",
        "    return re.sub('[^a-zA-Z]', ' ', str(text))\n",
        "\n",
        "def lower_case(text):\n",
        "    return text.lower()\n",
        "\n",
        "def remove_tags(text):\n",
        "    return re.sub(\"&lt;/?.*?&gt;\",\" &lt;&gt; \", text)\n",
        "\n",
        "def remove_special_chars_and_digits(text):\n",
        "    return re.sub(\"(\\\\d|\\\\W)+\",\" \", text)\n",
        "\n",
        "def remove_stop_words(tokenized_text):\n",
        "    return [w for w in tokenized_text if not w in STOP_WORDS]\n",
        "\n",
        "def remove_custom_words(tokenized_text):\n",
        "    CUSTOM_WORDS = ['know', 'movie', 'film', 'french', 'taxi', 'even', 'also', 'movies', 'character', 'characters', 'films', 'go', 'much', 'now', 'really', 'see', 'make', 'still', 'just', 'first']\n",
        "    return [w for w in tokenized_text if not w in CUSTOM_WORDS]"
      ]
    },
    {
      "cell_type": "code",
      "execution_count": 11,
      "metadata": {
        "id": "MIDZVFNOgeCG"
      },
      "outputs": [],
      "source": [
        "def normalize(input_text):\n",
        "    '''\n",
        "    Normalization involves the following steps:\n",
        "    1. Remove punctuation\n",
        "    2. Lower case all words\n",
        "    3. Remove tags (i.e., HTML tags)\n",
        "    4. Remove all special characters and digits\n",
        "    '''\n",
        "    text = remove_punctuation(input_text)\n",
        "    text = lower_case(text)\n",
        "    text = remove_tags(text)\n",
        "    text = remove_special_chars_and_digits(text)\n",
        "\n",
        "    return text"
      ]
    },
    {
      "cell_type": "code",
      "execution_count": 12,
      "metadata": {
        "id": "-mbmpZgqgjT0"
      },
      "outputs": [],
      "source": [
        "def tokenize(text):\n",
        "    '''\n",
        "    Tokenization involves the following steps:\n",
        "    1. Break text down to tokens (i.e., words separated by white spaces)\n",
        "    2. Remove stop words from the tokens generated in step 1\n",
        "    '''\n",
        "    tokens = nltk.word_tokenize(text)\n",
        "    tokenized_text = remove_stop_words(tokens)\n",
        "    tokenized_cleaned_text = remove_custom_words(tokenized_text)\n",
        "\n",
        "    return tokenized_cleaned_text"
      ]
    },
    {
      "cell_type": "code",
      "execution_count": 13,
      "metadata": {
        "id": "QI9DxUomgl7s"
      },
      "outputs": [],
      "source": [
        "def lemmatize(tokenized_text, lemmatizer=WordNetLemmatizer()):\n",
        "    '''\n",
        "    Lemmatization is applied to each word in the list of normalized tokens\n",
        "    (stop words are removed)\n",
        "    '''\n",
        "    return [lemmatizer.lemmatize(word) for word in tokenized_text]"
      ]
    },
    {
      "cell_type": "code",
      "execution_count": 14,
      "metadata": {
        "id": "__exS2R4gooV"
      },
      "outputs": [],
      "source": [
        "def join_tokens(lemmatized_tokens):\n",
        "    return ' '.join(lemmatized_tokens)"
      ]
    },
    {
      "cell_type": "code",
      "execution_count": 15,
      "metadata": {
        "id": "CohWDClbgrO-"
      },
      "outputs": [],
      "source": [
        "class_corpus['normalized_review'] = class_corpus['Text'].apply(normalize)\n",
        "class_corpus['tokenized_review'] = class_corpus['normalized_review'].apply(tokenize)\n",
        "class_corpus['lemmatized_tokens'] = class_corpus['tokenized_review'].apply(lemmatize)\n",
        "class_corpus['lemmatized_text'] = class_corpus['lemmatized_tokens'].apply(join_tokens)"
      ]
    },
    {
      "cell_type": "code",
      "execution_count": 16,
      "metadata": {
        "colab": {
          "base_uri": "https://localhost:8080/"
        },
        "id": "d6rvCluFgwMt",
        "outputId": "4b2dbf0e-e235-443f-c8a7-a461ed8ae501"
      },
      "outputs": [
        {
          "output_type": "stream",
          "name": "stdout",
          "text": [
            "<class 'pandas.core.frame.DataFrame'>\n",
            "Int64Index: 200 entries, 90 to 164\n",
            "Data columns (total 13 columns):\n",
            " #   Column                    Non-Null Count  Dtype \n",
            "---  ------                    --------------  ----- \n",
            " 0   DSI_Title                 200 non-null    object\n",
            " 1   Text                      200 non-null    object\n",
            " 2   Submission File Name      200 non-null    object\n",
            " 3   Student Name              200 non-null    object\n",
            " 4   Genre of Movie            200 non-null    object\n",
            " 5   Review Type (pos or neg)  200 non-null    object\n",
            " 6   Movie Title               200 non-null    object\n",
            " 7   Descriptor                200 non-null    object\n",
            " 8   Doc_ID                    200 non-null    int64 \n",
            " 9   normalized_review         200 non-null    object\n",
            " 10  tokenized_review          200 non-null    object\n",
            " 11  lemmatized_tokens         200 non-null    object\n",
            " 12  lemmatized_text           200 non-null    object\n",
            "dtypes: int64(1), object(12)\n",
            "memory usage: 21.9+ KB\n"
          ]
        }
      ],
      "source": [
        "class_corpus.info()"
      ]
    },
    {
      "cell_type": "markdown",
      "metadata": {
        "id": "0KBfKMoVjET6"
      },
      "source": [
        "# Feature Extraction"
      ]
    },
    {
      "cell_type": "markdown",
      "metadata": {
        "id": "gRlrmxayjGMa"
      },
      "source": [
        "## Method 1: TF-IDF"
      ]
    },
    {
      "cell_type": "code",
      "execution_count": 17,
      "metadata": {
        "id": "UK1PBPvMiKsN"
      },
      "outputs": [],
      "source": [
        "tfidf_vectorizer = TfidfVectorizer()"
      ]
    },
    {
      "cell_type": "code",
      "execution_count": 18,
      "metadata": {
        "id": "Tpf5d7NHiLVa"
      },
      "outputs": [],
      "source": [
        "dtm_class_corpus = tfidf_vectorizer.fit_transform(class_corpus['lemmatized_text'])"
      ]
    },
    {
      "cell_type": "code",
      "execution_count": 19,
      "metadata": {
        "id": "fQxLyNNviOxr"
      },
      "outputs": [],
      "source": [
        "features_tfidf_scores = pd.DataFrame(dtm_class_corpus.toarray(),\n",
        "                                     columns=tfidf_vectorizer.get_feature_names_out(),\n",
        "                                     index=class_corpus.index)"
      ]
    },
    {
      "cell_type": "code",
      "execution_count": 20,
      "metadata": {
        "colab": {
          "base_uri": "https://localhost:8080/"
        },
        "id": "mng4HQHkiPd6",
        "outputId": "3f3cd0ae-1a8b-43e2-978c-ddeb910b05e5"
      },
      "outputs": [
        {
          "output_type": "execute_result",
          "data": {
            "text/plain": [
              "(200, 10068)"
            ]
          },
          "metadata": {},
          "execution_count": 20
        }
      ],
      "source": [
        "features_tfidf_scores.shape"
      ]
    },
    {
      "cell_type": "markdown",
      "metadata": {
        "id": "k_i9cCBUjJAa"
      },
      "source": [
        "## Method 2: Doc2Vec"
      ]
    },
    {
      "cell_type": "code",
      "execution_count": 21,
      "metadata": {
        "id": "Trb-HZFEiYIS"
      },
      "outputs": [],
      "source": [
        "documents = [TaggedDocument(doc, [i]) for i, doc in enumerate(class_corpus.lemmatized_tokens)]"
      ]
    },
    {
      "cell_type": "code",
      "execution_count": 22,
      "metadata": {
        "id": "k_8VjV7jiaGi"
      },
      "outputs": [],
      "source": [
        "model_doc2vec = Doc2Vec(documents,\n",
        "                        vector_size=200,\n",
        "                        min_count=1,\n",
        "                        workers=4)"
      ]
    },
    {
      "cell_type": "code",
      "execution_count": 23,
      "metadata": {
        "id": "t-WaDCrqicST"
      },
      "outputs": [],
      "source": [
        "features_doc2vec = pd.DataFrame()\n",
        "\n",
        "for document in documents:\n",
        "    vector = pd.DataFrame(model_doc2vec.infer_vector(document.words)).transpose()\n",
        "    features_doc2vec = pd.concat([features_doc2vec, vector])"
      ]
    },
    {
      "cell_type": "code",
      "execution_count": 24,
      "metadata": {
        "colab": {
          "base_uri": "https://localhost:8080/"
        },
        "id": "iflibYJyieYz",
        "outputId": "fcfc6dcc-0696-48ba-b211-86e9425183c1"
      },
      "outputs": [
        {
          "output_type": "execute_result",
          "data": {
            "text/plain": [
              "(200, 200)"
            ]
          },
          "metadata": {},
          "execution_count": 24
        }
      ],
      "source": [
        "features_doc2vec.shape"
      ]
    },
    {
      "cell_type": "markdown",
      "metadata": {
        "id": "EcRb1jnMkMuD"
      },
      "source": [
        "# Clustering"
      ]
    },
    {
      "cell_type": "markdown",
      "metadata": {
        "id": "4J1fmzaSmxat"
      },
      "source": [
        "Before clustering, we need to scale the data to bring parity between all the columns."
      ]
    },
    {
      "cell_type": "code",
      "execution_count": 25,
      "metadata": {
        "id": "FWabEy0lmxEN"
      },
      "outputs": [],
      "source": [
        "standard_scaler = StandardScaler()"
      ]
    },
    {
      "cell_type": "code",
      "execution_count": 26,
      "metadata": {
        "id": "khKJTH6cnJf2"
      },
      "outputs": [],
      "source": [
        "transformed_features_tfidf = standard_scaler.fit_transform(features_tfidf_scores)"
      ]
    },
    {
      "cell_type": "code",
      "execution_count": 27,
      "metadata": {
        "id": "oeXEJngWj2GZ"
      },
      "outputs": [],
      "source": [
        "model_kmeans = KMeans(n_clusters=4,\n",
        "                      random_state=42)"
      ]
    },
    {
      "cell_type": "code",
      "execution_count": 28,
      "metadata": {
        "colab": {
          "base_uri": "https://localhost:8080/",
          "height": 109
        },
        "id": "ENbkc6j8kcYp",
        "outputId": "3c0dcc8e-73eb-4201-8dd2-0c6dc1577ed9"
      },
      "outputs": [
        {
          "output_type": "stream",
          "name": "stderr",
          "text": [
            "/usr/local/lib/python3.10/dist-packages/sklearn/cluster/_kmeans.py:870: FutureWarning: The default value of `n_init` will change from 10 to 'auto' in 1.4. Set the value of `n_init` explicitly to suppress the warning\n",
            "  warnings.warn(\n"
          ]
        },
        {
          "output_type": "execute_result",
          "data": {
            "text/plain": [
              "KMeans(n_clusters=4, random_state=42)"
            ],
            "text/html": [
              "<style>#sk-container-id-1 {color: black;background-color: white;}#sk-container-id-1 pre{padding: 0;}#sk-container-id-1 div.sk-toggleable {background-color: white;}#sk-container-id-1 label.sk-toggleable__label {cursor: pointer;display: block;width: 100%;margin-bottom: 0;padding: 0.3em;box-sizing: border-box;text-align: center;}#sk-container-id-1 label.sk-toggleable__label-arrow:before {content: \"▸\";float: left;margin-right: 0.25em;color: #696969;}#sk-container-id-1 label.sk-toggleable__label-arrow:hover:before {color: black;}#sk-container-id-1 div.sk-estimator:hover label.sk-toggleable__label-arrow:before {color: black;}#sk-container-id-1 div.sk-toggleable__content {max-height: 0;max-width: 0;overflow: hidden;text-align: left;background-color: #f0f8ff;}#sk-container-id-1 div.sk-toggleable__content pre {margin: 0.2em;color: black;border-radius: 0.25em;background-color: #f0f8ff;}#sk-container-id-1 input.sk-toggleable__control:checked~div.sk-toggleable__content {max-height: 200px;max-width: 100%;overflow: auto;}#sk-container-id-1 input.sk-toggleable__control:checked~label.sk-toggleable__label-arrow:before {content: \"▾\";}#sk-container-id-1 div.sk-estimator input.sk-toggleable__control:checked~label.sk-toggleable__label {background-color: #d4ebff;}#sk-container-id-1 div.sk-label input.sk-toggleable__control:checked~label.sk-toggleable__label {background-color: #d4ebff;}#sk-container-id-1 input.sk-hidden--visually {border: 0;clip: rect(1px 1px 1px 1px);clip: rect(1px, 1px, 1px, 1px);height: 1px;margin: -1px;overflow: hidden;padding: 0;position: absolute;width: 1px;}#sk-container-id-1 div.sk-estimator {font-family: monospace;background-color: #f0f8ff;border: 1px dotted black;border-radius: 0.25em;box-sizing: border-box;margin-bottom: 0.5em;}#sk-container-id-1 div.sk-estimator:hover {background-color: #d4ebff;}#sk-container-id-1 div.sk-parallel-item::after {content: \"\";width: 100%;border-bottom: 1px solid gray;flex-grow: 1;}#sk-container-id-1 div.sk-label:hover label.sk-toggleable__label {background-color: #d4ebff;}#sk-container-id-1 div.sk-serial::before {content: \"\";position: absolute;border-left: 1px solid gray;box-sizing: border-box;top: 0;bottom: 0;left: 50%;z-index: 0;}#sk-container-id-1 div.sk-serial {display: flex;flex-direction: column;align-items: center;background-color: white;padding-right: 0.2em;padding-left: 0.2em;position: relative;}#sk-container-id-1 div.sk-item {position: relative;z-index: 1;}#sk-container-id-1 div.sk-parallel {display: flex;align-items: stretch;justify-content: center;background-color: white;position: relative;}#sk-container-id-1 div.sk-item::before, #sk-container-id-1 div.sk-parallel-item::before {content: \"\";position: absolute;border-left: 1px solid gray;box-sizing: border-box;top: 0;bottom: 0;left: 50%;z-index: -1;}#sk-container-id-1 div.sk-parallel-item {display: flex;flex-direction: column;z-index: 1;position: relative;background-color: white;}#sk-container-id-1 div.sk-parallel-item:first-child::after {align-self: flex-end;width: 50%;}#sk-container-id-1 div.sk-parallel-item:last-child::after {align-self: flex-start;width: 50%;}#sk-container-id-1 div.sk-parallel-item:only-child::after {width: 0;}#sk-container-id-1 div.sk-dashed-wrapped {border: 1px dashed gray;margin: 0 0.4em 0.5em 0.4em;box-sizing: border-box;padding-bottom: 0.4em;background-color: white;}#sk-container-id-1 div.sk-label label {font-family: monospace;font-weight: bold;display: inline-block;line-height: 1.2em;}#sk-container-id-1 div.sk-label-container {text-align: center;}#sk-container-id-1 div.sk-container {/* jupyter's `normalize.less` sets `[hidden] { display: none; }` but bootstrap.min.css set `[hidden] { display: none !important; }` so we also need the `!important` here to be able to override the default hidden behavior on the sphinx rendered scikit-learn.org. See: https://github.com/scikit-learn/scikit-learn/issues/21755 */display: inline-block !important;position: relative;}#sk-container-id-1 div.sk-text-repr-fallback {display: none;}</style><div id=\"sk-container-id-1\" class=\"sk-top-container\"><div class=\"sk-text-repr-fallback\"><pre>KMeans(n_clusters=4, random_state=42)</pre><b>In a Jupyter environment, please rerun this cell to show the HTML representation or trust the notebook. <br />On GitHub, the HTML representation is unable to render, please try loading this page with nbviewer.org.</b></div><div class=\"sk-container\" hidden><div class=\"sk-item\"><div class=\"sk-estimator sk-toggleable\"><input class=\"sk-toggleable__control sk-hidden--visually\" id=\"sk-estimator-id-1\" type=\"checkbox\" checked><label for=\"sk-estimator-id-1\" class=\"sk-toggleable__label sk-toggleable__label-arrow\">KMeans</label><div class=\"sk-toggleable__content\"><pre>KMeans(n_clusters=4, random_state=42)</pre></div></div></div></div></div>"
            ]
          },
          "metadata": {},
          "execution_count": 28
        }
      ],
      "source": [
        "model_kmeans.fit(transformed_features_tfidf)"
      ]
    },
    {
      "cell_type": "code",
      "execution_count": 29,
      "metadata": {
        "id": "8C6gBumikfMb"
      },
      "outputs": [],
      "source": [
        "labels_kmeans = model_kmeans.labels_"
      ]
    },
    {
      "cell_type": "markdown",
      "metadata": {
        "id": "WAha-A4i4Xww"
      },
      "source": [
        "Quality of clustering is determined using the [silhouette score](https://scikit-learn.org/stable/modules/generated/sklearn.metrics.silhouette_score.html)."
      ]
    },
    {
      "cell_type": "code",
      "execution_count": 30,
      "metadata": {
        "colab": {
          "base_uri": "https://localhost:8080/"
        },
        "id": "RsHRABFRkiNR",
        "outputId": "1832d86c-b8c0-4000-b25a-63c602d9c239"
      },
      "outputs": [
        {
          "output_type": "execute_result",
          "data": {
            "text/plain": [
              "0.06524554340106575"
            ]
          },
          "metadata": {},
          "execution_count": 30
        }
      ],
      "source": [
        "silhouette_score(transformed_features_tfidf, labels_kmeans)"
      ]
    },
    {
      "cell_type": "code",
      "execution_count": 31,
      "metadata": {
        "colab": {
          "base_uri": "https://localhost:8080/"
        },
        "id": "Knve5ZS2klsA",
        "outputId": "a5dedb9d-74ed-4333-e477-cb6bb64227d0"
      },
      "outputs": [
        {
          "output_type": "stream",
          "name": "stderr",
          "text": [
            "/usr/local/lib/python3.10/dist-packages/sklearn/cluster/_kmeans.py:870: FutureWarning: The default value of `n_init` will change from 10 to 'auto' in 1.4. Set the value of `n_init` explicitly to suppress the warning\n",
            "  warnings.warn(\n"
          ]
        },
        {
          "output_type": "stream",
          "name": "stdout",
          "text": [
            "k = 4, silhouette score = 0.06524554340106575\n"
          ]
        },
        {
          "output_type": "stream",
          "name": "stderr",
          "text": [
            "/usr/local/lib/python3.10/dist-packages/sklearn/cluster/_kmeans.py:870: FutureWarning: The default value of `n_init` will change from 10 to 'auto' in 1.4. Set the value of `n_init` explicitly to suppress the warning\n",
            "  warnings.warn(\n"
          ]
        },
        {
          "output_type": "stream",
          "name": "stdout",
          "text": [
            "k = 5, silhouette score = -0.008248290806563176\n"
          ]
        },
        {
          "output_type": "stream",
          "name": "stderr",
          "text": [
            "/usr/local/lib/python3.10/dist-packages/sklearn/cluster/_kmeans.py:870: FutureWarning: The default value of `n_init` will change from 10 to 'auto' in 1.4. Set the value of `n_init` explicitly to suppress the warning\n",
            "  warnings.warn(\n"
          ]
        },
        {
          "output_type": "stream",
          "name": "stdout",
          "text": [
            "k = 6, silhouette score = -0.0024847214347688386\n"
          ]
        },
        {
          "output_type": "stream",
          "name": "stderr",
          "text": [
            "/usr/local/lib/python3.10/dist-packages/sklearn/cluster/_kmeans.py:870: FutureWarning: The default value of `n_init` will change from 10 to 'auto' in 1.4. Set the value of `n_init` explicitly to suppress the warning\n",
            "  warnings.warn(\n"
          ]
        },
        {
          "output_type": "stream",
          "name": "stdout",
          "text": [
            "k = 7, silhouette score = -0.0020990352339609404\n"
          ]
        },
        {
          "output_type": "stream",
          "name": "stderr",
          "text": [
            "/usr/local/lib/python3.10/dist-packages/sklearn/cluster/_kmeans.py:870: FutureWarning: The default value of `n_init` will change from 10 to 'auto' in 1.4. Set the value of `n_init` explicitly to suppress the warning\n",
            "  warnings.warn(\n"
          ]
        },
        {
          "output_type": "stream",
          "name": "stdout",
          "text": [
            "k = 8, silhouette score = 0.0001261301586871856\n"
          ]
        },
        {
          "output_type": "stream",
          "name": "stderr",
          "text": [
            "/usr/local/lib/python3.10/dist-packages/sklearn/cluster/_kmeans.py:870: FutureWarning: The default value of `n_init` will change from 10 to 'auto' in 1.4. Set the value of `n_init` explicitly to suppress the warning\n",
            "  warnings.warn(\n"
          ]
        },
        {
          "output_type": "stream",
          "name": "stdout",
          "text": [
            "k = 9, silhouette score = 0.002332147561787335\n"
          ]
        }
      ],
      "source": [
        "for k in [4, 5, 6, 7, 8, 9]:\n",
        "\n",
        "    model_kmeans = KMeans(n_clusters=k,\n",
        "                          random_state=42)\n",
        "    model_kmeans.fit(transformed_features_tfidf)\n",
        "    sil_score = silhouette_score(transformed_features_tfidf, model_kmeans.labels_)\n",
        "    print(f\"k = {k}, silhouette score = {sil_score}\")"
      ]
    },
    {
      "cell_type": "code",
      "execution_count": 32,
      "metadata": {
        "colab": {
          "base_uri": "https://localhost:8080/"
        },
        "id": "dlhAm80Ok0zN",
        "outputId": "79cbac8c-a888-4646-e52f-15ebaea8d36e"
      },
      "outputs": [
        {
          "output_type": "stream",
          "name": "stderr",
          "text": [
            "/usr/local/lib/python3.10/dist-packages/sklearn/cluster/_kmeans.py:870: FutureWarning: The default value of `n_init` will change from 10 to 'auto' in 1.4. Set the value of `n_init` explicitly to suppress the warning\n",
            "  warnings.warn(\n"
          ]
        }
      ],
      "source": [
        "model_kmeans = KMeans(n_clusters=2)\n",
        "model_kmeans.fit(transformed_features_tfidf)\n",
        "labels_kmeans = model_kmeans.labels_"
      ]
    },
    {
      "cell_type": "code",
      "execution_count": 33,
      "metadata": {
        "id": "piX8yxOpk23V"
      },
      "outputs": [],
      "source": [
        "model_tsne = TSNE(n_components=2)"
      ]
    },
    {
      "cell_type": "code",
      "execution_count": 39,
      "metadata": {
        "id": "D4IO8U3Fk64V"
      },
      "outputs": [],
      "source": [
        "transformed_values = model_tsne.fit_transform(transformed_features_tfidf)\n",
        "X, Y = [], []\n",
        "\n",
        "for value in transformed_values:\n",
        "    X.append(value[0])\n",
        "    Y.append(value[1])"
      ]
    },
    {
      "cell_type": "code",
      "execution_count": 40,
      "metadata": {
        "colab": {
          "base_uri": "https://localhost:8080/",
          "height": 770
        },
        "id": "Yg6RKCpak-xc",
        "outputId": "b309c993-a10a-4bb4-9aca-eff98051c0ab"
      },
      "outputs": [
        {
          "output_type": "display_data",
          "data": {
            "text/plain": [
              "<Figure size 1800x900 with 1 Axes>"
            ],
            "image/png": "[encoded data removed]"
          },
          "metadata": {}
        }
      ],
      "source": [
        "plt.figure(figsize=(18, 9))\n",
        "\n",
        "labels_kmeans_str = pd.Series(labels_kmeans.astype(str), name='cluster')\n",
        "\n",
        "sns.scatterplot(x=X,\n",
        "                y=Y,\n",
        "                hue=labels_kmeans_str,\n",
        "                hue_order=['0', '1']);"
      ]
    },
    {
      "cell_type": "markdown",
      "metadata": {
        "id": "9PFmnSUl4qvH"
      },
      "source": [
        "Once the cluster assignment is done, we can then look at the composition of the clusters to qualitatively assess the clusters."
      ]
    },
    {
      "cell_type": "code",
      "execution_count": 44,
      "metadata": {
        "id": "G6IycCRrlCEt"
      },
      "outputs": [],
      "source": [
        "documents_by_cluster = (class_corpus.loc[:, ['DSI_Title', 'Review Type (pos or neg)', 'Text']]\n",
        "                                    .assign(cluster_label=labels_kmeans))"
      ]
    },
    {
      "cell_type": "code",
      "execution_count": 45,
      "metadata": {
        "tags": [],
        "id": "0bWCli85wYZz"
      },
      "outputs": [],
      "source": [
        "pd.set_option('display.max_rows', None)"
      ]
    },
    {
      "cell_type": "code",
      "execution_count": 46,
      "metadata": {
        "tags": [],
        "id": "ItYNSS-ywYZ0",
        "outputId": "b4ad2288-74a4-4198-f30d-aaa919020a21",
        "colab": {
          "base_uri": "https://localhost:8080/",
          "height": 816
        }
      },
      "outputs": [
        {
          "output_type": "execute_result",
          "data": {
            "text/plain": [
              "[Text(0.5, 0, 'Cluster #'), Text(0, 0.5, 'Count of Movies')]"
            ]
          },
          "metadata": {},
          "execution_count": 46
        },
        {
          "output_type": "display_data",
          "data": {
            "text/plain": [
              "<Figure size 1800x900 with 1 Axes>"
            ],
            "image/png": "[encoded data removed]"
          },
          "metadata": {}
        }
      ],
      "source": [
        "documents_by_cluster['cluster_label'] = documents_by_cluster['cluster_label']+1\n",
        "\n",
        "plt.figure(figsize=(18, 9))\n",
        "ax = sns.countplot(documents_by_cluster, x='cluster_label', hue='Review Type (pos or neg)')\n",
        "ax.set(xlabel='Cluster #', ylabel='Count of Movies')"
      ]
    },
    {
      "cell_type": "markdown",
      "metadata": {
        "id": "gAzvcpVh4wIf"
      },
      "source": [
        "# Conclusion"
      ]
    },
    {
      "cell_type": "markdown",
      "metadata": {
        "id": "d4DryKdk4xsX"
      },
      "source": [
        "Quality of features extracted from text (e.g., `tf-idf` and `doc2vec`) can be acertained by the quality of the clusters generated using these features. These clusters also highlight potential patterns within the corpus.\n"
      ]
    }
  ],
  "metadata": {
    "colab": {
      "provenance": []
    },
    "kernelspec": {
      "display_name": "Python 3 (ipykernel)",
      "language": "python",
      "name": "python3"
    },
    "language_info": {
      "codemirror_mode": {
        "name": "ipython",
        "version": 3
      },
      "file_extension": ".py",
      "mimetype": "text/x-python",
      "name": "python",
      "nbconvert_exporter": "python",
      "pygments_lexer": "ipython3",
      "version": "3.11.5"
    }
  },
  "nbformat": 4,
  "nbformat_minor": 0
}