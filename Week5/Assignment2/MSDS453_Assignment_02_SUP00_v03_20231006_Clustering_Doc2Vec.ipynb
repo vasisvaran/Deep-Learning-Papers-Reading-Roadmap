{
  "cells": [
    {
      "cell_type": "code",
      "execution_count": 7,
      "metadata": {
        "id": "U-dBc7ujfK2E"
      },
      "outputs": [],
      "source": [
        "import nltk\n",
        "import re\n",
        "\n",
        "import pandas as pd\n",
        "import numpy as np\n",
        "\n",
        "import matplotlib.pyplot as plt\n",
        "import seaborn as sns\n",
        "import gensim\n",
        "\n",
        "from nltk.corpus import stopwords\n",
        "from nltk.stem.wordnet import WordNetLemmatizer\n",
        "from gensim.models.doc2vec import Doc2Vec, TaggedDocument\n",
        "\n",
        "from sklearn.feature_extraction.text import TfidfVectorizer\n",
        "\n",
        "from sklearn.preprocessing import StandardScaler\n",
        "from sklearn.cluster import KMeans\n",
        "from sklearn.metrics import silhouette_score\n",
        "from sklearn.manifold import TSNE"
      ]
    },
    {
      "cell_type": "markdown",
      "metadata": {
        "id": "_5FqhU3tbiq5"
      },
      "source": [
        "<div class=\"alert alert-block alert-danger\">\n",
        "<b>Gensim</b> is a Python library for topic modelling, document indexing and similarity retrieval with large corpora. Target audience is the natural language processing (NLP) and information retrieval (IR) community <br><br>\n",
        "    <b>https://pypi.org/project/gensim/ </b>\n",
        "</div>"
      ]
    },
    {
      "cell_type": "code",
      "execution_count": 8,
      "metadata": {
        "colab": {
          "base_uri": "https://localhost:8080/"
        },
        "id": "xSkD9sklbl27",
        "outputId": "b7491d60-a04b-4222-82f6-fda4c82122d5"
      },
      "outputs": [
        {
          "output_type": "stream",
          "name": "stdout",
          "text": [
            "Genism Version:  4.3.2\n"
          ]
        }
      ],
      "source": [
        "print(\"Genism Version: \", gensim.__version__)"
      ]
    },
    {
      "cell_type": "code",
      "execution_count": 9,
      "metadata": {
        "id": "YyIgWiIj4Iia"
      },
      "outputs": [],
      "source": [
        "sns.set_context('talk')"
      ]
    },
    {
      "cell_type": "code",
      "execution_count": 10,
      "metadata": {
        "colab": {
          "base_uri": "https://localhost:8080/"
        },
        "id": "tavAXOobgXz9",
        "outputId": "5742e2e6-9156-4785-eb52-f15186970aaa"
      },
      "outputs": [
        {
          "output_type": "stream",
          "name": "stderr",
          "text": [
            "[nltk_data] Downloading package stopwords to /root/nltk_data...\n",
            "[nltk_data]   Package stopwords is already up-to-date!\n",
            "[nltk_data] Downloading package punkt to /root/nltk_data...\n",
            "[nltk_data]   Package punkt is already up-to-date!\n",
            "[nltk_data] Downloading package wordnet to /root/nltk_data...\n",
            "[nltk_data]   Package wordnet is already up-to-date!\n",
            "[nltk_data] Downloading package omw-1.4 to /root/nltk_data...\n",
            "[nltk_data]   Package omw-1.4 is already up-to-date!\n"
          ]
        },
        {
          "output_type": "execute_result",
          "data": {
            "text/plain": [
              "True"
            ]
          },
          "metadata": {},
          "execution_count": 10
        }
      ],
      "source": [
        "nltk.download('stopwords')\n",
        "nltk.download('punkt')\n",
        "nltk.download('wordnet')\n",
        "nltk.download('omw-1.4')"
      ]
    },
    {
      "cell_type": "code",
      "execution_count": 11,
      "metadata": {
        "id": "QLr8StWRaO4U"
      },
      "outputs": [],
      "source": [
        "def add_movie_descriptor(data: pd.DataFrame, corpus_df: pd.DataFrame):\n",
        "    \"\"\"\n",
        "    Adds \"Movie Description\" to the supplied dataframe, in the form {Genre}_{P|N}_{Movie Title}_{DocID}\n",
        "    \"\"\"\n",
        "    review = np.where(corpus_df['Review Type (pos or neg)'] == 'Positive', 'P', 'N')\n",
        "    data['Descriptor'] = corpus_df['Genre of Movie'] + '_' + corpus_df['Movie Title'] + '_' + review + '_' + corpus_df['Doc_ID'].astype(str)\n",
        "\n",
        "def get_corpus_df(path):\n",
        "    data = pd.read_csv(path, encoding=\"utf-8\")\n",
        "    add_movie_descriptor(data, data)\n",
        "    sorted_data = data.sort_values(['Descriptor'])\n",
        "    indexed_data = sorted_data.set_index(['Doc_ID'])\n",
        "    indexed_data['Doc_ID'] = indexed_data.index\n",
        "    return indexed_data"
      ]
    },
    {
      "cell_type": "markdown",
      "metadata": {
        "id": "TIm9iGUGi2ay"
      },
      "source": [
        "# Data"
      ]
    },
    {
      "cell_type": "code",
      "source": [
        "from google.colab import drive\n",
        "drive.mount('/content/gdrive')"
      ],
      "metadata": {
        "id": "sy8BLpo5-4OQ",
        "outputId": "f3bee8bc-f84f-406c-c890-c3f93eaf9d7a",
        "colab": {
          "base_uri": "https://localhost:8080/"
        }
      },
      "execution_count": 12,
      "outputs": [
        {
          "output_type": "stream",
          "name": "stdout",
          "text": [
            "Mounted at /content/gdrive\n"
          ]
        }
      ]
    },
    {
      "cell_type": "code",
      "execution_count": 13,
      "metadata": {
        "id": "YO7HAYfPaO4V"
      },
      "outputs": [],
      "source": [
        "CORPUS_PATH=\\\n",
        "'/content/gdrive/MyDrive/Temp/MSDS453/MSDS453_ClassCorpus_Final_Sec57_v2_20230928.csv'\n",
        "class_corpus = get_corpus_df(CORPUS_PATH)"
      ]
    },
    {
      "cell_type": "code",
      "execution_count": 14,
      "metadata": {
        "colab": {
          "base_uri": "https://localhost:8080/"
        },
        "id": "L2omUYiMi_Bi",
        "outputId": "fd505e6a-77bb-40e0-fd83-6e459371afe5"
      },
      "outputs": [
        {
          "output_type": "stream",
          "name": "stdout",
          "text": [
            "<class 'pandas.core.frame.DataFrame'>\n",
            "Int64Index: 200 entries, 90 to 164\n",
            "Data columns (total 9 columns):\n",
            " #   Column                    Non-Null Count  Dtype \n",
            "---  ------                    --------------  ----- \n",
            " 0   DSI_Title                 200 non-null    object\n",
            " 1   Text                      200 non-null    object\n",
            " 2   Submission File Name      200 non-null    object\n",
            " 3   Student Name              200 non-null    object\n",
            " 4   Genre of Movie            200 non-null    object\n",
            " 5   Review Type (pos or neg)  200 non-null    object\n",
            " 6   Movie Title               200 non-null    object\n",
            " 7   Descriptor                200 non-null    object\n",
            " 8   Doc_ID                    200 non-null    int64 \n",
            "dtypes: int64(1), object(8)\n",
            "memory usage: 15.6+ KB\n"
          ]
        }
      ],
      "source": [
        "class_corpus.info()"
      ]
    },
    {
      "cell_type": "markdown",
      "metadata": {
        "id": "oUApF6gXi0Ob"
      },
      "source": [
        "# Preprocessing"
      ]
    },
    {
      "cell_type": "code",
      "execution_count": 15,
      "metadata": {
        "id": "3f0E2HBMgaoP"
      },
      "outputs": [],
      "source": [
        "STOP_WORDS = set(nltk.corpus.stopwords.words('english'))"
      ]
    },
    {
      "cell_type": "code",
      "execution_count": 16,
      "metadata": {
        "id": "x9UqR31CgbG9"
      },
      "outputs": [],
      "source": [
        "def remove_punctuation(text):\n",
        "    return re.sub('[^a-zA-Z]', ' ', str(text))\n",
        "\n",
        "def lower_case(text):\n",
        "    return text.lower()\n",
        "\n",
        "def remove_tags(text):\n",
        "    return re.sub(\"&lt;/?.*?&gt;\",\" &lt;&gt; \", text)\n",
        "\n",
        "def remove_special_chars_and_digits(text):\n",
        "    return re.sub(\"(\\\\d|\\\\W)+\",\" \", text)\n",
        "\n",
        "def remove_stop_words(tokenized_text):\n",
        "    return [w for w in tokenized_text if not w in STOP_WORDS]\n",
        "\n",
        "def remove_small_words(tokenized_text):\n",
        "    return [w for w in tokenized_text if len(tokenized_text) >= 4]\n",
        "\n",
        "def remove_custom_words(tokenized_text):\n",
        "    CUSTOM_WORDS = ['know', 'movie', 'film', 'french', 'taxi', 'even', 'also', 'movies', 'character', 'characters', 'films', 'go', 'much', 'now', 'really', 'see', 'make', 'still', 'just', 'first']\n",
        "    return [w for w in tokenized_text if not w in CUSTOM_WORDS]"
      ]
    },
    {
      "cell_type": "code",
      "execution_count": 17,
      "metadata": {
        "id": "MIDZVFNOgeCG"
      },
      "outputs": [],
      "source": [
        "def normalize(input_text):\n",
        "    '''\n",
        "    Normalization involves the following steps:\n",
        "    1. Remove punctuation\n",
        "    2. Lower case all words\n",
        "    3. Remove tags (i.e., HTML tags)\n",
        "    4. Remove all special characters and digits\n",
        "    '''\n",
        "    text = remove_punctuation(input_text)\n",
        "    text = lower_case(text)\n",
        "    text = remove_tags(text)\n",
        "    text = remove_special_chars_and_digits(text)\n",
        "\n",
        "    return text"
      ]
    },
    {
      "cell_type": "code",
      "execution_count": 18,
      "metadata": {
        "id": "-mbmpZgqgjT0"
      },
      "outputs": [],
      "source": [
        "def tokenize(text):\n",
        "    '''\n",
        "    Tokenization involves the following steps:\n",
        "    1. Break text down to tokens (i.e., words separated by white spaces)\n",
        "    2. Remove stop words from the tokens generated in step 1\n",
        "    '''\n",
        "    tokens = nltk.word_tokenize(text)\n",
        "    tokenized_text = remove_stop_words(tokens)\n",
        "    tokenized_cleaned_text = remove_custom_words(tokenized_text)\n",
        "    tokenized_large_text = remove_small_words(tokenized_cleaned_text)\n",
        "    return tokenized_large_text"
      ]
    },
    {
      "cell_type": "code",
      "execution_count": 19,
      "metadata": {
        "id": "QI9DxUomgl7s"
      },
      "outputs": [],
      "source": [
        "def lemmatize(tokenized_text, lemmatizer=WordNetLemmatizer()):\n",
        "    '''\n",
        "    Lemmatization is applied to each word in the list of normalized tokens\n",
        "    (stop words are removed)\n",
        "    '''\n",
        "    return [lemmatizer.lemmatize(word) for word in tokenized_text]"
      ]
    },
    {
      "cell_type": "code",
      "execution_count": 20,
      "metadata": {
        "id": "__exS2R4gooV"
      },
      "outputs": [],
      "source": [
        "def join_tokens(lemmatized_tokens):\n",
        "    return ' '.join(lemmatized_tokens)"
      ]
    },
    {
      "cell_type": "code",
      "execution_count": 21,
      "metadata": {
        "id": "CohWDClbgrO-"
      },
      "outputs": [],
      "source": [
        "class_corpus['normalized_review'] = class_corpus['Text'].apply(normalize)\n",
        "class_corpus['tokenized_review'] = class_corpus['normalized_review'].apply(tokenize)\n",
        "class_corpus['lemmatized_tokens'] = class_corpus['tokenized_review'].apply(lemmatize)\n",
        "class_corpus['lemmatized_text'] = class_corpus['lemmatized_tokens'].apply(join_tokens)"
      ]
    },
    {
      "cell_type": "code",
      "execution_count": 22,
      "metadata": {
        "colab": {
          "base_uri": "https://localhost:8080/"
        },
        "id": "d6rvCluFgwMt",
        "outputId": "8558bd83-5e95-4010-cfa7-9949063611be"
      },
      "outputs": [
        {
          "output_type": "stream",
          "name": "stdout",
          "text": [
            "<class 'pandas.core.frame.DataFrame'>\n",
            "Int64Index: 200 entries, 90 to 164\n",
            "Data columns (total 13 columns):\n",
            " #   Column                    Non-Null Count  Dtype \n",
            "---  ------                    --------------  ----- \n",
            " 0   DSI_Title                 200 non-null    object\n",
            " 1   Text                      200 non-null    object\n",
            " 2   Submission File Name      200 non-null    object\n",
            " 3   Student Name              200 non-null    object\n",
            " 4   Genre of Movie            200 non-null    object\n",
            " 5   Review Type (pos or neg)  200 non-null    object\n",
            " 6   Movie Title               200 non-null    object\n",
            " 7   Descriptor                200 non-null    object\n",
            " 8   Doc_ID                    200 non-null    int64 \n",
            " 9   normalized_review         200 non-null    object\n",
            " 10  tokenized_review          200 non-null    object\n",
            " 11  lemmatized_tokens         200 non-null    object\n",
            " 12  lemmatized_text           200 non-null    object\n",
            "dtypes: int64(1), object(12)\n",
            "memory usage: 21.9+ KB\n"
          ]
        }
      ],
      "source": [
        "class_corpus.info()"
      ]
    },
    {
      "cell_type": "markdown",
      "metadata": {
        "id": "0KBfKMoVjET6"
      },
      "source": [
        "# Feature Extraction"
      ]
    },
    {
      "cell_type": "markdown",
      "metadata": {
        "id": "gRlrmxayjGMa"
      },
      "source": [
        "## Method 1: TF-IDF"
      ]
    },
    {
      "cell_type": "code",
      "execution_count": 23,
      "metadata": {
        "id": "UK1PBPvMiKsN"
      },
      "outputs": [],
      "source": [
        "tfidf_vectorizer = TfidfVectorizer()"
      ]
    },
    {
      "cell_type": "code",
      "execution_count": 24,
      "metadata": {
        "id": "Tpf5d7NHiLVa"
      },
      "outputs": [],
      "source": [
        "dtm_class_corpus = tfidf_vectorizer.fit_transform(class_corpus['lemmatized_text'])"
      ]
    },
    {
      "cell_type": "code",
      "execution_count": 25,
      "metadata": {
        "id": "fQxLyNNviOxr"
      },
      "outputs": [],
      "source": [
        "features_tfidf_scores = pd.DataFrame(dtm_class_corpus.toarray(),\n",
        "                                     columns=tfidf_vectorizer.get_feature_names_out(),\n",
        "                                     index=class_corpus.index)"
      ]
    },
    {
      "cell_type": "code",
      "execution_count": 26,
      "metadata": {
        "colab": {
          "base_uri": "https://localhost:8080/"
        },
        "id": "mng4HQHkiPd6",
        "outputId": "8ad37100-dd7c-46ae-f237-aae3b6506dcb"
      },
      "outputs": [
        {
          "output_type": "execute_result",
          "data": {
            "text/plain": [
              "(200, 10068)"
            ]
          },
          "metadata": {},
          "execution_count": 26
        }
      ],
      "source": [
        "features_tfidf_scores.shape"
      ]
    },
    {
      "cell_type": "markdown",
      "metadata": {
        "id": "k_i9cCBUjJAa"
      },
      "source": [
        "## Method 2: Doc2Vec"
      ]
    },
    {
      "cell_type": "code",
      "execution_count": 27,
      "metadata": {
        "id": "Trb-HZFEiYIS"
      },
      "outputs": [],
      "source": [
        "documents = [TaggedDocument(doc, [i]) for i, doc in enumerate(class_corpus.lemmatized_tokens)]"
      ]
    },
    {
      "cell_type": "code",
      "execution_count": 28,
      "metadata": {
        "id": "k_8VjV7jiaGi"
      },
      "outputs": [],
      "source": [
        "model_doc2vec = Doc2Vec(documents,\n",
        "                        vector_size=50,\n",
        "                        min_count=1,\n",
        "                        workers=4)"
      ]
    },
    {
      "cell_type": "code",
      "execution_count": 29,
      "metadata": {
        "id": "t-WaDCrqicST"
      },
      "outputs": [],
      "source": [
        "features_doc2vec = pd.DataFrame()\n",
        "\n",
        "for document in documents:\n",
        "    vector = pd.DataFrame(model_doc2vec.infer_vector(document.words)).transpose()\n",
        "    features_doc2vec = pd.concat([features_doc2vec, vector])"
      ]
    },
    {
      "cell_type": "code",
      "execution_count": 30,
      "metadata": {
        "colab": {
          "base_uri": "https://localhost:8080/"
        },
        "id": "iflibYJyieYz",
        "outputId": "5532c0d1-4bf2-45d7-9f77-3445a47f94e7"
      },
      "outputs": [
        {
          "output_type": "execute_result",
          "data": {
            "text/plain": [
              "(200, 50)"
            ]
          },
          "metadata": {},
          "execution_count": 30
        }
      ],
      "source": [
        "features_doc2vec.shape"
      ]
    },
    {
      "cell_type": "markdown",
      "metadata": {
        "id": "EcRb1jnMkMuD"
      },
      "source": [
        "# Clustering"
      ]
    },
    {
      "cell_type": "markdown",
      "metadata": {
        "id": "4J1fmzaSmxat"
      },
      "source": [
        "Before clustering, we need to scale the data to bring parity between all the columns."
      ]
    },
    {
      "cell_type": "code",
      "execution_count": 31,
      "metadata": {
        "id": "FWabEy0lmxEN"
      },
      "outputs": [],
      "source": [
        "standard_scaler = StandardScaler()"
      ]
    },
    {
      "cell_type": "code",
      "execution_count": 32,
      "metadata": {
        "id": "khKJTH6cnJf2"
      },
      "outputs": [],
      "source": [
        "transformed_features_doc2vec = standard_scaler.fit_transform(features_doc2vec)"
      ]
    },
    {
      "cell_type": "code",
      "execution_count": 33,
      "metadata": {
        "id": "oeXEJngWj2GZ"
      },
      "outputs": [],
      "source": [
        "model_kmeans = KMeans(n_clusters=4,\n",
        "                      random_state=10)"
      ]
    },
    {
      "cell_type": "code",
      "execution_count": 34,
      "metadata": {
        "colab": {
          "base_uri": "https://localhost:8080/",
          "height": 105
        },
        "id": "ENbkc6j8kcYp",
        "outputId": "25a71c97-ca3b-40d6-d12e-e70672c5bdc2"
      },
      "outputs": [
        {
          "output_type": "stream",
          "name": "stderr",
          "text": [
            "/usr/local/lib/python3.10/dist-packages/sklearn/cluster/_kmeans.py:870: FutureWarning: The default value of `n_init` will change from 10 to 'auto' in 1.4. Set the value of `n_init` explicitly to suppress the warning\n",
            "  warnings.warn(\n"
          ]
        },
        {
          "output_type": "execute_result",
          "data": {
            "text/plain": [
              "KMeans(n_clusters=4, random_state=10)"
            ],
            "text/html": [
              "<style>#sk-container-id-1 {color: black;background-color: white;}#sk-container-id-1 pre{padding: 0;}#sk-container-id-1 div.sk-toggleable {background-color: white;}#sk-container-id-1 label.sk-toggleable__label {cursor: pointer;display: block;width: 100%;margin-bottom: 0;padding: 0.3em;box-sizing: border-box;text-align: center;}#sk-container-id-1 label.sk-toggleable__label-arrow:before {content: \"▸\";float: left;margin-right: 0.25em;color: #696969;}#sk-container-id-1 label.sk-toggleable__label-arrow:hover:before {color: black;}#sk-container-id-1 div.sk-estimator:hover label.sk-toggleable__label-arrow:before {color: black;}#sk-container-id-1 div.sk-toggleable__content {max-height: 0;max-width: 0;overflow: hidden;text-align: left;background-color: #f0f8ff;}#sk-container-id-1 div.sk-toggleable__content pre {margin: 0.2em;color: black;border-radius: 0.25em;background-color: #f0f8ff;}#sk-container-id-1 input.sk-toggleable__control:checked~div.sk-toggleable__content {max-height: 200px;max-width: 100%;overflow: auto;}#sk-container-id-1 input.sk-toggleable__control:checked~label.sk-toggleable__label-arrow:before {content: \"▾\";}#sk-container-id-1 div.sk-estimator input.sk-toggleable__control:checked~label.sk-toggleable__label {background-color: #d4ebff;}#sk-container-id-1 div.sk-label input.sk-toggleable__control:checked~label.sk-toggleable__label {background-color: #d4ebff;}#sk-container-id-1 input.sk-hidden--visually {border: 0;clip: rect(1px 1px 1px 1px);clip: rect(1px, 1px, 1px, 1px);height: 1px;margin: -1px;overflow: hidden;padding: 0;position: absolute;width: 1px;}#sk-container-id-1 div.sk-estimator {font-family: monospace;background-color: #f0f8ff;border: 1px dotted black;border-radius: 0.25em;box-sizing: border-box;margin-bottom: 0.5em;}#sk-container-id-1 div.sk-estimator:hover {background-color: #d4ebff;}#sk-container-id-1 div.sk-parallel-item::after {content: \"\";width: 100%;border-bottom: 1px solid gray;flex-grow: 1;}#sk-container-id-1 div.sk-label:hover label.sk-toggleable__label {background-color: #d4ebff;}#sk-container-id-1 div.sk-serial::before {content: \"\";position: absolute;border-left: 1px solid gray;box-sizing: border-box;top: 0;bottom: 0;left: 50%;z-index: 0;}#sk-container-id-1 div.sk-serial {display: flex;flex-direction: column;align-items: center;background-color: white;padding-right: 0.2em;padding-left: 0.2em;position: relative;}#sk-container-id-1 div.sk-item {position: relative;z-index: 1;}#sk-container-id-1 div.sk-parallel {display: flex;align-items: stretch;justify-content: center;background-color: white;position: relative;}#sk-container-id-1 div.sk-item::before, #sk-container-id-1 div.sk-parallel-item::before {content: \"\";position: absolute;border-left: 1px solid gray;box-sizing: border-box;top: 0;bottom: 0;left: 50%;z-index: -1;}#sk-container-id-1 div.sk-parallel-item {display: flex;flex-direction: column;z-index: 1;position: relative;background-color: white;}#sk-container-id-1 div.sk-parallel-item:first-child::after {align-self: flex-end;width: 50%;}#sk-container-id-1 div.sk-parallel-item:last-child::after {align-self: flex-start;width: 50%;}#sk-container-id-1 div.sk-parallel-item:only-child::after {width: 0;}#sk-container-id-1 div.sk-dashed-wrapped {border: 1px dashed gray;margin: 0 0.4em 0.5em 0.4em;box-sizing: border-box;padding-bottom: 0.4em;background-color: white;}#sk-container-id-1 div.sk-label label {font-family: monospace;font-weight: bold;display: inline-block;line-height: 1.2em;}#sk-container-id-1 div.sk-label-container {text-align: center;}#sk-container-id-1 div.sk-container {/* jupyter's `normalize.less` sets `[hidden] { display: none; }` but bootstrap.min.css set `[hidden] { display: none !important; }` so we also need the `!important` here to be able to override the default hidden behavior on the sphinx rendered scikit-learn.org. See: https://github.com/scikit-learn/scikit-learn/issues/21755 */display: inline-block !important;position: relative;}#sk-container-id-1 div.sk-text-repr-fallback {display: none;}</style><div id=\"sk-container-id-1\" class=\"sk-top-container\"><div class=\"sk-text-repr-fallback\"><pre>KMeans(n_clusters=4, random_state=10)</pre><b>In a Jupyter environment, please rerun this cell to show the HTML representation or trust the notebook. <br />On GitHub, the HTML representation is unable to render, please try loading this page with nbviewer.org.</b></div><div class=\"sk-container\" hidden><div class=\"sk-item\"><div class=\"sk-estimator sk-toggleable\"><input class=\"sk-toggleable__control sk-hidden--visually\" id=\"sk-estimator-id-1\" type=\"checkbox\" checked><label for=\"sk-estimator-id-1\" class=\"sk-toggleable__label sk-toggleable__label-arrow\">KMeans</label><div class=\"sk-toggleable__content\"><pre>KMeans(n_clusters=4, random_state=10)</pre></div></div></div></div></div>"
            ]
          },
          "metadata": {},
          "execution_count": 34
        }
      ],
      "source": [
        "model_kmeans.fit(transformed_features_doc2vec)"
      ]
    },
    {
      "cell_type": "code",
      "execution_count": 35,
      "metadata": {
        "id": "8C6gBumikfMb"
      },
      "outputs": [],
      "source": [
        "labels_kmeans = model_kmeans.labels_"
      ]
    },
    {
      "cell_type": "markdown",
      "metadata": {
        "id": "WAha-A4i4Xww"
      },
      "source": [
        "Quality of clustering is determined using the [silhouette score](https://scikit-learn.org/stable/modules/generated/sklearn.metrics.silhouette_score.html)."
      ]
    },
    {
      "cell_type": "code",
      "execution_count": 36,
      "metadata": {
        "colab": {
          "base_uri": "https://localhost:8080/"
        },
        "id": "RsHRABFRkiNR",
        "outputId": "9e0f3bfe-d60b-4548-f8c6-e26ffcdfee6a"
      },
      "outputs": [
        {
          "output_type": "execute_result",
          "data": {
            "text/plain": [
              "0.30965415"
            ]
          },
          "metadata": {},
          "execution_count": 36
        }
      ],
      "source": [
        "silhouette_score(transformed_features_doc2vec, labels_kmeans)"
      ]
    },
    {
      "cell_type": "code",
      "execution_count": 37,
      "metadata": {
        "colab": {
          "base_uri": "https://localhost:8080/"
        },
        "id": "Knve5ZS2klsA",
        "outputId": "72a319eb-9281-4ae9-ab7e-d69841450953"
      },
      "outputs": [
        {
          "output_type": "stream",
          "name": "stderr",
          "text": [
            "/usr/local/lib/python3.10/dist-packages/sklearn/cluster/_kmeans.py:870: FutureWarning: The default value of `n_init` will change from 10 to 'auto' in 1.4. Set the value of `n_init` explicitly to suppress the warning\n",
            "  warnings.warn(\n",
            "/usr/local/lib/python3.10/dist-packages/sklearn/cluster/_kmeans.py:870: FutureWarning: The default value of `n_init` will change from 10 to 'auto' in 1.4. Set the value of `n_init` explicitly to suppress the warning\n",
            "  warnings.warn(\n",
            "/usr/local/lib/python3.10/dist-packages/sklearn/cluster/_kmeans.py:870: FutureWarning: The default value of `n_init` will change from 10 to 'auto' in 1.4. Set the value of `n_init` explicitly to suppress the warning\n",
            "  warnings.warn(\n",
            "/usr/local/lib/python3.10/dist-packages/sklearn/cluster/_kmeans.py:870: FutureWarning: The default value of `n_init` will change from 10 to 'auto' in 1.4. Set the value of `n_init` explicitly to suppress the warning\n",
            "  warnings.warn(\n"
          ]
        },
        {
          "output_type": "stream",
          "name": "stdout",
          "text": [
            "k = 4, silhouette score = 0.3094187080860138\n",
            "k = 5, silhouette score = 0.29529911279678345\n",
            "k = 6, silhouette score = 0.27129796147346497\n",
            "k = 7, silhouette score = 0.23516057431697845\n"
          ]
        },
        {
          "output_type": "stream",
          "name": "stderr",
          "text": [
            "/usr/local/lib/python3.10/dist-packages/sklearn/cluster/_kmeans.py:870: FutureWarning: The default value of `n_init` will change from 10 to 'auto' in 1.4. Set the value of `n_init` explicitly to suppress the warning\n",
            "  warnings.warn(\n",
            "/usr/local/lib/python3.10/dist-packages/sklearn/cluster/_kmeans.py:870: FutureWarning: The default value of `n_init` will change from 10 to 'auto' in 1.4. Set the value of `n_init` explicitly to suppress the warning\n",
            "  warnings.warn(\n"
          ]
        },
        {
          "output_type": "stream",
          "name": "stdout",
          "text": [
            "k = 8, silhouette score = 0.20356571674346924\n",
            "k = 9, silhouette score = 0.18159528076648712\n"
          ]
        }
      ],
      "source": [
        "for k in [4, 5, 6, 7, 8, 9]:\n",
        "\n",
        "    model_kmeans = KMeans(n_clusters=k,\n",
        "                          random_state=20130810)\n",
        "    model_kmeans.fit(transformed_features_doc2vec)\n",
        "    sil_score = silhouette_score(transformed_features_doc2vec, model_kmeans.labels_)\n",
        "    print(f\"k = {k}, silhouette score = {sil_score}\")"
      ]
    },
    {
      "cell_type": "code",
      "execution_count": 62,
      "metadata": {
        "colab": {
          "base_uri": "https://localhost:8080/"
        },
        "id": "dlhAm80Ok0zN",
        "outputId": "63922f08-3af2-4b85-9d81-95411f2940e9"
      },
      "outputs": [
        {
          "output_type": "stream",
          "name": "stderr",
          "text": [
            "/usr/local/lib/python3.10/dist-packages/sklearn/cluster/_kmeans.py:870: FutureWarning: The default value of `n_init` will change from 10 to 'auto' in 1.4. Set the value of `n_init` explicitly to suppress the warning\n",
            "  warnings.warn(\n"
          ]
        }
      ],
      "source": [
        "NO_OF_CLUSTERS = 4\n",
        "\n",
        "model_kmeans = KMeans(n_clusters=NO_OF_CLUSTERS)\n",
        "model_kmeans.fit(transformed_features_doc2vec)\n",
        "labels_kmeans = model_kmeans.labels_"
      ]
    },
    {
      "cell_type": "code",
      "execution_count": 63,
      "metadata": {
        "id": "piX8yxOpk23V"
      },
      "outputs": [],
      "source": [
        "model_tsne = TSNE(n_components=2)"
      ]
    },
    {
      "cell_type": "code",
      "execution_count": 64,
      "metadata": {
        "id": "D4IO8U3Fk64V"
      },
      "outputs": [],
      "source": [
        "transformed_values = model_tsne.fit_transform(transformed_features_doc2vec)\n",
        "X, Y = [], []\n",
        "\n",
        "for value in transformed_values:\n",
        "    X.append(value[0])\n",
        "    Y.append(value[1])"
      ]
    },
    {
      "cell_type": "code",
      "execution_count": 65,
      "metadata": {
        "colab": {
          "base_uri": "https://localhost:8080/",
          "height": 769
        },
        "id": "Yg6RKCpak-xc",
        "outputId": "518168c5-072a-45cc-ae08-d914aa7e53e0"
      },
      "outputs": [
        {
          "output_type": "display_data",
          "data": {
            "text/plain": [
              "<Figure size 1800x900 with 1 Axes>"
            ],
            "image/png": "[encoded data removed]"
          },
          "metadata": {}
        }
      ],
      "source": [
        "plt.figure(figsize=(18, 9))\n",
        "\n",
        "labels_kmeans_str = pd.Series(labels_kmeans.astype(str), name='cluster')\n",
        "\n",
        "sns.scatterplot(x=X,\n",
        "                y=Y,\n",
        "                hue=labels_kmeans_str,\n",
        "                hue_order=[str(i) for i in range(NO_OF_CLUSTERS)]);"
      ]
    },
    {
      "cell_type": "markdown",
      "metadata": {
        "id": "9PFmnSUl4qvH"
      },
      "source": [
        "Once the cluster assignment is done, we can then look at the composition of the clusters to qualitatively assess the clusters."
      ]
    },
    {
      "cell_type": "code",
      "execution_count": 66,
      "metadata": {
        "id": "G6IycCRrlCEt"
      },
      "outputs": [],
      "source": [
        "documents_by_cluster = (class_corpus.loc[:, ['DSI_Title', 'Genre of Movie', 'Text']]\n",
        "                                    .assign(cluster_label=labels_kmeans))"
      ]
    },
    {
      "cell_type": "code",
      "execution_count": 67,
      "metadata": {
        "tags": [],
        "id": "cDgLnpRR-Bsl"
      },
      "outputs": [],
      "source": [
        "pd.set_option('display.max_rows', None)"
      ]
    },
    {
      "cell_type": "code",
      "execution_count": 68,
      "metadata": {
        "tags": [],
        "id": "R2NlMv0P-Bsm",
        "outputId": "0a00b46e-cb5e-443b-f98a-342bbe3aca33",
        "colab": {
          "base_uri": "https://localhost:8080/",
          "height": 815
        }
      },
      "outputs": [
        {
          "output_type": "execute_result",
          "data": {
            "text/plain": [
              "[Text(0.5, 0, 'Cluster #'), Text(0, 0.5, 'Count of Movies')]"
            ]
          },
          "metadata": {},
          "execution_count": 68
        },
        {
          "output_type": "display_data",
          "data": {
            "text/plain": [
              "<Figure size 1800x900 with 1 Axes>"
            ],
            "image/png": "[encoded data removed]"
          },
          "metadata": {}
        }
      ],
      "source": [
        "#documents_by_cluster['cluster_label'] = documents_by_cluster['cluster_label']+1\n",
        "\n",
        "plt.figure(figsize=(18, 9))\n",
        "ax = sns.countplot(documents_by_cluster, x='cluster_label', hue='Genre of Movie')\n",
        "ax.set(xlabel='Cluster #', ylabel='Count of Movies')"
      ]
    },
    {
      "cell_type": "code",
      "execution_count": 71,
      "metadata": {
        "tags": [],
        "id": "or7lL4kP-Bsm",
        "outputId": "b51adf12-9acb-441b-95ee-5a4373648ee1",
        "colab": {
          "base_uri": "https://localhost:8080/",
          "height": 1000
        }
      },
      "outputs": [
        {
          "output_type": "execute_result",
          "data": {
            "text/plain": [
              "                         DSI_Title Genre of Movie  \\\n",
              "Doc_ID                                              \n",
              "95       LKP_Doc6_Angel_has_fallen         Action   \n",
              "98       LKP_Doc9_Angel_has_fallen         Action   \n",
              "85              SHR_Doc6_Inception         Action   \n",
              "89             SHR_Doc10_Inception         Action   \n",
              "80              SHR_Doc1_Inception         Action   \n",
              "82              SHR_Doc3_Inception         Action   \n",
              "83              SHR_Doc4_Inception         Action   \n",
              "53         BKG_Doc4_No_Time_to_Die         Action   \n",
              "54         BKG_Doc5_No_Time_to_Die         Action   \n",
              "70                  DHB_Doc1_Taken         Action   \n",
              "71                  DHB_Doc2_Taken         Action   \n",
              "73                  DHB_Doc4_Taken         Action   \n",
              "77                  DHB_Doc8_Taken         Action   \n",
              "78                  DHB_Doc9_Taken         Action   \n",
              "65                   VGI_Doc6_Taxi         Action   \n",
              "66                   VGI_Doc7_Taxi         Action   \n",
              "68                   VGI_Doc9_Taxi         Action   \n",
              "63                   VGI_Doc4_Taxi         Action   \n",
              "64                   VGI_Doc5_Taxi         Action   \n",
              "31                 KDB_Doc2_Barbie         Comedy   \n",
              "34                 KDB_Doc5_Barbie         Comedy   \n",
              "21          JCT_Doc2_Dirty_Grandpa         Comedy   \n",
              "24          JCT_Doc5_Dirty_Grandpa         Comedy   \n",
              "20          JCT_Doc1_Dirty_Grandpa         Comedy   \n",
              "27          JCT_Doc8_Dirty_Grandpa         Comedy   \n",
              "17      HBI_Doc8_Holmes_and_Watson         Comedy   \n",
              "18      HBI_Doc9_Holmes_and_Watson         Comedy   \n",
              "2              XOY_Doc3_Mean_Girls         Comedy   \n",
              "8              XOY_Doc9_Mean_Girls         Comedy   \n",
              "0              XOY_Doc1_Mean_Girls         Comedy   \n",
              "9             XOY_Doc10_Mean_Girls         Comedy   \n",
              "131       JLL_Doc2_Drag_Me_To_Hell         Horror   \n",
              "134       JLL_Doc5_Drag_Me_To_Hell         Horror   \n",
              "137       JLL_Doc8_Drag_Me_To_Hell         Horror   \n",
              "138       JLL_Doc9_Drag_Me_To_Hell         Horror   \n",
              "143                 CMM_Doc4_Fresh         Horror   \n",
              "146                 CMM_Doc7_Fresh         Horror   \n",
              "148                 CMM_Doc9_Fresh         Horror   \n",
              "108        UAJ_Doc9_It_Chapter_Two         Horror   \n",
              "102        UAJ_Doc3_It_Chapter_Two         Horror   \n",
              "121         OZP_Doc2_TheConjuring2         Horror   \n",
              "122         OZP_Doc3_TheConjuring2         Horror   \n",
              "126         OZP_Doc7_TheConjuring2         Horror   \n",
              "115            HAK_Doc6_The_Others         Horror   \n",
              "116            HAK_Doc7_The_Others         Horror   \n",
              "117            HAK_Doc8_The_Others         Horror   \n",
              "118            HAK_Doc9_The_Others         Horror   \n",
              "110            HAK_Doc1_The_Others         Horror   \n",
              "111            HAK_Doc2_The_Others         Horror   \n",
              "114            HAK_Doc5_The_Others         Horror   \n",
              "154           BYM_Doc5_EQUILIBRIUM         Sci-Fi   \n",
              "175       DSM_Doc6_Minority_Report         Sci-Fi   \n",
              "176       DSM_Doc7_Minority_Report         Sci-Fi   \n",
              "179      DSM_Doc10_Minority_Report         Sci-Fi   \n",
              "170       DSM_Doc1_Minority_Report         Sci-Fi   \n",
              "171       DSM_Doc2_Minority_Report         Sci-Fi   \n",
              "174       DSM_Doc5_Minority_Report         Sci-Fi   \n",
              "188              AVR_Doc9_Oblivion         Sci-Fi   \n",
              "195           MKW_Doc6_Pitch_Black         Sci-Fi   \n",
              "166            MEM_Doc7_The_Batman         Sci-Fi   \n",
              "160            MEM_Doc1_The_Batman         Sci-Fi   \n",
              "162            MEM_Doc3_The_Batman         Sci-Fi   \n",
              "163            MEM_Doc4_The_Batman         Sci-Fi   \n",
              "\n",
              "                                                     Text  cluster_label  \n",
              "Doc_ID                                                                    \n",
              "95      As I left the theater the other night , I bega...              3  \n",
              "98      American movie presidents can only make us wis...              3  \n",
              "85      Contrary to the opinions of the deluded army o...              3  \n",
              "89      Christopher Nolan has done some great work . H...              3  \n",
              "80      I 'm nearly at a loss for words . Just when yo...              3  \n",
              "82      Inception is truly one of a kind . A concept w...              3  \n",
              "83      Many of us , not least those who populate the ...              3  \n",
              "53      From `` Lawrence of Arabia '' to `` Iron Man ,...              3  \n",
              "54      It 's been more than a year since No Time to D...              3  \n",
              "70      To save you the time in either watching this f...              3  \n",
              "71      I 've never written a review before , but this...              3  \n",
              "73      Maybe I expected more because it 's an issue I...              3  \n",
              "77      As you all know I am very rarely wrong ( note ...              3  \n",
              "78      The latest rescue-slash-revenge film to hit ou...              3  \n",
              "65      This is quite simply the french version of US ...              3  \n",
              "66      This has to be the biggest pile of pap i have ...              3  \n",
              "68      I had expected this movie to impress me with g...              3  \n",
              "63      Maybe French movies are n't that well known in...              3  \n",
              "64      I bought this film by accident , not realising...              3  \n",
              "31      A Mesmerizing and Modern Masterpiece : The 202...              3  \n",
              "34      When I first heard a Barbie movie was in the w...              3  \n",
              "21      Over the years , medical there have been a var...              3  \n",
              "24      A couple of weeks ago I had the strangest drea...              3  \n",
              "20      `` Dirty Grandpa '' is the latest in the line ...              3  \n",
              "27      For those that are lucky enough to still have ...              3  \n",
              "17      The script for what eventually became the simp...              3  \n",
              "18      Hooray , it 's the annual return of the `` Mar...              3  \n",
              "2       She is immediately befriended by two of North ...              3  \n",
              "8       When 16-year-old Cady ( Lindsay Lohan ) first ...              3  \n",
              "0       `` In a wasteland of dumb movies about teenage...              3  \n",
              "9       'Gretchen , stop trying to make 'fetch ' happe...              3  \n",
              "131     When I was in elementary school , we had a cla...              3  \n",
              "134     What can you say about a horror film whose tit...              3  \n",
              "137     HORROR is not just for the young , it 's about...              3  \n",
              "138     `` Drag Me to Hell '' is a sometimes funny and...              3  \n",
              "143     Modern dating can make a girl feel like a real...              3  \n",
              "146     There 's something about a horror film that ta...              3  \n",
              "148     Daisy Edgar-Jones sure can pick 'em . The dece...              3  \n",
              "108     When a running joke becomes a `` Kick Me '' si...              3  \n",
              "102     `` It Chapter Two '' gave me `` Avengers : End...              3  \n",
              "121     Back in 2013 , James Wans The Conjuring repres...              3  \n",
              "122     Horror movies often rely on a certain amount o...              3  \n",
              "126     James Wan , you motherfucker . I forgot that g...              3  \n",
              "115     We knew it would only be a matter of time befo...              3  \n",
              "116     The Others starts auspiciously enough with a b...              3  \n",
              "117     A Gothic mom-in-distress thriller for those wh...              3  \n",
              "118     `` The Others '' is a haunted house mystery --...              3  \n",
              "110     Many films have toyed with the idea of psychol...              3  \n",
              "111     For most of us cinephiles , we remember the fi...              3  \n",
              "114     If you 're going to steal , steal from the bes...              3  \n",
              "154     `` Equilibrium '' would be a mindless action p...              3  \n",
              "175     Steven Spielberg has made a couple of clunkers...              3  \n",
              "176     For a work of speculative or science fiction t...              3  \n",
              "179     * * * SLIGHT SPOILERS * * * It 's easy to see ...              3  \n",
              "170     It 's an open secret : the Oscar is jinxed . S...              3  \n",
              "171     Minority Report is the latest film from Stephe...              3  \n",
              "174     If not for Kurt Wimmer 's fabulous Equilibrium...              3  \n",
              "188     The picture is of course a vehicle for Tom Cru...              3  \n",
              "195     If you ever wondered what it might feel like t...              3  \n",
              "166     There are very few things that are still expec...              3  \n",
              "160     The Batman is a promise delivered by Matt Reev...              3  \n",
              "162     The Dark Knight is back in Matt Reeves ' `` Th...              3  \n",
              "163     Throughout the evolution of the Batman charact...              3  "
            ],
            "text/html": [
              "\n",
              "  <div id=\"df-114208d2-55b4-4b95-8e0b-8d9c0ddac471\" class=\"colab-df-container\">\n",
              "    <div>\n",
              "<style scoped>\n",
              "    .dataframe tbody tr th:only-of-type {\n",
              "        vertical-align: middle;\n",
              "    }\n",
              "\n",
              "    .dataframe tbody tr th {\n",
              "        vertical-align: top;\n",
              "    }\n",
              "\n",
              "    .dataframe thead th {\n",
              "        text-align: right;\n",
              "    }\n",
              "</style>\n",
              "<table border=\"1\" class=\"dataframe\">\n",
              "  <thead>\n",
              "    <tr style=\"text-align: right;\">\n",
              "      <th></th>\n",
              "      <th>DSI_Title</th>\n",
              "      <th>Genre of Movie</th>\n",
              "      <th>Text</th>\n",
              "      <th>cluster_label</th>\n",
              "    </tr>\n",
              "    <tr>\n",
              "      <th>Doc_ID</th>\n",
              "      <th></th>\n",
              "      <th></th>\n",
              "      <th></th>\n",
              "      <th></th>\n",
              "    </tr>\n",
              "  </thead>\n",
              "  <tbody>\n",
              "    <tr>\n",
              "      <th>95</th>\n",
              "      <td>LKP_Doc6_Angel_has_fallen</td>\n",
              "      <td>Action</td>\n",
              "      <td>As I left the theater the other night , I bega...</td>\n",
              "      <td>3</td>\n",
              "    </tr>\n",
              "    <tr>\n",
              "      <th>98</th>\n",
              "      <td>LKP_Doc9_Angel_has_fallen</td>\n",
              "      <td>Action</td>\n",
              "      <td>American movie presidents can only make us wis...</td>\n",
              "      <td>3</td>\n",
              "    </tr>\n",
              "    <tr>\n",
              "      <th>85</th>\n",
              "      <td>SHR_Doc6_Inception</td>\n",
              "      <td>Action</td>\n",
              "      <td>Contrary to the opinions of the deluded army o...</td>\n",
              "      <td>3</td>\n",
              "    </tr>\n",
              "    <tr>\n",
              "      <th>89</th>\n",
              "      <td>SHR_Doc10_Inception</td>\n",
              "      <td>Action</td>\n",
              "      <td>Christopher Nolan has done some great work . H...</td>\n",
              "      <td>3</td>\n",
              "    </tr>\n",
              "    <tr>\n",
              "      <th>80</th>\n",
              "      <td>SHR_Doc1_Inception</td>\n",
              "      <td>Action</td>\n",
              "      <td>I 'm nearly at a loss for words . Just when yo...</td>\n",
              "      <td>3</td>\n",
              "    </tr>\n",
              "    <tr>\n",
              "      <th>82</th>\n",
              "      <td>SHR_Doc3_Inception</td>\n",
              "      <td>Action</td>\n",
              "      <td>Inception is truly one of a kind . A concept w...</td>\n",
              "      <td>3</td>\n",
              "    </tr>\n",
              "    <tr>\n",
              "      <th>83</th>\n",
              "      <td>SHR_Doc4_Inception</td>\n",
              "      <td>Action</td>\n",
              "      <td>Many of us , not least those who populate the ...</td>\n",
              "      <td>3</td>\n",
              "    </tr>\n",
              "    <tr>\n",
              "      <th>53</th>\n",
              "      <td>BKG_Doc4_No_Time_to_Die</td>\n",
              "      <td>Action</td>\n",
              "      <td>From `` Lawrence of Arabia '' to `` Iron Man ,...</td>\n",
              "      <td>3</td>\n",
              "    </tr>\n",
              "    <tr>\n",
              "      <th>54</th>\n",
              "      <td>BKG_Doc5_No_Time_to_Die</td>\n",
              "      <td>Action</td>\n",
              "      <td>It 's been more than a year since No Time to D...</td>\n",
              "      <td>3</td>\n",
              "    </tr>\n",
              "    <tr>\n",
              "      <th>70</th>\n",
              "      <td>DHB_Doc1_Taken</td>\n",
              "      <td>Action</td>\n",
              "      <td>To save you the time in either watching this f...</td>\n",
              "      <td>3</td>\n",
              "    </tr>\n",
              "    <tr>\n",
              "      <th>71</th>\n",
              "      <td>DHB_Doc2_Taken</td>\n",
              "      <td>Action</td>\n",
              "      <td>I 've never written a review before , but this...</td>\n",
              "      <td>3</td>\n",
              "    </tr>\n",
              "    <tr>\n",
              "      <th>73</th>\n",
              "      <td>DHB_Doc4_Taken</td>\n",
              "      <td>Action</td>\n",
              "      <td>Maybe I expected more because it 's an issue I...</td>\n",
              "      <td>3</td>\n",
              "    </tr>\n",
              "    <tr>\n",
              "      <th>77</th>\n",
              "      <td>DHB_Doc8_Taken</td>\n",
              "      <td>Action</td>\n",
              "      <td>As you all know I am very rarely wrong ( note ...</td>\n",
              "      <td>3</td>\n",
              "    </tr>\n",
              "    <tr>\n",
              "      <th>78</th>\n",
              "      <td>DHB_Doc9_Taken</td>\n",
              "      <td>Action</td>\n",
              "      <td>The latest rescue-slash-revenge film to hit ou...</td>\n",
              "      <td>3</td>\n",
              "    </tr>\n",
              "    <tr>\n",
              "      <th>65</th>\n",
              "      <td>VGI_Doc6_Taxi</td>\n",
              "      <td>Action</td>\n",
              "      <td>This is quite simply the french version of US ...</td>\n",
              "      <td>3</td>\n",
              "    </tr>\n",
              "    <tr>\n",
              "      <th>66</th>\n",
              "      <td>VGI_Doc7_Taxi</td>\n",
              "      <td>Action</td>\n",
              "      <td>This has to be the biggest pile of pap i have ...</td>\n",
              "      <td>3</td>\n",
              "    </tr>\n",
              "    <tr>\n",
              "      <th>68</th>\n",
              "      <td>VGI_Doc9_Taxi</td>\n",
              "      <td>Action</td>\n",
              "      <td>I had expected this movie to impress me with g...</td>\n",
              "      <td>3</td>\n",
              "    </tr>\n",
              "    <tr>\n",
              "      <th>63</th>\n",
              "      <td>VGI_Doc4_Taxi</td>\n",
              "      <td>Action</td>\n",
              "      <td>Maybe French movies are n't that well known in...</td>\n",
              "      <td>3</td>\n",
              "    </tr>\n",
              "    <tr>\n",
              "      <th>64</th>\n",
              "      <td>VGI_Doc5_Taxi</td>\n",
              "      <td>Action</td>\n",
              "      <td>I bought this film by accident , not realising...</td>\n",
              "      <td>3</td>\n",
              "    </tr>\n",
              "    <tr>\n",
              "      <th>31</th>\n",
              "      <td>KDB_Doc2_Barbie</td>\n",
              "      <td>Comedy</td>\n",
              "      <td>A Mesmerizing and Modern Masterpiece : The 202...</td>\n",
              "      <td>3</td>\n",
              "    </tr>\n",
              "    <tr>\n",
              "      <th>34</th>\n",
              "      <td>KDB_Doc5_Barbie</td>\n",
              "      <td>Comedy</td>\n",
              "      <td>When I first heard a Barbie movie was in the w...</td>\n",
              "      <td>3</td>\n",
              "    </tr>\n",
              "    <tr>\n",
              "      <th>21</th>\n",
              "      <td>JCT_Doc2_Dirty_Grandpa</td>\n",
              "      <td>Comedy</td>\n",
              "      <td>Over the years , medical there have been a var...</td>\n",
              "      <td>3</td>\n",
              "    </tr>\n",
              "    <tr>\n",
              "      <th>24</th>\n",
              "      <td>JCT_Doc5_Dirty_Grandpa</td>\n",
              "      <td>Comedy</td>\n",
              "      <td>A couple of weeks ago I had the strangest drea...</td>\n",
              "      <td>3</td>\n",
              "    </tr>\n",
              "    <tr>\n",
              "      <th>20</th>\n",
              "      <td>JCT_Doc1_Dirty_Grandpa</td>\n",
              "      <td>Comedy</td>\n",
              "      <td>`` Dirty Grandpa '' is the latest in the line ...</td>\n",
              "      <td>3</td>\n",
              "    </tr>\n",
              "    <tr>\n",
              "      <th>27</th>\n",
              "      <td>JCT_Doc8_Dirty_Grandpa</td>\n",
              "      <td>Comedy</td>\n",
              "      <td>For those that are lucky enough to still have ...</td>\n",
              "      <td>3</td>\n",
              "    </tr>\n",
              "    <tr>\n",
              "      <th>17</th>\n",
              "      <td>HBI_Doc8_Holmes_and_Watson</td>\n",
              "      <td>Comedy</td>\n",
              "      <td>The script for what eventually became the simp...</td>\n",
              "      <td>3</td>\n",
              "    </tr>\n",
              "    <tr>\n",
              "      <th>18</th>\n",
              "      <td>HBI_Doc9_Holmes_and_Watson</td>\n",
              "      <td>Comedy</td>\n",
              "      <td>Hooray , it 's the annual return of the `` Mar...</td>\n",
              "      <td>3</td>\n",
              "    </tr>\n",
              "    <tr>\n",
              "      <th>2</th>\n",
              "      <td>XOY_Doc3_Mean_Girls</td>\n",
              "      <td>Comedy</td>\n",
              "      <td>She is immediately befriended by two of North ...</td>\n",
              "      <td>3</td>\n",
              "    </tr>\n",
              "    <tr>\n",
              "      <th>8</th>\n",
              "      <td>XOY_Doc9_Mean_Girls</td>\n",
              "      <td>Comedy</td>\n",
              "      <td>When 16-year-old Cady ( Lindsay Lohan ) first ...</td>\n",
              "      <td>3</td>\n",
              "    </tr>\n",
              "    <tr>\n",
              "      <th>0</th>\n",
              "      <td>XOY_Doc1_Mean_Girls</td>\n",
              "      <td>Comedy</td>\n",
              "      <td>`` In a wasteland of dumb movies about teenage...</td>\n",
              "      <td>3</td>\n",
              "    </tr>\n",
              "    <tr>\n",
              "      <th>9</th>\n",
              "      <td>XOY_Doc10_Mean_Girls</td>\n",
              "      <td>Comedy</td>\n",
              "      <td>'Gretchen , stop trying to make 'fetch ' happe...</td>\n",
              "      <td>3</td>\n",
              "    </tr>\n",
              "    <tr>\n",
              "      <th>131</th>\n",
              "      <td>JLL_Doc2_Drag_Me_To_Hell</td>\n",
              "      <td>Horror</td>\n",
              "      <td>When I was in elementary school , we had a cla...</td>\n",
              "      <td>3</td>\n",
              "    </tr>\n",
              "    <tr>\n",
              "      <th>134</th>\n",
              "      <td>JLL_Doc5_Drag_Me_To_Hell</td>\n",
              "      <td>Horror</td>\n",
              "      <td>What can you say about a horror film whose tit...</td>\n",
              "      <td>3</td>\n",
              "    </tr>\n",
              "    <tr>\n",
              "      <th>137</th>\n",
              "      <td>JLL_Doc8_Drag_Me_To_Hell</td>\n",
              "      <td>Horror</td>\n",
              "      <td>HORROR is not just for the young , it 's about...</td>\n",
              "      <td>3</td>\n",
              "    </tr>\n",
              "    <tr>\n",
              "      <th>138</th>\n",
              "      <td>JLL_Doc9_Drag_Me_To_Hell</td>\n",
              "      <td>Horror</td>\n",
              "      <td>`` Drag Me to Hell '' is a sometimes funny and...</td>\n",
              "      <td>3</td>\n",
              "    </tr>\n",
              "    <tr>\n",
              "      <th>143</th>\n",
              "      <td>CMM_Doc4_Fresh</td>\n",
              "      <td>Horror</td>\n",
              "      <td>Modern dating can make a girl feel like a real...</td>\n",
              "      <td>3</td>\n",
              "    </tr>\n",
              "    <tr>\n",
              "      <th>146</th>\n",
              "      <td>CMM_Doc7_Fresh</td>\n",
              "      <td>Horror</td>\n",
              "      <td>There 's something about a horror film that ta...</td>\n",
              "      <td>3</td>\n",
              "    </tr>\n",
              "    <tr>\n",
              "      <th>148</th>\n",
              "      <td>CMM_Doc9_Fresh</td>\n",
              "      <td>Horror</td>\n",
              "      <td>Daisy Edgar-Jones sure can pick 'em . The dece...</td>\n",
              "      <td>3</td>\n",
              "    </tr>\n",
              "    <tr>\n",
              "      <th>108</th>\n",
              "      <td>UAJ_Doc9_It_Chapter_Two</td>\n",
              "      <td>Horror</td>\n",
              "      <td>When a running joke becomes a `` Kick Me '' si...</td>\n",
              "      <td>3</td>\n",
              "    </tr>\n",
              "    <tr>\n",
              "      <th>102</th>\n",
              "      <td>UAJ_Doc3_It_Chapter_Two</td>\n",
              "      <td>Horror</td>\n",
              "      <td>`` It Chapter Two '' gave me `` Avengers : End...</td>\n",
              "      <td>3</td>\n",
              "    </tr>\n",
              "    <tr>\n",
              "      <th>121</th>\n",
              "      <td>OZP_Doc2_TheConjuring2</td>\n",
              "      <td>Horror</td>\n",
              "      <td>Back in 2013 , James Wans The Conjuring repres...</td>\n",
              "      <td>3</td>\n",
              "    </tr>\n",
              "    <tr>\n",
              "      <th>122</th>\n",
              "      <td>OZP_Doc3_TheConjuring2</td>\n",
              "      <td>Horror</td>\n",
              "      <td>Horror movies often rely on a certain amount o...</td>\n",
              "      <td>3</td>\n",
              "    </tr>\n",
              "    <tr>\n",
              "      <th>126</th>\n",
              "      <td>OZP_Doc7_TheConjuring2</td>\n",
              "      <td>Horror</td>\n",
              "      <td>James Wan , you motherfucker . I forgot that g...</td>\n",
              "      <td>3</td>\n",
              "    </tr>\n",
              "    <tr>\n",
              "      <th>115</th>\n",
              "      <td>HAK_Doc6_The_Others</td>\n",
              "      <td>Horror</td>\n",
              "      <td>We knew it would only be a matter of time befo...</td>\n",
              "      <td>3</td>\n",
              "    </tr>\n",
              "    <tr>\n",
              "      <th>116</th>\n",
              "      <td>HAK_Doc7_The_Others</td>\n",
              "      <td>Horror</td>\n",
              "      <td>The Others starts auspiciously enough with a b...</td>\n",
              "      <td>3</td>\n",
              "    </tr>\n",
              "    <tr>\n",
              "      <th>117</th>\n",
              "      <td>HAK_Doc8_The_Others</td>\n",
              "      <td>Horror</td>\n",
              "      <td>A Gothic mom-in-distress thriller for those wh...</td>\n",
              "      <td>3</td>\n",
              "    </tr>\n",
              "    <tr>\n",
              "      <th>118</th>\n",
              "      <td>HAK_Doc9_The_Others</td>\n",
              "      <td>Horror</td>\n",
              "      <td>`` The Others '' is a haunted house mystery --...</td>\n",
              "      <td>3</td>\n",
              "    </tr>\n",
              "    <tr>\n",
              "      <th>110</th>\n",
              "      <td>HAK_Doc1_The_Others</td>\n",
              "      <td>Horror</td>\n",
              "      <td>Many films have toyed with the idea of psychol...</td>\n",
              "      <td>3</td>\n",
              "    </tr>\n",
              "    <tr>\n",
              "      <th>111</th>\n",
              "      <td>HAK_Doc2_The_Others</td>\n",
              "      <td>Horror</td>\n",
              "      <td>For most of us cinephiles , we remember the fi...</td>\n",
              "      <td>3</td>\n",
              "    </tr>\n",
              "    <tr>\n",
              "      <th>114</th>\n",
              "      <td>HAK_Doc5_The_Others</td>\n",
              "      <td>Horror</td>\n",
              "      <td>If you 're going to steal , steal from the bes...</td>\n",
              "      <td>3</td>\n",
              "    </tr>\n",
              "    <tr>\n",
              "      <th>154</th>\n",
              "      <td>BYM_Doc5_EQUILIBRIUM</td>\n",
              "      <td>Sci-Fi</td>\n",
              "      <td>`` Equilibrium '' would be a mindless action p...</td>\n",
              "      <td>3</td>\n",
              "    </tr>\n",
              "    <tr>\n",
              "      <th>175</th>\n",
              "      <td>DSM_Doc6_Minority_Report</td>\n",
              "      <td>Sci-Fi</td>\n",
              "      <td>Steven Spielberg has made a couple of clunkers...</td>\n",
              "      <td>3</td>\n",
              "    </tr>\n",
              "    <tr>\n",
              "      <th>176</th>\n",
              "      <td>DSM_Doc7_Minority_Report</td>\n",
              "      <td>Sci-Fi</td>\n",
              "      <td>For a work of speculative or science fiction t...</td>\n",
              "      <td>3</td>\n",
              "    </tr>\n",
              "    <tr>\n",
              "      <th>179</th>\n",
              "      <td>DSM_Doc10_Minority_Report</td>\n",
              "      <td>Sci-Fi</td>\n",
              "      <td>* * * SLIGHT SPOILERS * * * It 's easy to see ...</td>\n",
              "      <td>3</td>\n",
              "    </tr>\n",
              "    <tr>\n",
              "      <th>170</th>\n",
              "      <td>DSM_Doc1_Minority_Report</td>\n",
              "      <td>Sci-Fi</td>\n",
              "      <td>It 's an open secret : the Oscar is jinxed . S...</td>\n",
              "      <td>3</td>\n",
              "    </tr>\n",
              "    <tr>\n",
              "      <th>171</th>\n",
              "      <td>DSM_Doc2_Minority_Report</td>\n",
              "      <td>Sci-Fi</td>\n",
              "      <td>Minority Report is the latest film from Stephe...</td>\n",
              "      <td>3</td>\n",
              "    </tr>\n",
              "    <tr>\n",
              "      <th>174</th>\n",
              "      <td>DSM_Doc5_Minority_Report</td>\n",
              "      <td>Sci-Fi</td>\n",
              "      <td>If not for Kurt Wimmer 's fabulous Equilibrium...</td>\n",
              "      <td>3</td>\n",
              "    </tr>\n",
              "    <tr>\n",
              "      <th>188</th>\n",
              "      <td>AVR_Doc9_Oblivion</td>\n",
              "      <td>Sci-Fi</td>\n",
              "      <td>The picture is of course a vehicle for Tom Cru...</td>\n",
              "      <td>3</td>\n",
              "    </tr>\n",
              "    <tr>\n",
              "      <th>195</th>\n",
              "      <td>MKW_Doc6_Pitch_Black</td>\n",
              "      <td>Sci-Fi</td>\n",
              "      <td>If you ever wondered what it might feel like t...</td>\n",
              "      <td>3</td>\n",
              "    </tr>\n",
              "    <tr>\n",
              "      <th>166</th>\n",
              "      <td>MEM_Doc7_The_Batman</td>\n",
              "      <td>Sci-Fi</td>\n",
              "      <td>There are very few things that are still expec...</td>\n",
              "      <td>3</td>\n",
              "    </tr>\n",
              "    <tr>\n",
              "      <th>160</th>\n",
              "      <td>MEM_Doc1_The_Batman</td>\n",
              "      <td>Sci-Fi</td>\n",
              "      <td>The Batman is a promise delivered by Matt Reev...</td>\n",
              "      <td>3</td>\n",
              "    </tr>\n",
              "    <tr>\n",
              "      <th>162</th>\n",
              "      <td>MEM_Doc3_The_Batman</td>\n",
              "      <td>Sci-Fi</td>\n",
              "      <td>The Dark Knight is back in Matt Reeves ' `` Th...</td>\n",
              "      <td>3</td>\n",
              "    </tr>\n",
              "    <tr>\n",
              "      <th>163</th>\n",
              "      <td>MEM_Doc4_The_Batman</td>\n",
              "      <td>Sci-Fi</td>\n",
              "      <td>Throughout the evolution of the Batman charact...</td>\n",
              "      <td>3</td>\n",
              "    </tr>\n",
              "  </tbody>\n",
              "</table>\n",
              "</div>\n",
              "    <div class=\"colab-df-buttons\">\n",
              "\n",
              "  <div class=\"colab-df-container\">\n",
              "    <button class=\"colab-df-convert\" onclick=\"convertToInteractive('df-114208d2-55b4-4b95-8e0b-8d9c0ddac471')\"\n",
              "            title=\"Convert this dataframe to an interactive table.\"\n",
              "            style=\"display:none;\">\n",
              "\n",
              "  <svg xmlns=\"http://www.w3.org/2000/svg\" height=\"24px\" viewBox=\"0 -960 960 960\">\n",
              "    <path d=\"M120-120v-720h720v720H120Zm60-500h600v-160H180v160Zm220 220h160v-160H400v160Zm0 220h160v-160H400v160ZM180-400h160v-160H180v160Zm440 0h160v-160H620v160ZM180-180h160v-160H180v160Zm440 0h160v-160H620v160Z\"/>\n",
              "  </svg>\n",
              "    </button>\n",
              "\n",
              "  <style>\n",
              "    .colab-df-container {\n",
              "      display:flex;\n",
              "      gap: 12px;\n",
              "    }\n",
              "\n",
              "    .colab-df-convert {\n",
              "      background-color: #E8F0FE;\n",
              "      border: none;\n",
              "      border-radius: 50%;\n",
              "      cursor: pointer;\n",
              "      display: none;\n",
              "      fill: #1967D2;\n",
              "      height: 32px;\n",
              "      padding: 0 0 0 0;\n",
              "      width: 32px;\n",
              "    }\n",
              "\n",
              "    .colab-df-convert:hover {\n",
              "      background-color: #E2EBFA;\n",
              "      box-shadow: 0px 1px 2px rgba(60, 64, 67, 0.3), 0px 1px 3px 1px rgba(60, 64, 67, 0.15);\n",
              "      fill: #174EA6;\n",
              "    }\n",
              "\n",
              "    .colab-df-buttons div {\n",
              "      margin-bottom: 4px;\n",
              "    }\n",
              "\n",
              "    [theme=dark] .colab-df-convert {\n",
              "      background-color: #3B4455;\n",
              "      fill: #D2E3FC;\n",
              "    }\n",
              "\n",
              "    [theme=dark] .colab-df-convert:hover {\n",
              "      background-color: #434B5C;\n",
              "      box-shadow: 0px 1px 3px 1px rgba(0, 0, 0, 0.15);\n",
              "      filter: drop-shadow(0px 1px 2px rgba(0, 0, 0, 0.3));\n",
              "      fill: #FFFFFF;\n",
              "    }\n",
              "  </style>\n",
              "\n",
              "    <script>\n",
              "      const buttonEl =\n",
              "        document.querySelector('#df-114208d2-55b4-4b95-8e0b-8d9c0ddac471 button.colab-df-convert');\n",
              "      buttonEl.style.display =\n",
              "        google.colab.kernel.accessAllowed ? 'block' : 'none';\n",
              "\n",
              "      async function convertToInteractive(key) {\n",
              "        const element = document.querySelector('#df-114208d2-55b4-4b95-8e0b-8d9c0ddac471');\n",
              "        const dataTable =\n",
              "          await google.colab.kernel.invokeFunction('convertToInteractive',\n",
              "                                                    [key], {});\n",
              "        if (!dataTable) return;\n",
              "\n",
              "        const docLinkHtml = 'Like what you see? Visit the ' +\n",
              "          '<a target=\"_blank\" href=https://colab.research.google.com/notebooks/data_table.ipynb>data table notebook</a>'\n",
              "          + ' to learn more about interactive tables.';\n",
              "        element.innerHTML = '';\n",
              "        dataTable['output_type'] = 'display_data';\n",
              "        await google.colab.output.renderOutput(dataTable, element);\n",
              "        const docLink = document.createElement('div');\n",
              "        docLink.innerHTML = docLinkHtml;\n",
              "        element.appendChild(docLink);\n",
              "      }\n",
              "    </script>\n",
              "  </div>\n",
              "\n",
              "\n",
              "<div id=\"df-d66fb83b-6fb1-42af-be31-bca7c50a5e9d\">\n",
              "  <button class=\"colab-df-quickchart\" onclick=\"quickchart('df-d66fb83b-6fb1-42af-be31-bca7c50a5e9d')\"\n",
              "            title=\"Suggest charts.\"\n",
              "            style=\"display:none;\">\n",
              "\n",
              "<svg xmlns=\"http://www.w3.org/2000/svg\" height=\"24px\"viewBox=\"0 0 24 24\"\n",
              "     width=\"24px\">\n",
              "    <g>\n",
              "        <path d=\"M19 3H5c-1.1 0-2 .9-2 2v14c0 1.1.9 2 2 2h14c1.1 0 2-.9 2-2V5c0-1.1-.9-2-2-2zM9 17H7v-7h2v7zm4 0h-2V7h2v10zm4 0h-2v-4h2v4z\"/>\n",
              "    </g>\n",
              "</svg>\n",
              "  </button>\n",
              "\n",
              "<style>\n",
              "  .colab-df-quickchart {\n",
              "      --bg-color: #E8F0FE;\n",
              "      --fill-color: #1967D2;\n",
              "      --hover-bg-color: #E2EBFA;\n",
              "      --hover-fill-color: #174EA6;\n",
              "      --disabled-fill-color: #AAA;\n",
              "      --disabled-bg-color: #DDD;\n",
              "  }\n",
              "\n",
              "  [theme=dark] .colab-df-quickchart {\n",
              "      --bg-color: #3B4455;\n",
              "      --fill-color: #D2E3FC;\n",
              "      --hover-bg-color: #434B5C;\n",
              "      --hover-fill-color: #FFFFFF;\n",
              "      --disabled-bg-color: #3B4455;\n",
              "      --disabled-fill-color: #666;\n",
              "  }\n",
              "\n",
              "  .colab-df-quickchart {\n",
              "    background-color: var(--bg-color);\n",
              "    border: none;\n",
              "    border-radius: 50%;\n",
              "    cursor: pointer;\n",
              "    display: none;\n",
              "    fill: var(--fill-color);\n",
              "    height: 32px;\n",
              "    padding: 0;\n",
              "    width: 32px;\n",
              "  }\n",
              "\n",
              "  .colab-df-quickchart:hover {\n",
              "    background-color: var(--hover-bg-color);\n",
              "    box-shadow: 0 1px 2px rgba(60, 64, 67, 0.3), 0 1px 3px 1px rgba(60, 64, 67, 0.15);\n",
              "    fill: var(--button-hover-fill-color);\n",
              "  }\n",
              "\n",
              "  .colab-df-quickchart-complete:disabled,\n",
              "  .colab-df-quickchart-complete:disabled:hover {\n",
              "    background-color: var(--disabled-bg-color);\n",
              "    fill: var(--disabled-fill-color);\n",
              "    box-shadow: none;\n",
              "  }\n",
              "\n",
              "  .colab-df-spinner {\n",
              "    border: 2px solid var(--fill-color);\n",
              "    border-color: transparent;\n",
              "    border-bottom-color: var(--fill-color);\n",
              "    animation:\n",
              "      spin 1s steps(1) infinite;\n",
              "  }\n",
              "\n",
              "  @keyframes spin {\n",
              "    0% {\n",
              "      border-color: transparent;\n",
              "      border-bottom-color: var(--fill-color);\n",
              "      border-left-color: var(--fill-color);\n",
              "    }\n",
              "    20% {\n",
              "      border-color: transparent;\n",
              "      border-left-color: var(--fill-color);\n",
              "      border-top-color: var(--fill-color);\n",
              "    }\n",
              "    30% {\n",
              "      border-color: transparent;\n",
              "      border-left-color: var(--fill-color);\n",
              "      border-top-color: var(--fill-color);\n",
              "      border-right-color: var(--fill-color);\n",
              "    }\n",
              "    40% {\n",
              "      border-color: transparent;\n",
              "      border-right-color: var(--fill-color);\n",
              "      border-top-color: var(--fill-color);\n",
              "    }\n",
              "    60% {\n",
              "      border-color: transparent;\n",
              "      border-right-color: var(--fill-color);\n",
              "    }\n",
              "    80% {\n",
              "      border-color: transparent;\n",
              "      border-right-color: var(--fill-color);\n",
              "      border-bottom-color: var(--fill-color);\n",
              "    }\n",
              "    90% {\n",
              "      border-color: transparent;\n",
              "      border-bottom-color: var(--fill-color);\n",
              "    }\n",
              "  }\n",
              "</style>\n",
              "\n",
              "  <script>\n",
              "    async function quickchart(key) {\n",
              "      const quickchartButtonEl =\n",
              "        document.querySelector('#' + key + ' button');\n",
              "      quickchartButtonEl.disabled = true;  // To prevent multiple clicks.\n",
              "      quickchartButtonEl.classList.add('colab-df-spinner');\n",
              "      try {\n",
              "        const charts = await google.colab.kernel.invokeFunction(\n",
              "            'suggestCharts', [key], {});\n",
              "      } catch (error) {\n",
              "        console.error('Error during call to suggestCharts:', error);\n",
              "      }\n",
              "      quickchartButtonEl.classList.remove('colab-df-spinner');\n",
              "      quickchartButtonEl.classList.add('colab-df-quickchart-complete');\n",
              "    }\n",
              "    (() => {\n",
              "      let quickchartButtonEl =\n",
              "        document.querySelector('#df-d66fb83b-6fb1-42af-be31-bca7c50a5e9d button');\n",
              "      quickchartButtonEl.style.display =\n",
              "        google.colab.kernel.accessAllowed ? 'block' : 'none';\n",
              "    })();\n",
              "  </script>\n",
              "</div>\n",
              "    </div>\n",
              "  </div>\n"
            ]
          },
          "metadata": {},
          "execution_count": 71
        }
      ],
      "source": [
        "documents_by_cluster[documents_by_cluster['cluster_label'] == 3]"
      ]
    },
    {
      "cell_type": "markdown",
      "metadata": {
        "id": "gAzvcpVh4wIf"
      },
      "source": [
        "# Conclusion"
      ]
    },
    {
      "cell_type": "markdown",
      "metadata": {
        "id": "d4DryKdk4xsX"
      },
      "source": [
        "Quality of features extracted from text (e.g., `tf-idf` and `doc2vec`) can be acertained by the quality of the clusters generated using these features. These clusters also highlight potential patterns within the corpus.\n"
      ]
    }
  ],
  "metadata": {
    "colab": {
      "provenance": []
    },
    "kernelspec": {
      "display_name": "Python 3 (ipykernel)",
      "language": "python",
      "name": "python3"
    },
    "language_info": {
      "codemirror_mode": {
        "name": "ipython",
        "version": 3
      },
      "file_extension": ".py",
      "mimetype": "text/x-python",
      "name": "python",
      "nbconvert_exporter": "python",
      "pygments_lexer": "ipython3",
      "version": "3.11.5"
    }
  },
  "nbformat": 4,
  "nbformat_minor": 0
}