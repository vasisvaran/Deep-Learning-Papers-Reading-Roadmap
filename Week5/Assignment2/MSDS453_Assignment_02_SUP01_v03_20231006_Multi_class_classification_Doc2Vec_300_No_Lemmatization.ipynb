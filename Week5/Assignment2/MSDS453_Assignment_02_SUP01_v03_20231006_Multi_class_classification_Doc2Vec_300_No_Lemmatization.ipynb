{
  "cells": [
    {
      "cell_type": "markdown",
      "metadata": {
        "tags": [],
        "id": "XL9_LzuZ-ewS"
      },
      "source": [
        "## Multi-class classification experiments (DocVec - 300)\n",
        "### Submitted by : Vasisvaran Gopal (Vasu)"
      ]
    },
    {
      "cell_type": "code",
      "execution_count": 1,
      "metadata": {
        "id": "U-dBc7ujfK2E",
        "colab": {
          "base_uri": "https://localhost:8080/",
          "height": 34
        },
        "outputId": "8e0fbd01-421f-4c87-b42c-695e9abd597c"
      },
      "outputs": [
        {
          "output_type": "display_data",
          "data": {
            "text/plain": [
              "<Figure size 640x480 with 0 Axes>"
            ]
          },
          "metadata": {}
        }
      ],
      "source": [
        "import nltk\n",
        "import re\n",
        "\n",
        "import pandas as pd\n",
        "import numpy as np\n",
        "\n",
        "import matplotlib.pyplot as plt\n",
        "import seaborn as sns\n",
        "import gensim\n",
        "\n",
        "from nltk.corpus import stopwords\n",
        "from nltk.stem.wordnet import WordNetLemmatizer\n",
        "from sklearn.feature_extraction.text import TfidfVectorizer\n",
        "from gensim.models.doc2vec import Doc2Vec, TaggedDocument\n",
        "from sklearn.preprocessing import OneHotEncoder\n",
        "from sklearn.model_selection import GridSearchCV\n",
        "from sklearn.preprocessing import MinMaxScaler\n",
        "\n",
        "from sklearn.model_selection import train_test_split\n",
        "from sklearn.svm import SVC\n",
        "from sklearn.ensemble import GradientBoostingClassifier\n",
        "from sklearn.metrics import accuracy_score, classification_report\n",
        "\n",
        "from sklearn.pipeline import Pipeline\n",
        "from sklearn.impute import SimpleImputer\n",
        "\n",
        "from sklearn.linear_model import LogisticRegression\n",
        "from sklearn.ensemble import RandomForestClassifier, ExtraTreesClassifier\n",
        "import xgboost as xgb\n",
        "from sklearn.metrics import confusion_matrix\n",
        "from sklearn.metrics import ConfusionMatrixDisplay\n",
        "from sklearn.ensemble import StackingClassifier\n",
        "\n",
        "# Figures inline and set visualization style\n",
        "%matplotlib inline\n",
        "\n",
        "custom_params = {\"axes.spines.right\": False, \"axes.spines.top\": False}\n",
        "sns.set_theme(style=\"ticks\", rc=custom_params, color_codes=True)\n",
        "sns.despine()\n",
        "\n",
        "import warnings\n",
        "warnings.filterwarnings('ignore')"
      ]
    },
    {
      "cell_type": "markdown",
      "metadata": {
        "id": "44sCnm5ibtFj"
      },
      "source": [
        "<div class=\"alert alert-block alert-danger\">\n",
        "<b>Gensim</b> is a Python library for topic modelling, document indexing and similarity retrieval with large corpora. Target audience is the natural language processing (NLP) and information retrieval (IR) community <br><br>\n",
        "    <b>https://pypi.org/project/gensim/ </b>\n",
        "</div>"
      ]
    },
    {
      "cell_type": "code",
      "execution_count": 2,
      "metadata": {
        "colab": {
          "base_uri": "https://localhost:8080/"
        },
        "id": "wkJzStXxbtoO",
        "outputId": "985d7578-934f-4afc-f289-cdb09a2b5d02"
      },
      "outputs": [
        {
          "output_type": "stream",
          "name": "stdout",
          "text": [
            "Genism Version:  4.3.2\n"
          ]
        }
      ],
      "source": [
        "print(\"Genism Version: \", gensim.__version__)"
      ]
    },
    {
      "cell_type": "code",
      "execution_count": 3,
      "metadata": {
        "id": "G1Ly71lY5YOn"
      },
      "outputs": [],
      "source": [
        "sns.set_context('talk')"
      ]
    },
    {
      "cell_type": "code",
      "execution_count": 4,
      "metadata": {
        "colab": {
          "base_uri": "https://localhost:8080/"
        },
        "id": "tavAXOobgXz9",
        "outputId": "b4b46cd7-7f91-47a1-ef01-373c94242a57"
      },
      "outputs": [
        {
          "output_type": "stream",
          "name": "stderr",
          "text": [
            "[nltk_data] Downloading package stopwords to /root/nltk_data...\n",
            "[nltk_data]   Unzipping corpora/stopwords.zip.\n",
            "[nltk_data] Downloading package punkt to /root/nltk_data...\n",
            "[nltk_data]   Unzipping tokenizers/punkt.zip.\n",
            "[nltk_data] Downloading package wordnet to /root/nltk_data...\n",
            "[nltk_data] Downloading package omw-1.4 to /root/nltk_data...\n"
          ]
        },
        {
          "output_type": "execute_result",
          "data": {
            "text/plain": [
              "True"
            ]
          },
          "metadata": {},
          "execution_count": 4
        }
      ],
      "source": [
        "nltk.download('stopwords')\n",
        "nltk.download('punkt')\n",
        "nltk.download('wordnet')\n",
        "nltk.download('omw-1.4')"
      ]
    },
    {
      "cell_type": "code",
      "execution_count": 5,
      "metadata": {
        "id": "PtFfOYMxaRhy"
      },
      "outputs": [],
      "source": [
        "def add_movie_descriptor(data: pd.DataFrame, corpus_df: pd.DataFrame):\n",
        "    \"\"\"\n",
        "    Adds \"Movie Description\" to the supplied dataframe, in the form {Genre}_{P|N}_{Movie Title}_{DocID}\n",
        "    \"\"\"\n",
        "    review = np.where(corpus_df['Review Type (pos or neg)'] == 'Positive', 'P', 'N')\n",
        "    data['Descriptor'] = corpus_df['Genre of Movie'] + '_' + corpus_df['Movie Title'] + '_' + review + '_' + corpus_df['Doc_ID'].astype(str)\n",
        "\n",
        "def get_corpus_df(path):\n",
        "    data = pd.read_csv(path, encoding=\"utf-8\")\n",
        "    add_movie_descriptor(data, data)\n",
        "    sorted_data = data.sort_values(['Descriptor'])\n",
        "    indexed_data = sorted_data.set_index(['Doc_ID'])\n",
        "    indexed_data['Doc_ID'] = indexed_data.index\n",
        "    return indexed_data\n"
      ]
    },
    {
      "cell_type": "markdown",
      "metadata": {
        "id": "0d0ffea9"
      },
      "source": [
        "#### Uncomment To Map Drive"
      ]
    },
    {
      "cell_type": "code",
      "execution_count": 6,
      "metadata": {
        "colab": {
          "base_uri": "https://localhost:8080/"
        },
        "id": "aa1e69c5",
        "outputId": "333ca7af-45fe-4f45-d7e7-fa2f9d1d15ad"
      },
      "outputs": [
        {
          "output_type": "stream",
          "name": "stdout",
          "text": [
            "Mounted at /content/gdrive/\n"
          ]
        }
      ],
      "source": [
        "from google.colab import drive\n",
        "drive.mount('/content/gdrive/')"
      ]
    },
    {
      "cell_type": "markdown",
      "metadata": {
        "id": "TIm9iGUGi2ay"
      },
      "source": [
        "# Data"
      ]
    },
    {
      "cell_type": "code",
      "execution_count": 7,
      "metadata": {
        "id": "40wXpTejaRh0"
      },
      "outputs": [],
      "source": [
        "CORPUS_PATH='/content/gdrive/MyDrive/Temp/MSDS453/MSDS453_ClassCorpus_Final_Sec57_v2_20230928.csv'\n",
        "class_corpus  = get_corpus_df(CORPUS_PATH)"
      ]
    },
    {
      "cell_type": "code",
      "execution_count": 8,
      "metadata": {
        "colab": {
          "base_uri": "https://localhost:8080/"
        },
        "id": "L2omUYiMi_Bi",
        "outputId": "1d432b56-e6be-4250-caa0-4b51433454bc"
      },
      "outputs": [
        {
          "output_type": "stream",
          "name": "stdout",
          "text": [
            "<class 'pandas.core.frame.DataFrame'>\n",
            "Int64Index: 200 entries, 90 to 164\n",
            "Data columns (total 9 columns):\n",
            " #   Column                    Non-Null Count  Dtype \n",
            "---  ------                    --------------  ----- \n",
            " 0   DSI_Title                 200 non-null    object\n",
            " 1   Text                      200 non-null    object\n",
            " 2   Submission File Name      200 non-null    object\n",
            " 3   Student Name              200 non-null    object\n",
            " 4   Genre of Movie            200 non-null    object\n",
            " 5   Review Type (pos or neg)  200 non-null    object\n",
            " 6   Movie Title               200 non-null    object\n",
            " 7   Descriptor                200 non-null    object\n",
            " 8   Doc_ID                    200 non-null    int64 \n",
            "dtypes: int64(1), object(8)\n",
            "memory usage: 15.6+ KB\n"
          ]
        }
      ],
      "source": [
        "class_corpus.info()"
      ]
    },
    {
      "cell_type": "markdown",
      "metadata": {
        "id": "oUApF6gXi0Ob"
      },
      "source": [
        "# Preprocessing"
      ]
    },
    {
      "cell_type": "code",
      "execution_count": 9,
      "metadata": {
        "id": "3f0E2HBMgaoP"
      },
      "outputs": [],
      "source": [
        "STOP_WORDS = set(nltk.corpus.stopwords.words('english'))"
      ]
    },
    {
      "cell_type": "code",
      "execution_count": 10,
      "metadata": {
        "id": "x9UqR31CgbG9"
      },
      "outputs": [],
      "source": [
        "def remove_punctuation(text):\n",
        "    return re.sub('[^a-zA-Z]', ' ', str(text))\n",
        "\n",
        "def lower_case(text):\n",
        "    return text.lower()\n",
        "\n",
        "def remove_tags(text):\n",
        "    return re.sub(\"&lt;/?.*?&gt;\",\" &lt;&gt; \", text)\n",
        "\n",
        "def remove_special_chars_and_digits(text):\n",
        "    return re.sub(\"(\\\\d|\\\\W)+\",\" \", text)\n",
        "\n",
        "def remove_stop_words(tokenized_text):\n",
        "    return [w for w in tokenized_text if not w in STOP_WORDS]"
      ]
    },
    {
      "cell_type": "code",
      "execution_count": 11,
      "metadata": {
        "id": "MIDZVFNOgeCG"
      },
      "outputs": [],
      "source": [
        "def normalize(input_text):\n",
        "    '''\n",
        "    Normalization involves the following steps:\n",
        "    1. Remove punctuation\n",
        "    2. Lower case all words\n",
        "    3. Remove tags (i.e., HTML tags)\n",
        "    4. Remove all special characters and digits\n",
        "    '''\n",
        "    text = remove_punctuation(input_text)\n",
        "    text = lower_case(text)\n",
        "    text = remove_tags(text)\n",
        "    text = remove_special_chars_and_digits(text)\n",
        "\n",
        "    return text"
      ]
    },
    {
      "cell_type": "code",
      "execution_count": 12,
      "metadata": {
        "id": "-mbmpZgqgjT0"
      },
      "outputs": [],
      "source": [
        "def tokenize(text):\n",
        "    '''\n",
        "    Tokenization involves the following steps:\n",
        "    1. Break text down to tokens (i.e., words separated by white spaces)\n",
        "    2. Remove stop words from the tokens generated in step 1\n",
        "    '''\n",
        "    tokens = nltk.word_tokenize(text)\n",
        "    tokenized_text = remove_stop_words(tokens)\n",
        "\n",
        "    return tokenized_text"
      ]
    },
    {
      "cell_type": "code",
      "execution_count": 13,
      "metadata": {
        "id": "QI9DxUomgl7s"
      },
      "outputs": [],
      "source": [
        "def lemmatize(tokenized_text, lemmatizer=WordNetLemmatizer()):\n",
        "    '''\n",
        "    Lemmatization is applied to each word in the list of normalized tokens\n",
        "    (stop words are removed)\n",
        "    '''\n",
        "    return [lemmatizer.lemmatize(word) for word in tokenized_text]"
      ]
    },
    {
      "cell_type": "code",
      "execution_count": 14,
      "metadata": {
        "id": "__exS2R4gooV"
      },
      "outputs": [],
      "source": [
        "def join_tokens(lemmatized_tokens):\n",
        "    return ' '.join(lemmatized_tokens)"
      ]
    },
    {
      "cell_type": "code",
      "execution_count": 15,
      "metadata": {
        "id": "CohWDClbgrO-"
      },
      "outputs": [],
      "source": [
        "class_corpus['normalized_review'] = class_corpus['Text'].apply(normalize)\n",
        "class_corpus['tokenized_review'] = class_corpus['normalized_review'].apply(tokenize)\n",
        "#class_corpus['lemmatized_tokens'] = class_corpus['tokenized_review'].apply(lemmatize)\n",
        "class_corpus['lemmatized_text'] = class_corpus['tokenized_review'].apply(join_tokens)"
      ]
    },
    {
      "cell_type": "code",
      "execution_count": 16,
      "metadata": {
        "colab": {
          "base_uri": "https://localhost:8080/"
        },
        "id": "d6rvCluFgwMt",
        "outputId": "7e197294-e9cd-4352-9325-6f4c31412637"
      },
      "outputs": [
        {
          "output_type": "stream",
          "name": "stdout",
          "text": [
            "<class 'pandas.core.frame.DataFrame'>\n",
            "Int64Index: 200 entries, 90 to 164\n",
            "Data columns (total 12 columns):\n",
            " #   Column                    Non-Null Count  Dtype \n",
            "---  ------                    --------------  ----- \n",
            " 0   DSI_Title                 200 non-null    object\n",
            " 1   Text                      200 non-null    object\n",
            " 2   Submission File Name      200 non-null    object\n",
            " 3   Student Name              200 non-null    object\n",
            " 4   Genre of Movie            200 non-null    object\n",
            " 5   Review Type (pos or neg)  200 non-null    object\n",
            " 6   Movie Title               200 non-null    object\n",
            " 7   Descriptor                200 non-null    object\n",
            " 8   Doc_ID                    200 non-null    int64 \n",
            " 9   normalized_review         200 non-null    object\n",
            " 10  tokenized_review          200 non-null    object\n",
            " 11  lemmatized_text           200 non-null    object\n",
            "dtypes: int64(1), object(11)\n",
            "memory usage: 20.3+ KB\n"
          ]
        }
      ],
      "source": [
        "class_corpus.info()"
      ]
    },
    {
      "cell_type": "markdown",
      "metadata": {
        "tags": [],
        "id": "LPGPtWOt-ewl"
      },
      "source": [
        "### Utility Functions"
      ]
    },
    {
      "cell_type": "code",
      "execution_count": 17,
      "metadata": {
        "tags": [],
        "id": "dRsyfH2S-ewl"
      },
      "outputs": [],
      "source": [
        "def show_classification_metics(y_test, y_pred, model):\n",
        "    print(classification_report(y_test, y_pred))\n",
        "    fig, ax = plt.subplots(figsize=(4,3), dpi=50)\n",
        "\n",
        "    conf_matrix = confusion_matrix(y_test, y_pred)\n",
        "    display = ConfusionMatrixDisplay(conf_matrix, display_labels=model.classes_)\n",
        "    ax.set(title='Confusion Matrix for Sentiment Analysis')\n",
        "    display.plot(ax=ax,xticks_rotation = 90);"
      ]
    },
    {
      "cell_type": "markdown",
      "metadata": {
        "id": "0KBfKMoVjET6"
      },
      "source": [
        "# Feature Extraction"
      ]
    },
    {
      "cell_type": "markdown",
      "metadata": {
        "id": "gRlrmxayjGMa"
      },
      "source": [
        "## Method 1: TF-IDF"
      ]
    },
    {
      "cell_type": "code",
      "execution_count": 18,
      "metadata": {
        "id": "UK1PBPvMiKsN"
      },
      "outputs": [],
      "source": [
        "tfidf_vectorizer = TfidfVectorizer()"
      ]
    },
    {
      "cell_type": "code",
      "execution_count": 19,
      "metadata": {
        "id": "Tpf5d7NHiLVa"
      },
      "outputs": [],
      "source": [
        "dtm_class_corpus = tfidf_vectorizer.fit_transform(class_corpus['lemmatized_text'])"
      ]
    },
    {
      "cell_type": "code",
      "execution_count": 20,
      "metadata": {
        "id": "fQxLyNNviOxr"
      },
      "outputs": [],
      "source": [
        "features_tfidf_scores = pd.DataFrame(dtm_class_corpus.toarray(),\n",
        "                                     columns=tfidf_vectorizer.get_feature_names_out(),\n",
        "                                     index=class_corpus.index)"
      ]
    },
    {
      "cell_type": "code",
      "execution_count": 21,
      "metadata": {
        "colab": {
          "base_uri": "https://localhost:8080/"
        },
        "id": "mng4HQHkiPd6",
        "outputId": "40130269-f397-484b-c607-2a4aacf8cc57"
      },
      "outputs": [
        {
          "output_type": "execute_result",
          "data": {
            "text/plain": [
              "(200, 11129)"
            ]
          },
          "metadata": {},
          "execution_count": 21
        }
      ],
      "source": [
        "features_tfidf_scores.shape"
      ]
    },
    {
      "cell_type": "markdown",
      "metadata": {
        "id": "k_i9cCBUjJAa"
      },
      "source": [
        "## Method 2: Doc2Vec"
      ]
    },
    {
      "cell_type": "code",
      "execution_count": 22,
      "metadata": {
        "id": "Trb-HZFEiYIS",
        "tags": []
      },
      "outputs": [],
      "source": [
        "documents = [TaggedDocument(doc, [i]) for i, doc in enumerate(class_corpus.tokenized_review)]"
      ]
    },
    {
      "cell_type": "code",
      "execution_count": 23,
      "metadata": {
        "id": "k_8VjV7jiaGi",
        "tags": []
      },
      "outputs": [],
      "source": [
        "model_doc2vec = Doc2Vec(documents,\n",
        "                        vector_size=300,\n",
        "                        min_count=1,\n",
        "                        workers=4)"
      ]
    },
    {
      "cell_type": "code",
      "execution_count": 24,
      "metadata": {
        "id": "t-WaDCrqicST",
        "tags": []
      },
      "outputs": [],
      "source": [
        "features_doc2vec = pd.DataFrame()\n",
        "\n",
        "for document in documents:\n",
        "    vector = pd.DataFrame(model_doc2vec.infer_vector(document.words)).transpose()\n",
        "    features_doc2vec = pd.concat([features_doc2vec, vector])"
      ]
    },
    {
      "cell_type": "code",
      "execution_count": 25,
      "metadata": {
        "colab": {
          "base_uri": "https://localhost:8080/"
        },
        "id": "iflibYJyieYz",
        "outputId": "8a44789b-78f7-427c-a34d-e16af46a7ffd",
        "tags": []
      },
      "outputs": [
        {
          "output_type": "execute_result",
          "data": {
            "text/plain": [
              "(200, 300)"
            ]
          },
          "metadata": {},
          "execution_count": 25
        }
      ],
      "source": [
        "features_doc2vec.shape"
      ]
    },
    {
      "cell_type": "code",
      "execution_count": 26,
      "metadata": {
        "tags": [],
        "id": "LNjURn8i-ewo"
      },
      "outputs": [],
      "source": [
        "### Select vectorization method"
      ]
    },
    {
      "cell_type": "code",
      "execution_count": 27,
      "metadata": {
        "tags": [],
        "id": "BvoLfZAe-ewo"
      },
      "outputs": [],
      "source": [
        "method = \"TF-IDF\"\n",
        "\n",
        "if method == \"Doc2Vec\":\n",
        "    input_features = features_tfidf_scores\n",
        "else:\n",
        "    input_features = features_doc2vec"
      ]
    },
    {
      "cell_type": "markdown",
      "metadata": {
        "id": "knk6FwWUsXP_"
      },
      "source": [
        "# Multi-class Classification"
      ]
    },
    {
      "cell_type": "code",
      "execution_count": 28,
      "metadata": {
        "tags": [],
        "id": "H_3sGEq_-ewo"
      },
      "outputs": [],
      "source": [
        "labels = class_corpus['Genre of Movie']"
      ]
    },
    {
      "cell_type": "code",
      "execution_count": 29,
      "metadata": {
        "id": "UZte2M1Qz6FY",
        "tags": [],
        "colab": {
          "base_uri": "https://localhost:8080/"
        },
        "outputId": "dd863065-27c8-48d9-daf8-818878bc0a64"
      },
      "outputs": [
        {
          "output_type": "execute_result",
          "data": {
            "text/plain": [
              "Action    50\n",
              "Comedy    50\n",
              "Horror    50\n",
              "Sci-Fi    50\n",
              "Name: Genre of Movie, dtype: int64"
            ]
          },
          "metadata": {},
          "execution_count": 29
        }
      ],
      "source": [
        "labels.value_counts()"
      ]
    },
    {
      "cell_type": "code",
      "execution_count": 30,
      "metadata": {
        "id": "L39d8XdKs5HQ",
        "tags": []
      },
      "outputs": [],
      "source": [
        "X_train, X_test, y_train, y_test = train_test_split(input_features, labels,\n",
        "                                                    test_size=0.3,\n",
        "                                                    random_state=20130810)"
      ]
    },
    {
      "cell_type": "markdown",
      "metadata": {
        "id": "7R3fBLIvXjqk"
      },
      "source": [
        "As an example, let us train a [support vector machine](https://scikit-learn.org/stable/modules/svm.html) with the default settings."
      ]
    },
    {
      "cell_type": "markdown",
      "metadata": {
        "tags": [],
        "id": "kQ0TdCE6-ewu"
      },
      "source": [
        "### Pipeline"
      ]
    },
    {
      "cell_type": "code",
      "execution_count": 31,
      "metadata": {
        "id": "bUxx5tfC-ewu"
      },
      "outputs": [],
      "source": [
        "# numerical transformer\n",
        "num_pipeline = Pipeline([\n",
        "        ('imputer', SimpleImputer(strategy=\"median\")),\n",
        "        ('scaler', MinMaxScaler()),\n",
        "    ])"
      ]
    },
    {
      "cell_type": "markdown",
      "metadata": {
        "tags": [],
        "id": "dE-FOMdX-ewu"
      },
      "source": [
        "### SVM"
      ]
    },
    {
      "cell_type": "code",
      "execution_count": 32,
      "metadata": {
        "tags": [],
        "id": "bAfIzBAs-ewu"
      },
      "outputs": [],
      "source": [
        "# SVM classfier\n",
        "svm_pipeline = Pipeline([\n",
        "        ('data', num_pipeline),\n",
        "        ('svm', SVC(random_state=42))\n",
        "    ])"
      ]
    },
    {
      "cell_type": "code",
      "execution_count": 33,
      "metadata": {
        "tags": [],
        "colab": {
          "base_uri": "https://localhost:8080/",
          "height": 208
        },
        "id": "NP-zwqP5-ewu",
        "outputId": "1990ad35-3b33-432a-99a4-dbb6f8c3ccc0"
      },
      "outputs": [
        {
          "output_type": "execute_result",
          "data": {
            "text/plain": [
              "GridSearchCV(cv=10,\n",
              "             estimator=Pipeline(steps=[('data',\n",
              "                                        Pipeline(steps=[('imputer',\n",
              "                                                         SimpleImputer(strategy='median')),\n",
              "                                                        ('scaler',\n",
              "                                                         MinMaxScaler())])),\n",
              "                                       ('svm', SVC(random_state=42))]),\n",
              "             n_jobs=-1,\n",
              "             param_grid={'svm__C': [0.01, 0.1, 1, 10, 100, 1000, 10000]})"
            ],
            "text/html": [
              "<style>#sk-container-id-1 {color: black;background-color: white;}#sk-container-id-1 pre{padding: 0;}#sk-container-id-1 div.sk-toggleable {background-color: white;}#sk-container-id-1 label.sk-toggleable__label {cursor: pointer;display: block;width: 100%;margin-bottom: 0;padding: 0.3em;box-sizing: border-box;text-align: center;}#sk-container-id-1 label.sk-toggleable__label-arrow:before {content: \"▸\";float: left;margin-right: 0.25em;color: #696969;}#sk-container-id-1 label.sk-toggleable__label-arrow:hover:before {color: black;}#sk-container-id-1 div.sk-estimator:hover label.sk-toggleable__label-arrow:before {color: black;}#sk-container-id-1 div.sk-toggleable__content {max-height: 0;max-width: 0;overflow: hidden;text-align: left;background-color: #f0f8ff;}#sk-container-id-1 div.sk-toggleable__content pre {margin: 0.2em;color: black;border-radius: 0.25em;background-color: #f0f8ff;}#sk-container-id-1 input.sk-toggleable__control:checked~div.sk-toggleable__content {max-height: 200px;max-width: 100%;overflow: auto;}#sk-container-id-1 input.sk-toggleable__control:checked~label.sk-toggleable__label-arrow:before {content: \"▾\";}#sk-container-id-1 div.sk-estimator input.sk-toggleable__control:checked~label.sk-toggleable__label {background-color: #d4ebff;}#sk-container-id-1 div.sk-label input.sk-toggleable__control:checked~label.sk-toggleable__label {background-color: #d4ebff;}#sk-container-id-1 input.sk-hidden--visually {border: 0;clip: rect(1px 1px 1px 1px);clip: rect(1px, 1px, 1px, 1px);height: 1px;margin: -1px;overflow: hidden;padding: 0;position: absolute;width: 1px;}#sk-container-id-1 div.sk-estimator {font-family: monospace;background-color: #f0f8ff;border: 1px dotted black;border-radius: 0.25em;box-sizing: border-box;margin-bottom: 0.5em;}#sk-container-id-1 div.sk-estimator:hover {background-color: #d4ebff;}#sk-container-id-1 div.sk-parallel-item::after {content: \"\";width: 100%;border-bottom: 1px solid gray;flex-grow: 1;}#sk-container-id-1 div.sk-label:hover label.sk-toggleable__label {background-color: #d4ebff;}#sk-container-id-1 div.sk-serial::before {content: \"\";position: absolute;border-left: 1px solid gray;box-sizing: border-box;top: 0;bottom: 0;left: 50%;z-index: 0;}#sk-container-id-1 div.sk-serial {display: flex;flex-direction: column;align-items: center;background-color: white;padding-right: 0.2em;padding-left: 0.2em;position: relative;}#sk-container-id-1 div.sk-item {position: relative;z-index: 1;}#sk-container-id-1 div.sk-parallel {display: flex;align-items: stretch;justify-content: center;background-color: white;position: relative;}#sk-container-id-1 div.sk-item::before, #sk-container-id-1 div.sk-parallel-item::before {content: \"\";position: absolute;border-left: 1px solid gray;box-sizing: border-box;top: 0;bottom: 0;left: 50%;z-index: -1;}#sk-container-id-1 div.sk-parallel-item {display: flex;flex-direction: column;z-index: 1;position: relative;background-color: white;}#sk-container-id-1 div.sk-parallel-item:first-child::after {align-self: flex-end;width: 50%;}#sk-container-id-1 div.sk-parallel-item:last-child::after {align-self: flex-start;width: 50%;}#sk-container-id-1 div.sk-parallel-item:only-child::after {width: 0;}#sk-container-id-1 div.sk-dashed-wrapped {border: 1px dashed gray;margin: 0 0.4em 0.5em 0.4em;box-sizing: border-box;padding-bottom: 0.4em;background-color: white;}#sk-container-id-1 div.sk-label label {font-family: monospace;font-weight: bold;display: inline-block;line-height: 1.2em;}#sk-container-id-1 div.sk-label-container {text-align: center;}#sk-container-id-1 div.sk-container {/* jupyter's `normalize.less` sets `[hidden] { display: none; }` but bootstrap.min.css set `[hidden] { display: none !important; }` so we also need the `!important` here to be able to override the default hidden behavior on the sphinx rendered scikit-learn.org. See: https://github.com/scikit-learn/scikit-learn/issues/21755 */display: inline-block !important;position: relative;}#sk-container-id-1 div.sk-text-repr-fallback {display: none;}</style><div id=\"sk-container-id-1\" class=\"sk-top-container\"><div class=\"sk-text-repr-fallback\"><pre>GridSearchCV(cv=10,\n",
              "             estimator=Pipeline(steps=[(&#x27;data&#x27;,\n",
              "                                        Pipeline(steps=[(&#x27;imputer&#x27;,\n",
              "                                                         SimpleImputer(strategy=&#x27;median&#x27;)),\n",
              "                                                        (&#x27;scaler&#x27;,\n",
              "                                                         MinMaxScaler())])),\n",
              "                                       (&#x27;svm&#x27;, SVC(random_state=42))]),\n",
              "             n_jobs=-1,\n",
              "             param_grid={&#x27;svm__C&#x27;: [0.01, 0.1, 1, 10, 100, 1000, 10000]})</pre><b>In a Jupyter environment, please rerun this cell to show the HTML representation or trust the notebook. <br />On GitHub, the HTML representation is unable to render, please try loading this page with nbviewer.org.</b></div><div class=\"sk-container\" hidden><div class=\"sk-item sk-dashed-wrapped\"><div class=\"sk-label-container\"><div class=\"sk-label sk-toggleable\"><input class=\"sk-toggleable__control sk-hidden--visually\" id=\"sk-estimator-id-1\" type=\"checkbox\" ><label for=\"sk-estimator-id-1\" class=\"sk-toggleable__label sk-toggleable__label-arrow\">GridSearchCV</label><div class=\"sk-toggleable__content\"><pre>GridSearchCV(cv=10,\n",
              "             estimator=Pipeline(steps=[(&#x27;data&#x27;,\n",
              "                                        Pipeline(steps=[(&#x27;imputer&#x27;,\n",
              "                                                         SimpleImputer(strategy=&#x27;median&#x27;)),\n",
              "                                                        (&#x27;scaler&#x27;,\n",
              "                                                         MinMaxScaler())])),\n",
              "                                       (&#x27;svm&#x27;, SVC(random_state=42))]),\n",
              "             n_jobs=-1,\n",
              "             param_grid={&#x27;svm__C&#x27;: [0.01, 0.1, 1, 10, 100, 1000, 10000]})</pre></div></div></div><div class=\"sk-parallel\"><div class=\"sk-parallel-item\"><div class=\"sk-item\"><div class=\"sk-label-container\"><div class=\"sk-label sk-toggleable\"><input class=\"sk-toggleable__control sk-hidden--visually\" id=\"sk-estimator-id-2\" type=\"checkbox\" ><label for=\"sk-estimator-id-2\" class=\"sk-toggleable__label sk-toggleable__label-arrow\">estimator: Pipeline</label><div class=\"sk-toggleable__content\"><pre>Pipeline(steps=[(&#x27;data&#x27;,\n",
              "                 Pipeline(steps=[(&#x27;imputer&#x27;, SimpleImputer(strategy=&#x27;median&#x27;)),\n",
              "                                 (&#x27;scaler&#x27;, MinMaxScaler())])),\n",
              "                (&#x27;svm&#x27;, SVC(random_state=42))])</pre></div></div></div><div class=\"sk-serial\"><div class=\"sk-item\"><div class=\"sk-serial\"><div class=\"sk-item\"><div class=\"sk-label-container\"><div class=\"sk-label sk-toggleable\"><input class=\"sk-toggleable__control sk-hidden--visually\" id=\"sk-estimator-id-3\" type=\"checkbox\" ><label for=\"sk-estimator-id-3\" class=\"sk-toggleable__label sk-toggleable__label-arrow\">data: Pipeline</label><div class=\"sk-toggleable__content\"><pre>Pipeline(steps=[(&#x27;imputer&#x27;, SimpleImputer(strategy=&#x27;median&#x27;)),\n",
              "                (&#x27;scaler&#x27;, MinMaxScaler())])</pre></div></div></div><div class=\"sk-serial\"><div class=\"sk-item\"><div class=\"sk-estimator sk-toggleable\"><input class=\"sk-toggleable__control sk-hidden--visually\" id=\"sk-estimator-id-4\" type=\"checkbox\" ><label for=\"sk-estimator-id-4\" class=\"sk-toggleable__label sk-toggleable__label-arrow\">SimpleImputer</label><div class=\"sk-toggleable__content\"><pre>SimpleImputer(strategy=&#x27;median&#x27;)</pre></div></div></div><div class=\"sk-item\"><div class=\"sk-estimator sk-toggleable\"><input class=\"sk-toggleable__control sk-hidden--visually\" id=\"sk-estimator-id-5\" type=\"checkbox\" ><label for=\"sk-estimator-id-5\" class=\"sk-toggleable__label sk-toggleable__label-arrow\">MinMaxScaler</label><div class=\"sk-toggleable__content\"><pre>MinMaxScaler()</pre></div></div></div></div></div><div class=\"sk-item\"><div class=\"sk-estimator sk-toggleable\"><input class=\"sk-toggleable__control sk-hidden--visually\" id=\"sk-estimator-id-6\" type=\"checkbox\" ><label for=\"sk-estimator-id-6\" class=\"sk-toggleable__label sk-toggleable__label-arrow\">SVC</label><div class=\"sk-toggleable__content\"><pre>SVC(random_state=42)</pre></div></div></div></div></div></div></div></div></div></div></div></div>"
            ]
          },
          "metadata": {},
          "execution_count": 33
        }
      ],
      "source": [
        "# Grid search validation for SVM classifier\n",
        "params_svm = {\n",
        "                'svm__C' : [0.01, 0.1, 1, 10, 100, 1000, 10000],\n",
        "            }\n",
        "\n",
        "gs_svm = GridSearchCV(svm_pipeline, params_svm, n_jobs=-1, cv=10)\n",
        "\n",
        "gs_svm.fit(X_train, y_train.values.ravel())"
      ]
    },
    {
      "cell_type": "code",
      "execution_count": 34,
      "metadata": {
        "tags": [],
        "colab": {
          "base_uri": "https://localhost:8080/"
        },
        "id": "osbMnkmE-ewv",
        "outputId": "c628bf0c-f755-418b-ca32-82a25829b696"
      },
      "outputs": [
        {
          "output_type": "stream",
          "name": "stdout",
          "text": [
            "Best Hyperparameter: {'svm__C': 10}\n"
          ]
        }
      ],
      "source": [
        "print(f\"Best Hyperparameter: {gs_svm.best_params_}\")"
      ]
    },
    {
      "cell_type": "code",
      "execution_count": 35,
      "metadata": {
        "tags": [],
        "id": "GUho0bc0-ewv"
      },
      "outputs": [],
      "source": [
        "y_pred = gs_svm.predict(X_test)"
      ]
    },
    {
      "cell_type": "code",
      "execution_count": 36,
      "metadata": {
        "tags": [],
        "colab": {
          "base_uri": "https://localhost:8080/",
          "height": 415
        },
        "id": "-M_-UOAe-ewv",
        "outputId": "0280f044-db0b-4fe9-ce46-20ed59808da7"
      },
      "outputs": [
        {
          "output_type": "stream",
          "name": "stdout",
          "text": [
            "              precision    recall  f1-score   support\n",
            "\n",
            "      Action       0.62      0.81      0.70        16\n",
            "      Comedy       1.00      0.73      0.85        15\n",
            "      Horror       0.80      0.80      0.80        15\n",
            "      Sci-Fi       0.54      0.50      0.52        14\n",
            "\n",
            "    accuracy                           0.72        60\n",
            "   macro avg       0.74      0.71      0.72        60\n",
            "weighted avg       0.74      0.72      0.72        60\n",
            "\n"
          ]
        },
        {
          "output_type": "display_data",
          "data": {
            "text/plain": [
              "<Figure size 200x150 with 2 Axes>"
            ],
            "image/png": "[encoded data removed]"
          },
          "metadata": {}
        }
      ],
      "source": [
        "show_classification_metics(y_test, y_pred, gs_svm)"
      ]
    },
    {
      "cell_type": "markdown",
      "metadata": {
        "id": "GbEjzGPD-eww"
      },
      "source": [
        "### Random Forest Classifier"
      ]
    },
    {
      "cell_type": "code",
      "execution_count": 37,
      "metadata": {
        "id": "5Hjg8IqE-ewx"
      },
      "outputs": [],
      "source": [
        "# random forest classifier\n",
        "rf_pipeline = Pipeline([\n",
        "        ('data', num_pipeline),\n",
        "        ('rf', RandomForestClassifier(random_state=42))\n",
        "    ])"
      ]
    },
    {
      "cell_type": "code",
      "execution_count": 38,
      "metadata": {
        "tags": [],
        "colab": {
          "base_uri": "https://localhost:8080/",
          "height": 208
        },
        "id": "ql9drXiI-ewx",
        "outputId": "7af38fe7-c951-4445-a0ef-21a6a8779630"
      },
      "outputs": [
        {
          "output_type": "execute_result",
          "data": {
            "text/plain": [
              "GridSearchCV(cv=10,\n",
              "             estimator=Pipeline(steps=[('data',\n",
              "                                        Pipeline(steps=[('imputer',\n",
              "                                                         SimpleImputer(strategy='median')),\n",
              "                                                        ('scaler',\n",
              "                                                         MinMaxScaler())])),\n",
              "                                       ('rf',\n",
              "                                        RandomForestClassifier(random_state=42))]),\n",
              "             n_jobs=-1,\n",
              "             param_grid={'rf__criterion': ['gini', 'entropy'],\n",
              "                         'rf__max_depth': [5, 6, 7, 8, 9],\n",
              "                         'rf__max_leaf_nodes': [10, 12, 14, 16, 18],\n",
              "                         'rf__n_estimators': [1, 2, 10, 20, 50, 100]})"
            ],
            "text/html": [
              "<style>#sk-container-id-2 {color: black;background-color: white;}#sk-container-id-2 pre{padding: 0;}#sk-container-id-2 div.sk-toggleable {background-color: white;}#sk-container-id-2 label.sk-toggleable__label {cursor: pointer;display: block;width: 100%;margin-bottom: 0;padding: 0.3em;box-sizing: border-box;text-align: center;}#sk-container-id-2 label.sk-toggleable__label-arrow:before {content: \"▸\";float: left;margin-right: 0.25em;color: #696969;}#sk-container-id-2 label.sk-toggleable__label-arrow:hover:before {color: black;}#sk-container-id-2 div.sk-estimator:hover label.sk-toggleable__label-arrow:before {color: black;}#sk-container-id-2 div.sk-toggleable__content {max-height: 0;max-width: 0;overflow: hidden;text-align: left;background-color: #f0f8ff;}#sk-container-id-2 div.sk-toggleable__content pre {margin: 0.2em;color: black;border-radius: 0.25em;background-color: #f0f8ff;}#sk-container-id-2 input.sk-toggleable__control:checked~div.sk-toggleable__content {max-height: 200px;max-width: 100%;overflow: auto;}#sk-container-id-2 input.sk-toggleable__control:checked~label.sk-toggleable__label-arrow:before {content: \"▾\";}#sk-container-id-2 div.sk-estimator input.sk-toggleable__control:checked~label.sk-toggleable__label {background-color: #d4ebff;}#sk-container-id-2 div.sk-label input.sk-toggleable__control:checked~label.sk-toggleable__label {background-color: #d4ebff;}#sk-container-id-2 input.sk-hidden--visually {border: 0;clip: rect(1px 1px 1px 1px);clip: rect(1px, 1px, 1px, 1px);height: 1px;margin: -1px;overflow: hidden;padding: 0;position: absolute;width: 1px;}#sk-container-id-2 div.sk-estimator {font-family: monospace;background-color: #f0f8ff;border: 1px dotted black;border-radius: 0.25em;box-sizing: border-box;margin-bottom: 0.5em;}#sk-container-id-2 div.sk-estimator:hover {background-color: #d4ebff;}#sk-container-id-2 div.sk-parallel-item::after {content: \"\";width: 100%;border-bottom: 1px solid gray;flex-grow: 1;}#sk-container-id-2 div.sk-label:hover label.sk-toggleable__label {background-color: #d4ebff;}#sk-container-id-2 div.sk-serial::before {content: \"\";position: absolute;border-left: 1px solid gray;box-sizing: border-box;top: 0;bottom: 0;left: 50%;z-index: 0;}#sk-container-id-2 div.sk-serial {display: flex;flex-direction: column;align-items: center;background-color: white;padding-right: 0.2em;padding-left: 0.2em;position: relative;}#sk-container-id-2 div.sk-item {position: relative;z-index: 1;}#sk-container-id-2 div.sk-parallel {display: flex;align-items: stretch;justify-content: center;background-color: white;position: relative;}#sk-container-id-2 div.sk-item::before, #sk-container-id-2 div.sk-parallel-item::before {content: \"\";position: absolute;border-left: 1px solid gray;box-sizing: border-box;top: 0;bottom: 0;left: 50%;z-index: -1;}#sk-container-id-2 div.sk-parallel-item {display: flex;flex-direction: column;z-index: 1;position: relative;background-color: white;}#sk-container-id-2 div.sk-parallel-item:first-child::after {align-self: flex-end;width: 50%;}#sk-container-id-2 div.sk-parallel-item:last-child::after {align-self: flex-start;width: 50%;}#sk-container-id-2 div.sk-parallel-item:only-child::after {width: 0;}#sk-container-id-2 div.sk-dashed-wrapped {border: 1px dashed gray;margin: 0 0.4em 0.5em 0.4em;box-sizing: border-box;padding-bottom: 0.4em;background-color: white;}#sk-container-id-2 div.sk-label label {font-family: monospace;font-weight: bold;display: inline-block;line-height: 1.2em;}#sk-container-id-2 div.sk-label-container {text-align: center;}#sk-container-id-2 div.sk-container {/* jupyter's `normalize.less` sets `[hidden] { display: none; }` but bootstrap.min.css set `[hidden] { display: none !important; }` so we also need the `!important` here to be able to override the default hidden behavior on the sphinx rendered scikit-learn.org. See: https://github.com/scikit-learn/scikit-learn/issues/21755 */display: inline-block !important;position: relative;}#sk-container-id-2 div.sk-text-repr-fallback {display: none;}</style><div id=\"sk-container-id-2\" class=\"sk-top-container\"><div class=\"sk-text-repr-fallback\"><pre>GridSearchCV(cv=10,\n",
              "             estimator=Pipeline(steps=[(&#x27;data&#x27;,\n",
              "                                        Pipeline(steps=[(&#x27;imputer&#x27;,\n",
              "                                                         SimpleImputer(strategy=&#x27;median&#x27;)),\n",
              "                                                        (&#x27;scaler&#x27;,\n",
              "                                                         MinMaxScaler())])),\n",
              "                                       (&#x27;rf&#x27;,\n",
              "                                        RandomForestClassifier(random_state=42))]),\n",
              "             n_jobs=-1,\n",
              "             param_grid={&#x27;rf__criterion&#x27;: [&#x27;gini&#x27;, &#x27;entropy&#x27;],\n",
              "                         &#x27;rf__max_depth&#x27;: [5, 6, 7, 8, 9],\n",
              "                         &#x27;rf__max_leaf_nodes&#x27;: [10, 12, 14, 16, 18],\n",
              "                         &#x27;rf__n_estimators&#x27;: [1, 2, 10, 20, 50, 100]})</pre><b>In a Jupyter environment, please rerun this cell to show the HTML representation or trust the notebook. <br />On GitHub, the HTML representation is unable to render, please try loading this page with nbviewer.org.</b></div><div class=\"sk-container\" hidden><div class=\"sk-item sk-dashed-wrapped\"><div class=\"sk-label-container\"><div class=\"sk-label sk-toggleable\"><input class=\"sk-toggleable__control sk-hidden--visually\" id=\"sk-estimator-id-7\" type=\"checkbox\" ><label for=\"sk-estimator-id-7\" class=\"sk-toggleable__label sk-toggleable__label-arrow\">GridSearchCV</label><div class=\"sk-toggleable__content\"><pre>GridSearchCV(cv=10,\n",
              "             estimator=Pipeline(steps=[(&#x27;data&#x27;,\n",
              "                                        Pipeline(steps=[(&#x27;imputer&#x27;,\n",
              "                                                         SimpleImputer(strategy=&#x27;median&#x27;)),\n",
              "                                                        (&#x27;scaler&#x27;,\n",
              "                                                         MinMaxScaler())])),\n",
              "                                       (&#x27;rf&#x27;,\n",
              "                                        RandomForestClassifier(random_state=42))]),\n",
              "             n_jobs=-1,\n",
              "             param_grid={&#x27;rf__criterion&#x27;: [&#x27;gini&#x27;, &#x27;entropy&#x27;],\n",
              "                         &#x27;rf__max_depth&#x27;: [5, 6, 7, 8, 9],\n",
              "                         &#x27;rf__max_leaf_nodes&#x27;: [10, 12, 14, 16, 18],\n",
              "                         &#x27;rf__n_estimators&#x27;: [1, 2, 10, 20, 50, 100]})</pre></div></div></div><div class=\"sk-parallel\"><div class=\"sk-parallel-item\"><div class=\"sk-item\"><div class=\"sk-label-container\"><div class=\"sk-label sk-toggleable\"><input class=\"sk-toggleable__control sk-hidden--visually\" id=\"sk-estimator-id-8\" type=\"checkbox\" ><label for=\"sk-estimator-id-8\" class=\"sk-toggleable__label sk-toggleable__label-arrow\">estimator: Pipeline</label><div class=\"sk-toggleable__content\"><pre>Pipeline(steps=[(&#x27;data&#x27;,\n",
              "                 Pipeline(steps=[(&#x27;imputer&#x27;, SimpleImputer(strategy=&#x27;median&#x27;)),\n",
              "                                 (&#x27;scaler&#x27;, MinMaxScaler())])),\n",
              "                (&#x27;rf&#x27;, RandomForestClassifier(random_state=42))])</pre></div></div></div><div class=\"sk-serial\"><div class=\"sk-item\"><div class=\"sk-serial\"><div class=\"sk-item\"><div class=\"sk-label-container\"><div class=\"sk-label sk-toggleable\"><input class=\"sk-toggleable__control sk-hidden--visually\" id=\"sk-estimator-id-9\" type=\"checkbox\" ><label for=\"sk-estimator-id-9\" class=\"sk-toggleable__label sk-toggleable__label-arrow\">data: Pipeline</label><div class=\"sk-toggleable__content\"><pre>Pipeline(steps=[(&#x27;imputer&#x27;, SimpleImputer(strategy=&#x27;median&#x27;)),\n",
              "                (&#x27;scaler&#x27;, MinMaxScaler())])</pre></div></div></div><div class=\"sk-serial\"><div class=\"sk-item\"><div class=\"sk-estimator sk-toggleable\"><input class=\"sk-toggleable__control sk-hidden--visually\" id=\"sk-estimator-id-10\" type=\"checkbox\" ><label for=\"sk-estimator-id-10\" class=\"sk-toggleable__label sk-toggleable__label-arrow\">SimpleImputer</label><div class=\"sk-toggleable__content\"><pre>SimpleImputer(strategy=&#x27;median&#x27;)</pre></div></div></div><div class=\"sk-item\"><div class=\"sk-estimator sk-toggleable\"><input class=\"sk-toggleable__control sk-hidden--visually\" id=\"sk-estimator-id-11\" type=\"checkbox\" ><label for=\"sk-estimator-id-11\" class=\"sk-toggleable__label sk-toggleable__label-arrow\">MinMaxScaler</label><div class=\"sk-toggleable__content\"><pre>MinMaxScaler()</pre></div></div></div></div></div><div class=\"sk-item\"><div class=\"sk-estimator sk-toggleable\"><input class=\"sk-toggleable__control sk-hidden--visually\" id=\"sk-estimator-id-12\" type=\"checkbox\" ><label for=\"sk-estimator-id-12\" class=\"sk-toggleable__label sk-toggleable__label-arrow\">RandomForestClassifier</label><div class=\"sk-toggleable__content\"><pre>RandomForestClassifier(random_state=42)</pre></div></div></div></div></div></div></div></div></div></div></div></div>"
            ]
          },
          "metadata": {},
          "execution_count": 38
        }
      ],
      "source": [
        "# Grid search validation for forest classifier\n",
        "params_rf = {\n",
        "                'rf__n_estimators' : [1, 2, 10, 20, 50, 100],\n",
        "                'rf__max_leaf_nodes': list(range(10,20,2)),\n",
        "                'rf__criterion': ['gini','entropy'],\n",
        "                'rf__max_depth': list(range(5,10,1)),\n",
        "            }\n",
        "\n",
        "gs_rf = GridSearchCV(rf_pipeline, params_rf, n_jobs=-1, cv=10)\n",
        "\n",
        "gs_rf.fit(X_train, y_train.values.ravel())"
      ]
    },
    {
      "cell_type": "code",
      "execution_count": 39,
      "metadata": {
        "tags": [],
        "colab": {
          "base_uri": "https://localhost:8080/"
        },
        "id": "x6BTCM2I-ewx",
        "outputId": "83d1fbf5-a17b-40ad-f488-36bd41f86e30"
      },
      "outputs": [
        {
          "output_type": "stream",
          "name": "stdout",
          "text": [
            "Best Hyperparameter: {'rf__criterion': 'gini', 'rf__max_depth': 8, 'rf__max_leaf_nodes': 14, 'rf__n_estimators': 50}\n"
          ]
        }
      ],
      "source": [
        "print(f\"Best Hyperparameter: {gs_rf.best_params_}\")"
      ]
    },
    {
      "cell_type": "code",
      "execution_count": 40,
      "metadata": {
        "tags": [],
        "id": "ePETllQF-ewx"
      },
      "outputs": [],
      "source": [
        "y_pred = gs_rf.predict(X_test)"
      ]
    },
    {
      "cell_type": "code",
      "execution_count": 41,
      "metadata": {
        "tags": [],
        "colab": {
          "base_uri": "https://localhost:8080/",
          "height": 415
        },
        "id": "J1xKgJXO-ewy",
        "outputId": "50665bf9-8222-4301-e25a-fad9d7ac9cc2"
      },
      "outputs": [
        {
          "output_type": "stream",
          "name": "stdout",
          "text": [
            "              precision    recall  f1-score   support\n",
            "\n",
            "      Action       0.41      0.56      0.47        16\n",
            "      Comedy       0.47      0.47      0.47        15\n",
            "      Horror       0.67      0.27      0.38        15\n",
            "      Sci-Fi       0.24      0.29      0.26        14\n",
            "\n",
            "    accuracy                           0.40        60\n",
            "   macro avg       0.44      0.40      0.39        60\n",
            "weighted avg       0.45      0.40      0.40        60\n",
            "\n"
          ]
        },
        {
          "output_type": "display_data",
          "data": {
            "text/plain": [
              "<Figure size 200x150 with 2 Axes>"
            ],
            "image/png": "[encoded data removed]"
          },
          "metadata": {}
        }
      ],
      "source": [
        "show_classification_metics(y_test, y_pred, gs_rf)"
      ]
    },
    {
      "cell_type": "markdown",
      "metadata": {
        "id": "pIHSrRux-ewy"
      },
      "source": [
        "### Logistic Regression"
      ]
    },
    {
      "cell_type": "code",
      "execution_count": 42,
      "metadata": {
        "tags": [],
        "id": "Xs8G3J2K-ewy"
      },
      "outputs": [],
      "source": [
        "# logistic regression\n",
        "logistic_pipeline = Pipeline([\n",
        "        ('data', num_pipeline),\n",
        "        ('logistic', LogisticRegression(max_iter=10000, random_state=42))\n",
        "    ])"
      ]
    },
    {
      "cell_type": "code",
      "execution_count": 43,
      "metadata": {
        "colab": {
          "base_uri": "https://localhost:8080/",
          "height": 208
        },
        "id": "A82PTSo5-ewy",
        "outputId": "c66b7e0c-2dc5-488d-85d5-38a79a40342d"
      },
      "outputs": [
        {
          "output_type": "execute_result",
          "data": {
            "text/plain": [
              "GridSearchCV(cv=10,\n",
              "             estimator=Pipeline(steps=[('data',\n",
              "                                        Pipeline(steps=[('imputer',\n",
              "                                                         SimpleImputer(strategy='median')),\n",
              "                                                        ('scaler',\n",
              "                                                         MinMaxScaler())])),\n",
              "                                       ('logistic',\n",
              "                                        LogisticRegression(max_iter=10000,\n",
              "                                                           random_state=42))]),\n",
              "             n_jobs=-1,\n",
              "             param_grid={'logistic__C': array([1.e-03, 1.e-02, 1.e-01, 1.e+00, 1.e+01, 1.e+02, 1.e+03]),\n",
              "                         'logistic__penalty': ['l1', 'l2'],\n",
              "                         'logistic__solver': ['liblinear', 'saga']})"
            ],
            "text/html": [
              "<style>#sk-container-id-3 {color: black;background-color: white;}#sk-container-id-3 pre{padding: 0;}#sk-container-id-3 div.sk-toggleable {background-color: white;}#sk-container-id-3 label.sk-toggleable__label {cursor: pointer;display: block;width: 100%;margin-bottom: 0;padding: 0.3em;box-sizing: border-box;text-align: center;}#sk-container-id-3 label.sk-toggleable__label-arrow:before {content: \"▸\";float: left;margin-right: 0.25em;color: #696969;}#sk-container-id-3 label.sk-toggleable__label-arrow:hover:before {color: black;}#sk-container-id-3 div.sk-estimator:hover label.sk-toggleable__label-arrow:before {color: black;}#sk-container-id-3 div.sk-toggleable__content {max-height: 0;max-width: 0;overflow: hidden;text-align: left;background-color: #f0f8ff;}#sk-container-id-3 div.sk-toggleable__content pre {margin: 0.2em;color: black;border-radius: 0.25em;background-color: #f0f8ff;}#sk-container-id-3 input.sk-toggleable__control:checked~div.sk-toggleable__content {max-height: 200px;max-width: 100%;overflow: auto;}#sk-container-id-3 input.sk-toggleable__control:checked~label.sk-toggleable__label-arrow:before {content: \"▾\";}#sk-container-id-3 div.sk-estimator input.sk-toggleable__control:checked~label.sk-toggleable__label {background-color: #d4ebff;}#sk-container-id-3 div.sk-label input.sk-toggleable__control:checked~label.sk-toggleable__label {background-color: #d4ebff;}#sk-container-id-3 input.sk-hidden--visually {border: 0;clip: rect(1px 1px 1px 1px);clip: rect(1px, 1px, 1px, 1px);height: 1px;margin: -1px;overflow: hidden;padding: 0;position: absolute;width: 1px;}#sk-container-id-3 div.sk-estimator {font-family: monospace;background-color: #f0f8ff;border: 1px dotted black;border-radius: 0.25em;box-sizing: border-box;margin-bottom: 0.5em;}#sk-container-id-3 div.sk-estimator:hover {background-color: #d4ebff;}#sk-container-id-3 div.sk-parallel-item::after {content: \"\";width: 100%;border-bottom: 1px solid gray;flex-grow: 1;}#sk-container-id-3 div.sk-label:hover label.sk-toggleable__label {background-color: #d4ebff;}#sk-container-id-3 div.sk-serial::before {content: \"\";position: absolute;border-left: 1px solid gray;box-sizing: border-box;top: 0;bottom: 0;left: 50%;z-index: 0;}#sk-container-id-3 div.sk-serial {display: flex;flex-direction: column;align-items: center;background-color: white;padding-right: 0.2em;padding-left: 0.2em;position: relative;}#sk-container-id-3 div.sk-item {position: relative;z-index: 1;}#sk-container-id-3 div.sk-parallel {display: flex;align-items: stretch;justify-content: center;background-color: white;position: relative;}#sk-container-id-3 div.sk-item::before, #sk-container-id-3 div.sk-parallel-item::before {content: \"\";position: absolute;border-left: 1px solid gray;box-sizing: border-box;top: 0;bottom: 0;left: 50%;z-index: -1;}#sk-container-id-3 div.sk-parallel-item {display: flex;flex-direction: column;z-index: 1;position: relative;background-color: white;}#sk-container-id-3 div.sk-parallel-item:first-child::after {align-self: flex-end;width: 50%;}#sk-container-id-3 div.sk-parallel-item:last-child::after {align-self: flex-start;width: 50%;}#sk-container-id-3 div.sk-parallel-item:only-child::after {width: 0;}#sk-container-id-3 div.sk-dashed-wrapped {border: 1px dashed gray;margin: 0 0.4em 0.5em 0.4em;box-sizing: border-box;padding-bottom: 0.4em;background-color: white;}#sk-container-id-3 div.sk-label label {font-family: monospace;font-weight: bold;display: inline-block;line-height: 1.2em;}#sk-container-id-3 div.sk-label-container {text-align: center;}#sk-container-id-3 div.sk-container {/* jupyter's `normalize.less` sets `[hidden] { display: none; }` but bootstrap.min.css set `[hidden] { display: none !important; }` so we also need the `!important` here to be able to override the default hidden behavior on the sphinx rendered scikit-learn.org. See: https://github.com/scikit-learn/scikit-learn/issues/21755 */display: inline-block !important;position: relative;}#sk-container-id-3 div.sk-text-repr-fallback {display: none;}</style><div id=\"sk-container-id-3\" class=\"sk-top-container\"><div class=\"sk-text-repr-fallback\"><pre>GridSearchCV(cv=10,\n",
              "             estimator=Pipeline(steps=[(&#x27;data&#x27;,\n",
              "                                        Pipeline(steps=[(&#x27;imputer&#x27;,\n",
              "                                                         SimpleImputer(strategy=&#x27;median&#x27;)),\n",
              "                                                        (&#x27;scaler&#x27;,\n",
              "                                                         MinMaxScaler())])),\n",
              "                                       (&#x27;logistic&#x27;,\n",
              "                                        LogisticRegression(max_iter=10000,\n",
              "                                                           random_state=42))]),\n",
              "             n_jobs=-1,\n",
              "             param_grid={&#x27;logistic__C&#x27;: array([1.e-03, 1.e-02, 1.e-01, 1.e+00, 1.e+01, 1.e+02, 1.e+03]),\n",
              "                         &#x27;logistic__penalty&#x27;: [&#x27;l1&#x27;, &#x27;l2&#x27;],\n",
              "                         &#x27;logistic__solver&#x27;: [&#x27;liblinear&#x27;, &#x27;saga&#x27;]})</pre><b>In a Jupyter environment, please rerun this cell to show the HTML representation or trust the notebook. <br />On GitHub, the HTML representation is unable to render, please try loading this page with nbviewer.org.</b></div><div class=\"sk-container\" hidden><div class=\"sk-item sk-dashed-wrapped\"><div class=\"sk-label-container\"><div class=\"sk-label sk-toggleable\"><input class=\"sk-toggleable__control sk-hidden--visually\" id=\"sk-estimator-id-13\" type=\"checkbox\" ><label for=\"sk-estimator-id-13\" class=\"sk-toggleable__label sk-toggleable__label-arrow\">GridSearchCV</label><div class=\"sk-toggleable__content\"><pre>GridSearchCV(cv=10,\n",
              "             estimator=Pipeline(steps=[(&#x27;data&#x27;,\n",
              "                                        Pipeline(steps=[(&#x27;imputer&#x27;,\n",
              "                                                         SimpleImputer(strategy=&#x27;median&#x27;)),\n",
              "                                                        (&#x27;scaler&#x27;,\n",
              "                                                         MinMaxScaler())])),\n",
              "                                       (&#x27;logistic&#x27;,\n",
              "                                        LogisticRegression(max_iter=10000,\n",
              "                                                           random_state=42))]),\n",
              "             n_jobs=-1,\n",
              "             param_grid={&#x27;logistic__C&#x27;: array([1.e-03, 1.e-02, 1.e-01, 1.e+00, 1.e+01, 1.e+02, 1.e+03]),\n",
              "                         &#x27;logistic__penalty&#x27;: [&#x27;l1&#x27;, &#x27;l2&#x27;],\n",
              "                         &#x27;logistic__solver&#x27;: [&#x27;liblinear&#x27;, &#x27;saga&#x27;]})</pre></div></div></div><div class=\"sk-parallel\"><div class=\"sk-parallel-item\"><div class=\"sk-item\"><div class=\"sk-label-container\"><div class=\"sk-label sk-toggleable\"><input class=\"sk-toggleable__control sk-hidden--visually\" id=\"sk-estimator-id-14\" type=\"checkbox\" ><label for=\"sk-estimator-id-14\" class=\"sk-toggleable__label sk-toggleable__label-arrow\">estimator: Pipeline</label><div class=\"sk-toggleable__content\"><pre>Pipeline(steps=[(&#x27;data&#x27;,\n",
              "                 Pipeline(steps=[(&#x27;imputer&#x27;, SimpleImputer(strategy=&#x27;median&#x27;)),\n",
              "                                 (&#x27;scaler&#x27;, MinMaxScaler())])),\n",
              "                (&#x27;logistic&#x27;,\n",
              "                 LogisticRegression(max_iter=10000, random_state=42))])</pre></div></div></div><div class=\"sk-serial\"><div class=\"sk-item\"><div class=\"sk-serial\"><div class=\"sk-item\"><div class=\"sk-label-container\"><div class=\"sk-label sk-toggleable\"><input class=\"sk-toggleable__control sk-hidden--visually\" id=\"sk-estimator-id-15\" type=\"checkbox\" ><label for=\"sk-estimator-id-15\" class=\"sk-toggleable__label sk-toggleable__label-arrow\">data: Pipeline</label><div class=\"sk-toggleable__content\"><pre>Pipeline(steps=[(&#x27;imputer&#x27;, SimpleImputer(strategy=&#x27;median&#x27;)),\n",
              "                (&#x27;scaler&#x27;, MinMaxScaler())])</pre></div></div></div><div class=\"sk-serial\"><div class=\"sk-item\"><div class=\"sk-estimator sk-toggleable\"><input class=\"sk-toggleable__control sk-hidden--visually\" id=\"sk-estimator-id-16\" type=\"checkbox\" ><label for=\"sk-estimator-id-16\" class=\"sk-toggleable__label sk-toggleable__label-arrow\">SimpleImputer</label><div class=\"sk-toggleable__content\"><pre>SimpleImputer(strategy=&#x27;median&#x27;)</pre></div></div></div><div class=\"sk-item\"><div class=\"sk-estimator sk-toggleable\"><input class=\"sk-toggleable__control sk-hidden--visually\" id=\"sk-estimator-id-17\" type=\"checkbox\" ><label for=\"sk-estimator-id-17\" class=\"sk-toggleable__label sk-toggleable__label-arrow\">MinMaxScaler</label><div class=\"sk-toggleable__content\"><pre>MinMaxScaler()</pre></div></div></div></div></div><div class=\"sk-item\"><div class=\"sk-estimator sk-toggleable\"><input class=\"sk-toggleable__control sk-hidden--visually\" id=\"sk-estimator-id-18\" type=\"checkbox\" ><label for=\"sk-estimator-id-18\" class=\"sk-toggleable__label sk-toggleable__label-arrow\">LogisticRegression</label><div class=\"sk-toggleable__content\"><pre>LogisticRegression(max_iter=10000, random_state=42)</pre></div></div></div></div></div></div></div></div></div></div></div></div>"
            ]
          },
          "metadata": {},
          "execution_count": 43
        }
      ],
      "source": [
        "# Grid search validation for logistic regression\n",
        "params_logistic = {'logistic__C' : np.logspace(-3,3,7),\n",
        "                 'logistic__penalty': ['l1','l2'],\n",
        "                  'logistic__solver': ['liblinear','saga']}\n",
        "\n",
        "gs_logistic = GridSearchCV(logistic_pipeline, params_logistic, n_jobs=-1, cv=10)\n",
        "\n",
        "gs_logistic.fit(X_train, y_train.values.ravel())"
      ]
    },
    {
      "cell_type": "code",
      "execution_count": 44,
      "metadata": {
        "colab": {
          "base_uri": "https://localhost:8080/"
        },
        "id": "hOlnJXBc-ewy",
        "outputId": "d80e8c6b-b60c-43b3-fab4-cbb4a867887e"
      },
      "outputs": [
        {
          "output_type": "stream",
          "name": "stdout",
          "text": [
            "Best Hyperparameter: {'logistic__C': 1000.0, 'logistic__penalty': 'l1', 'logistic__solver': 'liblinear'}\n"
          ]
        }
      ],
      "source": [
        "print(f\"Best Hyperparameter: {gs_logistic.best_params_}\")"
      ]
    },
    {
      "cell_type": "code",
      "execution_count": 45,
      "metadata": {
        "id": "doZwiQN2-ewz"
      },
      "outputs": [],
      "source": [
        "y_pred = gs_rf.predict(X_test)"
      ]
    },
    {
      "cell_type": "code",
      "execution_count": 46,
      "metadata": {
        "colab": {
          "base_uri": "https://localhost:8080/",
          "height": 415
        },
        "id": "i8yqVbyd-ewz",
        "outputId": "5e3b50f5-93fb-47ab-ab38-3297373a0ab1"
      },
      "outputs": [
        {
          "output_type": "stream",
          "name": "stdout",
          "text": [
            "              precision    recall  f1-score   support\n",
            "\n",
            "      Action       0.41      0.56      0.47        16\n",
            "      Comedy       0.47      0.47      0.47        15\n",
            "      Horror       0.67      0.27      0.38        15\n",
            "      Sci-Fi       0.24      0.29      0.26        14\n",
            "\n",
            "    accuracy                           0.40        60\n",
            "   macro avg       0.44      0.40      0.39        60\n",
            "weighted avg       0.45      0.40      0.40        60\n",
            "\n"
          ]
        },
        {
          "output_type": "display_data",
          "data": {
            "text/plain": [
              "<Figure size 200x150 with 2 Axes>"
            ],
            "image/png": "[encoded data removed]"
          },
          "metadata": {}
        }
      ],
      "source": [
        "show_classification_metics(y_test, y_pred, gs_logistic)"
      ]
    },
    {
      "cell_type": "markdown",
      "metadata": {
        "tags": [],
        "id": "06mud5RH-ewz"
      },
      "source": [
        "### Gradient Boosted Trees"
      ]
    },
    {
      "cell_type": "code",
      "execution_count": 47,
      "metadata": {
        "tags": [],
        "id": "K37tLj8Q-ew0"
      },
      "outputs": [],
      "source": [
        "# Gradient boosted trees\n",
        "xgb_pipeline = Pipeline([\n",
        "        ('data', num_pipeline),\n",
        "        ('xgb', xgb.XGBClassifier(use_label_encoder = True, eval_metric = 'aucpr',seed = 42))\n",
        "    ])"
      ]
    },
    {
      "cell_type": "code",
      "execution_count": 48,
      "metadata": {
        "tags": [],
        "id": "NkDSSUfZ-ew0"
      },
      "outputs": [],
      "source": [
        "from sklearn.preprocessing import LabelEncoder\n",
        "le = LabelEncoder()\n",
        "y_train_le = le.fit_transform(y_train)"
      ]
    },
    {
      "cell_type": "code",
      "execution_count": 49,
      "metadata": {
        "tags": [],
        "colab": {
          "base_uri": "https://localhost:8080/",
          "height": 208
        },
        "id": "PjSFaf9U-ew0",
        "outputId": "5cccfbad-977e-4064-9cee-ab6d7d79d95a"
      },
      "outputs": [
        {
          "output_type": "execute_result",
          "data": {
            "text/plain": [
              "GridSearchCV(cv=10,\n",
              "             estimator=Pipeline(steps=[('data',\n",
              "                                        Pipeline(steps=[('imputer',\n",
              "                                                         SimpleImputer(strategy='median')),\n",
              "                                                        ('scaler',\n",
              "                                                         MinMaxScaler())])),\n",
              "                                       ('xgb',\n",
              "                                        XGBClassifier(base_score=None,\n",
              "                                                      booster=None,\n",
              "                                                      callbacks=None,\n",
              "                                                      colsample_bylevel=None,\n",
              "                                                      colsample_bynode=None,\n",
              "                                                      colsample_bytree=None,\n",
              "                                                      device=None,\n",
              "                                                      early_stopping_rounds=None,\n",
              "                                                      enable_categorical=False,\n",
              "                                                      eval_metric...\n",
              "                                                      learning_rate=None,\n",
              "                                                      max_bin=None,\n",
              "                                                      max_cat_threshold=None,\n",
              "                                                      max_cat_to_onehot=None,\n",
              "                                                      max_delta_step=None,\n",
              "                                                      max_depth=None,\n",
              "                                                      max_leaves=None,\n",
              "                                                      min_child_weight=None,\n",
              "                                                      missing=nan,\n",
              "                                                      monotone_constraints=None,\n",
              "                                                      multi_strategy=None,\n",
              "                                                      n_estimators=None,\n",
              "                                                      n_jobs=None,\n",
              "                                                      num_parallel_tree=None,\n",
              "                                                      random_state=None, ...))]),\n",
              "             n_jobs=-1,\n",
              "             param_grid={'xgb__max_depth': [5, 6, 7, 8, 9],\n",
              "                         'xgb__n_estimators': [200]})"
            ],
            "text/html": [
              "<style>#sk-container-id-4 {color: black;background-color: white;}#sk-container-id-4 pre{padding: 0;}#sk-container-id-4 div.sk-toggleable {background-color: white;}#sk-container-id-4 label.sk-toggleable__label {cursor: pointer;display: block;width: 100%;margin-bottom: 0;padding: 0.3em;box-sizing: border-box;text-align: center;}#sk-container-id-4 label.sk-toggleable__label-arrow:before {content: \"▸\";float: left;margin-right: 0.25em;color: #696969;}#sk-container-id-4 label.sk-toggleable__label-arrow:hover:before {color: black;}#sk-container-id-4 div.sk-estimator:hover label.sk-toggleable__label-arrow:before {color: black;}#sk-container-id-4 div.sk-toggleable__content {max-height: 0;max-width: 0;overflow: hidden;text-align: left;background-color: #f0f8ff;}#sk-container-id-4 div.sk-toggleable__content pre {margin: 0.2em;color: black;border-radius: 0.25em;background-color: #f0f8ff;}#sk-container-id-4 input.sk-toggleable__control:checked~div.sk-toggleable__content {max-height: 200px;max-width: 100%;overflow: auto;}#sk-container-id-4 input.sk-toggleable__control:checked~label.sk-toggleable__label-arrow:before {content: \"▾\";}#sk-container-id-4 div.sk-estimator input.sk-toggleable__control:checked~label.sk-toggleable__label {background-color: #d4ebff;}#sk-container-id-4 div.sk-label input.sk-toggleable__control:checked~label.sk-toggleable__label {background-color: #d4ebff;}#sk-container-id-4 input.sk-hidden--visually {border: 0;clip: rect(1px 1px 1px 1px);clip: rect(1px, 1px, 1px, 1px);height: 1px;margin: -1px;overflow: hidden;padding: 0;position: absolute;width: 1px;}#sk-container-id-4 div.sk-estimator {font-family: monospace;background-color: #f0f8ff;border: 1px dotted black;border-radius: 0.25em;box-sizing: border-box;margin-bottom: 0.5em;}#sk-container-id-4 div.sk-estimator:hover {background-color: #d4ebff;}#sk-container-id-4 div.sk-parallel-item::after {content: \"\";width: 100%;border-bottom: 1px solid gray;flex-grow: 1;}#sk-container-id-4 div.sk-label:hover label.sk-toggleable__label {background-color: #d4ebff;}#sk-container-id-4 div.sk-serial::before {content: \"\";position: absolute;border-left: 1px solid gray;box-sizing: border-box;top: 0;bottom: 0;left: 50%;z-index: 0;}#sk-container-id-4 div.sk-serial {display: flex;flex-direction: column;align-items: center;background-color: white;padding-right: 0.2em;padding-left: 0.2em;position: relative;}#sk-container-id-4 div.sk-item {position: relative;z-index: 1;}#sk-container-id-4 div.sk-parallel {display: flex;align-items: stretch;justify-content: center;background-color: white;position: relative;}#sk-container-id-4 div.sk-item::before, #sk-container-id-4 div.sk-parallel-item::before {content: \"\";position: absolute;border-left: 1px solid gray;box-sizing: border-box;top: 0;bottom: 0;left: 50%;z-index: -1;}#sk-container-id-4 div.sk-parallel-item {display: flex;flex-direction: column;z-index: 1;position: relative;background-color: white;}#sk-container-id-4 div.sk-parallel-item:first-child::after {align-self: flex-end;width: 50%;}#sk-container-id-4 div.sk-parallel-item:last-child::after {align-self: flex-start;width: 50%;}#sk-container-id-4 div.sk-parallel-item:only-child::after {width: 0;}#sk-container-id-4 div.sk-dashed-wrapped {border: 1px dashed gray;margin: 0 0.4em 0.5em 0.4em;box-sizing: border-box;padding-bottom: 0.4em;background-color: white;}#sk-container-id-4 div.sk-label label {font-family: monospace;font-weight: bold;display: inline-block;line-height: 1.2em;}#sk-container-id-4 div.sk-label-container {text-align: center;}#sk-container-id-4 div.sk-container {/* jupyter's `normalize.less` sets `[hidden] { display: none; }` but bootstrap.min.css set `[hidden] { display: none !important; }` so we also need the `!important` here to be able to override the default hidden behavior on the sphinx rendered scikit-learn.org. See: https://github.com/scikit-learn/scikit-learn/issues/21755 */display: inline-block !important;position: relative;}#sk-container-id-4 div.sk-text-repr-fallback {display: none;}</style><div id=\"sk-container-id-4\" class=\"sk-top-container\"><div class=\"sk-text-repr-fallback\"><pre>GridSearchCV(cv=10,\n",
              "             estimator=Pipeline(steps=[(&#x27;data&#x27;,\n",
              "                                        Pipeline(steps=[(&#x27;imputer&#x27;,\n",
              "                                                         SimpleImputer(strategy=&#x27;median&#x27;)),\n",
              "                                                        (&#x27;scaler&#x27;,\n",
              "                                                         MinMaxScaler())])),\n",
              "                                       (&#x27;xgb&#x27;,\n",
              "                                        XGBClassifier(base_score=None,\n",
              "                                                      booster=None,\n",
              "                                                      callbacks=None,\n",
              "                                                      colsample_bylevel=None,\n",
              "                                                      colsample_bynode=None,\n",
              "                                                      colsample_bytree=None,\n",
              "                                                      device=None,\n",
              "                                                      early_stopping_rounds=None,\n",
              "                                                      enable_categorical=False,\n",
              "                                                      eval_metric...\n",
              "                                                      learning_rate=None,\n",
              "                                                      max_bin=None,\n",
              "                                                      max_cat_threshold=None,\n",
              "                                                      max_cat_to_onehot=None,\n",
              "                                                      max_delta_step=None,\n",
              "                                                      max_depth=None,\n",
              "                                                      max_leaves=None,\n",
              "                                                      min_child_weight=None,\n",
              "                                                      missing=nan,\n",
              "                                                      monotone_constraints=None,\n",
              "                                                      multi_strategy=None,\n",
              "                                                      n_estimators=None,\n",
              "                                                      n_jobs=None,\n",
              "                                                      num_parallel_tree=None,\n",
              "                                                      random_state=None, ...))]),\n",
              "             n_jobs=-1,\n",
              "             param_grid={&#x27;xgb__max_depth&#x27;: [5, 6, 7, 8, 9],\n",
              "                         &#x27;xgb__n_estimators&#x27;: [200]})</pre><b>In a Jupyter environment, please rerun this cell to show the HTML representation or trust the notebook. <br />On GitHub, the HTML representation is unable to render, please try loading this page with nbviewer.org.</b></div><div class=\"sk-container\" hidden><div class=\"sk-item sk-dashed-wrapped\"><div class=\"sk-label-container\"><div class=\"sk-label sk-toggleable\"><input class=\"sk-toggleable__control sk-hidden--visually\" id=\"sk-estimator-id-19\" type=\"checkbox\" ><label for=\"sk-estimator-id-19\" class=\"sk-toggleable__label sk-toggleable__label-arrow\">GridSearchCV</label><div class=\"sk-toggleable__content\"><pre>GridSearchCV(cv=10,\n",
              "             estimator=Pipeline(steps=[(&#x27;data&#x27;,\n",
              "                                        Pipeline(steps=[(&#x27;imputer&#x27;,\n",
              "                                                         SimpleImputer(strategy=&#x27;median&#x27;)),\n",
              "                                                        (&#x27;scaler&#x27;,\n",
              "                                                         MinMaxScaler())])),\n",
              "                                       (&#x27;xgb&#x27;,\n",
              "                                        XGBClassifier(base_score=None,\n",
              "                                                      booster=None,\n",
              "                                                      callbacks=None,\n",
              "                                                      colsample_bylevel=None,\n",
              "                                                      colsample_bynode=None,\n",
              "                                                      colsample_bytree=None,\n",
              "                                                      device=None,\n",
              "                                                      early_stopping_rounds=None,\n",
              "                                                      enable_categorical=False,\n",
              "                                                      eval_metric...\n",
              "                                                      learning_rate=None,\n",
              "                                                      max_bin=None,\n",
              "                                                      max_cat_threshold=None,\n",
              "                                                      max_cat_to_onehot=None,\n",
              "                                                      max_delta_step=None,\n",
              "                                                      max_depth=None,\n",
              "                                                      max_leaves=None,\n",
              "                                                      min_child_weight=None,\n",
              "                                                      missing=nan,\n",
              "                                                      monotone_constraints=None,\n",
              "                                                      multi_strategy=None,\n",
              "                                                      n_estimators=None,\n",
              "                                                      n_jobs=None,\n",
              "                                                      num_parallel_tree=None,\n",
              "                                                      random_state=None, ...))]),\n",
              "             n_jobs=-1,\n",
              "             param_grid={&#x27;xgb__max_depth&#x27;: [5, 6, 7, 8, 9],\n",
              "                         &#x27;xgb__n_estimators&#x27;: [200]})</pre></div></div></div><div class=\"sk-parallel\"><div class=\"sk-parallel-item\"><div class=\"sk-item\"><div class=\"sk-label-container\"><div class=\"sk-label sk-toggleable\"><input class=\"sk-toggleable__control sk-hidden--visually\" id=\"sk-estimator-id-20\" type=\"checkbox\" ><label for=\"sk-estimator-id-20\" class=\"sk-toggleable__label sk-toggleable__label-arrow\">estimator: Pipeline</label><div class=\"sk-toggleable__content\"><pre>Pipeline(steps=[(&#x27;data&#x27;,\n",
              "                 Pipeline(steps=[(&#x27;imputer&#x27;, SimpleImputer(strategy=&#x27;median&#x27;)),\n",
              "                                 (&#x27;scaler&#x27;, MinMaxScaler())])),\n",
              "                (&#x27;xgb&#x27;,\n",
              "                 XGBClassifier(base_score=None, booster=None, callbacks=None,\n",
              "                               colsample_bylevel=None, colsample_bynode=None,\n",
              "                               colsample_bytree=None, device=None,\n",
              "                               early_stopping_rounds=None,\n",
              "                               enable_categorical=False, eval_metric=&#x27;aucpr&#x27;,\n",
              "                               feature_types=None, g..._policy=None,\n",
              "                               importance_type=None,\n",
              "                               interaction_constraints=None, learning_rate=None,\n",
              "                               max_bin=None, max_cat_threshold=None,\n",
              "                               max_cat_to_onehot=None, max_delta_step=None,\n",
              "                               max_depth=None, max_leaves=None,\n",
              "                               min_child_weight=None, missing=nan,\n",
              "                               monotone_constraints=None, multi_strategy=None,\n",
              "                               n_estimators=None, n_jobs=None,\n",
              "                               num_parallel_tree=None, random_state=None, ...))])</pre></div></div></div><div class=\"sk-serial\"><div class=\"sk-item\"><div class=\"sk-serial\"><div class=\"sk-item\"><div class=\"sk-label-container\"><div class=\"sk-label sk-toggleable\"><input class=\"sk-toggleable__control sk-hidden--visually\" id=\"sk-estimator-id-21\" type=\"checkbox\" ><label for=\"sk-estimator-id-21\" class=\"sk-toggleable__label sk-toggleable__label-arrow\">data: Pipeline</label><div class=\"sk-toggleable__content\"><pre>Pipeline(steps=[(&#x27;imputer&#x27;, SimpleImputer(strategy=&#x27;median&#x27;)),\n",
              "                (&#x27;scaler&#x27;, MinMaxScaler())])</pre></div></div></div><div class=\"sk-serial\"><div class=\"sk-item\"><div class=\"sk-estimator sk-toggleable\"><input class=\"sk-toggleable__control sk-hidden--visually\" id=\"sk-estimator-id-22\" type=\"checkbox\" ><label for=\"sk-estimator-id-22\" class=\"sk-toggleable__label sk-toggleable__label-arrow\">SimpleImputer</label><div class=\"sk-toggleable__content\"><pre>SimpleImputer(strategy=&#x27;median&#x27;)</pre></div></div></div><div class=\"sk-item\"><div class=\"sk-estimator sk-toggleable\"><input class=\"sk-toggleable__control sk-hidden--visually\" id=\"sk-estimator-id-23\" type=\"checkbox\" ><label for=\"sk-estimator-id-23\" class=\"sk-toggleable__label sk-toggleable__label-arrow\">MinMaxScaler</label><div class=\"sk-toggleable__content\"><pre>MinMaxScaler()</pre></div></div></div></div></div><div class=\"sk-item\"><div class=\"sk-estimator sk-toggleable\"><input class=\"sk-toggleable__control sk-hidden--visually\" id=\"sk-estimator-id-24\" type=\"checkbox\" ><label for=\"sk-estimator-id-24\" class=\"sk-toggleable__label sk-toggleable__label-arrow\">XGBClassifier</label><div class=\"sk-toggleable__content\"><pre>XGBClassifier(base_score=None, booster=None, callbacks=None,\n",
              "              colsample_bylevel=None, colsample_bynode=None,\n",
              "              colsample_bytree=None, device=None, early_stopping_rounds=None,\n",
              "              enable_categorical=False, eval_metric=&#x27;aucpr&#x27;, feature_types=None,\n",
              "              gamma=None, grow_policy=None, importance_type=None,\n",
              "              interaction_constraints=None, learning_rate=None, max_bin=None,\n",
              "              max_cat_threshold=None, max_cat_to_onehot=None,\n",
              "              max_delta_step=None, max_depth=None, max_leaves=None,\n",
              "              min_child_weight=None, missing=nan, monotone_constraints=None,\n",
              "              multi_strategy=None, n_estimators=None, n_jobs=None,\n",
              "              num_parallel_tree=None, random_state=None, ...)</pre></div></div></div></div></div></div></div></div></div></div></div></div>"
            ]
          },
          "metadata": {},
          "execution_count": 49
        }
      ],
      "source": [
        "# Grid search validation for gradient boosted trees\n",
        "params_xgb = {\n",
        "                'xgb__n_estimators' : [200],\n",
        "                'xgb__max_depth' : list(range(5,10,1)),\n",
        "                #'xgb__learning_rate' : [0.2, 0.4, 0.6],\n",
        "                #'xgb__colsample_bytree' : [.7, .8, .9, 1]\n",
        "             }\n",
        "\n",
        "gs_xgb = GridSearchCV(xgb_pipeline, params_xgb, n_jobs=-1, cv=10)\n",
        "\n",
        "gs_xgb.fit(X_train, y_train_le)"
      ]
    },
    {
      "cell_type": "code",
      "execution_count": 50,
      "metadata": {
        "tags": [],
        "colab": {
          "base_uri": "https://localhost:8080/"
        },
        "id": "ZYkljZyu-ew0",
        "outputId": "f842cb09-4e02-4f71-f484-bfb35e97727b"
      },
      "outputs": [
        {
          "output_type": "stream",
          "name": "stdout",
          "text": [
            "Best Hyperparameter: {'logistic__C': 1000.0, 'logistic__penalty': 'l1', 'logistic__solver': 'liblinear'}\n"
          ]
        }
      ],
      "source": [
        "print(f\"Best Hyperparameter: {gs_logistic.best_params_}\")"
      ]
    },
    {
      "cell_type": "code",
      "execution_count": 51,
      "metadata": {
        "tags": [],
        "id": "ikuChLSP-ew1"
      },
      "outputs": [],
      "source": [
        "y_pred = gs_xgb.predict(X_test)"
      ]
    },
    {
      "cell_type": "code",
      "execution_count": 52,
      "metadata": {
        "tags": [],
        "id": "EaQN0SBR-ew1"
      },
      "outputs": [],
      "source": [
        "y_test_le = le.fit_transform(y_test)"
      ]
    },
    {
      "cell_type": "code",
      "execution_count": 53,
      "metadata": {
        "tags": [],
        "colab": {
          "base_uri": "https://localhost:8080/",
          "height": 375
        },
        "id": "7dnpJzFe-ew1",
        "outputId": "04949551-0b7f-40c3-e61c-18c88f280a6d"
      },
      "outputs": [
        {
          "output_type": "stream",
          "name": "stdout",
          "text": [
            "              precision    recall  f1-score   support\n",
            "\n",
            "           0       0.54      0.81      0.65        16\n",
            "           1       0.69      0.60      0.64        15\n",
            "           2       0.70      0.47      0.56        15\n",
            "           3       0.38      0.36      0.37        14\n",
            "\n",
            "    accuracy                           0.57        60\n",
            "   macro avg       0.58      0.56      0.56        60\n",
            "weighted avg       0.58      0.57      0.56        60\n",
            "\n"
          ]
        },
        {
          "output_type": "display_data",
          "data": {
            "text/plain": [
              "<Figure size 200x150 with 2 Axes>"
            ],
            "image/png": "[encoded data removed]"
          },
          "metadata": {}
        }
      ],
      "source": [
        "show_classification_metics(y_test_le, y_pred, gs_xgb)"
      ]
    },
    {
      "cell_type": "markdown",
      "metadata": {
        "tags": [],
        "id": "AmI6iRnX-ew1"
      },
      "source": [
        "### Ensemble models"
      ]
    },
    {
      "cell_type": "code",
      "execution_count": 54,
      "metadata": {
        "tags": [],
        "id": "OT490q8_-ew1"
      },
      "outputs": [],
      "source": [
        "# Define the base models\n",
        "level0 = list()\n",
        "level0.append(('svm', svm_pipeline))\n",
        "level0.append(('rf', rf_pipeline))\n",
        "level0.append(('xgb', xgb_pipeline))\n",
        "\n",
        "# Define meta learner model\n",
        "level1 = LogisticRegression(max_iter=10000, random_state=42)\n",
        "\n",
        "# Define the stacking ensemble\n",
        "stacked_model = StackingClassifier(estimators=level0, final_estimator=level1, cv=10)"
      ]
    },
    {
      "cell_type": "code",
      "execution_count": 55,
      "metadata": {
        "tags": [],
        "colab": {
          "base_uri": "https://localhost:8080/",
          "height": 278
        },
        "id": "rSJSkrs9-ew1",
        "outputId": "9bddd358-324d-48c5-87a2-d85d5f5d7b28"
      },
      "outputs": [
        {
          "output_type": "execute_result",
          "data": {
            "text/plain": [
              "GridSearchCV(cv=10,\n",
              "             estimator=StackingClassifier(cv=10,\n",
              "                                          estimators=[('svm',\n",
              "                                                       Pipeline(steps=[('data',\n",
              "                                                                        Pipeline(steps=[('imputer',\n",
              "                                                                                         SimpleImputer(strategy='median')),\n",
              "                                                                                        ('scaler',\n",
              "                                                                                         MinMaxScaler())])),\n",
              "                                                                       ('svm',\n",
              "                                                                        SVC(random_state=42))])),\n",
              "                                                      ('rf',\n",
              "                                                       Pipeline(steps=[('data',\n",
              "                                                                        Pipeline(steps=[('imputer',\n",
              "                                                                                         SimpleImputer(strategy='median')),\n",
              "                                                                                        ('scaler',\n",
              "                                                                                         MinMaxScaler())])),\n",
              "                                                                       ('rf',\n",
              "                                                                        Rando...\n",
              "                                                                                      max_bin=None,\n",
              "                                                                                      max_cat_threshold=None,\n",
              "                                                                                      max_cat_to_onehot=None,\n",
              "                                                                                      max_delta_step=None,\n",
              "                                                                                      max_depth=None,\n",
              "                                                                                      max_leaves=None,\n",
              "                                                                                      min_child_weight=None,\n",
              "                                                                                      missing=nan,\n",
              "                                                                                      monotone_constraints=None,\n",
              "                                                                                      multi_strategy=None,\n",
              "                                                                                      n_estimators=None,\n",
              "                                                                                      n_jobs=None,\n",
              "                                                                                      num_parallel_tree=None,\n",
              "                                                                                      random_state=None, ...))]))],\n",
              "                                          final_estimator=LogisticRegression(max_iter=10000,\n",
              "                                                                             random_state=42)),\n",
              "             param_grid={})"
            ],
            "text/html": [
              "<style>#sk-container-id-5 {color: black;background-color: white;}#sk-container-id-5 pre{padding: 0;}#sk-container-id-5 div.sk-toggleable {background-color: white;}#sk-container-id-5 label.sk-toggleable__label {cursor: pointer;display: block;width: 100%;margin-bottom: 0;padding: 0.3em;box-sizing: border-box;text-align: center;}#sk-container-id-5 label.sk-toggleable__label-arrow:before {content: \"▸\";float: left;margin-right: 0.25em;color: #696969;}#sk-container-id-5 label.sk-toggleable__label-arrow:hover:before {color: black;}#sk-container-id-5 div.sk-estimator:hover label.sk-toggleable__label-arrow:before {color: black;}#sk-container-id-5 div.sk-toggleable__content {max-height: 0;max-width: 0;overflow: hidden;text-align: left;background-color: #f0f8ff;}#sk-container-id-5 div.sk-toggleable__content pre {margin: 0.2em;color: black;border-radius: 0.25em;background-color: #f0f8ff;}#sk-container-id-5 input.sk-toggleable__control:checked~div.sk-toggleable__content {max-height: 200px;max-width: 100%;overflow: auto;}#sk-container-id-5 input.sk-toggleable__control:checked~label.sk-toggleable__label-arrow:before {content: \"▾\";}#sk-container-id-5 div.sk-estimator input.sk-toggleable__control:checked~label.sk-toggleable__label {background-color: #d4ebff;}#sk-container-id-5 div.sk-label input.sk-toggleable__control:checked~label.sk-toggleable__label {background-color: #d4ebff;}#sk-container-id-5 input.sk-hidden--visually {border: 0;clip: rect(1px 1px 1px 1px);clip: rect(1px, 1px, 1px, 1px);height: 1px;margin: -1px;overflow: hidden;padding: 0;position: absolute;width: 1px;}#sk-container-id-5 div.sk-estimator {font-family: monospace;background-color: #f0f8ff;border: 1px dotted black;border-radius: 0.25em;box-sizing: border-box;margin-bottom: 0.5em;}#sk-container-id-5 div.sk-estimator:hover {background-color: #d4ebff;}#sk-container-id-5 div.sk-parallel-item::after {content: \"\";width: 100%;border-bottom: 1px solid gray;flex-grow: 1;}#sk-container-id-5 div.sk-label:hover label.sk-toggleable__label {background-color: #d4ebff;}#sk-container-id-5 div.sk-serial::before {content: \"\";position: absolute;border-left: 1px solid gray;box-sizing: border-box;top: 0;bottom: 0;left: 50%;z-index: 0;}#sk-container-id-5 div.sk-serial {display: flex;flex-direction: column;align-items: center;background-color: white;padding-right: 0.2em;padding-left: 0.2em;position: relative;}#sk-container-id-5 div.sk-item {position: relative;z-index: 1;}#sk-container-id-5 div.sk-parallel {display: flex;align-items: stretch;justify-content: center;background-color: white;position: relative;}#sk-container-id-5 div.sk-item::before, #sk-container-id-5 div.sk-parallel-item::before {content: \"\";position: absolute;border-left: 1px solid gray;box-sizing: border-box;top: 0;bottom: 0;left: 50%;z-index: -1;}#sk-container-id-5 div.sk-parallel-item {display: flex;flex-direction: column;z-index: 1;position: relative;background-color: white;}#sk-container-id-5 div.sk-parallel-item:first-child::after {align-self: flex-end;width: 50%;}#sk-container-id-5 div.sk-parallel-item:last-child::after {align-self: flex-start;width: 50%;}#sk-container-id-5 div.sk-parallel-item:only-child::after {width: 0;}#sk-container-id-5 div.sk-dashed-wrapped {border: 1px dashed gray;margin: 0 0.4em 0.5em 0.4em;box-sizing: border-box;padding-bottom: 0.4em;background-color: white;}#sk-container-id-5 div.sk-label label {font-family: monospace;font-weight: bold;display: inline-block;line-height: 1.2em;}#sk-container-id-5 div.sk-label-container {text-align: center;}#sk-container-id-5 div.sk-container {/* jupyter's `normalize.less` sets `[hidden] { display: none; }` but bootstrap.min.css set `[hidden] { display: none !important; }` so we also need the `!important` here to be able to override the default hidden behavior on the sphinx rendered scikit-learn.org. See: https://github.com/scikit-learn/scikit-learn/issues/21755 */display: inline-block !important;position: relative;}#sk-container-id-5 div.sk-text-repr-fallback {display: none;}</style><div id=\"sk-container-id-5\" class=\"sk-top-container\"><div class=\"sk-text-repr-fallback\"><pre>GridSearchCV(cv=10,\n",
              "             estimator=StackingClassifier(cv=10,\n",
              "                                          estimators=[(&#x27;svm&#x27;,\n",
              "                                                       Pipeline(steps=[(&#x27;data&#x27;,\n",
              "                                                                        Pipeline(steps=[(&#x27;imputer&#x27;,\n",
              "                                                                                         SimpleImputer(strategy=&#x27;median&#x27;)),\n",
              "                                                                                        (&#x27;scaler&#x27;,\n",
              "                                                                                         MinMaxScaler())])),\n",
              "                                                                       (&#x27;svm&#x27;,\n",
              "                                                                        SVC(random_state=42))])),\n",
              "                                                      (&#x27;rf&#x27;,\n",
              "                                                       Pipeline(steps=[(&#x27;data&#x27;,\n",
              "                                                                        Pipeline(steps=[(&#x27;imputer&#x27;,\n",
              "                                                                                         SimpleImputer(strategy=&#x27;median&#x27;)),\n",
              "                                                                                        (&#x27;scaler&#x27;,\n",
              "                                                                                         MinMaxScaler())])),\n",
              "                                                                       (&#x27;rf&#x27;,\n",
              "                                                                        Rando...\n",
              "                                                                                      max_bin=None,\n",
              "                                                                                      max_cat_threshold=None,\n",
              "                                                                                      max_cat_to_onehot=None,\n",
              "                                                                                      max_delta_step=None,\n",
              "                                                                                      max_depth=None,\n",
              "                                                                                      max_leaves=None,\n",
              "                                                                                      min_child_weight=None,\n",
              "                                                                                      missing=nan,\n",
              "                                                                                      monotone_constraints=None,\n",
              "                                                                                      multi_strategy=None,\n",
              "                                                                                      n_estimators=None,\n",
              "                                                                                      n_jobs=None,\n",
              "                                                                                      num_parallel_tree=None,\n",
              "                                                                                      random_state=None, ...))]))],\n",
              "                                          final_estimator=LogisticRegression(max_iter=10000,\n",
              "                                                                             random_state=42)),\n",
              "             param_grid={})</pre><b>In a Jupyter environment, please rerun this cell to show the HTML representation or trust the notebook. <br />On GitHub, the HTML representation is unable to render, please try loading this page with nbviewer.org.</b></div><div class=\"sk-container\" hidden><div class=\"sk-item sk-dashed-wrapped\"><div class=\"sk-label-container\"><div class=\"sk-label sk-toggleable\"><input class=\"sk-toggleable__control sk-hidden--visually\" id=\"sk-estimator-id-25\" type=\"checkbox\" ><label for=\"sk-estimator-id-25\" class=\"sk-toggleable__label sk-toggleable__label-arrow\">GridSearchCV</label><div class=\"sk-toggleable__content\"><pre>GridSearchCV(cv=10,\n",
              "             estimator=StackingClassifier(cv=10,\n",
              "                                          estimators=[(&#x27;svm&#x27;,\n",
              "                                                       Pipeline(steps=[(&#x27;data&#x27;,\n",
              "                                                                        Pipeline(steps=[(&#x27;imputer&#x27;,\n",
              "                                                                                         SimpleImputer(strategy=&#x27;median&#x27;)),\n",
              "                                                                                        (&#x27;scaler&#x27;,\n",
              "                                                                                         MinMaxScaler())])),\n",
              "                                                                       (&#x27;svm&#x27;,\n",
              "                                                                        SVC(random_state=42))])),\n",
              "                                                      (&#x27;rf&#x27;,\n",
              "                                                       Pipeline(steps=[(&#x27;data&#x27;,\n",
              "                                                                        Pipeline(steps=[(&#x27;imputer&#x27;,\n",
              "                                                                                         SimpleImputer(strategy=&#x27;median&#x27;)),\n",
              "                                                                                        (&#x27;scaler&#x27;,\n",
              "                                                                                         MinMaxScaler())])),\n",
              "                                                                       (&#x27;rf&#x27;,\n",
              "                                                                        Rando...\n",
              "                                                                                      max_bin=None,\n",
              "                                                                                      max_cat_threshold=None,\n",
              "                                                                                      max_cat_to_onehot=None,\n",
              "                                                                                      max_delta_step=None,\n",
              "                                                                                      max_depth=None,\n",
              "                                                                                      max_leaves=None,\n",
              "                                                                                      min_child_weight=None,\n",
              "                                                                                      missing=nan,\n",
              "                                                                                      monotone_constraints=None,\n",
              "                                                                                      multi_strategy=None,\n",
              "                                                                                      n_estimators=None,\n",
              "                                                                                      n_jobs=None,\n",
              "                                                                                      num_parallel_tree=None,\n",
              "                                                                                      random_state=None, ...))]))],\n",
              "                                          final_estimator=LogisticRegression(max_iter=10000,\n",
              "                                                                             random_state=42)),\n",
              "             param_grid={})</pre></div></div></div><div class=\"sk-parallel\"><div class=\"sk-parallel-item\"><div class=\"sk-item\"><div class=\"sk-label-container\"><div class=\"sk-label sk-toggleable\"><input class=\"sk-toggleable__control sk-hidden--visually\" id=\"sk-estimator-id-26\" type=\"checkbox\" ><label for=\"sk-estimator-id-26\" class=\"sk-toggleable__label sk-toggleable__label-arrow\">estimator: StackingClassifier</label><div class=\"sk-toggleable__content\"><pre>StackingClassifier(cv=10,\n",
              "                   estimators=[(&#x27;svm&#x27;,\n",
              "                                Pipeline(steps=[(&#x27;data&#x27;,\n",
              "                                                 Pipeline(steps=[(&#x27;imputer&#x27;,\n",
              "                                                                  SimpleImputer(strategy=&#x27;median&#x27;)),\n",
              "                                                                 (&#x27;scaler&#x27;,\n",
              "                                                                  MinMaxScaler())])),\n",
              "                                                (&#x27;svm&#x27;,\n",
              "                                                 SVC(random_state=42))])),\n",
              "                               (&#x27;rf&#x27;,\n",
              "                                Pipeline(steps=[(&#x27;data&#x27;,\n",
              "                                                 Pipeline(steps=[(&#x27;imputer&#x27;,\n",
              "                                                                  SimpleImputer(strategy=&#x27;median&#x27;)),\n",
              "                                                                 (&#x27;scaler&#x27;,\n",
              "                                                                  MinMaxScaler())])),\n",
              "                                                (&#x27;rf&#x27;,\n",
              "                                                 RandomForestClassifier(random_stat...\n",
              "                                                               learning_rate=None,\n",
              "                                                               max_bin=None,\n",
              "                                                               max_cat_threshold=None,\n",
              "                                                               max_cat_to_onehot=None,\n",
              "                                                               max_delta_step=None,\n",
              "                                                               max_depth=None,\n",
              "                                                               max_leaves=None,\n",
              "                                                               min_child_weight=None,\n",
              "                                                               missing=nan,\n",
              "                                                               monotone_constraints=None,\n",
              "                                                               multi_strategy=None,\n",
              "                                                               n_estimators=None,\n",
              "                                                               n_jobs=None,\n",
              "                                                               num_parallel_tree=None,\n",
              "                                                               random_state=None, ...))]))],\n",
              "                   final_estimator=LogisticRegression(max_iter=10000,\n",
              "                                                      random_state=42))</pre></div></div></div><div class=\"sk-serial\"><div class=\"sk-item\"><div class=\"sk-serial\"><div class=\"sk-item\"><div class=\"sk-parallel\"><div class=\"sk-parallel-item\"><div class=\"sk-item\"><div class=\"sk-label-container\"><div class=\"sk-label sk-toggleable\"><label>svm</label></div></div><div class=\"sk-serial\"><div class=\"sk-item\"><div class=\"sk-serial\"><div class=\"sk-item\"><div class=\"sk-label-container\"><div class=\"sk-label sk-toggleable\"><input class=\"sk-toggleable__control sk-hidden--visually\" id=\"sk-estimator-id-27\" type=\"checkbox\" ><label for=\"sk-estimator-id-27\" class=\"sk-toggleable__label sk-toggleable__label-arrow\">data: Pipeline</label><div class=\"sk-toggleable__content\"><pre>Pipeline(steps=[(&#x27;imputer&#x27;, SimpleImputer(strategy=&#x27;median&#x27;)),\n",
              "                (&#x27;scaler&#x27;, MinMaxScaler())])</pre></div></div></div><div class=\"sk-serial\"><div class=\"sk-item\"><div class=\"sk-estimator sk-toggleable\"><input class=\"sk-toggleable__control sk-hidden--visually\" id=\"sk-estimator-id-28\" type=\"checkbox\" ><label for=\"sk-estimator-id-28\" class=\"sk-toggleable__label sk-toggleable__label-arrow\">SimpleImputer</label><div class=\"sk-toggleable__content\"><pre>SimpleImputer(strategy=&#x27;median&#x27;)</pre></div></div></div><div class=\"sk-item\"><div class=\"sk-estimator sk-toggleable\"><input class=\"sk-toggleable__control sk-hidden--visually\" id=\"sk-estimator-id-29\" type=\"checkbox\" ><label for=\"sk-estimator-id-29\" class=\"sk-toggleable__label sk-toggleable__label-arrow\">MinMaxScaler</label><div class=\"sk-toggleable__content\"><pre>MinMaxScaler()</pre></div></div></div></div></div><div class=\"sk-item\"><div class=\"sk-estimator sk-toggleable\"><input class=\"sk-toggleable__control sk-hidden--visually\" id=\"sk-estimator-id-30\" type=\"checkbox\" ><label for=\"sk-estimator-id-30\" class=\"sk-toggleable__label sk-toggleable__label-arrow\">SVC</label><div class=\"sk-toggleable__content\"><pre>SVC(random_state=42)</pre></div></div></div></div></div></div></div></div><div class=\"sk-parallel-item\"><div class=\"sk-item\"><div class=\"sk-label-container\"><div class=\"sk-label sk-toggleable\"><label>rf</label></div></div><div class=\"sk-serial\"><div class=\"sk-item\"><div class=\"sk-serial\"><div class=\"sk-item\"><div class=\"sk-label-container\"><div class=\"sk-label sk-toggleable\"><input class=\"sk-toggleable__control sk-hidden--visually\" id=\"sk-estimator-id-31\" type=\"checkbox\" ><label for=\"sk-estimator-id-31\" class=\"sk-toggleable__label sk-toggleable__label-arrow\">data: Pipeline</label><div class=\"sk-toggleable__content\"><pre>Pipeline(steps=[(&#x27;imputer&#x27;, SimpleImputer(strategy=&#x27;median&#x27;)),\n",
              "                (&#x27;scaler&#x27;, MinMaxScaler())])</pre></div></div></div><div class=\"sk-serial\"><div class=\"sk-item\"><div class=\"sk-estimator sk-toggleable\"><input class=\"sk-toggleable__control sk-hidden--visually\" id=\"sk-estimator-id-32\" type=\"checkbox\" ><label for=\"sk-estimator-id-32\" class=\"sk-toggleable__label sk-toggleable__label-arrow\">SimpleImputer</label><div class=\"sk-toggleable__content\"><pre>SimpleImputer(strategy=&#x27;median&#x27;)</pre></div></div></div><div class=\"sk-item\"><div class=\"sk-estimator sk-toggleable\"><input class=\"sk-toggleable__control sk-hidden--visually\" id=\"sk-estimator-id-33\" type=\"checkbox\" ><label for=\"sk-estimator-id-33\" class=\"sk-toggleable__label sk-toggleable__label-arrow\">MinMaxScaler</label><div class=\"sk-toggleable__content\"><pre>MinMaxScaler()</pre></div></div></div></div></div><div class=\"sk-item\"><div class=\"sk-estimator sk-toggleable\"><input class=\"sk-toggleable__control sk-hidden--visually\" id=\"sk-estimator-id-34\" type=\"checkbox\" ><label for=\"sk-estimator-id-34\" class=\"sk-toggleable__label sk-toggleable__label-arrow\">RandomForestClassifier</label><div class=\"sk-toggleable__content\"><pre>RandomForestClassifier(random_state=42)</pre></div></div></div></div></div></div></div></div><div class=\"sk-parallel-item\"><div class=\"sk-item\"><div class=\"sk-label-container\"><div class=\"sk-label sk-toggleable\"><label>xgb</label></div></div><div class=\"sk-serial\"><div class=\"sk-item\"><div class=\"sk-serial\"><div class=\"sk-item\"><div class=\"sk-label-container\"><div class=\"sk-label sk-toggleable\"><input class=\"sk-toggleable__control sk-hidden--visually\" id=\"sk-estimator-id-35\" type=\"checkbox\" ><label for=\"sk-estimator-id-35\" class=\"sk-toggleable__label sk-toggleable__label-arrow\">data: Pipeline</label><div class=\"sk-toggleable__content\"><pre>Pipeline(steps=[(&#x27;imputer&#x27;, SimpleImputer(strategy=&#x27;median&#x27;)),\n",
              "                (&#x27;scaler&#x27;, MinMaxScaler())])</pre></div></div></div><div class=\"sk-serial\"><div class=\"sk-item\"><div class=\"sk-estimator sk-toggleable\"><input class=\"sk-toggleable__control sk-hidden--visually\" id=\"sk-estimator-id-36\" type=\"checkbox\" ><label for=\"sk-estimator-id-36\" class=\"sk-toggleable__label sk-toggleable__label-arrow\">SimpleImputer</label><div class=\"sk-toggleable__content\"><pre>SimpleImputer(strategy=&#x27;median&#x27;)</pre></div></div></div><div class=\"sk-item\"><div class=\"sk-estimator sk-toggleable\"><input class=\"sk-toggleable__control sk-hidden--visually\" id=\"sk-estimator-id-37\" type=\"checkbox\" ><label for=\"sk-estimator-id-37\" class=\"sk-toggleable__label sk-toggleable__label-arrow\">MinMaxScaler</label><div class=\"sk-toggleable__content\"><pre>MinMaxScaler()</pre></div></div></div></div></div><div class=\"sk-item\"><div class=\"sk-estimator sk-toggleable\"><input class=\"sk-toggleable__control sk-hidden--visually\" id=\"sk-estimator-id-38\" type=\"checkbox\" ><label for=\"sk-estimator-id-38\" class=\"sk-toggleable__label sk-toggleable__label-arrow\">XGBClassifier</label><div class=\"sk-toggleable__content\"><pre>XGBClassifier(base_score=None, booster=None, callbacks=None,\n",
              "              colsample_bylevel=None, colsample_bynode=None,\n",
              "              colsample_bytree=None, device=None, early_stopping_rounds=None,\n",
              "              enable_categorical=False, eval_metric=&#x27;aucpr&#x27;, feature_types=None,\n",
              "              gamma=None, grow_policy=None, importance_type=None,\n",
              "              interaction_constraints=None, learning_rate=None, max_bin=None,\n",
              "              max_cat_threshold=None, max_cat_to_onehot=None,\n",
              "              max_delta_step=None, max_depth=None, max_leaves=None,\n",
              "              min_child_weight=None, missing=nan, monotone_constraints=None,\n",
              "              multi_strategy=None, n_estimators=None, n_jobs=None,\n",
              "              num_parallel_tree=None, random_state=None, ...)</pre></div></div></div></div></div></div></div></div></div></div><div class=\"sk-item\"><div class=\"sk-parallel\"><div class=\"sk-parallel-item\"><div class=\"sk-item\"><div class=\"sk-label-container\"><div class=\"sk-label sk-toggleable\"><label>final_estimator</label></div></div><div class=\"sk-serial\"><div class=\"sk-item\"><div class=\"sk-estimator sk-toggleable\"><input class=\"sk-toggleable__control sk-hidden--visually\" id=\"sk-estimator-id-39\" type=\"checkbox\" ><label for=\"sk-estimator-id-39\" class=\"sk-toggleable__label sk-toggleable__label-arrow\">LogisticRegression</label><div class=\"sk-toggleable__content\"><pre>LogisticRegression(max_iter=10000, random_state=42)</pre></div></div></div></div></div></div></div></div></div></div></div></div></div></div></div></div></div>"
            ]
          },
          "metadata": {},
          "execution_count": 55
        }
      ],
      "source": [
        "gs_stacked = GridSearchCV(estimator=stacked_model,\n",
        "                    param_grid={},\n",
        "                    cv=10,\n",
        "                    refit=True)\n",
        "gs_stacked.fit(X_train, y_train.values.ravel())"
      ]
    },
    {
      "cell_type": "code",
      "execution_count": 56,
      "metadata": {
        "tags": [],
        "id": "1ZodZG69-ew2"
      },
      "outputs": [],
      "source": [
        "y_pred = gs_xgb.predict(X_test)"
      ]
    },
    {
      "cell_type": "code",
      "execution_count": 57,
      "metadata": {
        "tags": [],
        "colab": {
          "base_uri": "https://localhost:8080/",
          "height": 415
        },
        "id": "4rnMkW_B-ew2",
        "outputId": "510d1219-c9f2-4325-b364-cfc9d6f7a5a7"
      },
      "outputs": [
        {
          "output_type": "stream",
          "name": "stdout",
          "text": [
            "              precision    recall  f1-score   support\n",
            "\n",
            "           0       0.54      0.81      0.65        16\n",
            "           1       0.69      0.60      0.64        15\n",
            "           2       0.70      0.47      0.56        15\n",
            "           3       0.38      0.36      0.37        14\n",
            "\n",
            "    accuracy                           0.57        60\n",
            "   macro avg       0.58      0.56      0.56        60\n",
            "weighted avg       0.58      0.57      0.56        60\n",
            "\n"
          ]
        },
        {
          "output_type": "display_data",
          "data": {
            "text/plain": [
              "<Figure size 200x150 with 2 Axes>"
            ],
            "image/png": "[encoded data removed]"
          },
          "metadata": {}
        }
      ],
      "source": [
        "show_classification_metics(y_test_le, y_pred, gs_stacked)"
      ]
    },
    {
      "cell_type": "markdown",
      "metadata": {
        "id": "LtbGJAZJ6_fl"
      },
      "source": [
        "# Conclusion\n",
        "\n",
        "When text is an input to a supervised learning task (e.g., sentiment analysis or multi-class prediction) detailed examination of the classification metrics helps select the appropriate feature engineering process."
      ]
    }
  ],
  "metadata": {
    "colab": {
      "provenance": []
    },
    "kernelspec": {
      "display_name": "Python 3 (ipykernel)",
      "language": "python",
      "name": "python3"
    },
    "language_info": {
      "codemirror_mode": {
        "name": "ipython",
        "version": 3
      },
      "file_extension": ".py",
      "mimetype": "text/x-python",
      "name": "python",
      "nbconvert_exporter": "python",
      "pygments_lexer": "ipython3",
      "version": "3.11.5"
    }
  },
  "nbformat": 4,
  "nbformat_minor": 0
}