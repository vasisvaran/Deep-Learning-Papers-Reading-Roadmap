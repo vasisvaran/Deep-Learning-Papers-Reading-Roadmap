{
  "cells": [
    {
      "cell_type": "markdown",
      "metadata": {
        "id": "view-in-github",
        "colab_type": "text"
      },
      "source": [
        "<a href=\"https://colab.research.google.com/github/vasisvaran/Deep-Learning-Papers-Reading-Roadmap/blob/master/Week7/Assignment/MSDS453_Assignment_03_v25_20231025_LSTM_Sentiment_Ex3_Voc_512_Dense_2_layers.ipynb\" target=\"_parent\"><img src=\"https://colab.research.google.com/assets/colab-badge.svg\" alt=\"Open In Colab\"/></a>"
      ]
    },
    {
      "cell_type": "markdown",
      "metadata": {
        "id": "D4fvdNtua3AI"
      },
      "source": [
        "<img src=\"https://github.com/djp840/MSDS_453_Public/blob/main/images/NorthwesternHeader.png?raw=1\">"
      ],
      "id": "D4fvdNtua3AI"
    },
    {
      "cell_type": "markdown",
      "metadata": {
        "id": "NG2UslRFa3AN"
      },
      "source": [
        "## MSDS453 - Research Assignment 03 - Ontology Plus Context and Modeling"
      ],
      "id": "NG2UslRFa3AN"
    },
    {
      "cell_type": "markdown",
      "metadata": {
        "id": "ZkbnxCcEa3AN"
      },
      "source": [
        "Take the ontology that you developed in week 6 and consider how your ten chosen documents for this quarter's class corpus map to that ontology.\n",
        "\n",
        "Protégé is a tool that takes inputs for a human-created Ontology and creates a visualization.\n",
        "\n",
        "Use Python algorithms to generate Knowledge Graphs from your documents.\n",
        "\n",
        "TensorFlow Bidirectional RNN Model"
      ],
      "id": "ZkbnxCcEa3AN"
    },
    {
      "cell_type": "code",
      "execution_count": 1,
      "metadata": {
        "id": "0bb6XKuca3AO"
      },
      "outputs": [],
      "source": [
        "import pandas as pd\n",
        "import numpy as np\n",
        "import re\n",
        "import string\n",
        "import seaborn as sns\n",
        "import matplotlib.pyplot as plt\n",
        "import nltk\n",
        "from collections import Counter\n",
        "from dataclasses import dataclass\n",
        "from timeit import default_timer as timer\n",
        "\n",
        "from nltk.corpus import stopwords\n",
        "from nltk.stem.wordnet import WordNetLemmatizer\n",
        "from nltk.tokenize import word_tokenize\n",
        "\n",
        "import gensim\n",
        "from gensim.models import Word2Vec\n",
        "\n",
        "import spacy\n",
        "from spacy import displacy\n",
        "\n",
        "from spacy.matcher import Matcher\n",
        "from spacy.tokens import Span\n",
        "\n",
        "import networkx as nx\n",
        "import matplotlib.pyplot as plt\n",
        "from tqdm import tqdm\n",
        "\n",
        "\n",
        "from sklearn.feature_extraction.text import TfidfVectorizer\n",
        "from sklearn.feature_extraction.text import CountVectorizer\n",
        "from sklearn.metrics.pairwise import cosine_similarity\n",
        "from sklearn.svm import SVC\n",
        "from sklearn.metrics import accuracy_score, f1_score\n",
        "from sklearn.model_selection import train_test_split\n",
        "\n",
        "from IPython.display import display, HTML\n",
        "\n",
        "from sklearn.metrics import confusion_matrix, classification_report\n",
        "from sklearn.metrics import accuracy_score, f1_score\n",
        "\n",
        "import tensorflow as tf\n",
        "from tensorflow import keras\n",
        "import tensorflow_datasets as tfds\n",
        "tf.random.set_seed(2022)\n",
        "import tensorflow.keras.backend as k\n",
        "\n",
        "from typing import List, Callable, Dict, Tuple, Set"
      ],
      "id": "0bb6XKuca3AO"
    },
    {
      "cell_type": "markdown",
      "metadata": {
        "id": "8Qzg7r_Ea3AQ"
      },
      "source": [
        "<div class=\"alert alert-block alert-danger\">\n",
        "<b>Required Installation: en_core_web_lg</b><br>\"python -m spacy download en_core_web_lg\"<br><br>English pipeline optimized for CPU. Components: tok2vec, tagger, parser, senter, ner, attribute_ruler, lemmatizer<br>\n",
        "    <b>https://spacy.io/models/en#en_core_web_lg </b>\n",
        "</div>"
      ],
      "id": "8Qzg7r_Ea3AQ"
    },
    {
      "cell_type": "markdown",
      "metadata": {
        "id": "UufSGLC6a3AQ"
      },
      "source": [
        "## Requires Restart Of Runtime After Installation"
      ],
      "id": "UufSGLC6a3AQ"
    },
    {
      "cell_type": "code",
      "execution_count": 2,
      "metadata": {
        "colab": {
          "base_uri": "https://localhost:8080/"
        },
        "id": "4r4cNgT1a3AR",
        "outputId": "f0238050-6257-4166-f716-d096626b737d"
      },
      "outputs": [
        {
          "output_type": "stream",
          "name": "stdout",
          "text": [
            "2023-10-31 17:48:31.449711: E tensorflow/compiler/xla/stream_executor/cuda/cuda_dnn.cc:9342] Unable to register cuDNN factory: Attempting to register factory for plugin cuDNN when one has already been registered\n",
            "2023-10-31 17:48:31.449783: E tensorflow/compiler/xla/stream_executor/cuda/cuda_fft.cc:609] Unable to register cuFFT factory: Attempting to register factory for plugin cuFFT when one has already been registered\n",
            "2023-10-31 17:48:31.449830: E tensorflow/compiler/xla/stream_executor/cuda/cuda_blas.cc:1518] Unable to register cuBLAS factory: Attempting to register factory for plugin cuBLAS when one has already been registered\n",
            "2023-10-31 17:48:34.415645: W tensorflow/compiler/tf2tensorrt/utils/py_utils.cc:38] TF-TRT Warning: Could not find TensorRT\n",
            "\u001b[2K     \u001b[90m━━━━━━━━━━━━━━━━━━━━━━━━━━━━━━━━━━━━━━━━\u001b[0m \u001b[32m587.7/587.7 MB\u001b[0m \u001b[31m1.0 MB/s\u001b[0m eta \u001b[36m0:00:00\u001b[0m\n",
            "\u001b[?25h\u001b[38;5;2m✔ Download and installation successful\u001b[0m\n",
            "You can now load the package via spacy.load('en_core_web_lg')\n"
          ]
        }
      ],
      "source": [
        "!python -m spacy download en_core_web_lg -q"
      ],
      "id": "4r4cNgT1a3AR"
    },
    {
      "cell_type": "code",
      "execution_count": 3,
      "metadata": {
        "id": "meoFskZSa3AS"
      },
      "outputs": [],
      "source": [
        "nlp = spacy.load('en_core_web_lg')"
      ],
      "id": "meoFskZSa3AS"
    },
    {
      "cell_type": "markdown",
      "metadata": {
        "id": "l4GmMWVma3AS"
      },
      "source": [
        "### Mount Google Drive to Colab Environment"
      ],
      "id": "l4GmMWVma3AS"
    },
    {
      "cell_type": "code",
      "execution_count": 4,
      "metadata": {
        "id": "zDMUmHNEa3AT",
        "outputId": "5325ddbf-48df-4b7c-ea25-23407bb5b124",
        "colab": {
          "base_uri": "https://localhost:8080/"
        }
      },
      "outputs": [
        {
          "output_type": "stream",
          "name": "stdout",
          "text": [
            "Mounted at /content/gdrive\n"
          ]
        }
      ],
      "source": [
        "from google.colab import drive\n",
        "drive.mount('/content/gdrive')"
      ],
      "id": "zDMUmHNEa3AT"
    },
    {
      "cell_type": "markdown",
      "metadata": {
        "id": "YGekOXfXa3AU"
      },
      "source": [
        "### NLTK Downloads"
      ],
      "id": "YGekOXfXa3AU"
    },
    {
      "cell_type": "code",
      "execution_count": 5,
      "metadata": {
        "colab": {
          "base_uri": "https://localhost:8080/"
        },
        "id": "-zgAZ6Gxa3AU",
        "outputId": "464f5929-42d2-4dd9-8094-bdf8e45bddcd"
      },
      "outputs": [
        {
          "output_type": "execute_result",
          "data": {
            "text/plain": [
              "True"
            ]
          },
          "metadata": {},
          "execution_count": 5
        }
      ],
      "source": [
        "# Only run this once, they will be downloaded.\n",
        "nltk.download('stopwords',quiet=True)\n",
        "nltk.download('wordnet',quiet=True)\n",
        "nltk.download('punkt',quiet=True)\n",
        "nltk.download('omw-1.4',quiet=True)"
      ],
      "id": "-zgAZ6Gxa3AU"
    },
    {
      "cell_type": "markdown",
      "metadata": {
        "id": "IkXQ8BNMa3AW"
      },
      "source": [
        "<div class=\"alert alert-block alert-danger\">\n",
        "<b>Gensim</b> is a Python library for topic modelling, document indexing and similarity retrieval with large corpora. Target audience is the natural language processing (NLP) and information retrieval (IR) community <br><br>\n",
        "    <b>https://pypi.org/project/gensim/ </b>\n",
        "</div>"
      ],
      "id": "IkXQ8BNMa3AW"
    },
    {
      "cell_type": "code",
      "execution_count": 6,
      "metadata": {
        "id": "QBRVq1pma3AW"
      },
      "outputs": [],
      "source": [
        "import pkg_resources\n",
        "#pkg_resources.require(\"gensim<=3.8.3\");"
      ],
      "id": "QBRVq1pma3AW"
    },
    {
      "cell_type": "code",
      "execution_count": 7,
      "metadata": {
        "colab": {
          "base_uri": "https://localhost:8080/"
        },
        "id": "JKIg6MlPa3AX",
        "outputId": "894273e9-10ee-4a73-eab7-88c88ba56e60"
      },
      "outputs": [
        {
          "output_type": "stream",
          "name": "stdout",
          "text": [
            "Genism Version:  4.3.2\n"
          ]
        }
      ],
      "source": [
        "print(\"Genism Version: \", gensim.__version__)"
      ],
      "id": "JKIg6MlPa3AX"
    },
    {
      "cell_type": "markdown",
      "metadata": {
        "id": "OySRSOAna3AX"
      },
      "source": [
        "<div class=\"alert alert-block alert-info\">\n",
        "    <b>Suppress warning messages</b></div>"
      ],
      "id": "OySRSOAna3AX"
    },
    {
      "cell_type": "code",
      "execution_count": 8,
      "metadata": {
        "id": "0w4TZ5Wha3AX"
      },
      "outputs": [],
      "source": [
        "def warn(*args, **kwargs):\n",
        "    pass\n",
        "import warnings\n",
        "warnings.warn = warn"
      ],
      "id": "0w4TZ5Wha3AX"
    },
    {
      "cell_type": "markdown",
      "metadata": {
        "id": "G2JtEj_0a3AY"
      },
      "source": [
        "## Data Wrangling Utility Functions"
      ],
      "id": "G2JtEj_0a3AY"
    },
    {
      "cell_type": "code",
      "execution_count": 9,
      "metadata": {
        "id": "vxBi5x5Ga3AZ"
      },
      "outputs": [],
      "source": [
        "def add_movie_descriptor(data: pd.DataFrame, corpus_df: pd.DataFrame):\n",
        "    \"\"\"\n",
        "    Adds \"Movie Description\" to the supplied dataframe, in the form {Genre}_{P|N}_{Movie Title}_{DocID}\n",
        "    \"\"\"\n",
        "    review = np.where(corpus_df['Review Type (pos or neg)'] == 'Positive', 'P', 'N')\n",
        "    data['Descriptor'] = corpus_df['Genre of Movie'] + '_' + corpus_df['Movie Title'] + '_' + review + '_' + corpus_df['Doc_ID'].astype(str)\n",
        "\n",
        "def get_corpus_df(path: str) -> pd.DataFrame:\n",
        "    data = pd.read_csv(path,encoding=\"utf-8\")\n",
        "    add_movie_descriptor(data, data)\n",
        "    sorted_data = data.sort_values(['Descriptor'])\n",
        "    indexed_data = sorted_data.set_index(['Doc_ID'])\n",
        "    indexed_data['Doc_ID'] = indexed_data.index\n",
        "    return indexed_data\n",
        "\n",
        "def remove_punctuation(text: str) -> str:\n",
        "    return re.sub('[^a-zA-Z]', '', str(text))\n",
        "\n",
        "def remove_tags(text: str) -> str:\n",
        "    return re.sub('&lt;/?.*?&gt;', '', text)\n",
        "\n",
        "def remove_special_chars_and_digits(text: str) -> str:\n",
        "    return re.sub('(\\\\d|\\\\W)+', '', text)\n",
        "\n",
        "def get_sentences(text: str) -> List[str]:\n",
        "    return [str(x) for x in nlp(text).sents]\n",
        "\n",
        "def get_coref_resolved_sentences(text: str) -> List[str]:\n",
        "    return [str(x) for x in nlp(text).sents]\n",
        "\n",
        "def get_lemmas(text: str, stopwords: Set[str]) -> List[str]:\n",
        "    initial = [remove_tags(remove_special_chars_and_digits(remove_punctuation(x.lemma_.lower()))) for x in nlp(text)]\n",
        "    return [x for x in initial if x not in stopwords]\n",
        "\n",
        "def lemmatize_sentence(text: str, stopwords: Set[str]) -> str:\n",
        "    return ' '.join(get_lemmas(text, stopwords))\n",
        "\n",
        "def clean_doc(doc):\n",
        "    #doc = remove_punctuation(doc)\n",
        "    doc= ' '.join(remove_stop_words(doc))\n",
        "    doc = apply_lemmatization(doc)\n",
        "    return doc\n",
        "\n",
        "def remove_stop_words(in_text):\n",
        "    stop_words = set(stopwords.words('english'))\n",
        "    word_tokens = word_tokenize(in_text)\n",
        "    filtered_sentence = [w for w in word_tokens if not w in stop_words]\n",
        "    return filtered_sentence\n",
        "\n",
        "def apply_lemmatization(in_text):\n",
        "    # Lemmatization\n",
        "    lem = WordNetLemmatizer()\n",
        "    word_list = nltk.word_tokenize(in_text)\n",
        "    output = ' '.join([lem.lemmatize(w) for w in word_list])\n",
        "    return output\n",
        "\n",
        "def counter_word(text):\n",
        "  count=Counter()\n",
        "  for i in text.values:\n",
        "    for word in i.split():\n",
        "      count[word]=+1\n",
        "  return count\n",
        "\n",
        "def get_dataset_partitions_pd(df, train_split=0.8, val_split=0.10, test_split=0.10):\n",
        "       # Specify seed to always have the same split distribution between runs\n",
        "  df_sample = df.sample(frac=1, random_state=12)\n",
        "  indices_or_sections = [int(.8*len(df)), int(.9*len(df))]\n",
        "  train_ds, val_ds, test_ds = np.split(df_sample, indices_or_sections)\n",
        "  return train_ds, val_ds, test_ds"
      ],
      "id": "vxBi5x5Ga3AZ"
    },
    {
      "cell_type": "markdown",
      "metadata": {
        "id": "h3HpYEQma3Ae"
      },
      "source": [
        "## Visualization Utility Functions"
      ],
      "id": "h3HpYEQma3Ae"
    },
    {
      "cell_type": "code",
      "execution_count": 10,
      "metadata": {
        "id": "dKM5avFHa3Ae"
      },
      "outputs": [],
      "source": [
        "def plot_confusion_matrix_labeled(y_true, y_pred, CLASSES_LIST):\n",
        "    mtx = confusion_matrix(y_true, y_pred)\n",
        "    # define classes\n",
        "    classes = CLASSES_LIST\n",
        "    temp_df = pd.DataFrame(data=mtx,columns=classes)\n",
        "    temp_df.index = classes\n",
        "    fig, ax = plt.subplots(figsize=(10,10))\n",
        "    sns.heatmap(temp_df, annot=True, fmt='d', linewidths=.75,  cbar=False, ax=ax,cmap='Blues',linecolor='white')\n",
        "    #  square=True,\n",
        "    plt.ylabel('true label')\n",
        "    plt.xlabel('predicted label')\n",
        "\n",
        "def plot_graphs(history, metric):\n",
        "  plt.plot(history.history[metric])\n",
        "  plt.plot(history.history['val_'+metric], '')\n",
        "  plt.xlabel(\"Epochs\")\n",
        "  plt.ylabel(metric)\n",
        "  plt.legend([metric, 'val_'+metric])\n",
        "\n",
        "def display_training_curves(training, validation, title, subplot):\n",
        "  ax = plt.subplot(subplot)\n",
        "  ax.plot(training)\n",
        "  ax.plot(validation)\n",
        "  ax.set_title('model '+ title)\n",
        "  ax.set_ylabel(title)\n",
        "  ax.set_xlabel('epoch')\n",
        "  ax.legend(['training', 'validation'])"
      ],
      "id": "dKM5avFHa3Ae"
    },
    {
      "cell_type": "markdown",
      "metadata": {
        "id": "ivV9e_Hha3Ae"
      },
      "source": [
        "## Loading the Class Corpus"
      ],
      "id": "ivV9e_Hha3Ae"
    },
    {
      "cell_type": "code",
      "execution_count": 11,
      "metadata": {
        "id": "wIzJs8lEa3Ae"
      },
      "outputs": [],
      "source": [
        "CORPUS_PATH=\\\n",
        "'/content/gdrive/MyDrive/Temp/MSDS453/MSDS453_ClassCorpus_Final_Sec57_v2_20230928.csv'\n",
        "corpus_df = get_corpus_df(CORPUS_PATH)"
      ],
      "id": "wIzJs8lEa3Ae"
    },
    {
      "cell_type": "markdown",
      "metadata": {
        "id": "jw2-5h6ha3Af"
      },
      "source": [
        "## Exploratory Data Analysis"
      ],
      "id": "jw2-5h6ha3Af"
    },
    {
      "cell_type": "code",
      "execution_count": 12,
      "metadata": {
        "colab": {
          "base_uri": "https://localhost:8080/",
          "height": 363
        },
        "id": "x0DA0tgGa3Af",
        "outputId": "632003ce-f764-473b-bf90-1df5c91b37d1"
      },
      "outputs": [
        {
          "output_type": "execute_result",
          "data": {
            "text/plain": [
              "Doc_ID                                                                   90  \\\n",
              "DSI_Title                                         LKP_Doc1_Angel_has_fallen   \n",
              "Text                      Target is on the move . '' Heavily outnumbered...   \n",
              "Submission File Name                              LKP_Doc1_Angel_has_fallen   \n",
              "Student Name                                                            LKP   \n",
              "Genre of Movie                                                       Action   \n",
              "Review Type (pos or neg)                                           Negative   \n",
              "Movie Title                                                Angel_has_fallen   \n",
              "Descriptor                                     Action_Angel_has_fallen_N_90   \n",
              "Doc_ID                                                                   90   \n",
              "raw_sentences             [Target is on the move . '', Heavily outnumber...   \n",
              "\n",
              "Doc_ID                                                                   91  \\\n",
              "DSI_Title                                         LKP_Doc2_Angel_has_fallen   \n",
              "Text                      The sleepy , dopey action bonanza `` Angel Has...   \n",
              "Submission File Name                              LKP_Doc2_Angel_has_fallen   \n",
              "Student Name                                                            LKP   \n",
              "Genre of Movie                                                       Action   \n",
              "Review Type (pos or neg)                                           Negative   \n",
              "Movie Title                                                Angel_has_fallen   \n",
              "Descriptor                                     Action_Angel_has_fallen_N_91   \n",
              "Doc_ID                                                                   91   \n",
              "raw_sentences             [The sleepy , dopey action bonanza `` Angel Ha...   \n",
              "\n",
              "Doc_ID                                                                   92  \n",
              "DSI_Title                                         LKP_Doc3_Angel_has_fallen  \n",
              "Text                      `` Angel Has Fallen '' marks the third time th...  \n",
              "Submission File Name                              LKP_Doc3_Angel_has_fallen  \n",
              "Student Name                                                            LKP  \n",
              "Genre of Movie                                                       Action  \n",
              "Review Type (pos or neg)                                           Negative  \n",
              "Movie Title                                                Angel_has_fallen  \n",
              "Descriptor                                     Action_Angel_has_fallen_N_92  \n",
              "Doc_ID                                                                   92  \n",
              "raw_sentences             [`` Angel Has Fallen '' marks the third time t...  "
            ],
            "text/html": [
              "\n",
              "  <div id=\"df-c7411d6b-eb09-4526-87dd-b21bdb6bc0c6\" class=\"colab-df-container\">\n",
              "    <div>\n",
              "<style scoped>\n",
              "    .dataframe tbody tr th:only-of-type {\n",
              "        vertical-align: middle;\n",
              "    }\n",
              "\n",
              "    .dataframe tbody tr th {\n",
              "        vertical-align: top;\n",
              "    }\n",
              "\n",
              "    .dataframe thead th {\n",
              "        text-align: right;\n",
              "    }\n",
              "</style>\n",
              "<table border=\"1\" class=\"dataframe\">\n",
              "  <thead>\n",
              "    <tr style=\"text-align: right;\">\n",
              "      <th>Doc_ID</th>\n",
              "      <th>90</th>\n",
              "      <th>91</th>\n",
              "      <th>92</th>\n",
              "    </tr>\n",
              "  </thead>\n",
              "  <tbody>\n",
              "    <tr>\n",
              "      <th>DSI_Title</th>\n",
              "      <td>LKP_Doc1_Angel_has_fallen</td>\n",
              "      <td>LKP_Doc2_Angel_has_fallen</td>\n",
              "      <td>LKP_Doc3_Angel_has_fallen</td>\n",
              "    </tr>\n",
              "    <tr>\n",
              "      <th>Text</th>\n",
              "      <td>Target is on the move . '' Heavily outnumbered...</td>\n",
              "      <td>The sleepy , dopey action bonanza `` Angel Has...</td>\n",
              "      <td>`` Angel Has Fallen '' marks the third time th...</td>\n",
              "    </tr>\n",
              "    <tr>\n",
              "      <th>Submission File Name</th>\n",
              "      <td>LKP_Doc1_Angel_has_fallen</td>\n",
              "      <td>LKP_Doc2_Angel_has_fallen</td>\n",
              "      <td>LKP_Doc3_Angel_has_fallen</td>\n",
              "    </tr>\n",
              "    <tr>\n",
              "      <th>Student Name</th>\n",
              "      <td>LKP</td>\n",
              "      <td>LKP</td>\n",
              "      <td>LKP</td>\n",
              "    </tr>\n",
              "    <tr>\n",
              "      <th>Genre of Movie</th>\n",
              "      <td>Action</td>\n",
              "      <td>Action</td>\n",
              "      <td>Action</td>\n",
              "    </tr>\n",
              "    <tr>\n",
              "      <th>Review Type (pos or neg)</th>\n",
              "      <td>Negative</td>\n",
              "      <td>Negative</td>\n",
              "      <td>Negative</td>\n",
              "    </tr>\n",
              "    <tr>\n",
              "      <th>Movie Title</th>\n",
              "      <td>Angel_has_fallen</td>\n",
              "      <td>Angel_has_fallen</td>\n",
              "      <td>Angel_has_fallen</td>\n",
              "    </tr>\n",
              "    <tr>\n",
              "      <th>Descriptor</th>\n",
              "      <td>Action_Angel_has_fallen_N_90</td>\n",
              "      <td>Action_Angel_has_fallen_N_91</td>\n",
              "      <td>Action_Angel_has_fallen_N_92</td>\n",
              "    </tr>\n",
              "    <tr>\n",
              "      <th>Doc_ID</th>\n",
              "      <td>90</td>\n",
              "      <td>91</td>\n",
              "      <td>92</td>\n",
              "    </tr>\n",
              "    <tr>\n",
              "      <th>raw_sentences</th>\n",
              "      <td>[Target is on the move . '', Heavily outnumber...</td>\n",
              "      <td>[The sleepy , dopey action bonanza `` Angel Ha...</td>\n",
              "      <td>[`` Angel Has Fallen '' marks the third time t...</td>\n",
              "    </tr>\n",
              "  </tbody>\n",
              "</table>\n",
              "</div>\n",
              "    <div class=\"colab-df-buttons\">\n",
              "\n",
              "  <div class=\"colab-df-container\">\n",
              "    <button class=\"colab-df-convert\" onclick=\"convertToInteractive('df-c7411d6b-eb09-4526-87dd-b21bdb6bc0c6')\"\n",
              "            title=\"Convert this dataframe to an interactive table.\"\n",
              "            style=\"display:none;\">\n",
              "\n",
              "  <svg xmlns=\"http://www.w3.org/2000/svg\" height=\"24px\" viewBox=\"0 -960 960 960\">\n",
              "    <path d=\"M120-120v-720h720v720H120Zm60-500h600v-160H180v160Zm220 220h160v-160H400v160Zm0 220h160v-160H400v160ZM180-400h160v-160H180v160Zm440 0h160v-160H620v160ZM180-180h160v-160H180v160Zm440 0h160v-160H620v160Z\"/>\n",
              "  </svg>\n",
              "    </button>\n",
              "\n",
              "  <style>\n",
              "    .colab-df-container {\n",
              "      display:flex;\n",
              "      gap: 12px;\n",
              "    }\n",
              "\n",
              "    .colab-df-convert {\n",
              "      background-color: #E8F0FE;\n",
              "      border: none;\n",
              "      border-radius: 50%;\n",
              "      cursor: pointer;\n",
              "      display: none;\n",
              "      fill: #1967D2;\n",
              "      height: 32px;\n",
              "      padding: 0 0 0 0;\n",
              "      width: 32px;\n",
              "    }\n",
              "\n",
              "    .colab-df-convert:hover {\n",
              "      background-color: #E2EBFA;\n",
              "      box-shadow: 0px 1px 2px rgba(60, 64, 67, 0.3), 0px 1px 3px 1px rgba(60, 64, 67, 0.15);\n",
              "      fill: #174EA6;\n",
              "    }\n",
              "\n",
              "    .colab-df-buttons div {\n",
              "      margin-bottom: 4px;\n",
              "    }\n",
              "\n",
              "    [theme=dark] .colab-df-convert {\n",
              "      background-color: #3B4455;\n",
              "      fill: #D2E3FC;\n",
              "    }\n",
              "\n",
              "    [theme=dark] .colab-df-convert:hover {\n",
              "      background-color: #434B5C;\n",
              "      box-shadow: 0px 1px 3px 1px rgba(0, 0, 0, 0.15);\n",
              "      filter: drop-shadow(0px 1px 2px rgba(0, 0, 0, 0.3));\n",
              "      fill: #FFFFFF;\n",
              "    }\n",
              "  </style>\n",
              "\n",
              "    <script>\n",
              "      const buttonEl =\n",
              "        document.querySelector('#df-c7411d6b-eb09-4526-87dd-b21bdb6bc0c6 button.colab-df-convert');\n",
              "      buttonEl.style.display =\n",
              "        google.colab.kernel.accessAllowed ? 'block' : 'none';\n",
              "\n",
              "      async function convertToInteractive(key) {\n",
              "        const element = document.querySelector('#df-c7411d6b-eb09-4526-87dd-b21bdb6bc0c6');\n",
              "        const dataTable =\n",
              "          await google.colab.kernel.invokeFunction('convertToInteractive',\n",
              "                                                    [key], {});\n",
              "        if (!dataTable) return;\n",
              "\n",
              "        const docLinkHtml = 'Like what you see? Visit the ' +\n",
              "          '<a target=\"_blank\" href=https://colab.research.google.com/notebooks/data_table.ipynb>data table notebook</a>'\n",
              "          + ' to learn more about interactive tables.';\n",
              "        element.innerHTML = '';\n",
              "        dataTable['output_type'] = 'display_data';\n",
              "        await google.colab.output.renderOutput(dataTable, element);\n",
              "        const docLink = document.createElement('div');\n",
              "        docLink.innerHTML = docLinkHtml;\n",
              "        element.appendChild(docLink);\n",
              "      }\n",
              "    </script>\n",
              "  </div>\n",
              "\n",
              "\n",
              "<div id=\"df-739d5601-aec2-4159-95f7-48d1f0ddef65\">\n",
              "  <button class=\"colab-df-quickchart\" onclick=\"quickchart('df-739d5601-aec2-4159-95f7-48d1f0ddef65')\"\n",
              "            title=\"Suggest charts.\"\n",
              "            style=\"display:none;\">\n",
              "\n",
              "<svg xmlns=\"http://www.w3.org/2000/svg\" height=\"24px\"viewBox=\"0 0 24 24\"\n",
              "     width=\"24px\">\n",
              "    <g>\n",
              "        <path d=\"M19 3H5c-1.1 0-2 .9-2 2v14c0 1.1.9 2 2 2h14c1.1 0 2-.9 2-2V5c0-1.1-.9-2-2-2zM9 17H7v-7h2v7zm4 0h-2V7h2v10zm4 0h-2v-4h2v4z\"/>\n",
              "    </g>\n",
              "</svg>\n",
              "  </button>\n",
              "\n",
              "<style>\n",
              "  .colab-df-quickchart {\n",
              "      --bg-color: #E8F0FE;\n",
              "      --fill-color: #1967D2;\n",
              "      --hover-bg-color: #E2EBFA;\n",
              "      --hover-fill-color: #174EA6;\n",
              "      --disabled-fill-color: #AAA;\n",
              "      --disabled-bg-color: #DDD;\n",
              "  }\n",
              "\n",
              "  [theme=dark] .colab-df-quickchart {\n",
              "      --bg-color: #3B4455;\n",
              "      --fill-color: #D2E3FC;\n",
              "      --hover-bg-color: #434B5C;\n",
              "      --hover-fill-color: #FFFFFF;\n",
              "      --disabled-bg-color: #3B4455;\n",
              "      --disabled-fill-color: #666;\n",
              "  }\n",
              "\n",
              "  .colab-df-quickchart {\n",
              "    background-color: var(--bg-color);\n",
              "    border: none;\n",
              "    border-radius: 50%;\n",
              "    cursor: pointer;\n",
              "    display: none;\n",
              "    fill: var(--fill-color);\n",
              "    height: 32px;\n",
              "    padding: 0;\n",
              "    width: 32px;\n",
              "  }\n",
              "\n",
              "  .colab-df-quickchart:hover {\n",
              "    background-color: var(--hover-bg-color);\n",
              "    box-shadow: 0 1px 2px rgba(60, 64, 67, 0.3), 0 1px 3px 1px rgba(60, 64, 67, 0.15);\n",
              "    fill: var(--button-hover-fill-color);\n",
              "  }\n",
              "\n",
              "  .colab-df-quickchart-complete:disabled,\n",
              "  .colab-df-quickchart-complete:disabled:hover {\n",
              "    background-color: var(--disabled-bg-color);\n",
              "    fill: var(--disabled-fill-color);\n",
              "    box-shadow: none;\n",
              "  }\n",
              "\n",
              "  .colab-df-spinner {\n",
              "    border: 2px solid var(--fill-color);\n",
              "    border-color: transparent;\n",
              "    border-bottom-color: var(--fill-color);\n",
              "    animation:\n",
              "      spin 1s steps(1) infinite;\n",
              "  }\n",
              "\n",
              "  @keyframes spin {\n",
              "    0% {\n",
              "      border-color: transparent;\n",
              "      border-bottom-color: var(--fill-color);\n",
              "      border-left-color: var(--fill-color);\n",
              "    }\n",
              "    20% {\n",
              "      border-color: transparent;\n",
              "      border-left-color: var(--fill-color);\n",
              "      border-top-color: var(--fill-color);\n",
              "    }\n",
              "    30% {\n",
              "      border-color: transparent;\n",
              "      border-left-color: var(--fill-color);\n",
              "      border-top-color: var(--fill-color);\n",
              "      border-right-color: var(--fill-color);\n",
              "    }\n",
              "    40% {\n",
              "      border-color: transparent;\n",
              "      border-right-color: var(--fill-color);\n",
              "      border-top-color: var(--fill-color);\n",
              "    }\n",
              "    60% {\n",
              "      border-color: transparent;\n",
              "      border-right-color: var(--fill-color);\n",
              "    }\n",
              "    80% {\n",
              "      border-color: transparent;\n",
              "      border-right-color: var(--fill-color);\n",
              "      border-bottom-color: var(--fill-color);\n",
              "    }\n",
              "    90% {\n",
              "      border-color: transparent;\n",
              "      border-bottom-color: var(--fill-color);\n",
              "    }\n",
              "  }\n",
              "</style>\n",
              "\n",
              "  <script>\n",
              "    async function quickchart(key) {\n",
              "      const quickchartButtonEl =\n",
              "        document.querySelector('#' + key + ' button');\n",
              "      quickchartButtonEl.disabled = true;  // To prevent multiple clicks.\n",
              "      quickchartButtonEl.classList.add('colab-df-spinner');\n",
              "      try {\n",
              "        const charts = await google.colab.kernel.invokeFunction(\n",
              "            'suggestCharts', [key], {});\n",
              "      } catch (error) {\n",
              "        console.error('Error during call to suggestCharts:', error);\n",
              "      }\n",
              "      quickchartButtonEl.classList.remove('colab-df-spinner');\n",
              "      quickchartButtonEl.classList.add('colab-df-quickchart-complete');\n",
              "    }\n",
              "    (() => {\n",
              "      let quickchartButtonEl =\n",
              "        document.querySelector('#df-739d5601-aec2-4159-95f7-48d1f0ddef65 button');\n",
              "      quickchartButtonEl.style.display =\n",
              "        google.colab.kernel.accessAllowed ? 'block' : 'none';\n",
              "    })();\n",
              "  </script>\n",
              "</div>\n",
              "    </div>\n",
              "  </div>\n"
            ]
          },
          "metadata": {},
          "execution_count": 12
        }
      ],
      "source": [
        "# Tokenize sentences\n",
        "corpus_df['raw_sentences'] = corpus_df.Text.apply(get_sentences)\n",
        "corpus_df.head(3).T"
      ],
      "id": "x0DA0tgGa3Af"
    },
    {
      "cell_type": "markdown",
      "metadata": {
        "id": "Tjsk_ujna3Af"
      },
      "source": [
        "## Tokenize Words"
      ],
      "id": "Tjsk_ujna3Af"
    },
    {
      "cell_type": "code",
      "execution_count": 13,
      "metadata": {
        "scrolled": false,
        "colab": {
          "base_uri": "https://localhost:8080/"
        },
        "id": "cYstpp6Ga3Af",
        "outputId": "ecf9811b-dd41-48e7-ceda-bcd0ecc35f5e"
      },
      "outputs": [
        {
          "output_type": "execute_result",
          "data": {
            "text/plain": [
              "Doc_ID\n",
              "90    [target, heavily, outnumber, outgunne, mike, b...\n",
              "91    [sleepy, dopey, action, bonanza, angel, fall, ...\n",
              "92    [angel, fall, mark, time, gerard, butler, secr...\n",
              "93    [improve, blandness, mike, banning, gerard, bu...\n",
              "94    [review, contain, spoiler, angel, fallen, movi...\n",
              "Name: lemmas, dtype: object"
            ]
          },
          "metadata": {},
          "execution_count": 13
        }
      ],
      "source": [
        "default_stopwords=\\\n",
        "set(nltk.corpus.stopwords.words('english')).union(set(nlp.Defaults.stop_words)).union({' ', ''})\n",
        "corpus_df['lemmas'] = corpus_df.Text.apply(lambda x: get_lemmas(x, default_stopwords))\n",
        "corpus_df.lemmas.head()"
      ],
      "id": "cYstpp6Ga3Af"
    },
    {
      "cell_type": "code",
      "execution_count": 14,
      "metadata": {
        "colab": {
          "base_uri": "https://localhost:8080/",
          "height": 395
        },
        "id": "XtQnmBvAa3Af",
        "outputId": "af3502b4-163e-4307-8633-73e6f0cc41ce"
      },
      "outputs": [
        {
          "output_type": "execute_result",
          "data": {
            "text/plain": [
              "Doc_ID                                                                   90  \\\n",
              "DSI_Title                                         LKP_Doc1_Angel_has_fallen   \n",
              "Text                      Target is on the move . '' Heavily outnumbered...   \n",
              "Submission File Name                              LKP_Doc1_Angel_has_fallen   \n",
              "Student Name                                                            LKP   \n",
              "Genre of Movie                                                       Action   \n",
              "Review Type (pos or neg)                                           Negative   \n",
              "Movie Title                                                Angel_has_fallen   \n",
              "Descriptor                                     Action_Angel_has_fallen_N_90   \n",
              "Doc_ID                                                                   90   \n",
              "raw_sentences             [Target is on the move . '', Heavily outnumber...   \n",
              "lemmas                    [target, heavily, outnumber, outgunne, mike, b...   \n",
              "\n",
              "Doc_ID                                                                   91  \\\n",
              "DSI_Title                                         LKP_Doc2_Angel_has_fallen   \n",
              "Text                      The sleepy , dopey action bonanza `` Angel Has...   \n",
              "Submission File Name                              LKP_Doc2_Angel_has_fallen   \n",
              "Student Name                                                            LKP   \n",
              "Genre of Movie                                                       Action   \n",
              "Review Type (pos or neg)                                           Negative   \n",
              "Movie Title                                                Angel_has_fallen   \n",
              "Descriptor                                     Action_Angel_has_fallen_N_91   \n",
              "Doc_ID                                                                   91   \n",
              "raw_sentences             [The sleepy , dopey action bonanza `` Angel Ha...   \n",
              "lemmas                    [sleepy, dopey, action, bonanza, angel, fall, ...   \n",
              "\n",
              "Doc_ID                                                                   92  \n",
              "DSI_Title                                         LKP_Doc3_Angel_has_fallen  \n",
              "Text                      `` Angel Has Fallen '' marks the third time th...  \n",
              "Submission File Name                              LKP_Doc3_Angel_has_fallen  \n",
              "Student Name                                                            LKP  \n",
              "Genre of Movie                                                       Action  \n",
              "Review Type (pos or neg)                                           Negative  \n",
              "Movie Title                                                Angel_has_fallen  \n",
              "Descriptor                                     Action_Angel_has_fallen_N_92  \n",
              "Doc_ID                                                                   92  \n",
              "raw_sentences             [`` Angel Has Fallen '' marks the third time t...  \n",
              "lemmas                    [angel, fall, mark, time, gerard, butler, secr...  "
            ],
            "text/html": [
              "\n",
              "  <div id=\"df-fd9a9779-778b-404b-88e3-9eee5f42c80c\" class=\"colab-df-container\">\n",
              "    <div>\n",
              "<style scoped>\n",
              "    .dataframe tbody tr th:only-of-type {\n",
              "        vertical-align: middle;\n",
              "    }\n",
              "\n",
              "    .dataframe tbody tr th {\n",
              "        vertical-align: top;\n",
              "    }\n",
              "\n",
              "    .dataframe thead th {\n",
              "        text-align: right;\n",
              "    }\n",
              "</style>\n",
              "<table border=\"1\" class=\"dataframe\">\n",
              "  <thead>\n",
              "    <tr style=\"text-align: right;\">\n",
              "      <th>Doc_ID</th>\n",
              "      <th>90</th>\n",
              "      <th>91</th>\n",
              "      <th>92</th>\n",
              "    </tr>\n",
              "  </thead>\n",
              "  <tbody>\n",
              "    <tr>\n",
              "      <th>DSI_Title</th>\n",
              "      <td>LKP_Doc1_Angel_has_fallen</td>\n",
              "      <td>LKP_Doc2_Angel_has_fallen</td>\n",
              "      <td>LKP_Doc3_Angel_has_fallen</td>\n",
              "    </tr>\n",
              "    <tr>\n",
              "      <th>Text</th>\n",
              "      <td>Target is on the move . '' Heavily outnumbered...</td>\n",
              "      <td>The sleepy , dopey action bonanza `` Angel Has...</td>\n",
              "      <td>`` Angel Has Fallen '' marks the third time th...</td>\n",
              "    </tr>\n",
              "    <tr>\n",
              "      <th>Submission File Name</th>\n",
              "      <td>LKP_Doc1_Angel_has_fallen</td>\n",
              "      <td>LKP_Doc2_Angel_has_fallen</td>\n",
              "      <td>LKP_Doc3_Angel_has_fallen</td>\n",
              "    </tr>\n",
              "    <tr>\n",
              "      <th>Student Name</th>\n",
              "      <td>LKP</td>\n",
              "      <td>LKP</td>\n",
              "      <td>LKP</td>\n",
              "    </tr>\n",
              "    <tr>\n",
              "      <th>Genre of Movie</th>\n",
              "      <td>Action</td>\n",
              "      <td>Action</td>\n",
              "      <td>Action</td>\n",
              "    </tr>\n",
              "    <tr>\n",
              "      <th>Review Type (pos or neg)</th>\n",
              "      <td>Negative</td>\n",
              "      <td>Negative</td>\n",
              "      <td>Negative</td>\n",
              "    </tr>\n",
              "    <tr>\n",
              "      <th>Movie Title</th>\n",
              "      <td>Angel_has_fallen</td>\n",
              "      <td>Angel_has_fallen</td>\n",
              "      <td>Angel_has_fallen</td>\n",
              "    </tr>\n",
              "    <tr>\n",
              "      <th>Descriptor</th>\n",
              "      <td>Action_Angel_has_fallen_N_90</td>\n",
              "      <td>Action_Angel_has_fallen_N_91</td>\n",
              "      <td>Action_Angel_has_fallen_N_92</td>\n",
              "    </tr>\n",
              "    <tr>\n",
              "      <th>Doc_ID</th>\n",
              "      <td>90</td>\n",
              "      <td>91</td>\n",
              "      <td>92</td>\n",
              "    </tr>\n",
              "    <tr>\n",
              "      <th>raw_sentences</th>\n",
              "      <td>[Target is on the move . '', Heavily outnumber...</td>\n",
              "      <td>[The sleepy , dopey action bonanza `` Angel Ha...</td>\n",
              "      <td>[`` Angel Has Fallen '' marks the third time t...</td>\n",
              "    </tr>\n",
              "    <tr>\n",
              "      <th>lemmas</th>\n",
              "      <td>[target, heavily, outnumber, outgunne, mike, b...</td>\n",
              "      <td>[sleepy, dopey, action, bonanza, angel, fall, ...</td>\n",
              "      <td>[angel, fall, mark, time, gerard, butler, secr...</td>\n",
              "    </tr>\n",
              "  </tbody>\n",
              "</table>\n",
              "</div>\n",
              "    <div class=\"colab-df-buttons\">\n",
              "\n",
              "  <div class=\"colab-df-container\">\n",
              "    <button class=\"colab-df-convert\" onclick=\"convertToInteractive('df-fd9a9779-778b-404b-88e3-9eee5f42c80c')\"\n",
              "            title=\"Convert this dataframe to an interactive table.\"\n",
              "            style=\"display:none;\">\n",
              "\n",
              "  <svg xmlns=\"http://www.w3.org/2000/svg\" height=\"24px\" viewBox=\"0 -960 960 960\">\n",
              "    <path d=\"M120-120v-720h720v720H120Zm60-500h600v-160H180v160Zm220 220h160v-160H400v160Zm0 220h160v-160H400v160ZM180-400h160v-160H180v160Zm440 0h160v-160H620v160ZM180-180h160v-160H180v160Zm440 0h160v-160H620v160Z\"/>\n",
              "  </svg>\n",
              "    </button>\n",
              "\n",
              "  <style>\n",
              "    .colab-df-container {\n",
              "      display:flex;\n",
              "      gap: 12px;\n",
              "    }\n",
              "\n",
              "    .colab-df-convert {\n",
              "      background-color: #E8F0FE;\n",
              "      border: none;\n",
              "      border-radius: 50%;\n",
              "      cursor: pointer;\n",
              "      display: none;\n",
              "      fill: #1967D2;\n",
              "      height: 32px;\n",
              "      padding: 0 0 0 0;\n",
              "      width: 32px;\n",
              "    }\n",
              "\n",
              "    .colab-df-convert:hover {\n",
              "      background-color: #E2EBFA;\n",
              "      box-shadow: 0px 1px 2px rgba(60, 64, 67, 0.3), 0px 1px 3px 1px rgba(60, 64, 67, 0.15);\n",
              "      fill: #174EA6;\n",
              "    }\n",
              "\n",
              "    .colab-df-buttons div {\n",
              "      margin-bottom: 4px;\n",
              "    }\n",
              "\n",
              "    [theme=dark] .colab-df-convert {\n",
              "      background-color: #3B4455;\n",
              "      fill: #D2E3FC;\n",
              "    }\n",
              "\n",
              "    [theme=dark] .colab-df-convert:hover {\n",
              "      background-color: #434B5C;\n",
              "      box-shadow: 0px 1px 3px 1px rgba(0, 0, 0, 0.15);\n",
              "      filter: drop-shadow(0px 1px 2px rgba(0, 0, 0, 0.3));\n",
              "      fill: #FFFFFF;\n",
              "    }\n",
              "  </style>\n",
              "\n",
              "    <script>\n",
              "      const buttonEl =\n",
              "        document.querySelector('#df-fd9a9779-778b-404b-88e3-9eee5f42c80c button.colab-df-convert');\n",
              "      buttonEl.style.display =\n",
              "        google.colab.kernel.accessAllowed ? 'block' : 'none';\n",
              "\n",
              "      async function convertToInteractive(key) {\n",
              "        const element = document.querySelector('#df-fd9a9779-778b-404b-88e3-9eee5f42c80c');\n",
              "        const dataTable =\n",
              "          await google.colab.kernel.invokeFunction('convertToInteractive',\n",
              "                                                    [key], {});\n",
              "        if (!dataTable) return;\n",
              "\n",
              "        const docLinkHtml = 'Like what you see? Visit the ' +\n",
              "          '<a target=\"_blank\" href=https://colab.research.google.com/notebooks/data_table.ipynb>data table notebook</a>'\n",
              "          + ' to learn more about interactive tables.';\n",
              "        element.innerHTML = '';\n",
              "        dataTable['output_type'] = 'display_data';\n",
              "        await google.colab.output.renderOutput(dataTable, element);\n",
              "        const docLink = document.createElement('div');\n",
              "        docLink.innerHTML = docLinkHtml;\n",
              "        element.appendChild(docLink);\n",
              "      }\n",
              "    </script>\n",
              "  </div>\n",
              "\n",
              "\n",
              "<div id=\"df-c4f09218-1f02-4a2b-bab3-4b09848b1a1b\">\n",
              "  <button class=\"colab-df-quickchart\" onclick=\"quickchart('df-c4f09218-1f02-4a2b-bab3-4b09848b1a1b')\"\n",
              "            title=\"Suggest charts.\"\n",
              "            style=\"display:none;\">\n",
              "\n",
              "<svg xmlns=\"http://www.w3.org/2000/svg\" height=\"24px\"viewBox=\"0 0 24 24\"\n",
              "     width=\"24px\">\n",
              "    <g>\n",
              "        <path d=\"M19 3H5c-1.1 0-2 .9-2 2v14c0 1.1.9 2 2 2h14c1.1 0 2-.9 2-2V5c0-1.1-.9-2-2-2zM9 17H7v-7h2v7zm4 0h-2V7h2v10zm4 0h-2v-4h2v4z\"/>\n",
              "    </g>\n",
              "</svg>\n",
              "  </button>\n",
              "\n",
              "<style>\n",
              "  .colab-df-quickchart {\n",
              "      --bg-color: #E8F0FE;\n",
              "      --fill-color: #1967D2;\n",
              "      --hover-bg-color: #E2EBFA;\n",
              "      --hover-fill-color: #174EA6;\n",
              "      --disabled-fill-color: #AAA;\n",
              "      --disabled-bg-color: #DDD;\n",
              "  }\n",
              "\n",
              "  [theme=dark] .colab-df-quickchart {\n",
              "      --bg-color: #3B4455;\n",
              "      --fill-color: #D2E3FC;\n",
              "      --hover-bg-color: #434B5C;\n",
              "      --hover-fill-color: #FFFFFF;\n",
              "      --disabled-bg-color: #3B4455;\n",
              "      --disabled-fill-color: #666;\n",
              "  }\n",
              "\n",
              "  .colab-df-quickchart {\n",
              "    background-color: var(--bg-color);\n",
              "    border: none;\n",
              "    border-radius: 50%;\n",
              "    cursor: pointer;\n",
              "    display: none;\n",
              "    fill: var(--fill-color);\n",
              "    height: 32px;\n",
              "    padding: 0;\n",
              "    width: 32px;\n",
              "  }\n",
              "\n",
              "  .colab-df-quickchart:hover {\n",
              "    background-color: var(--hover-bg-color);\n",
              "    box-shadow: 0 1px 2px rgba(60, 64, 67, 0.3), 0 1px 3px 1px rgba(60, 64, 67, 0.15);\n",
              "    fill: var(--button-hover-fill-color);\n",
              "  }\n",
              "\n",
              "  .colab-df-quickchart-complete:disabled,\n",
              "  .colab-df-quickchart-complete:disabled:hover {\n",
              "    background-color: var(--disabled-bg-color);\n",
              "    fill: var(--disabled-fill-color);\n",
              "    box-shadow: none;\n",
              "  }\n",
              "\n",
              "  .colab-df-spinner {\n",
              "    border: 2px solid var(--fill-color);\n",
              "    border-color: transparent;\n",
              "    border-bottom-color: var(--fill-color);\n",
              "    animation:\n",
              "      spin 1s steps(1) infinite;\n",
              "  }\n",
              "\n",
              "  @keyframes spin {\n",
              "    0% {\n",
              "      border-color: transparent;\n",
              "      border-bottom-color: var(--fill-color);\n",
              "      border-left-color: var(--fill-color);\n",
              "    }\n",
              "    20% {\n",
              "      border-color: transparent;\n",
              "      border-left-color: var(--fill-color);\n",
              "      border-top-color: var(--fill-color);\n",
              "    }\n",
              "    30% {\n",
              "      border-color: transparent;\n",
              "      border-left-color: var(--fill-color);\n",
              "      border-top-color: var(--fill-color);\n",
              "      border-right-color: var(--fill-color);\n",
              "    }\n",
              "    40% {\n",
              "      border-color: transparent;\n",
              "      border-right-color: var(--fill-color);\n",
              "      border-top-color: var(--fill-color);\n",
              "    }\n",
              "    60% {\n",
              "      border-color: transparent;\n",
              "      border-right-color: var(--fill-color);\n",
              "    }\n",
              "    80% {\n",
              "      border-color: transparent;\n",
              "      border-right-color: var(--fill-color);\n",
              "      border-bottom-color: var(--fill-color);\n",
              "    }\n",
              "    90% {\n",
              "      border-color: transparent;\n",
              "      border-bottom-color: var(--fill-color);\n",
              "    }\n",
              "  }\n",
              "</style>\n",
              "\n",
              "  <script>\n",
              "    async function quickchart(key) {\n",
              "      const quickchartButtonEl =\n",
              "        document.querySelector('#' + key + ' button');\n",
              "      quickchartButtonEl.disabled = true;  // To prevent multiple clicks.\n",
              "      quickchartButtonEl.classList.add('colab-df-spinner');\n",
              "      try {\n",
              "        const charts = await google.colab.kernel.invokeFunction(\n",
              "            'suggestCharts', [key], {});\n",
              "      } catch (error) {\n",
              "        console.error('Error during call to suggestCharts:', error);\n",
              "      }\n",
              "      quickchartButtonEl.classList.remove('colab-df-spinner');\n",
              "      quickchartButtonEl.classList.add('colab-df-quickchart-complete');\n",
              "    }\n",
              "    (() => {\n",
              "      let quickchartButtonEl =\n",
              "        document.querySelector('#df-c4f09218-1f02-4a2b-bab3-4b09848b1a1b button');\n",
              "      quickchartButtonEl.style.display =\n",
              "        google.colab.kernel.accessAllowed ? 'block' : 'none';\n",
              "    })();\n",
              "  </script>\n",
              "</div>\n",
              "    </div>\n",
              "  </div>\n"
            ]
          },
          "metadata": {},
          "execution_count": 14
        }
      ],
      "source": [
        "corpus_df.head(3).T"
      ],
      "id": "XtQnmBvAa3Af"
    },
    {
      "cell_type": "markdown",
      "metadata": {
        "id": "_1mQRpq4a3Af"
      },
      "source": [
        "## Reassemble Leminized Words"
      ],
      "id": "_1mQRpq4a3Af"
    },
    {
      "cell_type": "code",
      "execution_count": 15,
      "metadata": {
        "id": "s1sDV0zQa3Ag"
      },
      "outputs": [],
      "source": [
        "corpus_df['lemmas_joined'] = corpus_df.lemmas.apply(lambda x: ' '.join(x))"
      ],
      "id": "s1sDV0zQa3Ag"
    },
    {
      "cell_type": "code",
      "execution_count": 16,
      "metadata": {
        "colab": {
          "base_uri": "https://localhost:8080/"
        },
        "id": "6Ma4bVjEa3Ag",
        "outputId": "0ae76c89-e949-4707-ab15-7b679cd6db77"
      },
      "outputs": [
        {
          "output_type": "execute_result",
          "data": {
            "text/plain": [
              "Doc_ID\n",
              "90    target heavily outnumber outgunne mike banning...\n",
              "91    sleepy dopey action bonanza angel fall disappo...\n",
              "92    angel fall mark time gerard butler secret serv...\n",
              "93    improve blandness mike banning gerard butler w...\n",
              "94    review contain spoiler angel fallen movie extr...\n",
              "Name: lemmas_joined, dtype: object"
            ]
          },
          "metadata": {},
          "execution_count": 16
        }
      ],
      "source": [
        "corpus_df['lemmas_joined'].head()"
      ],
      "id": "6Ma4bVjEa3Ag"
    },
    {
      "cell_type": "code",
      "execution_count": 17,
      "metadata": {
        "colab": {
          "base_uri": "https://localhost:8080/",
          "height": 426
        },
        "id": "jw0ZsRpda3Ag",
        "outputId": "526192e8-8e5f-4f9c-b045-69569bd43d15"
      },
      "outputs": [
        {
          "output_type": "execute_result",
          "data": {
            "text/plain": [
              "Doc_ID                                                                   90  \\\n",
              "DSI_Title                                         LKP_Doc1_Angel_has_fallen   \n",
              "Text                      Target is on the move . '' Heavily outnumbered...   \n",
              "Submission File Name                              LKP_Doc1_Angel_has_fallen   \n",
              "Student Name                                                            LKP   \n",
              "Genre of Movie                                                       Action   \n",
              "Review Type (pos or neg)                                           Negative   \n",
              "Movie Title                                                Angel_has_fallen   \n",
              "Descriptor                                     Action_Angel_has_fallen_N_90   \n",
              "Doc_ID                                                                   90   \n",
              "raw_sentences             [Target is on the move . '', Heavily outnumber...   \n",
              "lemmas                    [target, heavily, outnumber, outgunne, mike, b...   \n",
              "lemmas_joined             target heavily outnumber outgunne mike banning...   \n",
              "\n",
              "Doc_ID                                                                   91  \\\n",
              "DSI_Title                                         LKP_Doc2_Angel_has_fallen   \n",
              "Text                      The sleepy , dopey action bonanza `` Angel Has...   \n",
              "Submission File Name                              LKP_Doc2_Angel_has_fallen   \n",
              "Student Name                                                            LKP   \n",
              "Genre of Movie                                                       Action   \n",
              "Review Type (pos or neg)                                           Negative   \n",
              "Movie Title                                                Angel_has_fallen   \n",
              "Descriptor                                     Action_Angel_has_fallen_N_91   \n",
              "Doc_ID                                                                   91   \n",
              "raw_sentences             [The sleepy , dopey action bonanza `` Angel Ha...   \n",
              "lemmas                    [sleepy, dopey, action, bonanza, angel, fall, ...   \n",
              "lemmas_joined             sleepy dopey action bonanza angel fall disappo...   \n",
              "\n",
              "Doc_ID                                                                   92  \n",
              "DSI_Title                                         LKP_Doc3_Angel_has_fallen  \n",
              "Text                      `` Angel Has Fallen '' marks the third time th...  \n",
              "Submission File Name                              LKP_Doc3_Angel_has_fallen  \n",
              "Student Name                                                            LKP  \n",
              "Genre of Movie                                                       Action  \n",
              "Review Type (pos or neg)                                           Negative  \n",
              "Movie Title                                                Angel_has_fallen  \n",
              "Descriptor                                     Action_Angel_has_fallen_N_92  \n",
              "Doc_ID                                                                   92  \n",
              "raw_sentences             [`` Angel Has Fallen '' marks the third time t...  \n",
              "lemmas                    [angel, fall, mark, time, gerard, butler, secr...  \n",
              "lemmas_joined             angel fall mark time gerard butler secret serv...  "
            ],
            "text/html": [
              "\n",
              "  <div id=\"df-73575b4c-1063-4056-9de1-cb733c8a8f72\" class=\"colab-df-container\">\n",
              "    <div>\n",
              "<style scoped>\n",
              "    .dataframe tbody tr th:only-of-type {\n",
              "        vertical-align: middle;\n",
              "    }\n",
              "\n",
              "    .dataframe tbody tr th {\n",
              "        vertical-align: top;\n",
              "    }\n",
              "\n",
              "    .dataframe thead th {\n",
              "        text-align: right;\n",
              "    }\n",
              "</style>\n",
              "<table border=\"1\" class=\"dataframe\">\n",
              "  <thead>\n",
              "    <tr style=\"text-align: right;\">\n",
              "      <th>Doc_ID</th>\n",
              "      <th>90</th>\n",
              "      <th>91</th>\n",
              "      <th>92</th>\n",
              "    </tr>\n",
              "  </thead>\n",
              "  <tbody>\n",
              "    <tr>\n",
              "      <th>DSI_Title</th>\n",
              "      <td>LKP_Doc1_Angel_has_fallen</td>\n",
              "      <td>LKP_Doc2_Angel_has_fallen</td>\n",
              "      <td>LKP_Doc3_Angel_has_fallen</td>\n",
              "    </tr>\n",
              "    <tr>\n",
              "      <th>Text</th>\n",
              "      <td>Target is on the move . '' Heavily outnumbered...</td>\n",
              "      <td>The sleepy , dopey action bonanza `` Angel Has...</td>\n",
              "      <td>`` Angel Has Fallen '' marks the third time th...</td>\n",
              "    </tr>\n",
              "    <tr>\n",
              "      <th>Submission File Name</th>\n",
              "      <td>LKP_Doc1_Angel_has_fallen</td>\n",
              "      <td>LKP_Doc2_Angel_has_fallen</td>\n",
              "      <td>LKP_Doc3_Angel_has_fallen</td>\n",
              "    </tr>\n",
              "    <tr>\n",
              "      <th>Student Name</th>\n",
              "      <td>LKP</td>\n",
              "      <td>LKP</td>\n",
              "      <td>LKP</td>\n",
              "    </tr>\n",
              "    <tr>\n",
              "      <th>Genre of Movie</th>\n",
              "      <td>Action</td>\n",
              "      <td>Action</td>\n",
              "      <td>Action</td>\n",
              "    </tr>\n",
              "    <tr>\n",
              "      <th>Review Type (pos or neg)</th>\n",
              "      <td>Negative</td>\n",
              "      <td>Negative</td>\n",
              "      <td>Negative</td>\n",
              "    </tr>\n",
              "    <tr>\n",
              "      <th>Movie Title</th>\n",
              "      <td>Angel_has_fallen</td>\n",
              "      <td>Angel_has_fallen</td>\n",
              "      <td>Angel_has_fallen</td>\n",
              "    </tr>\n",
              "    <tr>\n",
              "      <th>Descriptor</th>\n",
              "      <td>Action_Angel_has_fallen_N_90</td>\n",
              "      <td>Action_Angel_has_fallen_N_91</td>\n",
              "      <td>Action_Angel_has_fallen_N_92</td>\n",
              "    </tr>\n",
              "    <tr>\n",
              "      <th>Doc_ID</th>\n",
              "      <td>90</td>\n",
              "      <td>91</td>\n",
              "      <td>92</td>\n",
              "    </tr>\n",
              "    <tr>\n",
              "      <th>raw_sentences</th>\n",
              "      <td>[Target is on the move . '', Heavily outnumber...</td>\n",
              "      <td>[The sleepy , dopey action bonanza `` Angel Ha...</td>\n",
              "      <td>[`` Angel Has Fallen '' marks the third time t...</td>\n",
              "    </tr>\n",
              "    <tr>\n",
              "      <th>lemmas</th>\n",
              "      <td>[target, heavily, outnumber, outgunne, mike, b...</td>\n",
              "      <td>[sleepy, dopey, action, bonanza, angel, fall, ...</td>\n",
              "      <td>[angel, fall, mark, time, gerard, butler, secr...</td>\n",
              "    </tr>\n",
              "    <tr>\n",
              "      <th>lemmas_joined</th>\n",
              "      <td>target heavily outnumber outgunne mike banning...</td>\n",
              "      <td>sleepy dopey action bonanza angel fall disappo...</td>\n",
              "      <td>angel fall mark time gerard butler secret serv...</td>\n",
              "    </tr>\n",
              "  </tbody>\n",
              "</table>\n",
              "</div>\n",
              "    <div class=\"colab-df-buttons\">\n",
              "\n",
              "  <div class=\"colab-df-container\">\n",
              "    <button class=\"colab-df-convert\" onclick=\"convertToInteractive('df-73575b4c-1063-4056-9de1-cb733c8a8f72')\"\n",
              "            title=\"Convert this dataframe to an interactive table.\"\n",
              "            style=\"display:none;\">\n",
              "\n",
              "  <svg xmlns=\"http://www.w3.org/2000/svg\" height=\"24px\" viewBox=\"0 -960 960 960\">\n",
              "    <path d=\"M120-120v-720h720v720H120Zm60-500h600v-160H180v160Zm220 220h160v-160H400v160Zm0 220h160v-160H400v160ZM180-400h160v-160H180v160Zm440 0h160v-160H620v160ZM180-180h160v-160H180v160Zm440 0h160v-160H620v160Z\"/>\n",
              "  </svg>\n",
              "    </button>\n",
              "\n",
              "  <style>\n",
              "    .colab-df-container {\n",
              "      display:flex;\n",
              "      gap: 12px;\n",
              "    }\n",
              "\n",
              "    .colab-df-convert {\n",
              "      background-color: #E8F0FE;\n",
              "      border: none;\n",
              "      border-radius: 50%;\n",
              "      cursor: pointer;\n",
              "      display: none;\n",
              "      fill: #1967D2;\n",
              "      height: 32px;\n",
              "      padding: 0 0 0 0;\n",
              "      width: 32px;\n",
              "    }\n",
              "\n",
              "    .colab-df-convert:hover {\n",
              "      background-color: #E2EBFA;\n",
              "      box-shadow: 0px 1px 2px rgba(60, 64, 67, 0.3), 0px 1px 3px 1px rgba(60, 64, 67, 0.15);\n",
              "      fill: #174EA6;\n",
              "    }\n",
              "\n",
              "    .colab-df-buttons div {\n",
              "      margin-bottom: 4px;\n",
              "    }\n",
              "\n",
              "    [theme=dark] .colab-df-convert {\n",
              "      background-color: #3B4455;\n",
              "      fill: #D2E3FC;\n",
              "    }\n",
              "\n",
              "    [theme=dark] .colab-df-convert:hover {\n",
              "      background-color: #434B5C;\n",
              "      box-shadow: 0px 1px 3px 1px rgba(0, 0, 0, 0.15);\n",
              "      filter: drop-shadow(0px 1px 2px rgba(0, 0, 0, 0.3));\n",
              "      fill: #FFFFFF;\n",
              "    }\n",
              "  </style>\n",
              "\n",
              "    <script>\n",
              "      const buttonEl =\n",
              "        document.querySelector('#df-73575b4c-1063-4056-9de1-cb733c8a8f72 button.colab-df-convert');\n",
              "      buttonEl.style.display =\n",
              "        google.colab.kernel.accessAllowed ? 'block' : 'none';\n",
              "\n",
              "      async function convertToInteractive(key) {\n",
              "        const element = document.querySelector('#df-73575b4c-1063-4056-9de1-cb733c8a8f72');\n",
              "        const dataTable =\n",
              "          await google.colab.kernel.invokeFunction('convertToInteractive',\n",
              "                                                    [key], {});\n",
              "        if (!dataTable) return;\n",
              "\n",
              "        const docLinkHtml = 'Like what you see? Visit the ' +\n",
              "          '<a target=\"_blank\" href=https://colab.research.google.com/notebooks/data_table.ipynb>data table notebook</a>'\n",
              "          + ' to learn more about interactive tables.';\n",
              "        element.innerHTML = '';\n",
              "        dataTable['output_type'] = 'display_data';\n",
              "        await google.colab.output.renderOutput(dataTable, element);\n",
              "        const docLink = document.createElement('div');\n",
              "        docLink.innerHTML = docLinkHtml;\n",
              "        element.appendChild(docLink);\n",
              "      }\n",
              "    </script>\n",
              "  </div>\n",
              "\n",
              "\n",
              "<div id=\"df-592c8231-5798-4644-9258-04b534f09efa\">\n",
              "  <button class=\"colab-df-quickchart\" onclick=\"quickchart('df-592c8231-5798-4644-9258-04b534f09efa')\"\n",
              "            title=\"Suggest charts.\"\n",
              "            style=\"display:none;\">\n",
              "\n",
              "<svg xmlns=\"http://www.w3.org/2000/svg\" height=\"24px\"viewBox=\"0 0 24 24\"\n",
              "     width=\"24px\">\n",
              "    <g>\n",
              "        <path d=\"M19 3H5c-1.1 0-2 .9-2 2v14c0 1.1.9 2 2 2h14c1.1 0 2-.9 2-2V5c0-1.1-.9-2-2-2zM9 17H7v-7h2v7zm4 0h-2V7h2v10zm4 0h-2v-4h2v4z\"/>\n",
              "    </g>\n",
              "</svg>\n",
              "  </button>\n",
              "\n",
              "<style>\n",
              "  .colab-df-quickchart {\n",
              "      --bg-color: #E8F0FE;\n",
              "      --fill-color: #1967D2;\n",
              "      --hover-bg-color: #E2EBFA;\n",
              "      --hover-fill-color: #174EA6;\n",
              "      --disabled-fill-color: #AAA;\n",
              "      --disabled-bg-color: #DDD;\n",
              "  }\n",
              "\n",
              "  [theme=dark] .colab-df-quickchart {\n",
              "      --bg-color: #3B4455;\n",
              "      --fill-color: #D2E3FC;\n",
              "      --hover-bg-color: #434B5C;\n",
              "      --hover-fill-color: #FFFFFF;\n",
              "      --disabled-bg-color: #3B4455;\n",
              "      --disabled-fill-color: #666;\n",
              "  }\n",
              "\n",
              "  .colab-df-quickchart {\n",
              "    background-color: var(--bg-color);\n",
              "    border: none;\n",
              "    border-radius: 50%;\n",
              "    cursor: pointer;\n",
              "    display: none;\n",
              "    fill: var(--fill-color);\n",
              "    height: 32px;\n",
              "    padding: 0;\n",
              "    width: 32px;\n",
              "  }\n",
              "\n",
              "  .colab-df-quickchart:hover {\n",
              "    background-color: var(--hover-bg-color);\n",
              "    box-shadow: 0 1px 2px rgba(60, 64, 67, 0.3), 0 1px 3px 1px rgba(60, 64, 67, 0.15);\n",
              "    fill: var(--button-hover-fill-color);\n",
              "  }\n",
              "\n",
              "  .colab-df-quickchart-complete:disabled,\n",
              "  .colab-df-quickchart-complete:disabled:hover {\n",
              "    background-color: var(--disabled-bg-color);\n",
              "    fill: var(--disabled-fill-color);\n",
              "    box-shadow: none;\n",
              "  }\n",
              "\n",
              "  .colab-df-spinner {\n",
              "    border: 2px solid var(--fill-color);\n",
              "    border-color: transparent;\n",
              "    border-bottom-color: var(--fill-color);\n",
              "    animation:\n",
              "      spin 1s steps(1) infinite;\n",
              "  }\n",
              "\n",
              "  @keyframes spin {\n",
              "    0% {\n",
              "      border-color: transparent;\n",
              "      border-bottom-color: var(--fill-color);\n",
              "      border-left-color: var(--fill-color);\n",
              "    }\n",
              "    20% {\n",
              "      border-color: transparent;\n",
              "      border-left-color: var(--fill-color);\n",
              "      border-top-color: var(--fill-color);\n",
              "    }\n",
              "    30% {\n",
              "      border-color: transparent;\n",
              "      border-left-color: var(--fill-color);\n",
              "      border-top-color: var(--fill-color);\n",
              "      border-right-color: var(--fill-color);\n",
              "    }\n",
              "    40% {\n",
              "      border-color: transparent;\n",
              "      border-right-color: var(--fill-color);\n",
              "      border-top-color: var(--fill-color);\n",
              "    }\n",
              "    60% {\n",
              "      border-color: transparent;\n",
              "      border-right-color: var(--fill-color);\n",
              "    }\n",
              "    80% {\n",
              "      border-color: transparent;\n",
              "      border-right-color: var(--fill-color);\n",
              "      border-bottom-color: var(--fill-color);\n",
              "    }\n",
              "    90% {\n",
              "      border-color: transparent;\n",
              "      border-bottom-color: var(--fill-color);\n",
              "    }\n",
              "  }\n",
              "</style>\n",
              "\n",
              "  <script>\n",
              "    async function quickchart(key) {\n",
              "      const quickchartButtonEl =\n",
              "        document.querySelector('#' + key + ' button');\n",
              "      quickchartButtonEl.disabled = true;  // To prevent multiple clicks.\n",
              "      quickchartButtonEl.classList.add('colab-df-spinner');\n",
              "      try {\n",
              "        const charts = await google.colab.kernel.invokeFunction(\n",
              "            'suggestCharts', [key], {});\n",
              "      } catch (error) {\n",
              "        console.error('Error during call to suggestCharts:', error);\n",
              "      }\n",
              "      quickchartButtonEl.classList.remove('colab-df-spinner');\n",
              "      quickchartButtonEl.classList.add('colab-df-quickchart-complete');\n",
              "    }\n",
              "    (() => {\n",
              "      let quickchartButtonEl =\n",
              "        document.querySelector('#df-592c8231-5798-4644-9258-04b534f09efa button');\n",
              "      quickchartButtonEl.style.display =\n",
              "        google.colab.kernel.accessAllowed ? 'block' : 'none';\n",
              "    })();\n",
              "  </script>\n",
              "</div>\n",
              "    </div>\n",
              "  </div>\n"
            ]
          },
          "metadata": {},
          "execution_count": 17
        }
      ],
      "source": [
        "corpus_df.head(3).T"
      ],
      "id": "jw0ZsRpda3Ag"
    },
    {
      "cell_type": "markdown",
      "metadata": {
        "id": "njfHIsmwa3Ag"
      },
      "source": [
        "## Vocabulary Data Wrangling"
      ],
      "id": "njfHIsmwa3Ag"
    },
    {
      "cell_type": "code",
      "execution_count": 57,
      "metadata": {
        "colab": {
          "base_uri": "https://localhost:8080/"
        },
        "id": "t7I95D0Ja3Ag",
        "outputId": "fb35eb63-7947-413b-b4b7-81409fa813ee"
      },
      "outputs": [
        {
          "output_type": "stream",
          "name": "stdout",
          "text": [
            "All Word Vocabulary size: 8802\n",
            "Curated Vocabulary size: 1774\n"
          ]
        }
      ],
      "source": [
        "vectorizer = CountVectorizer(ngram_range=(1, 1))\n",
        "transformed_documents = vectorizer.fit_transform(corpus_df.lemmas_joined)\n",
        "doc_term_matrix = transformed_documents.todense()\n",
        "doc_term_df = pd.DataFrame(doc_term_matrix,\n",
        "                           columns=vectorizer.get_feature_names_out(),\n",
        "                           index=corpus_df.Descriptor)\n",
        "print(f'All Word Vocabulary size: {doc_term_df.shape[1]}')\n",
        "all_words = set(doc_term_df.columns)\n",
        "\n",
        "vectorizer = CountVectorizer(ngram_range=(1, 1), min_df=5, max_df=.8)\n",
        "transformed_documents = vectorizer.fit_transform(corpus_df.lemmas_joined)\n",
        "doc_term_matrix = transformed_documents.todense()\n",
        "doc_term_df = pd.DataFrame(doc_term_matrix,\n",
        "                           columns=vectorizer.get_feature_names_out(),\n",
        "                           index=corpus_df.Descriptor)\n",
        "print(f'Curated Vocabulary size: {doc_term_df.shape[1]}')\n",
        "vocabulary = set(doc_term_df.columns)\n",
        "\n",
        "words_to_remove = default_stopwords.union(all_words - vocabulary)"
      ],
      "id": "t7I95D0Ja3Ag"
    },
    {
      "cell_type": "code",
      "execution_count": 58,
      "metadata": {
        "colab": {
          "base_uri": "https://localhost:8080/",
          "height": 701
        },
        "id": "Vf9jUu_Ia3Ah",
        "outputId": "b79ee0e6-9cc1-4f69-c493-52746e3dadde"
      },
      "outputs": [
        {
          "output_type": "display_data",
          "data": {
            "text/plain": [
              "<Figure size 1200x800 with 1 Axes>"
            ],
            "image/png": "[encoded data removed]"
          },
          "metadata": {}
        }
      ],
      "source": [
        "plt.figure(figsize = (12, 8))\n",
        "plt.hist(doc_term_df.sum(axis=0).T, range=(0, 200))\n",
        "plt.xlabel('Number of Occurrences',fontsize=14)\n",
        "plt.ylabel('Number of Terms',fontsize=14);"
      ],
      "id": "Vf9jUu_Ia3Ah"
    },
    {
      "cell_type": "code",
      "execution_count": 59,
      "metadata": {
        "colab": {
          "base_uri": "https://localhost:8080/"
        },
        "id": "WS25YoJFa3Ah",
        "outputId": "096a66d7-d91c-48e9-986a-70d456399127"
      },
      "outputs": [
        {
          "output_type": "execute_result",
          "data": {
            "text/plain": [
              "Doc_ID\n",
              "90    [target, heavily, mike, banning, gerard, butle...\n",
              "91    [action, angel, fall, reason, expect, second, ...\n",
              "92    [angel, fall, mark, time, gerard, butler, secr...\n",
              "93    [mike, banning, gerard, butler, accept, promot...\n",
              "94    [review, contain, spoiler, angel, fallen, movi...\n",
              "Name: lemmas, dtype: object"
            ]
          },
          "metadata": {},
          "execution_count": 59
        }
      ],
      "source": [
        "# Re-tokenize words, recreate joined documents\n",
        "corpus_df['lemmas'] = corpus_df.Text.apply(lambda x: get_lemmas(x, words_to_remove))\n",
        "corpus_df['lemmas_joined'] = corpus_df.lemmas.apply(lambda x: ' '.join(x))\n",
        "corpus_df.lemmas.head()"
      ],
      "id": "WS25YoJFa3Ah"
    },
    {
      "cell_type": "markdown",
      "metadata": {
        "id": "Z6g66oDqa3Ai"
      },
      "source": [
        "## Get Lemmatized and Filtered Sentences"
      ],
      "id": "Z6g66oDqa3Ai"
    },
    {
      "cell_type": "markdown",
      "metadata": {
        "id": "UVMq7dXya3Ai"
      },
      "source": [
        "Removes the additional words"
      ],
      "id": "UVMq7dXya3Ai"
    },
    {
      "cell_type": "code",
      "execution_count": 60,
      "metadata": {
        "id": "BAuLZmYaa3Ai"
      },
      "outputs": [],
      "source": [
        "corpus_df['sentences_lemmatized']=\\\n",
        "corpus_df.raw_sentences.apply(lambda x: [lemmatize_sentence(s, words_to_remove) for s in x])"
      ],
      "id": "BAuLZmYaa3Ai"
    },
    {
      "cell_type": "code",
      "execution_count": 61,
      "metadata": {
        "colab": {
          "base_uri": "https://localhost:8080/",
          "height": 457
        },
        "id": "gJz7XDnBa3Aj",
        "outputId": "661f4efe-143f-4634-f19f-6c2bd27f18ed"
      },
      "outputs": [
        {
          "output_type": "execute_result",
          "data": {
            "text/plain": [
              "Doc_ID                                                                   90  \\\n",
              "DSI_Title                                         LKP_Doc1_Angel_has_fallen   \n",
              "Text                      Target is on the move . '' Heavily outnumbered...   \n",
              "Submission File Name                              LKP_Doc1_Angel_has_fallen   \n",
              "Student Name                                                            LKP   \n",
              "Genre of Movie                                                       Action   \n",
              "Review Type (pos or neg)                                           Negative   \n",
              "Movie Title                                                Angel_has_fallen   \n",
              "Descriptor                                     Action_Angel_has_fallen_N_90   \n",
              "Doc_ID                                                                   90   \n",
              "raw_sentences             [Target is on the move . '', Heavily outnumber...   \n",
              "lemmas                    [target, heavily, mike, banning, gerard, butle...   \n",
              "lemmas_joined             target heavily mike banning gerard butler leve...   \n",
              "sentences_lemmatized      [target, heavily mike banning gerard butler le...   \n",
              "\n",
              "Doc_ID                                                                   91  \\\n",
              "DSI_Title                                         LKP_Doc2_Angel_has_fallen   \n",
              "Text                      The sleepy , dopey action bonanza `` Angel Has...   \n",
              "Submission File Name                              LKP_Doc2_Angel_has_fallen   \n",
              "Student Name                                                            LKP   \n",
              "Genre of Movie                                                       Action   \n",
              "Review Type (pos or neg)                                           Negative   \n",
              "Movie Title                                                Angel_has_fallen   \n",
              "Descriptor                                     Action_Angel_has_fallen_N_91   \n",
              "Doc_ID                                                                   91   \n",
              "raw_sentences             [The sleepy , dopey action bonanza `` Angel Ha...   \n",
              "lemmas                    [action, angel, fall, reason, expect, second, ...   \n",
              "lemmas_joined             action angel fall reason expect second sequel ...   \n",
              "sentences_lemmatized      [action angel fall reason expect, second seque...   \n",
              "\n",
              "Doc_ID                                                                   92  \\\n",
              "DSI_Title                                         LKP_Doc3_Angel_has_fallen   \n",
              "Text                      `` Angel Has Fallen '' marks the third time th...   \n",
              "Submission File Name                              LKP_Doc3_Angel_has_fallen   \n",
              "Student Name                                                            LKP   \n",
              "Genre of Movie                                                       Action   \n",
              "Review Type (pos or neg)                                           Negative   \n",
              "Movie Title                                                Angel_has_fallen   \n",
              "Descriptor                                     Action_Angel_has_fallen_N_92   \n",
              "Doc_ID                                                                   92   \n",
              "raw_sentences             [`` Angel Has Fallen '' marks the third time t...   \n",
              "lemmas                    [angel, fall, mark, time, gerard, butler, secr...   \n",
              "lemmas_joined             angel fall mark time gerard butler secret serv...   \n",
              "sentences_lemmatized      [angel fall mark time gerard butler secret ser...   \n",
              "\n",
              "Doc_ID                                                                   93  \\\n",
              "DSI_Title                                         LKP_Doc4_Angel_has_fallen   \n",
              "Text                      Improving through blandness . So Mike Banning ...   \n",
              "Submission File Name                              LKP_Doc4_Angel_has_fallen   \n",
              "Student Name                                                            LKP   \n",
              "Genre of Movie                                                       Action   \n",
              "Review Type (pos or neg)                                           Negative   \n",
              "Movie Title                                                Angel_has_fallen   \n",
              "Descriptor                                     Action_Angel_has_fallen_N_93   \n",
              "Doc_ID                                                                   93   \n",
              "raw_sentences             [Improving through blandness ., So Mike Bannin...   \n",
              "lemmas                    [mike, banning, gerard, butler, accept, promot...   \n",
              "lemmas_joined             mike banning gerard butler accept promotion ti...   \n",
              "sentences_lemmatized      [, mike banning gerard butler, accept promotio...   \n",
              "\n",
              "Doc_ID                                                                   94  \n",
              "DSI_Title                                         LKP_Doc5_Angel_has_fallen  \n",
              "Text                      This review may contain spoilers . Angel Has F...  \n",
              "Submission File Name                              LKP_Doc5_Angel_has_fallen  \n",
              "Student Name                                                            LKP  \n",
              "Genre of Movie                                                       Action  \n",
              "Review Type (pos or neg)                                           Negative  \n",
              "Movie Title                                                Angel_has_fallen  \n",
              "Descriptor                                     Action_Angel_has_fallen_N_94  \n",
              "Doc_ID                                                                   94  \n",
              "raw_sentences             [This review may contain spoilers ., Angel Has...  \n",
              "lemmas                    [review, contain, spoiler, angel, fallen, movi...  \n",
              "lemmas_joined             review contain spoiler angel fallen movie extr...  \n",
              "sentences_lemmatized      [review contain spoiler, angel fallen movie ex...  "
            ],
            "text/html": [
              "\n",
              "  <div id=\"df-b2adc2a2-5251-48e3-a26f-0404aa17f973\" class=\"colab-df-container\">\n",
              "    <div>\n",
              "<style scoped>\n",
              "    .dataframe tbody tr th:only-of-type {\n",
              "        vertical-align: middle;\n",
              "    }\n",
              "\n",
              "    .dataframe tbody tr th {\n",
              "        vertical-align: top;\n",
              "    }\n",
              "\n",
              "    .dataframe thead th {\n",
              "        text-align: right;\n",
              "    }\n",
              "</style>\n",
              "<table border=\"1\" class=\"dataframe\">\n",
              "  <thead>\n",
              "    <tr style=\"text-align: right;\">\n",
              "      <th>Doc_ID</th>\n",
              "      <th>90</th>\n",
              "      <th>91</th>\n",
              "      <th>92</th>\n",
              "      <th>93</th>\n",
              "      <th>94</th>\n",
              "    </tr>\n",
              "  </thead>\n",
              "  <tbody>\n",
              "    <tr>\n",
              "      <th>DSI_Title</th>\n",
              "      <td>LKP_Doc1_Angel_has_fallen</td>\n",
              "      <td>LKP_Doc2_Angel_has_fallen</td>\n",
              "      <td>LKP_Doc3_Angel_has_fallen</td>\n",
              "      <td>LKP_Doc4_Angel_has_fallen</td>\n",
              "      <td>LKP_Doc5_Angel_has_fallen</td>\n",
              "    </tr>\n",
              "    <tr>\n",
              "      <th>Text</th>\n",
              "      <td>Target is on the move . '' Heavily outnumbered...</td>\n",
              "      <td>The sleepy , dopey action bonanza `` Angel Has...</td>\n",
              "      <td>`` Angel Has Fallen '' marks the third time th...</td>\n",
              "      <td>Improving through blandness . So Mike Banning ...</td>\n",
              "      <td>This review may contain spoilers . Angel Has F...</td>\n",
              "    </tr>\n",
              "    <tr>\n",
              "      <th>Submission File Name</th>\n",
              "      <td>LKP_Doc1_Angel_has_fallen</td>\n",
              "      <td>LKP_Doc2_Angel_has_fallen</td>\n",
              "      <td>LKP_Doc3_Angel_has_fallen</td>\n",
              "      <td>LKP_Doc4_Angel_has_fallen</td>\n",
              "      <td>LKP_Doc5_Angel_has_fallen</td>\n",
              "    </tr>\n",
              "    <tr>\n",
              "      <th>Student Name</th>\n",
              "      <td>LKP</td>\n",
              "      <td>LKP</td>\n",
              "      <td>LKP</td>\n",
              "      <td>LKP</td>\n",
              "      <td>LKP</td>\n",
              "    </tr>\n",
              "    <tr>\n",
              "      <th>Genre of Movie</th>\n",
              "      <td>Action</td>\n",
              "      <td>Action</td>\n",
              "      <td>Action</td>\n",
              "      <td>Action</td>\n",
              "      <td>Action</td>\n",
              "    </tr>\n",
              "    <tr>\n",
              "      <th>Review Type (pos or neg)</th>\n",
              "      <td>Negative</td>\n",
              "      <td>Negative</td>\n",
              "      <td>Negative</td>\n",
              "      <td>Negative</td>\n",
              "      <td>Negative</td>\n",
              "    </tr>\n",
              "    <tr>\n",
              "      <th>Movie Title</th>\n",
              "      <td>Angel_has_fallen</td>\n",
              "      <td>Angel_has_fallen</td>\n",
              "      <td>Angel_has_fallen</td>\n",
              "      <td>Angel_has_fallen</td>\n",
              "      <td>Angel_has_fallen</td>\n",
              "    </tr>\n",
              "    <tr>\n",
              "      <th>Descriptor</th>\n",
              "      <td>Action_Angel_has_fallen_N_90</td>\n",
              "      <td>Action_Angel_has_fallen_N_91</td>\n",
              "      <td>Action_Angel_has_fallen_N_92</td>\n",
              "      <td>Action_Angel_has_fallen_N_93</td>\n",
              "      <td>Action_Angel_has_fallen_N_94</td>\n",
              "    </tr>\n",
              "    <tr>\n",
              "      <th>Doc_ID</th>\n",
              "      <td>90</td>\n",
              "      <td>91</td>\n",
              "      <td>92</td>\n",
              "      <td>93</td>\n",
              "      <td>94</td>\n",
              "    </tr>\n",
              "    <tr>\n",
              "      <th>raw_sentences</th>\n",
              "      <td>[Target is on the move . '', Heavily outnumber...</td>\n",
              "      <td>[The sleepy , dopey action bonanza `` Angel Ha...</td>\n",
              "      <td>[`` Angel Has Fallen '' marks the third time t...</td>\n",
              "      <td>[Improving through blandness ., So Mike Bannin...</td>\n",
              "      <td>[This review may contain spoilers ., Angel Has...</td>\n",
              "    </tr>\n",
              "    <tr>\n",
              "      <th>lemmas</th>\n",
              "      <td>[target, heavily, mike, banning, gerard, butle...</td>\n",
              "      <td>[action, angel, fall, reason, expect, second, ...</td>\n",
              "      <td>[angel, fall, mark, time, gerard, butler, secr...</td>\n",
              "      <td>[mike, banning, gerard, butler, accept, promot...</td>\n",
              "      <td>[review, contain, spoiler, angel, fallen, movi...</td>\n",
              "    </tr>\n",
              "    <tr>\n",
              "      <th>lemmas_joined</th>\n",
              "      <td>target heavily mike banning gerard butler leve...</td>\n",
              "      <td>action angel fall reason expect second sequel ...</td>\n",
              "      <td>angel fall mark time gerard butler secret serv...</td>\n",
              "      <td>mike banning gerard butler accept promotion ti...</td>\n",
              "      <td>review contain spoiler angel fallen movie extr...</td>\n",
              "    </tr>\n",
              "    <tr>\n",
              "      <th>sentences_lemmatized</th>\n",
              "      <td>[target, heavily mike banning gerard butler le...</td>\n",
              "      <td>[action angel fall reason expect, second seque...</td>\n",
              "      <td>[angel fall mark time gerard butler secret ser...</td>\n",
              "      <td>[, mike banning gerard butler, accept promotio...</td>\n",
              "      <td>[review contain spoiler, angel fallen movie ex...</td>\n",
              "    </tr>\n",
              "  </tbody>\n",
              "</table>\n",
              "</div>\n",
              "    <div class=\"colab-df-buttons\">\n",
              "\n",
              "  <div class=\"colab-df-container\">\n",
              "    <button class=\"colab-df-convert\" onclick=\"convertToInteractive('df-b2adc2a2-5251-48e3-a26f-0404aa17f973')\"\n",
              "            title=\"Convert this dataframe to an interactive table.\"\n",
              "            style=\"display:none;\">\n",
              "\n",
              "  <svg xmlns=\"http://www.w3.org/2000/svg\" height=\"24px\" viewBox=\"0 -960 960 960\">\n",
              "    <path d=\"M120-120v-720h720v720H120Zm60-500h600v-160H180v160Zm220 220h160v-160H400v160Zm0 220h160v-160H400v160ZM180-400h160v-160H180v160Zm440 0h160v-160H620v160ZM180-180h160v-160H180v160Zm440 0h160v-160H620v160Z\"/>\n",
              "  </svg>\n",
              "    </button>\n",
              "\n",
              "  <style>\n",
              "    .colab-df-container {\n",
              "      display:flex;\n",
              "      gap: 12px;\n",
              "    }\n",
              "\n",
              "    .colab-df-convert {\n",
              "      background-color: #E8F0FE;\n",
              "      border: none;\n",
              "      border-radius: 50%;\n",
              "      cursor: pointer;\n",
              "      display: none;\n",
              "      fill: #1967D2;\n",
              "      height: 32px;\n",
              "      padding: 0 0 0 0;\n",
              "      width: 32px;\n",
              "    }\n",
              "\n",
              "    .colab-df-convert:hover {\n",
              "      background-color: #E2EBFA;\n",
              "      box-shadow: 0px 1px 2px rgba(60, 64, 67, 0.3), 0px 1px 3px 1px rgba(60, 64, 67, 0.15);\n",
              "      fill: #174EA6;\n",
              "    }\n",
              "\n",
              "    .colab-df-buttons div {\n",
              "      margin-bottom: 4px;\n",
              "    }\n",
              "\n",
              "    [theme=dark] .colab-df-convert {\n",
              "      background-color: #3B4455;\n",
              "      fill: #D2E3FC;\n",
              "    }\n",
              "\n",
              "    [theme=dark] .colab-df-convert:hover {\n",
              "      background-color: #434B5C;\n",
              "      box-shadow: 0px 1px 3px 1px rgba(0, 0, 0, 0.15);\n",
              "      filter: drop-shadow(0px 1px 2px rgba(0, 0, 0, 0.3));\n",
              "      fill: #FFFFFF;\n",
              "    }\n",
              "  </style>\n",
              "\n",
              "    <script>\n",
              "      const buttonEl =\n",
              "        document.querySelector('#df-b2adc2a2-5251-48e3-a26f-0404aa17f973 button.colab-df-convert');\n",
              "      buttonEl.style.display =\n",
              "        google.colab.kernel.accessAllowed ? 'block' : 'none';\n",
              "\n",
              "      async function convertToInteractive(key) {\n",
              "        const element = document.querySelector('#df-b2adc2a2-5251-48e3-a26f-0404aa17f973');\n",
              "        const dataTable =\n",
              "          await google.colab.kernel.invokeFunction('convertToInteractive',\n",
              "                                                    [key], {});\n",
              "        if (!dataTable) return;\n",
              "\n",
              "        const docLinkHtml = 'Like what you see? Visit the ' +\n",
              "          '<a target=\"_blank\" href=https://colab.research.google.com/notebooks/data_table.ipynb>data table notebook</a>'\n",
              "          + ' to learn more about interactive tables.';\n",
              "        element.innerHTML = '';\n",
              "        dataTable['output_type'] = 'display_data';\n",
              "        await google.colab.output.renderOutput(dataTable, element);\n",
              "        const docLink = document.createElement('div');\n",
              "        docLink.innerHTML = docLinkHtml;\n",
              "        element.appendChild(docLink);\n",
              "      }\n",
              "    </script>\n",
              "  </div>\n",
              "\n",
              "\n",
              "<div id=\"df-81ec7b96-381c-4de0-822c-86b599ff2eba\">\n",
              "  <button class=\"colab-df-quickchart\" onclick=\"quickchart('df-81ec7b96-381c-4de0-822c-86b599ff2eba')\"\n",
              "            title=\"Suggest charts.\"\n",
              "            style=\"display:none;\">\n",
              "\n",
              "<svg xmlns=\"http://www.w3.org/2000/svg\" height=\"24px\"viewBox=\"0 0 24 24\"\n",
              "     width=\"24px\">\n",
              "    <g>\n",
              "        <path d=\"M19 3H5c-1.1 0-2 .9-2 2v14c0 1.1.9 2 2 2h14c1.1 0 2-.9 2-2V5c0-1.1-.9-2-2-2zM9 17H7v-7h2v7zm4 0h-2V7h2v10zm4 0h-2v-4h2v4z\"/>\n",
              "    </g>\n",
              "</svg>\n",
              "  </button>\n",
              "\n",
              "<style>\n",
              "  .colab-df-quickchart {\n",
              "      --bg-color: #E8F0FE;\n",
              "      --fill-color: #1967D2;\n",
              "      --hover-bg-color: #E2EBFA;\n",
              "      --hover-fill-color: #174EA6;\n",
              "      --disabled-fill-color: #AAA;\n",
              "      --disabled-bg-color: #DDD;\n",
              "  }\n",
              "\n",
              "  [theme=dark] .colab-df-quickchart {\n",
              "      --bg-color: #3B4455;\n",
              "      --fill-color: #D2E3FC;\n",
              "      --hover-bg-color: #434B5C;\n",
              "      --hover-fill-color: #FFFFFF;\n",
              "      --disabled-bg-color: #3B4455;\n",
              "      --disabled-fill-color: #666;\n",
              "  }\n",
              "\n",
              "  .colab-df-quickchart {\n",
              "    background-color: var(--bg-color);\n",
              "    border: none;\n",
              "    border-radius: 50%;\n",
              "    cursor: pointer;\n",
              "    display: none;\n",
              "    fill: var(--fill-color);\n",
              "    height: 32px;\n",
              "    padding: 0;\n",
              "    width: 32px;\n",
              "  }\n",
              "\n",
              "  .colab-df-quickchart:hover {\n",
              "    background-color: var(--hover-bg-color);\n",
              "    box-shadow: 0 1px 2px rgba(60, 64, 67, 0.3), 0 1px 3px 1px rgba(60, 64, 67, 0.15);\n",
              "    fill: var(--button-hover-fill-color);\n",
              "  }\n",
              "\n",
              "  .colab-df-quickchart-complete:disabled,\n",
              "  .colab-df-quickchart-complete:disabled:hover {\n",
              "    background-color: var(--disabled-bg-color);\n",
              "    fill: var(--disabled-fill-color);\n",
              "    box-shadow: none;\n",
              "  }\n",
              "\n",
              "  .colab-df-spinner {\n",
              "    border: 2px solid var(--fill-color);\n",
              "    border-color: transparent;\n",
              "    border-bottom-color: var(--fill-color);\n",
              "    animation:\n",
              "      spin 1s steps(1) infinite;\n",
              "  }\n",
              "\n",
              "  @keyframes spin {\n",
              "    0% {\n",
              "      border-color: transparent;\n",
              "      border-bottom-color: var(--fill-color);\n",
              "      border-left-color: var(--fill-color);\n",
              "    }\n",
              "    20% {\n",
              "      border-color: transparent;\n",
              "      border-left-color: var(--fill-color);\n",
              "      border-top-color: var(--fill-color);\n",
              "    }\n",
              "    30% {\n",
              "      border-color: transparent;\n",
              "      border-left-color: var(--fill-color);\n",
              "      border-top-color: var(--fill-color);\n",
              "      border-right-color: var(--fill-color);\n",
              "    }\n",
              "    40% {\n",
              "      border-color: transparent;\n",
              "      border-right-color: var(--fill-color);\n",
              "      border-top-color: var(--fill-color);\n",
              "    }\n",
              "    60% {\n",
              "      border-color: transparent;\n",
              "      border-right-color: var(--fill-color);\n",
              "    }\n",
              "    80% {\n",
              "      border-color: transparent;\n",
              "      border-right-color: var(--fill-color);\n",
              "      border-bottom-color: var(--fill-color);\n",
              "    }\n",
              "    90% {\n",
              "      border-color: transparent;\n",
              "      border-bottom-color: var(--fill-color);\n",
              "    }\n",
              "  }\n",
              "</style>\n",
              "\n",
              "  <script>\n",
              "    async function quickchart(key) {\n",
              "      const quickchartButtonEl =\n",
              "        document.querySelector('#' + key + ' button');\n",
              "      quickchartButtonEl.disabled = true;  // To prevent multiple clicks.\n",
              "      quickchartButtonEl.classList.add('colab-df-spinner');\n",
              "      try {\n",
              "        const charts = await google.colab.kernel.invokeFunction(\n",
              "            'suggestCharts', [key], {});\n",
              "      } catch (error) {\n",
              "        console.error('Error during call to suggestCharts:', error);\n",
              "      }\n",
              "      quickchartButtonEl.classList.remove('colab-df-spinner');\n",
              "      quickchartButtonEl.classList.add('colab-df-quickchart-complete');\n",
              "    }\n",
              "    (() => {\n",
              "      let quickchartButtonEl =\n",
              "        document.querySelector('#df-81ec7b96-381c-4de0-822c-86b599ff2eba button');\n",
              "      quickchartButtonEl.style.display =\n",
              "        google.colab.kernel.accessAllowed ? 'block' : 'none';\n",
              "    })();\n",
              "  </script>\n",
              "</div>\n",
              "    </div>\n",
              "  </div>\n"
            ]
          },
          "metadata": {},
          "execution_count": 61
        }
      ],
      "source": [
        "corpus_df.head().T"
      ],
      "id": "gJz7XDnBa3Aj"
    },
    {
      "cell_type": "markdown",
      "metadata": {
        "id": "hV1q2O9ea3Aj"
      },
      "source": [
        "## Review Documents By Movie Title"
      ],
      "id": "hV1q2O9ea3Aj"
    },
    {
      "cell_type": "code",
      "execution_count": 62,
      "metadata": {
        "colab": {
          "base_uri": "https://localhost:8080/"
        },
        "id": "DGP9WB_Oa3Aj",
        "outputId": "153e31d9-b3e0-40b3-e322-13e9c89cd79b"
      },
      "outputs": [
        {
          "output_type": "stream",
          "name": "stdout",
          "text": [
            "['Angel_has_fallen' 'Inception' 'No_Time_to_Die' 'Taken' 'Taxi' 'Barbie'\n",
            " 'Dirty_Grandpa' 'Holmes_and_Watson' 'Lost City' 'Mean_Girls'\n",
            " 'Drag_Me_To_Hell' 'Fresh' 'It_Chapter_Two' 'The Conjuring 2' 'The_Others'\n",
            " 'EQUILIBRIUM' 'Minority_Report' 'Oblivion' 'Pitch_Black' 'The_Batman']\n"
          ]
        }
      ],
      "source": [
        "print(corpus_df['Movie Title'].unique())"
      ],
      "id": "DGP9WB_Oa3Aj"
    },
    {
      "cell_type": "code",
      "execution_count": 63,
      "metadata": {
        "scrolled": false,
        "colab": {
          "base_uri": "https://localhost:8080/",
          "height": 457
        },
        "id": "hhiDmYQHa3Ak",
        "outputId": "f0c69726-3cf3-4a70-c86b-70fc389fde2d"
      },
      "outputs": [
        {
          "output_type": "execute_result",
          "data": {
            "text/plain": [
              "Doc_ID                                                                   65  \\\n",
              "DSI_Title                                                     VGI_Doc6_Taxi   \n",
              "Text                      This is quite simply the french version of US ...   \n",
              "Submission File Name                                          VGI_Doc6_Taxi   \n",
              "Student Name                                                            VGI   \n",
              "Genre of Movie                                                       Action   \n",
              "Review Type (pos or neg)                                           Negative   \n",
              "Movie Title                                                            Taxi   \n",
              "Descriptor                                                 Action_Taxi_N_65   \n",
              "Doc_ID                                                                   65   \n",
              "raw_sentences             [This is quite simply the french version of US...   \n",
              "lemmas                    [simply, french, version, blockbuster, car, mo...   \n",
              "lemmas_joined             simply french version blockbuster car movie kn...   \n",
              "sentences_lemmatized      [simply french version blockbuster car movie, ...   \n",
              "\n",
              "Doc_ID                                                                   66  \\\n",
              "DSI_Title                                                     VGI_Doc7_Taxi   \n",
              "Text                      This has to be the biggest pile of pap i have ...   \n",
              "Submission File Name                                          VGI_Doc7_Taxi   \n",
              "Student Name                                                            VGI   \n",
              "Genre of Movie                                                       Action   \n",
              "Review Type (pos or neg)                                           Negative   \n",
              "Movie Title                                                            Taxi   \n",
              "Descriptor                                                 Action_Taxi_N_66   \n",
              "Doc_ID                                                                   66   \n",
              "raw_sentences             [This has to be the biggest pile of pap i have...   \n",
              "lemmas                    [big, life, waste, time, watch, find, entertai...   \n",
              "lemmas_joined             big life waste time watch find entertain thing...   \n",
              "sentences_lemmatized      [big life, waste time watch, find entertain th...   \n",
              "\n",
              "Doc_ID                                                                   67  \n",
              "DSI_Title                                                     VGI_Doc8_Taxi  \n",
              "Text                      When I rented this movie , I expected it to be...  \n",
              "Submission File Name                                          VGI_Doc8_Taxi  \n",
              "Student Name                                                            VGI  \n",
              "Genre of Movie                                                       Action  \n",
              "Review Type (pos or neg)                                           Negative  \n",
              "Movie Title                                                            Taxi  \n",
              "Descriptor                                                 Action_Taxi_N_67  \n",
              "Doc_ID                                                                   67  \n",
              "raw_sentences             [When I rented this movie , I expected it to b...  \n",
              "lemmas                    [movie, expect, silly, french, comedy, hope, l...  \n",
              "lemmas_joined             movie expect silly french comedy hope lot shoo...  \n",
              "sentences_lemmatized      [movie expect silly french comedy hope lot sho...  "
            ],
            "text/html": [
              "\n",
              "  <div id=\"df-a12079d2-6879-43b2-9328-e4607a1194da\" class=\"colab-df-container\">\n",
              "    <div>\n",
              "<style scoped>\n",
              "    .dataframe tbody tr th:only-of-type {\n",
              "        vertical-align: middle;\n",
              "    }\n",
              "\n",
              "    .dataframe tbody tr th {\n",
              "        vertical-align: top;\n",
              "    }\n",
              "\n",
              "    .dataframe thead th {\n",
              "        text-align: right;\n",
              "    }\n",
              "</style>\n",
              "<table border=\"1\" class=\"dataframe\">\n",
              "  <thead>\n",
              "    <tr style=\"text-align: right;\">\n",
              "      <th>Doc_ID</th>\n",
              "      <th>65</th>\n",
              "      <th>66</th>\n",
              "      <th>67</th>\n",
              "    </tr>\n",
              "  </thead>\n",
              "  <tbody>\n",
              "    <tr>\n",
              "      <th>DSI_Title</th>\n",
              "      <td>VGI_Doc6_Taxi</td>\n",
              "      <td>VGI_Doc7_Taxi</td>\n",
              "      <td>VGI_Doc8_Taxi</td>\n",
              "    </tr>\n",
              "    <tr>\n",
              "      <th>Text</th>\n",
              "      <td>This is quite simply the french version of US ...</td>\n",
              "      <td>This has to be the biggest pile of pap i have ...</td>\n",
              "      <td>When I rented this movie , I expected it to be...</td>\n",
              "    </tr>\n",
              "    <tr>\n",
              "      <th>Submission File Name</th>\n",
              "      <td>VGI_Doc6_Taxi</td>\n",
              "      <td>VGI_Doc7_Taxi</td>\n",
              "      <td>VGI_Doc8_Taxi</td>\n",
              "    </tr>\n",
              "    <tr>\n",
              "      <th>Student Name</th>\n",
              "      <td>VGI</td>\n",
              "      <td>VGI</td>\n",
              "      <td>VGI</td>\n",
              "    </tr>\n",
              "    <tr>\n",
              "      <th>Genre of Movie</th>\n",
              "      <td>Action</td>\n",
              "      <td>Action</td>\n",
              "      <td>Action</td>\n",
              "    </tr>\n",
              "    <tr>\n",
              "      <th>Review Type (pos or neg)</th>\n",
              "      <td>Negative</td>\n",
              "      <td>Negative</td>\n",
              "      <td>Negative</td>\n",
              "    </tr>\n",
              "    <tr>\n",
              "      <th>Movie Title</th>\n",
              "      <td>Taxi</td>\n",
              "      <td>Taxi</td>\n",
              "      <td>Taxi</td>\n",
              "    </tr>\n",
              "    <tr>\n",
              "      <th>Descriptor</th>\n",
              "      <td>Action_Taxi_N_65</td>\n",
              "      <td>Action_Taxi_N_66</td>\n",
              "      <td>Action_Taxi_N_67</td>\n",
              "    </tr>\n",
              "    <tr>\n",
              "      <th>Doc_ID</th>\n",
              "      <td>65</td>\n",
              "      <td>66</td>\n",
              "      <td>67</td>\n",
              "    </tr>\n",
              "    <tr>\n",
              "      <th>raw_sentences</th>\n",
              "      <td>[This is quite simply the french version of US...</td>\n",
              "      <td>[This has to be the biggest pile of pap i have...</td>\n",
              "      <td>[When I rented this movie , I expected it to b...</td>\n",
              "    </tr>\n",
              "    <tr>\n",
              "      <th>lemmas</th>\n",
              "      <td>[simply, french, version, blockbuster, car, mo...</td>\n",
              "      <td>[big, life, waste, time, watch, find, entertai...</td>\n",
              "      <td>[movie, expect, silly, french, comedy, hope, l...</td>\n",
              "    </tr>\n",
              "    <tr>\n",
              "      <th>lemmas_joined</th>\n",
              "      <td>simply french version blockbuster car movie kn...</td>\n",
              "      <td>big life waste time watch find entertain thing...</td>\n",
              "      <td>movie expect silly french comedy hope lot shoo...</td>\n",
              "    </tr>\n",
              "    <tr>\n",
              "      <th>sentences_lemmatized</th>\n",
              "      <td>[simply french version blockbuster car movie, ...</td>\n",
              "      <td>[big life, waste time watch, find entertain th...</td>\n",
              "      <td>[movie expect silly french comedy hope lot sho...</td>\n",
              "    </tr>\n",
              "  </tbody>\n",
              "</table>\n",
              "</div>\n",
              "    <div class=\"colab-df-buttons\">\n",
              "\n",
              "  <div class=\"colab-df-container\">\n",
              "    <button class=\"colab-df-convert\" onclick=\"convertToInteractive('df-a12079d2-6879-43b2-9328-e4607a1194da')\"\n",
              "            title=\"Convert this dataframe to an interactive table.\"\n",
              "            style=\"display:none;\">\n",
              "\n",
              "  <svg xmlns=\"http://www.w3.org/2000/svg\" height=\"24px\" viewBox=\"0 -960 960 960\">\n",
              "    <path d=\"M120-120v-720h720v720H120Zm60-500h600v-160H180v160Zm220 220h160v-160H400v160Zm0 220h160v-160H400v160ZM180-400h160v-160H180v160Zm440 0h160v-160H620v160ZM180-180h160v-160H180v160Zm440 0h160v-160H620v160Z\"/>\n",
              "  </svg>\n",
              "    </button>\n",
              "\n",
              "  <style>\n",
              "    .colab-df-container {\n",
              "      display:flex;\n",
              "      gap: 12px;\n",
              "    }\n",
              "\n",
              "    .colab-df-convert {\n",
              "      background-color: #E8F0FE;\n",
              "      border: none;\n",
              "      border-radius: 50%;\n",
              "      cursor: pointer;\n",
              "      display: none;\n",
              "      fill: #1967D2;\n",
              "      height: 32px;\n",
              "      padding: 0 0 0 0;\n",
              "      width: 32px;\n",
              "    }\n",
              "\n",
              "    .colab-df-convert:hover {\n",
              "      background-color: #E2EBFA;\n",
              "      box-shadow: 0px 1px 2px rgba(60, 64, 67, 0.3), 0px 1px 3px 1px rgba(60, 64, 67, 0.15);\n",
              "      fill: #174EA6;\n",
              "    }\n",
              "\n",
              "    .colab-df-buttons div {\n",
              "      margin-bottom: 4px;\n",
              "    }\n",
              "\n",
              "    [theme=dark] .colab-df-convert {\n",
              "      background-color: #3B4455;\n",
              "      fill: #D2E3FC;\n",
              "    }\n",
              "\n",
              "    [theme=dark] .colab-df-convert:hover {\n",
              "      background-color: #434B5C;\n",
              "      box-shadow: 0px 1px 3px 1px rgba(0, 0, 0, 0.15);\n",
              "      filter: drop-shadow(0px 1px 2px rgba(0, 0, 0, 0.3));\n",
              "      fill: #FFFFFF;\n",
              "    }\n",
              "  </style>\n",
              "\n",
              "    <script>\n",
              "      const buttonEl =\n",
              "        document.querySelector('#df-a12079d2-6879-43b2-9328-e4607a1194da button.colab-df-convert');\n",
              "      buttonEl.style.display =\n",
              "        google.colab.kernel.accessAllowed ? 'block' : 'none';\n",
              "\n",
              "      async function convertToInteractive(key) {\n",
              "        const element = document.querySelector('#df-a12079d2-6879-43b2-9328-e4607a1194da');\n",
              "        const dataTable =\n",
              "          await google.colab.kernel.invokeFunction('convertToInteractive',\n",
              "                                                    [key], {});\n",
              "        if (!dataTable) return;\n",
              "\n",
              "        const docLinkHtml = 'Like what you see? Visit the ' +\n",
              "          '<a target=\"_blank\" href=https://colab.research.google.com/notebooks/data_table.ipynb>data table notebook</a>'\n",
              "          + ' to learn more about interactive tables.';\n",
              "        element.innerHTML = '';\n",
              "        dataTable['output_type'] = 'display_data';\n",
              "        await google.colab.output.renderOutput(dataTable, element);\n",
              "        const docLink = document.createElement('div');\n",
              "        docLink.innerHTML = docLinkHtml;\n",
              "        element.appendChild(docLink);\n",
              "      }\n",
              "    </script>\n",
              "  </div>\n",
              "\n",
              "\n",
              "<div id=\"df-bd883876-10a6-4ed9-9695-3086623aef05\">\n",
              "  <button class=\"colab-df-quickchart\" onclick=\"quickchart('df-bd883876-10a6-4ed9-9695-3086623aef05')\"\n",
              "            title=\"Suggest charts.\"\n",
              "            style=\"display:none;\">\n",
              "\n",
              "<svg xmlns=\"http://www.w3.org/2000/svg\" height=\"24px\"viewBox=\"0 0 24 24\"\n",
              "     width=\"24px\">\n",
              "    <g>\n",
              "        <path d=\"M19 3H5c-1.1 0-2 .9-2 2v14c0 1.1.9 2 2 2h14c1.1 0 2-.9 2-2V5c0-1.1-.9-2-2-2zM9 17H7v-7h2v7zm4 0h-2V7h2v10zm4 0h-2v-4h2v4z\"/>\n",
              "    </g>\n",
              "</svg>\n",
              "  </button>\n",
              "\n",
              "<style>\n",
              "  .colab-df-quickchart {\n",
              "      --bg-color: #E8F0FE;\n",
              "      --fill-color: #1967D2;\n",
              "      --hover-bg-color: #E2EBFA;\n",
              "      --hover-fill-color: #174EA6;\n",
              "      --disabled-fill-color: #AAA;\n",
              "      --disabled-bg-color: #DDD;\n",
              "  }\n",
              "\n",
              "  [theme=dark] .colab-df-quickchart {\n",
              "      --bg-color: #3B4455;\n",
              "      --fill-color: #D2E3FC;\n",
              "      --hover-bg-color: #434B5C;\n",
              "      --hover-fill-color: #FFFFFF;\n",
              "      --disabled-bg-color: #3B4455;\n",
              "      --disabled-fill-color: #666;\n",
              "  }\n",
              "\n",
              "  .colab-df-quickchart {\n",
              "    background-color: var(--bg-color);\n",
              "    border: none;\n",
              "    border-radius: 50%;\n",
              "    cursor: pointer;\n",
              "    display: none;\n",
              "    fill: var(--fill-color);\n",
              "    height: 32px;\n",
              "    padding: 0;\n",
              "    width: 32px;\n",
              "  }\n",
              "\n",
              "  .colab-df-quickchart:hover {\n",
              "    background-color: var(--hover-bg-color);\n",
              "    box-shadow: 0 1px 2px rgba(60, 64, 67, 0.3), 0 1px 3px 1px rgba(60, 64, 67, 0.15);\n",
              "    fill: var(--button-hover-fill-color);\n",
              "  }\n",
              "\n",
              "  .colab-df-quickchart-complete:disabled,\n",
              "  .colab-df-quickchart-complete:disabled:hover {\n",
              "    background-color: var(--disabled-bg-color);\n",
              "    fill: var(--disabled-fill-color);\n",
              "    box-shadow: none;\n",
              "  }\n",
              "\n",
              "  .colab-df-spinner {\n",
              "    border: 2px solid var(--fill-color);\n",
              "    border-color: transparent;\n",
              "    border-bottom-color: var(--fill-color);\n",
              "    animation:\n",
              "      spin 1s steps(1) infinite;\n",
              "  }\n",
              "\n",
              "  @keyframes spin {\n",
              "    0% {\n",
              "      border-color: transparent;\n",
              "      border-bottom-color: var(--fill-color);\n",
              "      border-left-color: var(--fill-color);\n",
              "    }\n",
              "    20% {\n",
              "      border-color: transparent;\n",
              "      border-left-color: var(--fill-color);\n",
              "      border-top-color: var(--fill-color);\n",
              "    }\n",
              "    30% {\n",
              "      border-color: transparent;\n",
              "      border-left-color: var(--fill-color);\n",
              "      border-top-color: var(--fill-color);\n",
              "      border-right-color: var(--fill-color);\n",
              "    }\n",
              "    40% {\n",
              "      border-color: transparent;\n",
              "      border-right-color: var(--fill-color);\n",
              "      border-top-color: var(--fill-color);\n",
              "    }\n",
              "    60% {\n",
              "      border-color: transparent;\n",
              "      border-right-color: var(--fill-color);\n",
              "    }\n",
              "    80% {\n",
              "      border-color: transparent;\n",
              "      border-right-color: var(--fill-color);\n",
              "      border-bottom-color: var(--fill-color);\n",
              "    }\n",
              "    90% {\n",
              "      border-color: transparent;\n",
              "      border-bottom-color: var(--fill-color);\n",
              "    }\n",
              "  }\n",
              "</style>\n",
              "\n",
              "  <script>\n",
              "    async function quickchart(key) {\n",
              "      const quickchartButtonEl =\n",
              "        document.querySelector('#' + key + ' button');\n",
              "      quickchartButtonEl.disabled = true;  // To prevent multiple clicks.\n",
              "      quickchartButtonEl.classList.add('colab-df-spinner');\n",
              "      try {\n",
              "        const charts = await google.colab.kernel.invokeFunction(\n",
              "            'suggestCharts', [key], {});\n",
              "      } catch (error) {\n",
              "        console.error('Error during call to suggestCharts:', error);\n",
              "      }\n",
              "      quickchartButtonEl.classList.remove('colab-df-spinner');\n",
              "      quickchartButtonEl.classList.add('colab-df-quickchart-complete');\n",
              "    }\n",
              "    (() => {\n",
              "      let quickchartButtonEl =\n",
              "        document.querySelector('#df-bd883876-10a6-4ed9-9695-3086623aef05 button');\n",
              "      quickchartButtonEl.style.display =\n",
              "        google.colab.kernel.accessAllowed ? 'block' : 'none';\n",
              "    })();\n",
              "  </script>\n",
              "</div>\n",
              "    </div>\n",
              "  </div>\n"
            ]
          },
          "metadata": {},
          "execution_count": 63
        }
      ],
      "source": [
        "movie_df = corpus_df[corpus_df['Movie Title'] == 'Taxi'].copy()\n",
        "movie_df.head(3).T"
      ],
      "id": "hhiDmYQHa3Ak"
    },
    {
      "cell_type": "markdown",
      "metadata": {
        "id": "a89S78L_a3An"
      },
      "source": [
        "## Recurrent Neural Network (RNN) Model Development"
      ],
      "id": "a89S78L_a3An"
    },
    {
      "cell_type": "markdown",
      "metadata": {
        "id": "000k4u2ua3An"
      },
      "source": [
        "<img src=\"https://github.com/djp840/MSDS_453_Public/blob/main/images/BidirectionalRNN.png?raw=true\">"
      ],
      "id": "000k4u2ua3An"
    },
    {
      "cell_type": "markdown",
      "metadata": {
        "id": "woiyYARCa3An"
      },
      "source": [
        "<div class=\"alert alert-block alert-info\">\n",
        "    <b>tf.keras.layers.Bidirectional</b><br>\n",
        "    https://www.tensorflow.org/api_docs/python/tf/keras/layers/Bidirectional\n",
        "    </div>"
      ],
      "id": "woiyYARCa3An"
    },
    {
      "cell_type": "code",
      "execution_count": 64,
      "metadata": {
        "colab": {
          "base_uri": "https://localhost:8080/",
          "height": 457
        },
        "id": "-bxUk9j-a3An",
        "outputId": "93502155-67b9-4453-8337-e8162b7ab5b8"
      },
      "outputs": [
        {
          "output_type": "execute_result",
          "data": {
            "text/plain": [
              "                                                                          0  \\\n",
              "DSI_Title                                         LKP_Doc1_Angel_has_fallen   \n",
              "Text                      Target is on the move . '' Heavily outnumbered...   \n",
              "Submission File Name                              LKP_Doc1_Angel_has_fallen   \n",
              "Student Name                                                            LKP   \n",
              "Genre of Movie                                                       Action   \n",
              "Review Type (pos or neg)                                           Negative   \n",
              "Movie Title                                                Angel_has_fallen   \n",
              "Descriptor                                     Action_Angel_has_fallen_N_90   \n",
              "Doc_ID                                                                   90   \n",
              "raw_sentences             [Target is on the move . '', Heavily outnumber...   \n",
              "lemmas                    [target, heavily, mike, banning, gerard, butle...   \n",
              "lemmas_joined             target heavily mike banning gerard butler leve...   \n",
              "sentences_lemmatized      [target, heavily mike banning gerard butler le...   \n",
              "\n",
              "                                                                          1  \\\n",
              "DSI_Title                                         LKP_Doc2_Angel_has_fallen   \n",
              "Text                      The sleepy , dopey action bonanza `` Angel Has...   \n",
              "Submission File Name                              LKP_Doc2_Angel_has_fallen   \n",
              "Student Name                                                            LKP   \n",
              "Genre of Movie                                                       Action   \n",
              "Review Type (pos or neg)                                           Negative   \n",
              "Movie Title                                                Angel_has_fallen   \n",
              "Descriptor                                     Action_Angel_has_fallen_N_91   \n",
              "Doc_ID                                                                   91   \n",
              "raw_sentences             [The sleepy , dopey action bonanza `` Angel Ha...   \n",
              "lemmas                    [action, angel, fall, reason, expect, second, ...   \n",
              "lemmas_joined             action angel fall reason expect second sequel ...   \n",
              "sentences_lemmatized      [action angel fall reason expect, second seque...   \n",
              "\n",
              "                                                                          2  \\\n",
              "DSI_Title                                         LKP_Doc3_Angel_has_fallen   \n",
              "Text                      `` Angel Has Fallen '' marks the third time th...   \n",
              "Submission File Name                              LKP_Doc3_Angel_has_fallen   \n",
              "Student Name                                                            LKP   \n",
              "Genre of Movie                                                       Action   \n",
              "Review Type (pos or neg)                                           Negative   \n",
              "Movie Title                                                Angel_has_fallen   \n",
              "Descriptor                                     Action_Angel_has_fallen_N_92   \n",
              "Doc_ID                                                                   92   \n",
              "raw_sentences             [`` Angel Has Fallen '' marks the third time t...   \n",
              "lemmas                    [angel, fall, mark, time, gerard, butler, secr...   \n",
              "lemmas_joined             angel fall mark time gerard butler secret serv...   \n",
              "sentences_lemmatized      [angel fall mark time gerard butler secret ser...   \n",
              "\n",
              "                                                                          3  \n",
              "DSI_Title                                         LKP_Doc4_Angel_has_fallen  \n",
              "Text                      Improving through blandness . So Mike Banning ...  \n",
              "Submission File Name                              LKP_Doc4_Angel_has_fallen  \n",
              "Student Name                                                            LKP  \n",
              "Genre of Movie                                                       Action  \n",
              "Review Type (pos or neg)                                           Negative  \n",
              "Movie Title                                                Angel_has_fallen  \n",
              "Descriptor                                     Action_Angel_has_fallen_N_93  \n",
              "Doc_ID                                                                   93  \n",
              "raw_sentences             [Improving through blandness ., So Mike Bannin...  \n",
              "lemmas                    [mike, banning, gerard, butler, accept, promot...  \n",
              "lemmas_joined             mike banning gerard butler accept promotion ti...  \n",
              "sentences_lemmatized      [, mike banning gerard butler, accept promotio...  "
            ],
            "text/html": [
              "\n",
              "  <div id=\"df-48cea537-0701-479d-a9a5-5003996f42da\" class=\"colab-df-container\">\n",
              "    <div>\n",
              "<style scoped>\n",
              "    .dataframe tbody tr th:only-of-type {\n",
              "        vertical-align: middle;\n",
              "    }\n",
              "\n",
              "    .dataframe tbody tr th {\n",
              "        vertical-align: top;\n",
              "    }\n",
              "\n",
              "    .dataframe thead th {\n",
              "        text-align: right;\n",
              "    }\n",
              "</style>\n",
              "<table border=\"1\" class=\"dataframe\">\n",
              "  <thead>\n",
              "    <tr style=\"text-align: right;\">\n",
              "      <th></th>\n",
              "      <th>0</th>\n",
              "      <th>1</th>\n",
              "      <th>2</th>\n",
              "      <th>3</th>\n",
              "    </tr>\n",
              "  </thead>\n",
              "  <tbody>\n",
              "    <tr>\n",
              "      <th>DSI_Title</th>\n",
              "      <td>LKP_Doc1_Angel_has_fallen</td>\n",
              "      <td>LKP_Doc2_Angel_has_fallen</td>\n",
              "      <td>LKP_Doc3_Angel_has_fallen</td>\n",
              "      <td>LKP_Doc4_Angel_has_fallen</td>\n",
              "    </tr>\n",
              "    <tr>\n",
              "      <th>Text</th>\n",
              "      <td>Target is on the move . '' Heavily outnumbered...</td>\n",
              "      <td>The sleepy , dopey action bonanza `` Angel Has...</td>\n",
              "      <td>`` Angel Has Fallen '' marks the third time th...</td>\n",
              "      <td>Improving through blandness . So Mike Banning ...</td>\n",
              "    </tr>\n",
              "    <tr>\n",
              "      <th>Submission File Name</th>\n",
              "      <td>LKP_Doc1_Angel_has_fallen</td>\n",
              "      <td>LKP_Doc2_Angel_has_fallen</td>\n",
              "      <td>LKP_Doc3_Angel_has_fallen</td>\n",
              "      <td>LKP_Doc4_Angel_has_fallen</td>\n",
              "    </tr>\n",
              "    <tr>\n",
              "      <th>Student Name</th>\n",
              "      <td>LKP</td>\n",
              "      <td>LKP</td>\n",
              "      <td>LKP</td>\n",
              "      <td>LKP</td>\n",
              "    </tr>\n",
              "    <tr>\n",
              "      <th>Genre of Movie</th>\n",
              "      <td>Action</td>\n",
              "      <td>Action</td>\n",
              "      <td>Action</td>\n",
              "      <td>Action</td>\n",
              "    </tr>\n",
              "    <tr>\n",
              "      <th>Review Type (pos or neg)</th>\n",
              "      <td>Negative</td>\n",
              "      <td>Negative</td>\n",
              "      <td>Negative</td>\n",
              "      <td>Negative</td>\n",
              "    </tr>\n",
              "    <tr>\n",
              "      <th>Movie Title</th>\n",
              "      <td>Angel_has_fallen</td>\n",
              "      <td>Angel_has_fallen</td>\n",
              "      <td>Angel_has_fallen</td>\n",
              "      <td>Angel_has_fallen</td>\n",
              "    </tr>\n",
              "    <tr>\n",
              "      <th>Descriptor</th>\n",
              "      <td>Action_Angel_has_fallen_N_90</td>\n",
              "      <td>Action_Angel_has_fallen_N_91</td>\n",
              "      <td>Action_Angel_has_fallen_N_92</td>\n",
              "      <td>Action_Angel_has_fallen_N_93</td>\n",
              "    </tr>\n",
              "    <tr>\n",
              "      <th>Doc_ID</th>\n",
              "      <td>90</td>\n",
              "      <td>91</td>\n",
              "      <td>92</td>\n",
              "      <td>93</td>\n",
              "    </tr>\n",
              "    <tr>\n",
              "      <th>raw_sentences</th>\n",
              "      <td>[Target is on the move . '', Heavily outnumber...</td>\n",
              "      <td>[The sleepy , dopey action bonanza `` Angel Ha...</td>\n",
              "      <td>[`` Angel Has Fallen '' marks the third time t...</td>\n",
              "      <td>[Improving through blandness ., So Mike Bannin...</td>\n",
              "    </tr>\n",
              "    <tr>\n",
              "      <th>lemmas</th>\n",
              "      <td>[target, heavily, mike, banning, gerard, butle...</td>\n",
              "      <td>[action, angel, fall, reason, expect, second, ...</td>\n",
              "      <td>[angel, fall, mark, time, gerard, butler, secr...</td>\n",
              "      <td>[mike, banning, gerard, butler, accept, promot...</td>\n",
              "    </tr>\n",
              "    <tr>\n",
              "      <th>lemmas_joined</th>\n",
              "      <td>target heavily mike banning gerard butler leve...</td>\n",
              "      <td>action angel fall reason expect second sequel ...</td>\n",
              "      <td>angel fall mark time gerard butler secret serv...</td>\n",
              "      <td>mike banning gerard butler accept promotion ti...</td>\n",
              "    </tr>\n",
              "    <tr>\n",
              "      <th>sentences_lemmatized</th>\n",
              "      <td>[target, heavily mike banning gerard butler le...</td>\n",
              "      <td>[action angel fall reason expect, second seque...</td>\n",
              "      <td>[angel fall mark time gerard butler secret ser...</td>\n",
              "      <td>[, mike banning gerard butler, accept promotio...</td>\n",
              "    </tr>\n",
              "  </tbody>\n",
              "</table>\n",
              "</div>\n",
              "    <div class=\"colab-df-buttons\">\n",
              "\n",
              "  <div class=\"colab-df-container\">\n",
              "    <button class=\"colab-df-convert\" onclick=\"convertToInteractive('df-48cea537-0701-479d-a9a5-5003996f42da')\"\n",
              "            title=\"Convert this dataframe to an interactive table.\"\n",
              "            style=\"display:none;\">\n",
              "\n",
              "  <svg xmlns=\"http://www.w3.org/2000/svg\" height=\"24px\" viewBox=\"0 -960 960 960\">\n",
              "    <path d=\"M120-120v-720h720v720H120Zm60-500h600v-160H180v160Zm220 220h160v-160H400v160Zm0 220h160v-160H400v160ZM180-400h160v-160H180v160Zm440 0h160v-160H620v160ZM180-180h160v-160H180v160Zm440 0h160v-160H620v160Z\"/>\n",
              "  </svg>\n",
              "    </button>\n",
              "\n",
              "  <style>\n",
              "    .colab-df-container {\n",
              "      display:flex;\n",
              "      gap: 12px;\n",
              "    }\n",
              "\n",
              "    .colab-df-convert {\n",
              "      background-color: #E8F0FE;\n",
              "      border: none;\n",
              "      border-radius: 50%;\n",
              "      cursor: pointer;\n",
              "      display: none;\n",
              "      fill: #1967D2;\n",
              "      height: 32px;\n",
              "      padding: 0 0 0 0;\n",
              "      width: 32px;\n",
              "    }\n",
              "\n",
              "    .colab-df-convert:hover {\n",
              "      background-color: #E2EBFA;\n",
              "      box-shadow: 0px 1px 2px rgba(60, 64, 67, 0.3), 0px 1px 3px 1px rgba(60, 64, 67, 0.15);\n",
              "      fill: #174EA6;\n",
              "    }\n",
              "\n",
              "    .colab-df-buttons div {\n",
              "      margin-bottom: 4px;\n",
              "    }\n",
              "\n",
              "    [theme=dark] .colab-df-convert {\n",
              "      background-color: #3B4455;\n",
              "      fill: #D2E3FC;\n",
              "    }\n",
              "\n",
              "    [theme=dark] .colab-df-convert:hover {\n",
              "      background-color: #434B5C;\n",
              "      box-shadow: 0px 1px 3px 1px rgba(0, 0, 0, 0.15);\n",
              "      filter: drop-shadow(0px 1px 2px rgba(0, 0, 0, 0.3));\n",
              "      fill: #FFFFFF;\n",
              "    }\n",
              "  </style>\n",
              "\n",
              "    <script>\n",
              "      const buttonEl =\n",
              "        document.querySelector('#df-48cea537-0701-479d-a9a5-5003996f42da button.colab-df-convert');\n",
              "      buttonEl.style.display =\n",
              "        google.colab.kernel.accessAllowed ? 'block' : 'none';\n",
              "\n",
              "      async function convertToInteractive(key) {\n",
              "        const element = document.querySelector('#df-48cea537-0701-479d-a9a5-5003996f42da');\n",
              "        const dataTable =\n",
              "          await google.colab.kernel.invokeFunction('convertToInteractive',\n",
              "                                                    [key], {});\n",
              "        if (!dataTable) return;\n",
              "\n",
              "        const docLinkHtml = 'Like what you see? Visit the ' +\n",
              "          '<a target=\"_blank\" href=https://colab.research.google.com/notebooks/data_table.ipynb>data table notebook</a>'\n",
              "          + ' to learn more about interactive tables.';\n",
              "        element.innerHTML = '';\n",
              "        dataTable['output_type'] = 'display_data';\n",
              "        await google.colab.output.renderOutput(dataTable, element);\n",
              "        const docLink = document.createElement('div');\n",
              "        docLink.innerHTML = docLinkHtml;\n",
              "        element.appendChild(docLink);\n",
              "      }\n",
              "    </script>\n",
              "  </div>\n",
              "\n",
              "\n",
              "<div id=\"df-5bbee878-7c85-48f6-a0c8-5471c01ccd4c\">\n",
              "  <button class=\"colab-df-quickchart\" onclick=\"quickchart('df-5bbee878-7c85-48f6-a0c8-5471c01ccd4c')\"\n",
              "            title=\"Suggest charts.\"\n",
              "            style=\"display:none;\">\n",
              "\n",
              "<svg xmlns=\"http://www.w3.org/2000/svg\" height=\"24px\"viewBox=\"0 0 24 24\"\n",
              "     width=\"24px\">\n",
              "    <g>\n",
              "        <path d=\"M19 3H5c-1.1 0-2 .9-2 2v14c0 1.1.9 2 2 2h14c1.1 0 2-.9 2-2V5c0-1.1-.9-2-2-2zM9 17H7v-7h2v7zm4 0h-2V7h2v10zm4 0h-2v-4h2v4z\"/>\n",
              "    </g>\n",
              "</svg>\n",
              "  </button>\n",
              "\n",
              "<style>\n",
              "  .colab-df-quickchart {\n",
              "      --bg-color: #E8F0FE;\n",
              "      --fill-color: #1967D2;\n",
              "      --hover-bg-color: #E2EBFA;\n",
              "      --hover-fill-color: #174EA6;\n",
              "      --disabled-fill-color: #AAA;\n",
              "      --disabled-bg-color: #DDD;\n",
              "  }\n",
              "\n",
              "  [theme=dark] .colab-df-quickchart {\n",
              "      --bg-color: #3B4455;\n",
              "      --fill-color: #D2E3FC;\n",
              "      --hover-bg-color: #434B5C;\n",
              "      --hover-fill-color: #FFFFFF;\n",
              "      --disabled-bg-color: #3B4455;\n",
              "      --disabled-fill-color: #666;\n",
              "  }\n",
              "\n",
              "  .colab-df-quickchart {\n",
              "    background-color: var(--bg-color);\n",
              "    border: none;\n",
              "    border-radius: 50%;\n",
              "    cursor: pointer;\n",
              "    display: none;\n",
              "    fill: var(--fill-color);\n",
              "    height: 32px;\n",
              "    padding: 0;\n",
              "    width: 32px;\n",
              "  }\n",
              "\n",
              "  .colab-df-quickchart:hover {\n",
              "    background-color: var(--hover-bg-color);\n",
              "    box-shadow: 0 1px 2px rgba(60, 64, 67, 0.3), 0 1px 3px 1px rgba(60, 64, 67, 0.15);\n",
              "    fill: var(--button-hover-fill-color);\n",
              "  }\n",
              "\n",
              "  .colab-df-quickchart-complete:disabled,\n",
              "  .colab-df-quickchart-complete:disabled:hover {\n",
              "    background-color: var(--disabled-bg-color);\n",
              "    fill: var(--disabled-fill-color);\n",
              "    box-shadow: none;\n",
              "  }\n",
              "\n",
              "  .colab-df-spinner {\n",
              "    border: 2px solid var(--fill-color);\n",
              "    border-color: transparent;\n",
              "    border-bottom-color: var(--fill-color);\n",
              "    animation:\n",
              "      spin 1s steps(1) infinite;\n",
              "  }\n",
              "\n",
              "  @keyframes spin {\n",
              "    0% {\n",
              "      border-color: transparent;\n",
              "      border-bottom-color: var(--fill-color);\n",
              "      border-left-color: var(--fill-color);\n",
              "    }\n",
              "    20% {\n",
              "      border-color: transparent;\n",
              "      border-left-color: var(--fill-color);\n",
              "      border-top-color: var(--fill-color);\n",
              "    }\n",
              "    30% {\n",
              "      border-color: transparent;\n",
              "      border-left-color: var(--fill-color);\n",
              "      border-top-color: var(--fill-color);\n",
              "      border-right-color: var(--fill-color);\n",
              "    }\n",
              "    40% {\n",
              "      border-color: transparent;\n",
              "      border-right-color: var(--fill-color);\n",
              "      border-top-color: var(--fill-color);\n",
              "    }\n",
              "    60% {\n",
              "      border-color: transparent;\n",
              "      border-right-color: var(--fill-color);\n",
              "    }\n",
              "    80% {\n",
              "      border-color: transparent;\n",
              "      border-right-color: var(--fill-color);\n",
              "      border-bottom-color: var(--fill-color);\n",
              "    }\n",
              "    90% {\n",
              "      border-color: transparent;\n",
              "      border-bottom-color: var(--fill-color);\n",
              "    }\n",
              "  }\n",
              "</style>\n",
              "\n",
              "  <script>\n",
              "    async function quickchart(key) {\n",
              "      const quickchartButtonEl =\n",
              "        document.querySelector('#' + key + ' button');\n",
              "      quickchartButtonEl.disabled = true;  // To prevent multiple clicks.\n",
              "      quickchartButtonEl.classList.add('colab-df-spinner');\n",
              "      try {\n",
              "        const charts = await google.colab.kernel.invokeFunction(\n",
              "            'suggestCharts', [key], {});\n",
              "      } catch (error) {\n",
              "        console.error('Error during call to suggestCharts:', error);\n",
              "      }\n",
              "      quickchartButtonEl.classList.remove('colab-df-spinner');\n",
              "      quickchartButtonEl.classList.add('colab-df-quickchart-complete');\n",
              "    }\n",
              "    (() => {\n",
              "      let quickchartButtonEl =\n",
              "        document.querySelector('#df-5bbee878-7c85-48f6-a0c8-5471c01ccd4c button');\n",
              "      quickchartButtonEl.style.display =\n",
              "        google.colab.kernel.accessAllowed ? 'block' : 'none';\n",
              "    })();\n",
              "  </script>\n",
              "</div>\n",
              "    </div>\n",
              "  </div>\n"
            ]
          },
          "metadata": {},
          "execution_count": 64
        }
      ],
      "source": [
        "datafull=corpus_df.copy()\n",
        "datafull.reset_index(drop=True, inplace=True)\n",
        "datafull.head(4).T"
      ],
      "id": "-bxUk9j-a3An"
    },
    {
      "cell_type": "code",
      "execution_count": 65,
      "metadata": {
        "id": "LQT4ammqa3Ao"
      },
      "outputs": [],
      "source": [
        "datafull['Text'] = datafull['Text'].apply(lambda x :clean_doc(x))"
      ],
      "id": "LQT4ammqa3Ao"
    },
    {
      "cell_type": "markdown",
      "metadata": {
        "id": "-zmYIKlwa3Ao"
      },
      "source": [
        "## Preprocess DataSet"
      ],
      "id": "-zmYIKlwa3Ao"
    },
    {
      "cell_type": "code",
      "execution_count": 66,
      "metadata": {
        "id": "bxxvu9hda3Ao"
      },
      "outputs": [],
      "source": [
        "data = datafull[['Text','Review Type (pos or neg)']].copy()"
      ],
      "id": "bxxvu9hda3Ao"
    },
    {
      "cell_type": "code",
      "execution_count": 67,
      "metadata": {
        "colab": {
          "base_uri": "https://localhost:8080/"
        },
        "id": "-u7wjI_ha3Ao",
        "outputId": "d5754bc3-19e5-4e9d-af97-6d90bfe4a131"
      },
      "outputs": [
        {
          "output_type": "execute_result",
          "data": {
            "text/plain": [
              "195    1\n",
              "196    1\n",
              "197    1\n",
              "198    1\n",
              "199    1\n",
              "Name: Review Type (pos or neg) Code, dtype: int8"
            ]
          },
          "metadata": {},
          "execution_count": 67
        }
      ],
      "source": [
        "data['Review Type (pos or neg)'] = data['Review Type (pos or neg)'].astype(\"category\")\n",
        "data['Review Type (pos or neg) Code'] = data['Review Type (pos or neg)'].cat.codes\n",
        "data['Review Type (pos or neg) Code'].tail().T"
      ],
      "id": "-u7wjI_ha3Ao"
    },
    {
      "cell_type": "markdown",
      "metadata": {
        "id": "SSMUzGs3a3Ap"
      },
      "source": [
        "## Review Examples by Sentiment"
      ],
      "id": "SSMUzGs3a3Ap"
    },
    {
      "cell_type": "code",
      "execution_count": 68,
      "metadata": {
        "colab": {
          "base_uri": "https://localhost:8080/"
        },
        "id": "dFkTjTiRa3Ap",
        "outputId": "3b5bffdd-1cf8-4fd5-a714-9a228c74c676"
      },
      "outputs": [
        {
          "output_type": "execute_result",
          "data": {
            "text/plain": [
              "Review Type (pos or neg)  Review Type (pos or neg) Code\n",
              "Negative                  0                                100\n",
              "Positive                  1                                100\n",
              "dtype: int64"
            ]
          },
          "metadata": {},
          "execution_count": 68
        }
      ],
      "source": [
        "features, targets = data['Text'], data['Review Type (pos or neg) Code']\n",
        "data[[\"Review Type (pos or neg)\",\"Review Type (pos or neg) Code\"]].value_counts()"
      ],
      "id": "dFkTjTiRa3Ap"
    },
    {
      "cell_type": "markdown",
      "metadata": {
        "id": "NY7k4lDua3Ap"
      },
      "source": [
        "## Create Datasets for Model Development"
      ],
      "id": "NY7k4lDua3Ap"
    },
    {
      "cell_type": "code",
      "execution_count": 69,
      "metadata": {
        "colab": {
          "base_uri": "https://localhost:8080/"
        },
        "id": "URwJacXqa3Ap",
        "outputId": "b9fed741-6714-4680-db66-897f02401857"
      },
      "outputs": [
        {
          "output_type": "execute_result",
          "data": {
            "text/plain": [
              "((160, 2), (20, 2), (20, 2))"
            ]
          },
          "metadata": {},
          "execution_count": 69
        }
      ],
      "source": [
        "trainds, valds, testds = get_dataset_partitions_pd(data[['Text','Review Type (pos or neg) Code']])\n",
        "trainds.shape, valds.shape, testds.shape"
      ],
      "id": "URwJacXqa3Ap"
    },
    {
      "cell_type": "markdown",
      "metadata": {
        "id": "hzPDnrNaa3Aq"
      },
      "source": [
        "## Convert DataFrame to TensorFlow DataSet"
      ],
      "id": "hzPDnrNaa3Aq"
    },
    {
      "cell_type": "code",
      "execution_count": 70,
      "metadata": {
        "id": "YPouUedHa3Aq"
      },
      "outputs": [],
      "source": [
        "# train X & y\n",
        "train_text_ds_raw = tf.data.Dataset.from_tensor_slices(\n",
        "            tf.cast(trainds['Text'].values, tf.string)\n",
        ")\n",
        "train_cat_ds_raw = tf.data.Dataset.from_tensor_slices(\n",
        "            tf.cast(trainds['Review Type (pos or neg) Code'].values, tf.int64),\n",
        "  )\n",
        "# test X & y\n",
        "test_text_ds_raw = tf.data.Dataset.from_tensor_slices(\n",
        "            tf.cast(testds['Text'].values, tf.string)\n",
        ")\n",
        "test_cat_ds_raw = tf.data.Dataset.from_tensor_slices(\n",
        "            tf.cast(testds['Review Type (pos or neg) Code'].values, tf.int64),\n",
        ")\n",
        "#val X & Y\n",
        "val_text_ds_raw = tf.data.Dataset.from_tensor_slices(\n",
        "            tf.cast(valds['Text'].values, tf.string)\n",
        ")\n",
        "val_cat_ds_raw = tf.data.Dataset.from_tensor_slices(\n",
        "            tf.cast(valds['Review Type (pos or neg) Code'].values, tf.int64),\n",
        ")"
      ],
      "id": "YPouUedHa3Aq"
    },
    {
      "cell_type": "markdown",
      "metadata": {
        "id": "X9_xVgpTa3Aq"
      },
      "source": [
        "## Create DataSets (X=Preprocessed Text, Y=Encoded Categories)"
      ],
      "id": "X9_xVgpTa3Aq"
    },
    {
      "cell_type": "code",
      "execution_count": 71,
      "metadata": {
        "id": "0-jMMV07a3Aq"
      },
      "outputs": [],
      "source": [
        "train_ds = tf.data.Dataset.zip(\n",
        "    (\n",
        "            train_text_ds_raw,\n",
        "            train_cat_ds_raw\n",
        "     )\n",
        ")\n",
        "test_ds = tf.data.Dataset.zip(\n",
        "    (\n",
        "            test_text_ds_raw,\n",
        "            test_cat_ds_raw\n",
        "     )\n",
        ")\n",
        "val_ds = tf.data.Dataset.zip(\n",
        "    (\n",
        "            val_text_ds_raw,\n",
        "            val_cat_ds_raw\n",
        "     )\n",
        ")"
      ],
      "id": "0-jMMV07a3Aq"
    },
    {
      "cell_type": "markdown",
      "metadata": {
        "id": "3e0rdBjya3Aq"
      },
      "source": [
        "## Create Data Pipelines (Batching, Shuffling, and Optimizing)"
      ],
      "id": "3e0rdBjya3Aq"
    },
    {
      "cell_type": "code",
      "execution_count": 72,
      "metadata": {
        "id": "iJuYZeC-a3Aq"
      },
      "outputs": [],
      "source": [
        "batch_size = 3\n",
        "AUTOTUNE = tf.data.experimental.AUTOTUNE\n",
        "buffer_size=train_ds.cardinality().numpy()\n",
        "\n",
        "train_ds = train_ds.shuffle(buffer_size=buffer_size)\\\n",
        "                   .batch(batch_size=batch_size,drop_remainder=True)\\\n",
        "                   .cache()\\\n",
        "                   .prefetch(AUTOTUNE)\n",
        "\n",
        "test_ds = test_ds.shuffle(buffer_size=buffer_size)\\\n",
        "                   .batch(batch_size=batch_size,drop_remainder=True)\\\n",
        "                   .cache()\\\n",
        "                   .prefetch(AUTOTUNE)\n",
        "\n",
        "\n",
        "val_ds = val_ds.shuffle(buffer_size=buffer_size)\\\n",
        "                   .batch(batch_size=batch_size,drop_remainder=True)\\\n",
        "                   .cache()\\\n",
        "                   .prefetch(AUTOTUNE)"
      ],
      "id": "iJuYZeC-a3Aq"
    },
    {
      "cell_type": "code",
      "execution_count": 73,
      "metadata": {
        "colab": {
          "base_uri": "https://localhost:8080/"
        },
        "id": "hd3vvOA5a3Aq",
        "outputId": "b3a8a9bd-ad43-4d72-e739-ac014f122b0e"
      },
      "outputs": [
        {
          "output_type": "stream",
          "name": "stdout",
          "text": [
            "<class 'pandas.core.frame.DataFrame'>\n",
            "RangeIndex: 200 entries, 0 to 199\n",
            "Data columns (total 3 columns):\n",
            " #   Column                         Non-Null Count  Dtype   \n",
            "---  ------                         --------------  -----   \n",
            " 0   Text                           200 non-null    object  \n",
            " 1   Review Type (pos or neg)       200 non-null    category\n",
            " 2   Review Type (pos or neg) Code  200 non-null    int8    \n",
            "dtypes: category(1), int8(1), object(1)\n",
            "memory usage: 2.2+ KB\n"
          ]
        }
      ],
      "source": [
        "data.info()"
      ],
      "id": "hd3vvOA5a3Aq"
    },
    {
      "cell_type": "markdown",
      "metadata": {
        "id": "KJpyv_O8a3Ar"
      },
      "source": [
        "## Create the Text Encoder"
      ],
      "id": "KJpyv_O8a3Ar"
    },
    {
      "cell_type": "markdown",
      "metadata": {
        "id": "OwdQLOVma3Ar"
      },
      "source": [
        "The raw text loaded by `tfds` needs to be processed before it can be used in a model. The simplest way to process text for training is using the `experimental.preprocessing.TextVectorization` layer. This layer has many capabilities, but this tutorial sticks to the default behavior."
      ],
      "id": "OwdQLOVma3Ar"
    },
    {
      "cell_type": "markdown",
      "metadata": {
        "id": "cxvx2hUOa3Ar"
      },
      "source": [
        "Create the layer, and pass the dataset's text to the layer's `.adapt` method:\n",
        "The processing of each sample contains the following steps:\n",
        "\n",
        "    standardize each sample (usually lowercasing + punctuation stripping)\n",
        "    split each sample into substrings (usually words)\n",
        "    recombine substrings into tokens (usually ngrams)\n",
        "    index tokens (associate a unique int value with each token)\n",
        "    transform each sample using this index, either into a vector of ints or a dense float vector."
      ],
      "id": "cxvx2hUOa3Ar"
    },
    {
      "cell_type": "markdown",
      "metadata": {
        "id": "XTJmKS4Ca3Ar"
      },
      "source": [
        "<div class=\"alert alert-block alert-info\">\n",
        "    <b>tf.keras.layers.TextVectorization</b><br>\n",
        "   https://www.tensorflow.org/api_docs/python/tf/keras/layers/TextVectorization\n",
        "    </div>"
      ],
      "id": "XTJmKS4Ca3Ar"
    },
    {
      "cell_type": "code",
      "execution_count": 74,
      "metadata": {
        "id": "fRuTUz_sa3Ar"
      },
      "outputs": [],
      "source": [
        "VOCAB_SIZE=5000\n",
        "encoder = tf.keras.layers.TextVectorization(\n",
        "    max_tokens=VOCAB_SIZE, standardize=\"lower_and_strip_punctuation\", pad_to_max_tokens= True)\n",
        "encoder.adapt(train_ds.map(lambda text, label: text), batch_size= None)"
      ],
      "id": "fRuTUz_sa3Ar"
    },
    {
      "cell_type": "code",
      "execution_count": 75,
      "metadata": {
        "colab": {
          "base_uri": "https://localhost:8080/"
        },
        "id": "QadfX_5Xa3Ar",
        "outputId": "7e0c5eb2-d4ab-484f-e21a-24591f070bec"
      },
      "outputs": [
        {
          "output_type": "execute_result",
          "data": {
            "text/plain": [
              "5000"
            ]
          },
          "metadata": {},
          "execution_count": 75
        }
      ],
      "source": [
        "vocab = np.array(encoder.get_vocabulary())\n",
        "len(vocab)"
      ],
      "id": "QadfX_5Xa3Ar"
    },
    {
      "cell_type": "code",
      "execution_count": 76,
      "metadata": {
        "colab": {
          "base_uri": "https://localhost:8080/"
        },
        "id": "p8MvQujla3As",
        "outputId": "ecfbfd2b-4b9f-47bf-a2ef-8a903214030b"
      },
      "outputs": [
        {
          "output_type": "execute_result",
          "data": {
            "text/plain": [
              "array(['', '[UNK]', 's', 'the', 'film', 'i', 'movie', 'nt', 'like', 'one',\n",
              "       'it', 'time', 'character', 'even', 'get', 'make', 'also', 'two',\n",
              "       'story', 'action'], dtype='<U19')"
            ]
          },
          "metadata": {},
          "execution_count": 76
        }
      ],
      "source": [
        "vocab[:20]"
      ],
      "id": "p8MvQujla3As"
    },
    {
      "cell_type": "code",
      "execution_count": 77,
      "metadata": {
        "colab": {
          "base_uri": "https://localhost:8080/"
        },
        "id": "IlpDqtF_a3As",
        "outputId": "a8649d88-dd39-4dac-de11-d22d48091c2c"
      },
      "outputs": [
        {
          "output_type": "execute_result",
          "data": {
            "text/plain": [
              "array(['thunderbolt', 'thug', 'thud', 'throwing', 'throwback',\n",
              "       'throwaway', 'through', 'throe', 'throatclenching', 'thrives',\n",
              "       'thrive', 'threaten', 'thrash', 'thowy', 'thousand',\n",
              "       'thoughtpoliceman', 'thoughtlessly', 'thornberries', 'thong',\n",
              "       'thomas'], dtype='<U19')"
            ]
          },
          "metadata": {},
          "execution_count": 77
        }
      ],
      "source": [
        "vocab[-20:]"
      ],
      "id": "IlpDqtF_a3As"
    },
    {
      "cell_type": "markdown",
      "metadata": {
        "id": "w3HbReZea3As"
      },
      "source": [
        "## Example of Encoded Words"
      ],
      "id": "w3HbReZea3As"
    },
    {
      "cell_type": "code",
      "execution_count": 78,
      "metadata": {
        "colab": {
          "base_uri": "https://localhost:8080/"
        },
        "id": "72xCLWaha3As",
        "outputId": "b69af0eb-e432-4d98-e279-66643d0f2d32"
      },
      "outputs": [
        {
          "output_type": "execute_result",
          "data": {
            "text/plain": [
              "array([   1,  220, 1384,  584, 2920,    1,  106,  106])"
            ]
          },
          "metadata": {},
          "execution_count": 78
        }
      ],
      "source": [
        "encoded_example = encoder('encanto we dont talk about bruno no no').numpy()\n",
        "encoded_example[:]"
      ],
      "id": "72xCLWaha3As"
    },
    {
      "cell_type": "code",
      "execution_count": 79,
      "metadata": {
        "colab": {
          "base_uri": "https://localhost:8080/"
        },
        "id": "Oq7IIlXza3As",
        "outputId": "fe5f1a60-51f2-4e87-d570-83443fdd1b8e"
      },
      "outputs": [
        {
          "output_type": "execute_result",
          "data": {
            "text/plain": [
              "5000"
            ]
          },
          "metadata": {},
          "execution_count": 79
        }
      ],
      "source": [
        "len(encoder.get_vocabulary())"
      ],
      "id": "Oq7IIlXza3As"
    },
    {
      "cell_type": "code",
      "execution_count": 80,
      "metadata": {
        "colab": {
          "base_uri": "https://localhost:8080/"
        },
        "id": "llMJM3c5a3As",
        "outputId": "e1636c90-d7ab-48ff-c16f-e83fc5a5f82e"
      },
      "outputs": [
        {
          "output_type": "execute_result",
          "data": {
            "text/plain": [
              "<tf.Tensor: shape=(276,), dtype=int64, numpy=\n",
              "array([1048,  363,  852,    1,    1,  118,  188,  674,  419, 3155,    1,\n",
              "          1,    1, 1243,    1,  493,    1,  461,  729,   25, 1228,  532,\n",
              "          2,  940, 4222,    1,  442, 1566,  258,    2, 3479, 1665,  109,\n",
              "       2199,   27,  378,  146,  639,    1, 3244,  279,  985,    2,  969,\n",
              "         32,  281,   75,   77, 1037, 1001,  188, 4307,  502,  325,   55,\n",
              "        164,  374,  165, 1440,  710,  662,  613,   25,  208,   33,   22,\n",
              "        259,  643, 1535,  165,  400, 3598,  118,    7,  627,    2, 1076,\n",
              "        815,  694, 2108,  361,  486,  310, 2916, 3444, 1930,    1, 2625,\n",
              "          7,  160,  257,  620,   94,  331, 3650, 2461, 2473,    1,   97,\n",
              "          1,   20,  376, 1433,  202,    1,  931,  954, 1307,   87, 1454,\n",
              "       1602, 1682, 1998,  239, 1538, 1928, 4115, 4149,  236,    1,    1,\n",
              "         45,  267,  188,    2,    1,    1, 3055, 1000,  333, 2111, 4066,\n",
              "       3041, 3156,  907,  519,   33, 3504, 1981, 4129,  163,   61, 1672,\n",
              "        789,  563, 1386, 2836,  118,  130, 4014, 3182,  304,    1,  420,\n",
              "          4,   52, 3579,   19,  146,   10,    2, 3863, 2140,    7,    1,\n",
              "        118,    2,  525,    1,   29, 1032,    1,    1,   13, 2079, 2556,\n",
              "       1602,  130,    1,   95, 3710,   45,    7,  830,   10,   16, 1990,\n",
              "       1871,   11,  165,    2, 1648,  396, 1277, 1563, 2200,  326, 4694,\n",
              "        565,    1,    1, 2240,  470,  397, 4272,  188, 2058, 2764,    1,\n",
              "       3931, 1300,  366,   23,   67,  677,  451,    1,  247,  142,  110,\n",
              "       1482,  728, 1137,  678, 4788,    2,  794, 2041,  134, 1492,  408,\n",
              "        697,  231,  393,  440, 4026,  499, 4962,  517,    1,  309, 2182,\n",
              "          1,    1, 1780,  165, 3075, 4273, 2520, 2058,    2,    1, 2618,\n",
              "       3524,  320,  327,    1,    1, 2341, 2156,   96,  118, 3650,   13,\n",
              "       1261, 3111,    1,    1,  164,  374,  504,   10,    2,    9,   67,\n",
              "         30])>"
            ]
          },
          "metadata": {},
          "execution_count": 80
        }
      ],
      "source": [
        "encoder(data['Text'][0])"
      ],
      "id": "llMJM3c5a3As"
    },
    {
      "cell_type": "code",
      "execution_count": 81,
      "metadata": {
        "colab": {
          "base_uri": "https://localhost:8080/"
        },
        "id": "g9JI1g1wa3As",
        "outputId": "e6d06ba3-9a9d-410c-87e5-baea18af86aa"
      },
      "outputs": [
        {
          "output_type": "stream",
          "name": "stdout",
          "text": [
            "texts:  [b\"In vein `` Remember Titans , `` `` The Rookie `` `` Miracle , `` `` The Finest Hours `` latest Disney film inspired true event . The story one U.S. Coast Guard 's daring rescue mission compelling , done justice . It 's uneven thriller focus wrong side equation , result film never soar high . Set New England coast 1952 , Chris Pine play Bernie , lovable member Coast Guard gotten engaged Miriam ( Holliday Grainger ) . Bernie go announce engagement commanding officer ( Eric Bana ) , sent blizzard rescue oil tanker split half sinking coast . Bernie small crew including severely underused Ben Foster set find rescue survivor , despite condition long odds . The screenplay `` The Finest Hours `` ( credited three writer ) opts focus Bernie Miriam 's budding romance including lengthy prologue met . There also subplot previous rescue mission Bernie ended tragically , feel like plot device used add tension . Grainger 's performance quickly wear thin , character supposed come headstrong , independent woman becomes increasingly annoying overbearing . And Pine big star pull lovable everyman , despite best effort . What work `` The Finest Hours `` come side rescue . The scene sinking ship provide dramatic moment , Casey Affleck one ship 's crew member giving best performance movie . When `` The Finest Hours `` deal sinking boat , film work . It 's bad film steered wrong direction . Also theater While `` The Finest Hours `` least little promise , ca n't said `` Dirty Grandpa `` ( F ) . This ugly , disgusting unfunny comedy jaw-droppingly awful , despite presence Zac Efron Robert DeNiro . Efron play Jason , uptight lawyer get married agrees take grandfather Dick ( DeNiro ) Florida grandmother dy . The trip quickly spiral control Jason realizes Dick want party sex stranger . The pair meet former classmate Jason named Shadia ( Zoey Deutch )\"]\n",
            "\n"
          ]
        }
      ],
      "source": [
        "for example, label in train_ds.take(1):\n",
        "  print('texts: ', example.numpy()[:1])\n",
        "  print()"
      ],
      "id": "g9JI1g1wa3As"
    },
    {
      "cell_type": "markdown",
      "metadata": {
        "id": "gdkSacw7a3As"
      },
      "source": [
        "## Build RNN Sequential Model"
      ],
      "id": "gdkSacw7a3As"
    },
    {
      "cell_type": "markdown",
      "metadata": {
        "id": "-D0HJalka3At"
      },
      "source": [
        "<div class=\"alert alert-block alert-info\">\n",
        "    <b>tf.keras.layers</b><br>\n",
        "    https://www.tensorflow.org/api_docs/python/tf/keras/layers\n",
        "    </div>"
      ],
      "id": "-D0HJalka3At"
    },
    {
      "cell_type": "code",
      "execution_count": 82,
      "metadata": {
        "id": "mlMTTIVJa3At"
      },
      "outputs": [],
      "source": [
        "k.clear_session()\n",
        "num_classes=4\n",
        "model=tf.keras.Sequential([encoder\n",
        "   ,tf.keras.layers.Embedding(len(encoder.get_vocabulary()), 512, mask_zero=True)\n",
        "   ,tf.keras.layers.Bidirectional(tf.keras.layers.LSTM(256,  return_sequences=True, dropout=0.3))\n",
        "   ,tf.keras.layers.Bidirectional(tf.keras.layers.LSTM(128,dropout=0.3))\n",
        "   ,tf.keras.layers.Dense(64, activation='relu')\n",
        "   ,tf.keras.layers.Dense(16, activation='relu')\n",
        "   ,tf.keras.layers.Dense(num_classes,activation='softmax')\n",
        "])"
      ],
      "id": "mlMTTIVJa3At"
    },
    {
      "cell_type": "code",
      "execution_count": 83,
      "metadata": {
        "scrolled": false,
        "colab": {
          "base_uri": "https://localhost:8080/"
        },
        "id": "NQf85-wMa3Av",
        "outputId": "a523edd5-baa6-46e4-9915-5c5c5e5f6d61"
      },
      "outputs": [
        {
          "output_type": "stream",
          "name": "stdout",
          "text": [
            "Model: \"sequential\"\n",
            "_________________________________________________________________\n",
            " Layer (type)                Output Shape              Param #   \n",
            "=================================================================\n",
            " text_vectorization (TextVe  (None, None)              0         \n",
            " ctorization)                                                    \n",
            "                                                                 \n",
            " embedding (Embedding)       (None, None, 512)         2560000   \n",
            "                                                                 \n",
            " bidirectional (Bidirection  (None, None, 512)         1574912   \n",
            " al)                                                             \n",
            "                                                                 \n",
            " bidirectional_1 (Bidirecti  (None, 256)               656384    \n",
            " onal)                                                           \n",
            "                                                                 \n",
            " dense (Dense)               (None, 64)                16448     \n",
            "                                                                 \n",
            " dense_1 (Dense)             (None, 16)                1040      \n",
            "                                                                 \n",
            " dense_2 (Dense)             (None, 4)                 68        \n",
            "                                                                 \n",
            "=================================================================\n",
            "Total params: 4808852 (18.34 MB)\n",
            "Trainable params: 4808852 (18.34 MB)\n",
            "Non-trainable params: 0 (0.00 Byte)\n",
            "_________________________________________________________________\n"
          ]
        }
      ],
      "source": [
        "model.summary()"
      ],
      "id": "NQf85-wMa3Av"
    },
    {
      "cell_type": "code",
      "execution_count": 84,
      "metadata": {
        "id": "8DHZZA3Va3At"
      },
      "outputs": [],
      "source": [
        "model.compile(optimizer= tf.keras.optimizers.Adam( )\n",
        "              ,loss=tf.keras.losses.SparseCategoricalCrossentropy()\n",
        "              ,metrics=['accuracy'])"
      ],
      "id": "8DHZZA3Va3At"
    },
    {
      "cell_type": "code",
      "execution_count": 85,
      "metadata": {
        "scrolled": true,
        "colab": {
          "base_uri": "https://localhost:8080/"
        },
        "id": "enUJuZYka3At",
        "outputId": "7a79dfdd-b089-409c-ccf4-1c52fd3ef0c1"
      },
      "outputs": [
        {
          "output_type": "stream",
          "name": "stdout",
          "text": [
            "Epoch 1/200\n",
            "53/53 [==============================] - 251s 4s/step - loss: 0.7871 - accuracy: 0.5220 - val_loss: 0.6941 - val_accuracy: 0.5556\n",
            "Epoch 2/200\n",
            "53/53 [==============================] - 250s 5s/step - loss: 0.7082 - accuracy: 0.4591 - val_loss: 0.7147 - val_accuracy: 0.3333\n",
            "Epoch 3/200\n",
            "53/53 [==============================] - 229s 4s/step - loss: 0.7051 - accuracy: 0.4277 - val_loss: 0.6890 - val_accuracy: 0.5556\n",
            "CPU times: user 18min 29s, sys: 28.4 s, total: 18min 57s\n",
            "Wall time: 12min 51s\n"
          ]
        }
      ],
      "source": [
        "%%time\n",
        "history = model.fit(train_ds\n",
        "         ,epochs=200\n",
        "         ,validation_data=val_ds\n",
        "         ,validation_steps=3\n",
        "         ,callbacks=[tf.keras.callbacks.EarlyStopping(monitor='val_accuracy', patience=2)])"
      ],
      "id": "enUJuZYka3At"
    },
    {
      "cell_type": "markdown",
      "metadata": {
        "id": "_zzUFij9a3At"
      },
      "source": [
        "## Model Performance Test Accuracy"
      ],
      "id": "_zzUFij9a3At"
    },
    {
      "cell_type": "code",
      "execution_count": 86,
      "metadata": {
        "colab": {
          "base_uri": "https://localhost:8080/"
        },
        "id": "BAPDfPMGa3At",
        "outputId": "931e5cd8-6897-498e-ad03-eb7edf09020b"
      },
      "outputs": [
        {
          "output_type": "stream",
          "name": "stdout",
          "text": [
            "6/6 [==============================] - 2s 325ms/step - loss: 0.6714 - accuracy: 0.6667\n",
            "Test Loss: 0.6713995337486267\n",
            "Test Accuracy: 0.6666666865348816\n"
          ]
        }
      ],
      "source": [
        "test_loss, test_acc = model.evaluate(test_ds)\n",
        "\n",
        "print('Test Loss: {}'.format(test_loss))\n",
        "print('Test Accuracy: {}'.format(test_acc))"
      ],
      "id": "BAPDfPMGa3At"
    },
    {
      "cell_type": "markdown",
      "metadata": {
        "id": "7g7U9UUVa3Au"
      },
      "source": [
        "## Plotting Performance Metrics - Multi-Layer Bidirectional RNN"
      ],
      "id": "7g7U9UUVa3Au"
    },
    {
      "cell_type": "code",
      "execution_count": 87,
      "metadata": {
        "colab": {
          "base_uri": "https://localhost:8080/"
        },
        "id": "vuMi14LQa3Au",
        "outputId": "b0126730-d716-4788-c836-4cc37c478432"
      },
      "outputs": [
        {
          "output_type": "execute_result",
          "data": {
            "text/plain": [
              "dict_keys(['loss', 'accuracy', 'val_loss', 'val_accuracy'])"
            ]
          },
          "metadata": {},
          "execution_count": 87
        }
      ],
      "source": [
        "history_dict = history.history\n",
        "history_dict.keys()"
      ],
      "id": "vuMi14LQa3Au"
    },
    {
      "cell_type": "code",
      "execution_count": 88,
      "metadata": {
        "colab": {
          "base_uri": "https://localhost:8080/",
          "height": 144
        },
        "id": "gPDxsrVYa3Au",
        "outputId": "24abccc6-c0b6-475c-c419-f22164872f6d"
      },
      "outputs": [
        {
          "output_type": "execute_result",
          "data": {
            "text/plain": [
              "    loss  accuracy  val_loss  val_accuracy\n",
              "0  0.787     0.522     0.694         0.556\n",
              "1  0.708     0.459     0.715         0.333\n",
              "2  0.705     0.428     0.689         0.556"
            ],
            "text/html": [
              "\n",
              "  <div id=\"df-0446f463-a924-4a64-9525-eda0038d28a4\" class=\"colab-df-container\">\n",
              "    <div>\n",
              "<style scoped>\n",
              "    .dataframe tbody tr th:only-of-type {\n",
              "        vertical-align: middle;\n",
              "    }\n",
              "\n",
              "    .dataframe tbody tr th {\n",
              "        vertical-align: top;\n",
              "    }\n",
              "\n",
              "    .dataframe thead th {\n",
              "        text-align: right;\n",
              "    }\n",
              "</style>\n",
              "<table border=\"1\" class=\"dataframe\">\n",
              "  <thead>\n",
              "    <tr style=\"text-align: right;\">\n",
              "      <th></th>\n",
              "      <th>loss</th>\n",
              "      <th>accuracy</th>\n",
              "      <th>val_loss</th>\n",
              "      <th>val_accuracy</th>\n",
              "    </tr>\n",
              "  </thead>\n",
              "  <tbody>\n",
              "    <tr>\n",
              "      <th>0</th>\n",
              "      <td>0.787</td>\n",
              "      <td>0.522</td>\n",
              "      <td>0.694</td>\n",
              "      <td>0.556</td>\n",
              "    </tr>\n",
              "    <tr>\n",
              "      <th>1</th>\n",
              "      <td>0.708</td>\n",
              "      <td>0.459</td>\n",
              "      <td>0.715</td>\n",
              "      <td>0.333</td>\n",
              "    </tr>\n",
              "    <tr>\n",
              "      <th>2</th>\n",
              "      <td>0.705</td>\n",
              "      <td>0.428</td>\n",
              "      <td>0.689</td>\n",
              "      <td>0.556</td>\n",
              "    </tr>\n",
              "  </tbody>\n",
              "</table>\n",
              "</div>\n",
              "    <div class=\"colab-df-buttons\">\n",
              "\n",
              "  <div class=\"colab-df-container\">\n",
              "    <button class=\"colab-df-convert\" onclick=\"convertToInteractive('df-0446f463-a924-4a64-9525-eda0038d28a4')\"\n",
              "            title=\"Convert this dataframe to an interactive table.\"\n",
              "            style=\"display:none;\">\n",
              "\n",
              "  <svg xmlns=\"http://www.w3.org/2000/svg\" height=\"24px\" viewBox=\"0 -960 960 960\">\n",
              "    <path d=\"M120-120v-720h720v720H120Zm60-500h600v-160H180v160Zm220 220h160v-160H400v160Zm0 220h160v-160H400v160ZM180-400h160v-160H180v160Zm440 0h160v-160H620v160ZM180-180h160v-160H180v160Zm440 0h160v-160H620v160Z\"/>\n",
              "  </svg>\n",
              "    </button>\n",
              "\n",
              "  <style>\n",
              "    .colab-df-container {\n",
              "      display:flex;\n",
              "      gap: 12px;\n",
              "    }\n",
              "\n",
              "    .colab-df-convert {\n",
              "      background-color: #E8F0FE;\n",
              "      border: none;\n",
              "      border-radius: 50%;\n",
              "      cursor: pointer;\n",
              "      display: none;\n",
              "      fill: #1967D2;\n",
              "      height: 32px;\n",
              "      padding: 0 0 0 0;\n",
              "      width: 32px;\n",
              "    }\n",
              "\n",
              "    .colab-df-convert:hover {\n",
              "      background-color: #E2EBFA;\n",
              "      box-shadow: 0px 1px 2px rgba(60, 64, 67, 0.3), 0px 1px 3px 1px rgba(60, 64, 67, 0.15);\n",
              "      fill: #174EA6;\n",
              "    }\n",
              "\n",
              "    .colab-df-buttons div {\n",
              "      margin-bottom: 4px;\n",
              "    }\n",
              "\n",
              "    [theme=dark] .colab-df-convert {\n",
              "      background-color: #3B4455;\n",
              "      fill: #D2E3FC;\n",
              "    }\n",
              "\n",
              "    [theme=dark] .colab-df-convert:hover {\n",
              "      background-color: #434B5C;\n",
              "      box-shadow: 0px 1px 3px 1px rgba(0, 0, 0, 0.15);\n",
              "      filter: drop-shadow(0px 1px 2px rgba(0, 0, 0, 0.3));\n",
              "      fill: #FFFFFF;\n",
              "    }\n",
              "  </style>\n",
              "\n",
              "    <script>\n",
              "      const buttonEl =\n",
              "        document.querySelector('#df-0446f463-a924-4a64-9525-eda0038d28a4 button.colab-df-convert');\n",
              "      buttonEl.style.display =\n",
              "        google.colab.kernel.accessAllowed ? 'block' : 'none';\n",
              "\n",
              "      async function convertToInteractive(key) {\n",
              "        const element = document.querySelector('#df-0446f463-a924-4a64-9525-eda0038d28a4');\n",
              "        const dataTable =\n",
              "          await google.colab.kernel.invokeFunction('convertToInteractive',\n",
              "                                                    [key], {});\n",
              "        if (!dataTable) return;\n",
              "\n",
              "        const docLinkHtml = 'Like what you see? Visit the ' +\n",
              "          '<a target=\"_blank\" href=https://colab.research.google.com/notebooks/data_table.ipynb>data table notebook</a>'\n",
              "          + ' to learn more about interactive tables.';\n",
              "        element.innerHTML = '';\n",
              "        dataTable['output_type'] = 'display_data';\n",
              "        await google.colab.output.renderOutput(dataTable, element);\n",
              "        const docLink = document.createElement('div');\n",
              "        docLink.innerHTML = docLinkHtml;\n",
              "        element.appendChild(docLink);\n",
              "      }\n",
              "    </script>\n",
              "  </div>\n",
              "\n",
              "\n",
              "<div id=\"df-7ae80ed1-e800-49f2-8f8c-3216b1e84576\">\n",
              "  <button class=\"colab-df-quickchart\" onclick=\"quickchart('df-7ae80ed1-e800-49f2-8f8c-3216b1e84576')\"\n",
              "            title=\"Suggest charts.\"\n",
              "            style=\"display:none;\">\n",
              "\n",
              "<svg xmlns=\"http://www.w3.org/2000/svg\" height=\"24px\"viewBox=\"0 0 24 24\"\n",
              "     width=\"24px\">\n",
              "    <g>\n",
              "        <path d=\"M19 3H5c-1.1 0-2 .9-2 2v14c0 1.1.9 2 2 2h14c1.1 0 2-.9 2-2V5c0-1.1-.9-2-2-2zM9 17H7v-7h2v7zm4 0h-2V7h2v10zm4 0h-2v-4h2v4z\"/>\n",
              "    </g>\n",
              "</svg>\n",
              "  </button>\n",
              "\n",
              "<style>\n",
              "  .colab-df-quickchart {\n",
              "      --bg-color: #E8F0FE;\n",
              "      --fill-color: #1967D2;\n",
              "      --hover-bg-color: #E2EBFA;\n",
              "      --hover-fill-color: #174EA6;\n",
              "      --disabled-fill-color: #AAA;\n",
              "      --disabled-bg-color: #DDD;\n",
              "  }\n",
              "\n",
              "  [theme=dark] .colab-df-quickchart {\n",
              "      --bg-color: #3B4455;\n",
              "      --fill-color: #D2E3FC;\n",
              "      --hover-bg-color: #434B5C;\n",
              "      --hover-fill-color: #FFFFFF;\n",
              "      --disabled-bg-color: #3B4455;\n",
              "      --disabled-fill-color: #666;\n",
              "  }\n",
              "\n",
              "  .colab-df-quickchart {\n",
              "    background-color: var(--bg-color);\n",
              "    border: none;\n",
              "    border-radius: 50%;\n",
              "    cursor: pointer;\n",
              "    display: none;\n",
              "    fill: var(--fill-color);\n",
              "    height: 32px;\n",
              "    padding: 0;\n",
              "    width: 32px;\n",
              "  }\n",
              "\n",
              "  .colab-df-quickchart:hover {\n",
              "    background-color: var(--hover-bg-color);\n",
              "    box-shadow: 0 1px 2px rgba(60, 64, 67, 0.3), 0 1px 3px 1px rgba(60, 64, 67, 0.15);\n",
              "    fill: var(--button-hover-fill-color);\n",
              "  }\n",
              "\n",
              "  .colab-df-quickchart-complete:disabled,\n",
              "  .colab-df-quickchart-complete:disabled:hover {\n",
              "    background-color: var(--disabled-bg-color);\n",
              "    fill: var(--disabled-fill-color);\n",
              "    box-shadow: none;\n",
              "  }\n",
              "\n",
              "  .colab-df-spinner {\n",
              "    border: 2px solid var(--fill-color);\n",
              "    border-color: transparent;\n",
              "    border-bottom-color: var(--fill-color);\n",
              "    animation:\n",
              "      spin 1s steps(1) infinite;\n",
              "  }\n",
              "\n",
              "  @keyframes spin {\n",
              "    0% {\n",
              "      border-color: transparent;\n",
              "      border-bottom-color: var(--fill-color);\n",
              "      border-left-color: var(--fill-color);\n",
              "    }\n",
              "    20% {\n",
              "      border-color: transparent;\n",
              "      border-left-color: var(--fill-color);\n",
              "      border-top-color: var(--fill-color);\n",
              "    }\n",
              "    30% {\n",
              "      border-color: transparent;\n",
              "      border-left-color: var(--fill-color);\n",
              "      border-top-color: var(--fill-color);\n",
              "      border-right-color: var(--fill-color);\n",
              "    }\n",
              "    40% {\n",
              "      border-color: transparent;\n",
              "      border-right-color: var(--fill-color);\n",
              "      border-top-color: var(--fill-color);\n",
              "    }\n",
              "    60% {\n",
              "      border-color: transparent;\n",
              "      border-right-color: var(--fill-color);\n",
              "    }\n",
              "    80% {\n",
              "      border-color: transparent;\n",
              "      border-right-color: var(--fill-color);\n",
              "      border-bottom-color: var(--fill-color);\n",
              "    }\n",
              "    90% {\n",
              "      border-color: transparent;\n",
              "      border-bottom-color: var(--fill-color);\n",
              "    }\n",
              "  }\n",
              "</style>\n",
              "\n",
              "  <script>\n",
              "    async function quickchart(key) {\n",
              "      const quickchartButtonEl =\n",
              "        document.querySelector('#' + key + ' button');\n",
              "      quickchartButtonEl.disabled = true;  // To prevent multiple clicks.\n",
              "      quickchartButtonEl.classList.add('colab-df-spinner');\n",
              "      try {\n",
              "        const charts = await google.colab.kernel.invokeFunction(\n",
              "            'suggestCharts', [key], {});\n",
              "      } catch (error) {\n",
              "        console.error('Error during call to suggestCharts:', error);\n",
              "      }\n",
              "      quickchartButtonEl.classList.remove('colab-df-spinner');\n",
              "      quickchartButtonEl.classList.add('colab-df-quickchart-complete');\n",
              "    }\n",
              "    (() => {\n",
              "      let quickchartButtonEl =\n",
              "        document.querySelector('#df-7ae80ed1-e800-49f2-8f8c-3216b1e84576 button');\n",
              "      quickchartButtonEl.style.display =\n",
              "        google.colab.kernel.accessAllowed ? 'block' : 'none';\n",
              "    })();\n",
              "  </script>\n",
              "</div>\n",
              "    </div>\n",
              "  </div>\n"
            ]
          },
          "metadata": {},
          "execution_count": 88
        }
      ],
      "source": [
        "history_df=pd.DataFrame(history_dict)\n",
        "history_df.tail().round(3)"
      ],
      "id": "gPDxsrVYa3Au"
    },
    {
      "cell_type": "code",
      "execution_count": 89,
      "metadata": {
        "id": "7hne-WYKa3Au"
      },
      "outputs": [],
      "source": [
        "losses = history.history['loss']\n",
        "accs = history.history['accuracy']\n",
        "val_losses = history.history['val_loss']\n",
        "val_accs = history.history['val_accuracy']\n",
        "epochs = len(losses)"
      ],
      "id": "7hne-WYKa3Au"
    },
    {
      "cell_type": "code",
      "execution_count": 90,
      "metadata": {
        "colab": {
          "base_uri": "https://localhost:8080/",
          "height": 1000
        },
        "id": "cKhOUHxQa3Au",
        "outputId": "ca968d97-c5c0-441e-f4ce-b3b1720e36d5"
      },
      "outputs": [
        {
          "output_type": "display_data",
          "data": {
            "text/plain": [
              "<Figure size 1600x1200 with 2 Axes>"
            ],
            "image/png": "[encoded data removed]"
          },
          "metadata": {}
        }
      ],
      "source": [
        "plt.subplots(figsize=(16,12))\n",
        "plt.tight_layout()\n",
        "display_training_curves(history.history['accuracy'], history.history['val_accuracy'], 'accuracy', 211)\n",
        "display_training_curves(history.history['loss'], history.history['val_loss'], 'loss', 212)"
      ],
      "id": "cKhOUHxQa3Au"
    },
    {
      "cell_type": "markdown",
      "metadata": {
        "id": "ij3sDWgGa3Au"
      },
      "source": [
        "## Confusion Matrix Post Model Performance Analysis"
      ],
      "id": "ij3sDWgGa3Au"
    },
    {
      "cell_type": "code",
      "execution_count": 91,
      "metadata": {
        "colab": {
          "base_uri": "https://localhost:8080/"
        },
        "id": "IaLsjXkQa3Au",
        "outputId": "94437a1a-6f34-42a7-b502-c68ac4828ea1"
      },
      "outputs": [
        {
          "output_type": "stream",
          "name": "stdout",
          "text": [
            "6/6 [==============================] - 7s 322ms/step\n"
          ]
        }
      ],
      "source": [
        "preds2 = model.predict(test_ds)\n",
        "y_pred2 = np.argmax(preds2, axis=1)\n",
        "y2 = np.concatenate([y for x, y in test_ds], axis=0)"
      ],
      "id": "IaLsjXkQa3Au"
    },
    {
      "cell_type": "code",
      "execution_count": 92,
      "metadata": {
        "id": "Vg92x2bla3Au"
      },
      "outputs": [],
      "source": [
        "CLASSES_LIST = ['Positive','Negative']"
      ],
      "id": "Vg92x2bla3Au"
    },
    {
      "cell_type": "code",
      "execution_count": 93,
      "metadata": {
        "colab": {
          "base_uri": "https://localhost:8080/",
          "height": 850
        },
        "id": "D5Uk7pKca3Av",
        "outputId": "eca96328-bd1b-45f6-b24b-b4069f9622c1"
      },
      "outputs": [
        {
          "output_type": "display_data",
          "data": {
            "text/plain": [
              "<Figure size 1000x1000 with 1 Axes>"
            ],
            "image/png": "[encoded data removed]"
          },
          "metadata": {}
        }
      ],
      "source": [
        "plot_confusion_matrix_labeled(y2,y_pred2, CLASSES_LIST=CLASSES_LIST)"
      ],
      "id": "D5Uk7pKca3Av"
    },
    {
      "cell_type": "code",
      "execution_count": 94,
      "metadata": {
        "id": "NyqS9FJka3Av"
      },
      "outputs": [],
      "source": [
        "cm = sns.light_palette((260, 75, 60), input=\"husl\", as_cmap=True)"
      ],
      "id": "NyqS9FJka3Av"
    },
    {
      "cell_type": "code",
      "execution_count": 95,
      "metadata": {
        "colab": {
          "base_uri": "https://localhost:8080/",
          "height": 355
        },
        "id": "RTAGFvGga3Av",
        "outputId": "cbad49d3-ac22-4020-b0d2-3126032191ba"
      },
      "outputs": [
        {
          "output_type": "error",
          "ename": "ValueError",
          "evalue": "ignored",
          "traceback": [
            "\u001b[0;31m---------------------------------------------------------------------------\u001b[0m",
            "\u001b[0;31mValueError\u001b[0m                                Traceback (most recent call last)",
            "\u001b[0;32m<ipython-input-95-791475731630>\u001b[0m in \u001b[0;36m<cell line: 1>\u001b[0;34m()\u001b[0m\n\u001b[0;32m----> 1\u001b[0;31m df2 = pd.DataFrame(preds2[0:15]\n\u001b[0m\u001b[1;32m      2\u001b[0m                   ,columns = CLASSES_LIST).T\n\u001b[1;32m      3\u001b[0m \u001b[0mdf2\u001b[0m\u001b[0;34m.\u001b[0m\u001b[0mstyle\u001b[0m\u001b[0;34m.\u001b[0m\u001b[0mformat\u001b[0m\u001b[0;34m(\u001b[0m\u001b[0;34m\"{:.2%}\"\u001b[0m\u001b[0;34m)\u001b[0m\u001b[0;34m.\u001b[0m\u001b[0mbackground_gradient\u001b[0m\u001b[0;34m(\u001b[0m\u001b[0mcmap\u001b[0m\u001b[0;34m=\u001b[0m\u001b[0mcm\u001b[0m\u001b[0;34m)\u001b[0m\u001b[0;34m\u001b[0m\u001b[0;34m\u001b[0m\u001b[0m\n",
            "\u001b[0;32m/usr/local/lib/python3.10/dist-packages/pandas/core/frame.py\u001b[0m in \u001b[0;36m__init__\u001b[0;34m(self, data, index, columns, dtype, copy)\u001b[0m\n\u001b[1;32m    720\u001b[0m                 )\n\u001b[1;32m    721\u001b[0m             \u001b[0;32melse\u001b[0m\u001b[0;34m:\u001b[0m\u001b[0;34m\u001b[0m\u001b[0;34m\u001b[0m\u001b[0m\n\u001b[0;32m--> 722\u001b[0;31m                 mgr = ndarray_to_mgr(\n\u001b[0m\u001b[1;32m    723\u001b[0m                     \u001b[0mdata\u001b[0m\u001b[0;34m,\u001b[0m\u001b[0;34m\u001b[0m\u001b[0;34m\u001b[0m\u001b[0m\n\u001b[1;32m    724\u001b[0m                     \u001b[0mindex\u001b[0m\u001b[0;34m,\u001b[0m\u001b[0;34m\u001b[0m\u001b[0;34m\u001b[0m\u001b[0m\n",
            "\u001b[0;32m/usr/local/lib/python3.10/dist-packages/pandas/core/internals/construction.py\u001b[0m in \u001b[0;36mndarray_to_mgr\u001b[0;34m(values, index, columns, dtype, copy, typ)\u001b[0m\n\u001b[1;32m    347\u001b[0m     )\n\u001b[1;32m    348\u001b[0m \u001b[0;34m\u001b[0m\u001b[0m\n\u001b[0;32m--> 349\u001b[0;31m     \u001b[0m_check_values_indices_shape_match\u001b[0m\u001b[0;34m(\u001b[0m\u001b[0mvalues\u001b[0m\u001b[0;34m,\u001b[0m \u001b[0mindex\u001b[0m\u001b[0;34m,\u001b[0m \u001b[0mcolumns\u001b[0m\u001b[0;34m)\u001b[0m\u001b[0;34m\u001b[0m\u001b[0;34m\u001b[0m\u001b[0m\n\u001b[0m\u001b[1;32m    350\u001b[0m \u001b[0;34m\u001b[0m\u001b[0m\n\u001b[1;32m    351\u001b[0m     \u001b[0;32mif\u001b[0m \u001b[0mtyp\u001b[0m \u001b[0;34m==\u001b[0m \u001b[0;34m\"array\"\u001b[0m\u001b[0;34m:\u001b[0m\u001b[0;34m\u001b[0m\u001b[0;34m\u001b[0m\u001b[0m\n",
            "\u001b[0;32m/usr/local/lib/python3.10/dist-packages/pandas/core/internals/construction.py\u001b[0m in \u001b[0;36m_check_values_indices_shape_match\u001b[0;34m(values, index, columns)\u001b[0m\n\u001b[1;32m    418\u001b[0m         \u001b[0mpassed\u001b[0m \u001b[0;34m=\u001b[0m \u001b[0mvalues\u001b[0m\u001b[0;34m.\u001b[0m\u001b[0mshape\u001b[0m\u001b[0;34m\u001b[0m\u001b[0;34m\u001b[0m\u001b[0m\n\u001b[1;32m    419\u001b[0m         \u001b[0mimplied\u001b[0m \u001b[0;34m=\u001b[0m \u001b[0;34m(\u001b[0m\u001b[0mlen\u001b[0m\u001b[0;34m(\u001b[0m\u001b[0mindex\u001b[0m\u001b[0;34m)\u001b[0m\u001b[0;34m,\u001b[0m \u001b[0mlen\u001b[0m\u001b[0;34m(\u001b[0m\u001b[0mcolumns\u001b[0m\u001b[0;34m)\u001b[0m\u001b[0;34m)\u001b[0m\u001b[0;34m\u001b[0m\u001b[0;34m\u001b[0m\u001b[0m\n\u001b[0;32m--> 420\u001b[0;31m         \u001b[0;32mraise\u001b[0m \u001b[0mValueError\u001b[0m\u001b[0;34m(\u001b[0m\u001b[0;34mf\"Shape of passed values is {passed}, indices imply {implied}\"\u001b[0m\u001b[0;34m)\u001b[0m\u001b[0;34m\u001b[0m\u001b[0;34m\u001b[0m\u001b[0m\n\u001b[0m\u001b[1;32m    421\u001b[0m \u001b[0;34m\u001b[0m\u001b[0m\n\u001b[1;32m    422\u001b[0m \u001b[0;34m\u001b[0m\u001b[0m\n",
            "\u001b[0;31mValueError\u001b[0m: Shape of passed values is (15, 4), indices imply (15, 2)"
          ]
        }
      ],
      "source": [
        "df2 = pd.DataFrame(preds2[0:15]\n",
        "                  ,columns = CLASSES_LIST).T\n",
        "df2.style.format(\"{:.2%}\").background_gradient(cmap=cm)"
      ],
      "id": "RTAGFvGga3Av"
    }
  ],
  "metadata": {
    "kernelspec": {
      "display_name": "Python 3",
      "language": "python",
      "name": "python3"
    },
    "language_info": {
      "codemirror_mode": {
        "name": "ipython",
        "version": 3
      },
      "file_extension": ".py",
      "mimetype": "text/x-python",
      "name": "python",
      "nbconvert_exporter": "python",
      "pygments_lexer": "ipython3",
      "version": "3.8.10"
    },
    "colab": {
      "provenance": [],
      "collapsed_sections": [
        "lGzlf27ONXaD"
      ],
      "include_colab_link": true
    }
  },
  "nbformat": 4,
  "nbformat_minor": 5
}