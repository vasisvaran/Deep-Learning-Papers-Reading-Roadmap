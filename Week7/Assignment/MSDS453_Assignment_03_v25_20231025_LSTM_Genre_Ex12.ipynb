{
  "cells": [
    {
      "cell_type": "markdown",
      "metadata": {
        "id": "view-in-github",
        "colab_type": "text"
      },
      "source": [
        "<a href=\"https://colab.research.google.com/github/vasisvaran/Deep-Learning-Papers-Reading-Roadmap/blob/master/Week7/Assignment/MSDS453_Assignment_03_v25_20231025_LSTM_Genre_Ex12.ipynb\" target=\"_parent\"><img src=\"https://colab.research.google.com/assets/colab-badge.svg\" alt=\"Open In Colab\"/></a>"
      ]
    },
    {
      "cell_type": "markdown",
      "metadata": {
        "id": "D4fvdNtua3AI"
      },
      "source": [
        "<img src=\"https://github.com/djp840/MSDS_453_Public/blob/main/images/NorthwesternHeader.png?raw=1\">"
      ],
      "id": "D4fvdNtua3AI"
    },
    {
      "cell_type": "markdown",
      "metadata": {
        "id": "NG2UslRFa3AN"
      },
      "source": [
        "## MSDS453 - Research Assignment 03 - Ontology Plus Context and Modeling"
      ],
      "id": "NG2UslRFa3AN"
    },
    {
      "cell_type": "markdown",
      "metadata": {
        "id": "ZkbnxCcEa3AN"
      },
      "source": [
        "Take the ontology that you developed in week 6 and consider how your ten chosen documents for this quarter's class corpus map to that ontology.\n",
        "\n",
        "Protégé is a tool that takes inputs for a human-created Ontology and creates a visualization.\n",
        "\n",
        "Use Python algorithms to generate Knowledge Graphs from your documents.\n",
        "\n",
        "TensorFlow Bidirectional RNN Model"
      ],
      "id": "ZkbnxCcEa3AN"
    },
    {
      "cell_type": "code",
      "execution_count": 1,
      "metadata": {
        "id": "0bb6XKuca3AO"
      },
      "outputs": [],
      "source": [
        "import pandas as pd\n",
        "import numpy as np\n",
        "import re\n",
        "import string\n",
        "import seaborn as sns\n",
        "import matplotlib.pyplot as plt\n",
        "import nltk\n",
        "from collections import Counter\n",
        "from dataclasses import dataclass\n",
        "from timeit import default_timer as timer\n",
        "\n",
        "from nltk.corpus import stopwords\n",
        "from nltk.stem.wordnet import WordNetLemmatizer\n",
        "from nltk.tokenize import word_tokenize\n",
        "\n",
        "import gensim\n",
        "from gensim.models import Word2Vec\n",
        "\n",
        "import spacy\n",
        "from spacy import displacy\n",
        "\n",
        "from spacy.matcher import Matcher\n",
        "from spacy.tokens import Span\n",
        "\n",
        "import networkx as nx\n",
        "import matplotlib.pyplot as plt\n",
        "from tqdm import tqdm\n",
        "\n",
        "\n",
        "from sklearn.feature_extraction.text import TfidfVectorizer\n",
        "from sklearn.feature_extraction.text import CountVectorizer\n",
        "from sklearn.metrics.pairwise import cosine_similarity\n",
        "from sklearn.svm import SVC\n",
        "from sklearn.metrics import accuracy_score, f1_score\n",
        "from sklearn.model_selection import train_test_split\n",
        "\n",
        "from IPython.display import display, HTML\n",
        "\n",
        "from sklearn.metrics import confusion_matrix, classification_report\n",
        "from sklearn.metrics import accuracy_score, f1_score\n",
        "\n",
        "import tensorflow as tf\n",
        "from tensorflow import keras\n",
        "import tensorflow_datasets as tfds\n",
        "tf.random.set_seed(2022)\n",
        "import tensorflow.keras.backend as k\n",
        "\n",
        "from typing import List, Callable, Dict, Tuple, Set"
      ],
      "id": "0bb6XKuca3AO"
    },
    {
      "cell_type": "markdown",
      "metadata": {
        "id": "8Qzg7r_Ea3AQ"
      },
      "source": [
        "<div class=\"alert alert-block alert-danger\">\n",
        "<b>Required Installation: en_core_web_lg</b><br>\"python -m spacy download en_core_web_lg\"<br><br>English pipeline optimized for CPU. Components: tok2vec, tagger, parser, senter, ner, attribute_ruler, lemmatizer<br>\n",
        "    <b>https://spacy.io/models/en#en_core_web_lg </b>\n",
        "</div>"
      ],
      "id": "8Qzg7r_Ea3AQ"
    },
    {
      "cell_type": "markdown",
      "metadata": {
        "id": "UufSGLC6a3AQ"
      },
      "source": [
        "## Requires Restart Of Runtime After Installation"
      ],
      "id": "UufSGLC6a3AQ"
    },
    {
      "cell_type": "code",
      "execution_count": 2,
      "metadata": {
        "colab": {
          "base_uri": "https://localhost:8080/"
        },
        "id": "4r4cNgT1a3AR",
        "outputId": "8f1137ad-36d2-48c4-9353-961b0a81ff9f"
      },
      "outputs": [
        {
          "output_type": "stream",
          "name": "stdout",
          "text": [
            "2023-11-04 19:31:36.178499: E tensorflow/compiler/xla/stream_executor/cuda/cuda_dnn.cc:9342] Unable to register cuDNN factory: Attempting to register factory for plugin cuDNN when one has already been registered\n",
            "2023-11-04 19:31:36.178583: E tensorflow/compiler/xla/stream_executor/cuda/cuda_fft.cc:609] Unable to register cuFFT factory: Attempting to register factory for plugin cuFFT when one has already been registered\n",
            "2023-11-04 19:31:36.178637: E tensorflow/compiler/xla/stream_executor/cuda/cuda_blas.cc:1518] Unable to register cuBLAS factory: Attempting to register factory for plugin cuBLAS when one has already been registered\n",
            "2023-11-04 19:31:38.841459: W tensorflow/compiler/tf2tensorrt/utils/py_utils.cc:38] TF-TRT Warning: Could not find TensorRT\n",
            "\u001b[2K     \u001b[90m━━━━━━━━━━━━━━━━━━━━━━━━━━━━━━━━━━━━━━━━\u001b[0m \u001b[32m587.7/587.7 MB\u001b[0m \u001b[31m2.4 MB/s\u001b[0m eta \u001b[36m0:00:00\u001b[0m\n",
            "\u001b[?25h\u001b[38;5;2m✔ Download and installation successful\u001b[0m\n",
            "You can now load the package via spacy.load('en_core_web_lg')\n"
          ]
        }
      ],
      "source": [
        "!python -m spacy download en_core_web_lg -q"
      ],
      "id": "4r4cNgT1a3AR"
    },
    {
      "cell_type": "code",
      "execution_count": 3,
      "metadata": {
        "id": "meoFskZSa3AS"
      },
      "outputs": [],
      "source": [
        "nlp = spacy.load('en_core_web_lg')"
      ],
      "id": "meoFskZSa3AS"
    },
    {
      "cell_type": "markdown",
      "metadata": {
        "id": "l4GmMWVma3AS"
      },
      "source": [
        "### Mount Google Drive to Colab Environment"
      ],
      "id": "l4GmMWVma3AS"
    },
    {
      "cell_type": "code",
      "execution_count": 4,
      "metadata": {
        "id": "zDMUmHNEa3AT",
        "outputId": "57e2aa22-4222-4f0f-927c-6aa5bdfc41e1",
        "colab": {
          "base_uri": "https://localhost:8080/"
        }
      },
      "outputs": [
        {
          "output_type": "stream",
          "name": "stdout",
          "text": [
            "Mounted at /content/gdrive\n"
          ]
        }
      ],
      "source": [
        "from google.colab import drive\n",
        "drive.mount('/content/gdrive')"
      ],
      "id": "zDMUmHNEa3AT"
    },
    {
      "cell_type": "markdown",
      "metadata": {
        "id": "YGekOXfXa3AU"
      },
      "source": [
        "### NLTK Downloads"
      ],
      "id": "YGekOXfXa3AU"
    },
    {
      "cell_type": "code",
      "execution_count": 5,
      "metadata": {
        "colab": {
          "base_uri": "https://localhost:8080/"
        },
        "id": "-zgAZ6Gxa3AU",
        "outputId": "9982b96b-fe28-47fd-e6d4-df2416069c2d"
      },
      "outputs": [
        {
          "output_type": "execute_result",
          "data": {
            "text/plain": [
              "True"
            ]
          },
          "metadata": {},
          "execution_count": 5
        }
      ],
      "source": [
        "# Only run this once, they will be downloaded.\n",
        "nltk.download('stopwords',quiet=True)\n",
        "nltk.download('wordnet',quiet=True)\n",
        "nltk.download('punkt',quiet=True)\n",
        "nltk.download('omw-1.4',quiet=True)"
      ],
      "id": "-zgAZ6Gxa3AU"
    },
    {
      "cell_type": "markdown",
      "metadata": {
        "id": "IkXQ8BNMa3AW"
      },
      "source": [
        "<div class=\"alert alert-block alert-danger\">\n",
        "<b>Gensim</b> is a Python library for topic modelling, document indexing and similarity retrieval with large corpora. Target audience is the natural language processing (NLP) and information retrieval (IR) community <br><br>\n",
        "    <b>https://pypi.org/project/gensim/ </b>\n",
        "</div>"
      ],
      "id": "IkXQ8BNMa3AW"
    },
    {
      "cell_type": "code",
      "execution_count": 6,
      "metadata": {
        "id": "QBRVq1pma3AW"
      },
      "outputs": [],
      "source": [
        "import pkg_resources\n",
        "#pkg_resources.require(\"gensim<=3.8.3\");"
      ],
      "id": "QBRVq1pma3AW"
    },
    {
      "cell_type": "code",
      "execution_count": 7,
      "metadata": {
        "colab": {
          "base_uri": "https://localhost:8080/"
        },
        "id": "JKIg6MlPa3AX",
        "outputId": "f104df6c-ffd2-44ab-86e4-5dbbd7f795ea"
      },
      "outputs": [
        {
          "output_type": "stream",
          "name": "stdout",
          "text": [
            "Genism Version:  4.3.2\n"
          ]
        }
      ],
      "source": [
        "print(\"Genism Version: \", gensim.__version__)"
      ],
      "id": "JKIg6MlPa3AX"
    },
    {
      "cell_type": "markdown",
      "metadata": {
        "id": "OySRSOAna3AX"
      },
      "source": [
        "<div class=\"alert alert-block alert-info\">\n",
        "    <b>Suppress warning messages</b></div>"
      ],
      "id": "OySRSOAna3AX"
    },
    {
      "cell_type": "code",
      "execution_count": 8,
      "metadata": {
        "id": "0w4TZ5Wha3AX"
      },
      "outputs": [],
      "source": [
        "def warn(*args, **kwargs):\n",
        "    pass\n",
        "import warnings\n",
        "warnings.warn = warn"
      ],
      "id": "0w4TZ5Wha3AX"
    },
    {
      "cell_type": "markdown",
      "metadata": {
        "id": "G2JtEj_0a3AY"
      },
      "source": [
        "## Data Wrangling Utility Functions"
      ],
      "id": "G2JtEj_0a3AY"
    },
    {
      "cell_type": "code",
      "execution_count": 9,
      "metadata": {
        "id": "vxBi5x5Ga3AZ"
      },
      "outputs": [],
      "source": [
        "def add_movie_descriptor(data: pd.DataFrame, corpus_df: pd.DataFrame):\n",
        "    \"\"\"\n",
        "    Adds \"Movie Description\" to the supplied dataframe, in the form {Genre}_{P|N}_{Movie Title}_{DocID}\n",
        "    \"\"\"\n",
        "    review = np.where(corpus_df['Review Type (pos or neg)'] == 'Positive', 'P', 'N')\n",
        "    data['Descriptor'] = corpus_df['Genre of Movie'] + '_' + corpus_df['Movie Title'] + '_' + review + '_' + corpus_df['Doc_ID'].astype(str)\n",
        "\n",
        "def get_corpus_df(path: str) -> pd.DataFrame:\n",
        "    data = pd.read_csv(path,encoding=\"utf-8\")\n",
        "    add_movie_descriptor(data, data)\n",
        "    sorted_data = data.sort_values(['Descriptor'])\n",
        "    indexed_data = sorted_data.set_index(['Doc_ID'])\n",
        "    indexed_data['Doc_ID'] = indexed_data.index\n",
        "    return indexed_data\n",
        "\n",
        "def remove_punctuation(text: str) -> str:\n",
        "    return re.sub('[^a-zA-Z]', '', str(text))\n",
        "\n",
        "def remove_tags(text: str) -> str:\n",
        "    return re.sub('&lt;/?.*?&gt;', '', text)\n",
        "\n",
        "def remove_special_chars_and_digits(text: str) -> str:\n",
        "    return re.sub('(\\\\d|\\\\W)+', '', text)\n",
        "\n",
        "def get_sentences(text: str) -> List[str]:\n",
        "    return [str(x) for x in nlp(text).sents]\n",
        "\n",
        "def get_coref_resolved_sentences(text: str) -> List[str]:\n",
        "    return [str(x) for x in nlp(text).sents]\n",
        "\n",
        "def get_lemmas(text: str, stopwords: Set[str]) -> List[str]:\n",
        "    initial = [remove_tags(remove_special_chars_and_digits(remove_punctuation(x.lemma_.lower()))) for x in nlp(text)]\n",
        "    return [x for x in initial if x not in stopwords]\n",
        "\n",
        "def lemmatize_sentence(text: str, stopwords: Set[str]) -> str:\n",
        "    return ' '.join(get_lemmas(text, stopwords))\n",
        "\n",
        "def clean_doc(doc):\n",
        "    #doc = remove_punctuation(doc)\n",
        "    doc= ' '.join(remove_stop_words(doc))\n",
        "    doc = apply_lemmatization(doc)\n",
        "    return doc\n",
        "\n",
        "def remove_stop_words(in_text):\n",
        "    stop_words = set(stopwords.words('english'))\n",
        "    word_tokens = word_tokenize(in_text)\n",
        "    filtered_sentence = [w for w in word_tokens if not w in stop_words]\n",
        "    return filtered_sentence\n",
        "\n",
        "def apply_lemmatization(in_text):\n",
        "    # Lemmatization\n",
        "    lem = WordNetLemmatizer()\n",
        "    word_list = nltk.word_tokenize(in_text)\n",
        "    output = ' '.join([lem.lemmatize(w) for w in word_list])\n",
        "    return output\n",
        "\n",
        "def counter_word(text):\n",
        "  count=Counter()\n",
        "  for i in text.values:\n",
        "    for word in i.split():\n",
        "      count[word]=+1\n",
        "  return count\n",
        "\n",
        "def get_dataset_partitions_pd(df, train_split=0.8, val_split=0.10, test_split=0.10):\n",
        "       # Specify seed to always have the same split distribution between runs\n",
        "  df_sample = df.sample(frac=1, random_state=12)\n",
        "  indices_or_sections = [int(.8*len(df)), int(.9*len(df))]\n",
        "  train_ds, val_ds, test_ds = np.split(df_sample, indices_or_sections)\n",
        "  return train_ds, val_ds, test_ds"
      ],
      "id": "vxBi5x5Ga3AZ"
    },
    {
      "cell_type": "markdown",
      "metadata": {
        "id": "h3HpYEQma3Ae"
      },
      "source": [
        "## Visualization Utility Functions"
      ],
      "id": "h3HpYEQma3Ae"
    },
    {
      "cell_type": "code",
      "execution_count": 10,
      "metadata": {
        "id": "dKM5avFHa3Ae"
      },
      "outputs": [],
      "source": [
        "def plot_confusion_matrix_labeled(y_true, y_pred, CLASSES_LIST):\n",
        "    mtx = confusion_matrix(y_true, y_pred)\n",
        "    # define classes\n",
        "    classes = CLASSES_LIST\n",
        "    temp_df = pd.DataFrame(data=mtx,columns=classes)\n",
        "    temp_df.index = classes\n",
        "    fig, ax = plt.subplots(figsize=(3,3))\n",
        "    sns.heatmap(temp_df, annot=True, fmt='d', linewidths=.75,  cbar=False, ax=ax,cmap='Blues',linecolor='white')\n",
        "    #  square=True,\n",
        "    plt.ylabel('true label')\n",
        "    plt.xlabel('predicted label')\n",
        "\n",
        "def plot_graphs(history, metric):\n",
        "  plt.plot(history.history[metric])\n",
        "  plt.plot(history.history['val_'+metric], '')\n",
        "  plt.xlabel(\"Epochs\")\n",
        "  plt.ylabel(metric)\n",
        "  plt.legend([metric, 'val_'+metric])\n",
        "\n",
        "def display_training_curves(training, validation, title, subplot):\n",
        "  ax = plt.subplot(subplot)\n",
        "  ax.plot(training)\n",
        "  ax.plot(validation)\n",
        "  ax.set_title('model '+ title)\n",
        "  ax.set_ylabel(title)\n",
        "  ax.set_xlabel('epoch')\n",
        "  ax.legend(['training', 'validation'])"
      ],
      "id": "dKM5avFHa3Ae"
    },
    {
      "cell_type": "markdown",
      "metadata": {
        "id": "ivV9e_Hha3Ae"
      },
      "source": [
        "## Loading the Class Corpus"
      ],
      "id": "ivV9e_Hha3Ae"
    },
    {
      "cell_type": "code",
      "execution_count": 11,
      "metadata": {
        "id": "wIzJs8lEa3Ae"
      },
      "outputs": [],
      "source": [
        "CORPUS_PATH=\\\n",
        "'/content/gdrive/MyDrive/Temp/MSDS453/MSDS453_ClassCorpus_Final_Sec57_v2_20230928.csv'\n",
        "corpus_df = get_corpus_df(CORPUS_PATH)"
      ],
      "id": "wIzJs8lEa3Ae"
    },
    {
      "cell_type": "markdown",
      "metadata": {
        "id": "jw2-5h6ha3Af"
      },
      "source": [
        "## Exploratory Data Analysis"
      ],
      "id": "jw2-5h6ha3Af"
    },
    {
      "cell_type": "code",
      "execution_count": 12,
      "metadata": {
        "colab": {
          "base_uri": "https://localhost:8080/",
          "height": 352
        },
        "id": "x0DA0tgGa3Af",
        "outputId": "97578dc5-de1a-44cf-c9a9-ff59d8db2b00"
      },
      "outputs": [
        {
          "output_type": "execute_result",
          "data": {
            "text/plain": [
              "Doc_ID                                                                   90  \\\n",
              "DSI_Title                                         LKP_Doc1_Angel_has_fallen   \n",
              "Text                      Target is on the move . '' Heavily outnumbered...   \n",
              "Submission File Name                              LKP_Doc1_Angel_has_fallen   \n",
              "Student Name                                                            LKP   \n",
              "Genre of Movie                                                       Action   \n",
              "Review Type (pos or neg)                                           Negative   \n",
              "Movie Title                                                Angel_has_fallen   \n",
              "Descriptor                                     Action_Angel_has_fallen_N_90   \n",
              "Doc_ID                                                                   90   \n",
              "raw_sentences             [Target is on the move . '', Heavily outnumber...   \n",
              "\n",
              "Doc_ID                                                                   91  \\\n",
              "DSI_Title                                         LKP_Doc2_Angel_has_fallen   \n",
              "Text                      The sleepy , dopey action bonanza `` Angel Has...   \n",
              "Submission File Name                              LKP_Doc2_Angel_has_fallen   \n",
              "Student Name                                                            LKP   \n",
              "Genre of Movie                                                       Action   \n",
              "Review Type (pos or neg)                                           Negative   \n",
              "Movie Title                                                Angel_has_fallen   \n",
              "Descriptor                                     Action_Angel_has_fallen_N_91   \n",
              "Doc_ID                                                                   91   \n",
              "raw_sentences             [The sleepy , dopey action bonanza `` Angel Ha...   \n",
              "\n",
              "Doc_ID                                                                   92  \n",
              "DSI_Title                                         LKP_Doc3_Angel_has_fallen  \n",
              "Text                      `` Angel Has Fallen '' marks the third time th...  \n",
              "Submission File Name                              LKP_Doc3_Angel_has_fallen  \n",
              "Student Name                                                            LKP  \n",
              "Genre of Movie                                                       Action  \n",
              "Review Type (pos or neg)                                           Negative  \n",
              "Movie Title                                                Angel_has_fallen  \n",
              "Descriptor                                     Action_Angel_has_fallen_N_92  \n",
              "Doc_ID                                                                   92  \n",
              "raw_sentences             [`` Angel Has Fallen '' marks the third time t...  "
            ],
            "text/html": [
              "\n",
              "  <div id=\"df-37e5aad0-b039-43d6-8283-5031b547b531\" class=\"colab-df-container\">\n",
              "    <div>\n",
              "<style scoped>\n",
              "    .dataframe tbody tr th:only-of-type {\n",
              "        vertical-align: middle;\n",
              "    }\n",
              "\n",
              "    .dataframe tbody tr th {\n",
              "        vertical-align: top;\n",
              "    }\n",
              "\n",
              "    .dataframe thead th {\n",
              "        text-align: right;\n",
              "    }\n",
              "</style>\n",
              "<table border=\"1\" class=\"dataframe\">\n",
              "  <thead>\n",
              "    <tr style=\"text-align: right;\">\n",
              "      <th>Doc_ID</th>\n",
              "      <th>90</th>\n",
              "      <th>91</th>\n",
              "      <th>92</th>\n",
              "    </tr>\n",
              "  </thead>\n",
              "  <tbody>\n",
              "    <tr>\n",
              "      <th>DSI_Title</th>\n",
              "      <td>LKP_Doc1_Angel_has_fallen</td>\n",
              "      <td>LKP_Doc2_Angel_has_fallen</td>\n",
              "      <td>LKP_Doc3_Angel_has_fallen</td>\n",
              "    </tr>\n",
              "    <tr>\n",
              "      <th>Text</th>\n",
              "      <td>Target is on the move . '' Heavily outnumbered...</td>\n",
              "      <td>The sleepy , dopey action bonanza `` Angel Has...</td>\n",
              "      <td>`` Angel Has Fallen '' marks the third time th...</td>\n",
              "    </tr>\n",
              "    <tr>\n",
              "      <th>Submission File Name</th>\n",
              "      <td>LKP_Doc1_Angel_has_fallen</td>\n",
              "      <td>LKP_Doc2_Angel_has_fallen</td>\n",
              "      <td>LKP_Doc3_Angel_has_fallen</td>\n",
              "    </tr>\n",
              "    <tr>\n",
              "      <th>Student Name</th>\n",
              "      <td>LKP</td>\n",
              "      <td>LKP</td>\n",
              "      <td>LKP</td>\n",
              "    </tr>\n",
              "    <tr>\n",
              "      <th>Genre of Movie</th>\n",
              "      <td>Action</td>\n",
              "      <td>Action</td>\n",
              "      <td>Action</td>\n",
              "    </tr>\n",
              "    <tr>\n",
              "      <th>Review Type (pos or neg)</th>\n",
              "      <td>Negative</td>\n",
              "      <td>Negative</td>\n",
              "      <td>Negative</td>\n",
              "    </tr>\n",
              "    <tr>\n",
              "      <th>Movie Title</th>\n",
              "      <td>Angel_has_fallen</td>\n",
              "      <td>Angel_has_fallen</td>\n",
              "      <td>Angel_has_fallen</td>\n",
              "    </tr>\n",
              "    <tr>\n",
              "      <th>Descriptor</th>\n",
              "      <td>Action_Angel_has_fallen_N_90</td>\n",
              "      <td>Action_Angel_has_fallen_N_91</td>\n",
              "      <td>Action_Angel_has_fallen_N_92</td>\n",
              "    </tr>\n",
              "    <tr>\n",
              "      <th>Doc_ID</th>\n",
              "      <td>90</td>\n",
              "      <td>91</td>\n",
              "      <td>92</td>\n",
              "    </tr>\n",
              "    <tr>\n",
              "      <th>raw_sentences</th>\n",
              "      <td>[Target is on the move . '', Heavily outnumber...</td>\n",
              "      <td>[The sleepy , dopey action bonanza `` Angel Ha...</td>\n",
              "      <td>[`` Angel Has Fallen '' marks the third time t...</td>\n",
              "    </tr>\n",
              "  </tbody>\n",
              "</table>\n",
              "</div>\n",
              "    <div class=\"colab-df-buttons\">\n",
              "\n",
              "  <div class=\"colab-df-container\">\n",
              "    <button class=\"colab-df-convert\" onclick=\"convertToInteractive('df-37e5aad0-b039-43d6-8283-5031b547b531')\"\n",
              "            title=\"Convert this dataframe to an interactive table.\"\n",
              "            style=\"display:none;\">\n",
              "\n",
              "  <svg xmlns=\"http://www.w3.org/2000/svg\" height=\"24px\" viewBox=\"0 -960 960 960\">\n",
              "    <path d=\"M120-120v-720h720v720H120Zm60-500h600v-160H180v160Zm220 220h160v-160H400v160Zm0 220h160v-160H400v160ZM180-400h160v-160H180v160Zm440 0h160v-160H620v160ZM180-180h160v-160H180v160Zm440 0h160v-160H620v160Z\"/>\n",
              "  </svg>\n",
              "    </button>\n",
              "\n",
              "  <style>\n",
              "    .colab-df-container {\n",
              "      display:flex;\n",
              "      gap: 12px;\n",
              "    }\n",
              "\n",
              "    .colab-df-convert {\n",
              "      background-color: #E8F0FE;\n",
              "      border: none;\n",
              "      border-radius: 50%;\n",
              "      cursor: pointer;\n",
              "      display: none;\n",
              "      fill: #1967D2;\n",
              "      height: 32px;\n",
              "      padding: 0 0 0 0;\n",
              "      width: 32px;\n",
              "    }\n",
              "\n",
              "    .colab-df-convert:hover {\n",
              "      background-color: #E2EBFA;\n",
              "      box-shadow: 0px 1px 2px rgba(60, 64, 67, 0.3), 0px 1px 3px 1px rgba(60, 64, 67, 0.15);\n",
              "      fill: #174EA6;\n",
              "    }\n",
              "\n",
              "    .colab-df-buttons div {\n",
              "      margin-bottom: 4px;\n",
              "    }\n",
              "\n",
              "    [theme=dark] .colab-df-convert {\n",
              "      background-color: #3B4455;\n",
              "      fill: #D2E3FC;\n",
              "    }\n",
              "\n",
              "    [theme=dark] .colab-df-convert:hover {\n",
              "      background-color: #434B5C;\n",
              "      box-shadow: 0px 1px 3px 1px rgba(0, 0, 0, 0.15);\n",
              "      filter: drop-shadow(0px 1px 2px rgba(0, 0, 0, 0.3));\n",
              "      fill: #FFFFFF;\n",
              "    }\n",
              "  </style>\n",
              "\n",
              "    <script>\n",
              "      const buttonEl =\n",
              "        document.querySelector('#df-37e5aad0-b039-43d6-8283-5031b547b531 button.colab-df-convert');\n",
              "      buttonEl.style.display =\n",
              "        google.colab.kernel.accessAllowed ? 'block' : 'none';\n",
              "\n",
              "      async function convertToInteractive(key) {\n",
              "        const element = document.querySelector('#df-37e5aad0-b039-43d6-8283-5031b547b531');\n",
              "        const dataTable =\n",
              "          await google.colab.kernel.invokeFunction('convertToInteractive',\n",
              "                                                    [key], {});\n",
              "        if (!dataTable) return;\n",
              "\n",
              "        const docLinkHtml = 'Like what you see? Visit the ' +\n",
              "          '<a target=\"_blank\" href=https://colab.research.google.com/notebooks/data_table.ipynb>data table notebook</a>'\n",
              "          + ' to learn more about interactive tables.';\n",
              "        element.innerHTML = '';\n",
              "        dataTable['output_type'] = 'display_data';\n",
              "        await google.colab.output.renderOutput(dataTable, element);\n",
              "        const docLink = document.createElement('div');\n",
              "        docLink.innerHTML = docLinkHtml;\n",
              "        element.appendChild(docLink);\n",
              "      }\n",
              "    </script>\n",
              "  </div>\n",
              "\n",
              "\n",
              "<div id=\"df-e5724350-2597-4bfd-854f-96d088463072\">\n",
              "  <button class=\"colab-df-quickchart\" onclick=\"quickchart('df-e5724350-2597-4bfd-854f-96d088463072')\"\n",
              "            title=\"Suggest charts.\"\n",
              "            style=\"display:none;\">\n",
              "\n",
              "<svg xmlns=\"http://www.w3.org/2000/svg\" height=\"24px\"viewBox=\"0 0 24 24\"\n",
              "     width=\"24px\">\n",
              "    <g>\n",
              "        <path d=\"M19 3H5c-1.1 0-2 .9-2 2v14c0 1.1.9 2 2 2h14c1.1 0 2-.9 2-2V5c0-1.1-.9-2-2-2zM9 17H7v-7h2v7zm4 0h-2V7h2v10zm4 0h-2v-4h2v4z\"/>\n",
              "    </g>\n",
              "</svg>\n",
              "  </button>\n",
              "\n",
              "<style>\n",
              "  .colab-df-quickchart {\n",
              "      --bg-color: #E8F0FE;\n",
              "      --fill-color: #1967D2;\n",
              "      --hover-bg-color: #E2EBFA;\n",
              "      --hover-fill-color: #174EA6;\n",
              "      --disabled-fill-color: #AAA;\n",
              "      --disabled-bg-color: #DDD;\n",
              "  }\n",
              "\n",
              "  [theme=dark] .colab-df-quickchart {\n",
              "      --bg-color: #3B4455;\n",
              "      --fill-color: #D2E3FC;\n",
              "      --hover-bg-color: #434B5C;\n",
              "      --hover-fill-color: #FFFFFF;\n",
              "      --disabled-bg-color: #3B4455;\n",
              "      --disabled-fill-color: #666;\n",
              "  }\n",
              "\n",
              "  .colab-df-quickchart {\n",
              "    background-color: var(--bg-color);\n",
              "    border: none;\n",
              "    border-radius: 50%;\n",
              "    cursor: pointer;\n",
              "    display: none;\n",
              "    fill: var(--fill-color);\n",
              "    height: 32px;\n",
              "    padding: 0;\n",
              "    width: 32px;\n",
              "  }\n",
              "\n",
              "  .colab-df-quickchart:hover {\n",
              "    background-color: var(--hover-bg-color);\n",
              "    box-shadow: 0 1px 2px rgba(60, 64, 67, 0.3), 0 1px 3px 1px rgba(60, 64, 67, 0.15);\n",
              "    fill: var(--button-hover-fill-color);\n",
              "  }\n",
              "\n",
              "  .colab-df-quickchart-complete:disabled,\n",
              "  .colab-df-quickchart-complete:disabled:hover {\n",
              "    background-color: var(--disabled-bg-color);\n",
              "    fill: var(--disabled-fill-color);\n",
              "    box-shadow: none;\n",
              "  }\n",
              "\n",
              "  .colab-df-spinner {\n",
              "    border: 2px solid var(--fill-color);\n",
              "    border-color: transparent;\n",
              "    border-bottom-color: var(--fill-color);\n",
              "    animation:\n",
              "      spin 1s steps(1) infinite;\n",
              "  }\n",
              "\n",
              "  @keyframes spin {\n",
              "    0% {\n",
              "      border-color: transparent;\n",
              "      border-bottom-color: var(--fill-color);\n",
              "      border-left-color: var(--fill-color);\n",
              "    }\n",
              "    20% {\n",
              "      border-color: transparent;\n",
              "      border-left-color: var(--fill-color);\n",
              "      border-top-color: var(--fill-color);\n",
              "    }\n",
              "    30% {\n",
              "      border-color: transparent;\n",
              "      border-left-color: var(--fill-color);\n",
              "      border-top-color: var(--fill-color);\n",
              "      border-right-color: var(--fill-color);\n",
              "    }\n",
              "    40% {\n",
              "      border-color: transparent;\n",
              "      border-right-color: var(--fill-color);\n",
              "      border-top-color: var(--fill-color);\n",
              "    }\n",
              "    60% {\n",
              "      border-color: transparent;\n",
              "      border-right-color: var(--fill-color);\n",
              "    }\n",
              "    80% {\n",
              "      border-color: transparent;\n",
              "      border-right-color: var(--fill-color);\n",
              "      border-bottom-color: var(--fill-color);\n",
              "    }\n",
              "    90% {\n",
              "      border-color: transparent;\n",
              "      border-bottom-color: var(--fill-color);\n",
              "    }\n",
              "  }\n",
              "</style>\n",
              "\n",
              "  <script>\n",
              "    async function quickchart(key) {\n",
              "      const quickchartButtonEl =\n",
              "        document.querySelector('#' + key + ' button');\n",
              "      quickchartButtonEl.disabled = true;  // To prevent multiple clicks.\n",
              "      quickchartButtonEl.classList.add('colab-df-spinner');\n",
              "      try {\n",
              "        const charts = await google.colab.kernel.invokeFunction(\n",
              "            'suggestCharts', [key], {});\n",
              "      } catch (error) {\n",
              "        console.error('Error during call to suggestCharts:', error);\n",
              "      }\n",
              "      quickchartButtonEl.classList.remove('colab-df-spinner');\n",
              "      quickchartButtonEl.classList.add('colab-df-quickchart-complete');\n",
              "    }\n",
              "    (() => {\n",
              "      let quickchartButtonEl =\n",
              "        document.querySelector('#df-e5724350-2597-4bfd-854f-96d088463072 button');\n",
              "      quickchartButtonEl.style.display =\n",
              "        google.colab.kernel.accessAllowed ? 'block' : 'none';\n",
              "    })();\n",
              "  </script>\n",
              "</div>\n",
              "    </div>\n",
              "  </div>\n"
            ]
          },
          "metadata": {},
          "execution_count": 12
        }
      ],
      "source": [
        "# Tokenize sentences\n",
        "corpus_df['raw_sentences'] = corpus_df.Text.apply(get_sentences)\n",
        "corpus_df.head(3).T"
      ],
      "id": "x0DA0tgGa3Af"
    },
    {
      "cell_type": "markdown",
      "metadata": {
        "id": "Tjsk_ujna3Af"
      },
      "source": [
        "## Tokenize Words"
      ],
      "id": "Tjsk_ujna3Af"
    },
    {
      "cell_type": "code",
      "execution_count": 13,
      "metadata": {
        "scrolled": false,
        "colab": {
          "base_uri": "https://localhost:8080/"
        },
        "id": "cYstpp6Ga3Af",
        "outputId": "e8245fed-6450-4612-ee13-a7c7019a2a75"
      },
      "outputs": [
        {
          "output_type": "execute_result",
          "data": {
            "text/plain": [
              "Doc_ID\n",
              "90    [target, heavily, outnumber, outgunne, mike, b...\n",
              "91    [sleepy, dopey, action, bonanza, angel, fall, ...\n",
              "92    [angel, fall, mark, time, gerard, butler, secr...\n",
              "93    [improve, blandness, mike, banning, gerard, bu...\n",
              "94    [review, contain, spoiler, angel, fallen, movi...\n",
              "Name: lemmas, dtype: object"
            ]
          },
          "metadata": {},
          "execution_count": 13
        }
      ],
      "source": [
        "default_stopwords=\\\n",
        "set(nltk.corpus.stopwords.words('english')).union(set(nlp.Defaults.stop_words)).union({' ', ''})\n",
        "corpus_df['lemmas'] = corpus_df.Text.apply(lambda x: get_lemmas(x, default_stopwords))\n",
        "corpus_df.lemmas.head()"
      ],
      "id": "cYstpp6Ga3Af"
    },
    {
      "cell_type": "code",
      "execution_count": 14,
      "metadata": {
        "colab": {
          "base_uri": "https://localhost:8080/",
          "height": 383
        },
        "id": "XtQnmBvAa3Af",
        "outputId": "c22288e9-c6e4-4993-ffbb-560ad7a13f87"
      },
      "outputs": [
        {
          "output_type": "execute_result",
          "data": {
            "text/plain": [
              "Doc_ID                                                                   90  \\\n",
              "DSI_Title                                         LKP_Doc1_Angel_has_fallen   \n",
              "Text                      Target is on the move . '' Heavily outnumbered...   \n",
              "Submission File Name                              LKP_Doc1_Angel_has_fallen   \n",
              "Student Name                                                            LKP   \n",
              "Genre of Movie                                                       Action   \n",
              "Review Type (pos or neg)                                           Negative   \n",
              "Movie Title                                                Angel_has_fallen   \n",
              "Descriptor                                     Action_Angel_has_fallen_N_90   \n",
              "Doc_ID                                                                   90   \n",
              "raw_sentences             [Target is on the move . '', Heavily outnumber...   \n",
              "lemmas                    [target, heavily, outnumber, outgunne, mike, b...   \n",
              "\n",
              "Doc_ID                                                                   91  \\\n",
              "DSI_Title                                         LKP_Doc2_Angel_has_fallen   \n",
              "Text                      The sleepy , dopey action bonanza `` Angel Has...   \n",
              "Submission File Name                              LKP_Doc2_Angel_has_fallen   \n",
              "Student Name                                                            LKP   \n",
              "Genre of Movie                                                       Action   \n",
              "Review Type (pos or neg)                                           Negative   \n",
              "Movie Title                                                Angel_has_fallen   \n",
              "Descriptor                                     Action_Angel_has_fallen_N_91   \n",
              "Doc_ID                                                                   91   \n",
              "raw_sentences             [The sleepy , dopey action bonanza `` Angel Ha...   \n",
              "lemmas                    [sleepy, dopey, action, bonanza, angel, fall, ...   \n",
              "\n",
              "Doc_ID                                                                   92  \n",
              "DSI_Title                                         LKP_Doc3_Angel_has_fallen  \n",
              "Text                      `` Angel Has Fallen '' marks the third time th...  \n",
              "Submission File Name                              LKP_Doc3_Angel_has_fallen  \n",
              "Student Name                                                            LKP  \n",
              "Genre of Movie                                                       Action  \n",
              "Review Type (pos or neg)                                           Negative  \n",
              "Movie Title                                                Angel_has_fallen  \n",
              "Descriptor                                     Action_Angel_has_fallen_N_92  \n",
              "Doc_ID                                                                   92  \n",
              "raw_sentences             [`` Angel Has Fallen '' marks the third time t...  \n",
              "lemmas                    [angel, fall, mark, time, gerard, butler, secr...  "
            ],
            "text/html": [
              "\n",
              "  <div id=\"df-8f6f4900-0734-4cb9-8769-4cccb9e6659b\" class=\"colab-df-container\">\n",
              "    <div>\n",
              "<style scoped>\n",
              "    .dataframe tbody tr th:only-of-type {\n",
              "        vertical-align: middle;\n",
              "    }\n",
              "\n",
              "    .dataframe tbody tr th {\n",
              "        vertical-align: top;\n",
              "    }\n",
              "\n",
              "    .dataframe thead th {\n",
              "        text-align: right;\n",
              "    }\n",
              "</style>\n",
              "<table border=\"1\" class=\"dataframe\">\n",
              "  <thead>\n",
              "    <tr style=\"text-align: right;\">\n",
              "      <th>Doc_ID</th>\n",
              "      <th>90</th>\n",
              "      <th>91</th>\n",
              "      <th>92</th>\n",
              "    </tr>\n",
              "  </thead>\n",
              "  <tbody>\n",
              "    <tr>\n",
              "      <th>DSI_Title</th>\n",
              "      <td>LKP_Doc1_Angel_has_fallen</td>\n",
              "      <td>LKP_Doc2_Angel_has_fallen</td>\n",
              "      <td>LKP_Doc3_Angel_has_fallen</td>\n",
              "    </tr>\n",
              "    <tr>\n",
              "      <th>Text</th>\n",
              "      <td>Target is on the move . '' Heavily outnumbered...</td>\n",
              "      <td>The sleepy , dopey action bonanza `` Angel Has...</td>\n",
              "      <td>`` Angel Has Fallen '' marks the third time th...</td>\n",
              "    </tr>\n",
              "    <tr>\n",
              "      <th>Submission File Name</th>\n",
              "      <td>LKP_Doc1_Angel_has_fallen</td>\n",
              "      <td>LKP_Doc2_Angel_has_fallen</td>\n",
              "      <td>LKP_Doc3_Angel_has_fallen</td>\n",
              "    </tr>\n",
              "    <tr>\n",
              "      <th>Student Name</th>\n",
              "      <td>LKP</td>\n",
              "      <td>LKP</td>\n",
              "      <td>LKP</td>\n",
              "    </tr>\n",
              "    <tr>\n",
              "      <th>Genre of Movie</th>\n",
              "      <td>Action</td>\n",
              "      <td>Action</td>\n",
              "      <td>Action</td>\n",
              "    </tr>\n",
              "    <tr>\n",
              "      <th>Review Type (pos or neg)</th>\n",
              "      <td>Negative</td>\n",
              "      <td>Negative</td>\n",
              "      <td>Negative</td>\n",
              "    </tr>\n",
              "    <tr>\n",
              "      <th>Movie Title</th>\n",
              "      <td>Angel_has_fallen</td>\n",
              "      <td>Angel_has_fallen</td>\n",
              "      <td>Angel_has_fallen</td>\n",
              "    </tr>\n",
              "    <tr>\n",
              "      <th>Descriptor</th>\n",
              "      <td>Action_Angel_has_fallen_N_90</td>\n",
              "      <td>Action_Angel_has_fallen_N_91</td>\n",
              "      <td>Action_Angel_has_fallen_N_92</td>\n",
              "    </tr>\n",
              "    <tr>\n",
              "      <th>Doc_ID</th>\n",
              "      <td>90</td>\n",
              "      <td>91</td>\n",
              "      <td>92</td>\n",
              "    </tr>\n",
              "    <tr>\n",
              "      <th>raw_sentences</th>\n",
              "      <td>[Target is on the move . '', Heavily outnumber...</td>\n",
              "      <td>[The sleepy , dopey action bonanza `` Angel Ha...</td>\n",
              "      <td>[`` Angel Has Fallen '' marks the third time t...</td>\n",
              "    </tr>\n",
              "    <tr>\n",
              "      <th>lemmas</th>\n",
              "      <td>[target, heavily, outnumber, outgunne, mike, b...</td>\n",
              "      <td>[sleepy, dopey, action, bonanza, angel, fall, ...</td>\n",
              "      <td>[angel, fall, mark, time, gerard, butler, secr...</td>\n",
              "    </tr>\n",
              "  </tbody>\n",
              "</table>\n",
              "</div>\n",
              "    <div class=\"colab-df-buttons\">\n",
              "\n",
              "  <div class=\"colab-df-container\">\n",
              "    <button class=\"colab-df-convert\" onclick=\"convertToInteractive('df-8f6f4900-0734-4cb9-8769-4cccb9e6659b')\"\n",
              "            title=\"Convert this dataframe to an interactive table.\"\n",
              "            style=\"display:none;\">\n",
              "\n",
              "  <svg xmlns=\"http://www.w3.org/2000/svg\" height=\"24px\" viewBox=\"0 -960 960 960\">\n",
              "    <path d=\"M120-120v-720h720v720H120Zm60-500h600v-160H180v160Zm220 220h160v-160H400v160Zm0 220h160v-160H400v160ZM180-400h160v-160H180v160Zm440 0h160v-160H620v160ZM180-180h160v-160H180v160Zm440 0h160v-160H620v160Z\"/>\n",
              "  </svg>\n",
              "    </button>\n",
              "\n",
              "  <style>\n",
              "    .colab-df-container {\n",
              "      display:flex;\n",
              "      gap: 12px;\n",
              "    }\n",
              "\n",
              "    .colab-df-convert {\n",
              "      background-color: #E8F0FE;\n",
              "      border: none;\n",
              "      border-radius: 50%;\n",
              "      cursor: pointer;\n",
              "      display: none;\n",
              "      fill: #1967D2;\n",
              "      height: 32px;\n",
              "      padding: 0 0 0 0;\n",
              "      width: 32px;\n",
              "    }\n",
              "\n",
              "    .colab-df-convert:hover {\n",
              "      background-color: #E2EBFA;\n",
              "      box-shadow: 0px 1px 2px rgba(60, 64, 67, 0.3), 0px 1px 3px 1px rgba(60, 64, 67, 0.15);\n",
              "      fill: #174EA6;\n",
              "    }\n",
              "\n",
              "    .colab-df-buttons div {\n",
              "      margin-bottom: 4px;\n",
              "    }\n",
              "\n",
              "    [theme=dark] .colab-df-convert {\n",
              "      background-color: #3B4455;\n",
              "      fill: #D2E3FC;\n",
              "    }\n",
              "\n",
              "    [theme=dark] .colab-df-convert:hover {\n",
              "      background-color: #434B5C;\n",
              "      box-shadow: 0px 1px 3px 1px rgba(0, 0, 0, 0.15);\n",
              "      filter: drop-shadow(0px 1px 2px rgba(0, 0, 0, 0.3));\n",
              "      fill: #FFFFFF;\n",
              "    }\n",
              "  </style>\n",
              "\n",
              "    <script>\n",
              "      const buttonEl =\n",
              "        document.querySelector('#df-8f6f4900-0734-4cb9-8769-4cccb9e6659b button.colab-df-convert');\n",
              "      buttonEl.style.display =\n",
              "        google.colab.kernel.accessAllowed ? 'block' : 'none';\n",
              "\n",
              "      async function convertToInteractive(key) {\n",
              "        const element = document.querySelector('#df-8f6f4900-0734-4cb9-8769-4cccb9e6659b');\n",
              "        const dataTable =\n",
              "          await google.colab.kernel.invokeFunction('convertToInteractive',\n",
              "                                                    [key], {});\n",
              "        if (!dataTable) return;\n",
              "\n",
              "        const docLinkHtml = 'Like what you see? Visit the ' +\n",
              "          '<a target=\"_blank\" href=https://colab.research.google.com/notebooks/data_table.ipynb>data table notebook</a>'\n",
              "          + ' to learn more about interactive tables.';\n",
              "        element.innerHTML = '';\n",
              "        dataTable['output_type'] = 'display_data';\n",
              "        await google.colab.output.renderOutput(dataTable, element);\n",
              "        const docLink = document.createElement('div');\n",
              "        docLink.innerHTML = docLinkHtml;\n",
              "        element.appendChild(docLink);\n",
              "      }\n",
              "    </script>\n",
              "  </div>\n",
              "\n",
              "\n",
              "<div id=\"df-92cb3c3e-16a3-47a4-aa49-692b68f32137\">\n",
              "  <button class=\"colab-df-quickchart\" onclick=\"quickchart('df-92cb3c3e-16a3-47a4-aa49-692b68f32137')\"\n",
              "            title=\"Suggest charts.\"\n",
              "            style=\"display:none;\">\n",
              "\n",
              "<svg xmlns=\"http://www.w3.org/2000/svg\" height=\"24px\"viewBox=\"0 0 24 24\"\n",
              "     width=\"24px\">\n",
              "    <g>\n",
              "        <path d=\"M19 3H5c-1.1 0-2 .9-2 2v14c0 1.1.9 2 2 2h14c1.1 0 2-.9 2-2V5c0-1.1-.9-2-2-2zM9 17H7v-7h2v7zm4 0h-2V7h2v10zm4 0h-2v-4h2v4z\"/>\n",
              "    </g>\n",
              "</svg>\n",
              "  </button>\n",
              "\n",
              "<style>\n",
              "  .colab-df-quickchart {\n",
              "      --bg-color: #E8F0FE;\n",
              "      --fill-color: #1967D2;\n",
              "      --hover-bg-color: #E2EBFA;\n",
              "      --hover-fill-color: #174EA6;\n",
              "      --disabled-fill-color: #AAA;\n",
              "      --disabled-bg-color: #DDD;\n",
              "  }\n",
              "\n",
              "  [theme=dark] .colab-df-quickchart {\n",
              "      --bg-color: #3B4455;\n",
              "      --fill-color: #D2E3FC;\n",
              "      --hover-bg-color: #434B5C;\n",
              "      --hover-fill-color: #FFFFFF;\n",
              "      --disabled-bg-color: #3B4455;\n",
              "      --disabled-fill-color: #666;\n",
              "  }\n",
              "\n",
              "  .colab-df-quickchart {\n",
              "    background-color: var(--bg-color);\n",
              "    border: none;\n",
              "    border-radius: 50%;\n",
              "    cursor: pointer;\n",
              "    display: none;\n",
              "    fill: var(--fill-color);\n",
              "    height: 32px;\n",
              "    padding: 0;\n",
              "    width: 32px;\n",
              "  }\n",
              "\n",
              "  .colab-df-quickchart:hover {\n",
              "    background-color: var(--hover-bg-color);\n",
              "    box-shadow: 0 1px 2px rgba(60, 64, 67, 0.3), 0 1px 3px 1px rgba(60, 64, 67, 0.15);\n",
              "    fill: var(--button-hover-fill-color);\n",
              "  }\n",
              "\n",
              "  .colab-df-quickchart-complete:disabled,\n",
              "  .colab-df-quickchart-complete:disabled:hover {\n",
              "    background-color: var(--disabled-bg-color);\n",
              "    fill: var(--disabled-fill-color);\n",
              "    box-shadow: none;\n",
              "  }\n",
              "\n",
              "  .colab-df-spinner {\n",
              "    border: 2px solid var(--fill-color);\n",
              "    border-color: transparent;\n",
              "    border-bottom-color: var(--fill-color);\n",
              "    animation:\n",
              "      spin 1s steps(1) infinite;\n",
              "  }\n",
              "\n",
              "  @keyframes spin {\n",
              "    0% {\n",
              "      border-color: transparent;\n",
              "      border-bottom-color: var(--fill-color);\n",
              "      border-left-color: var(--fill-color);\n",
              "    }\n",
              "    20% {\n",
              "      border-color: transparent;\n",
              "      border-left-color: var(--fill-color);\n",
              "      border-top-color: var(--fill-color);\n",
              "    }\n",
              "    30% {\n",
              "      border-color: transparent;\n",
              "      border-left-color: var(--fill-color);\n",
              "      border-top-color: var(--fill-color);\n",
              "      border-right-color: var(--fill-color);\n",
              "    }\n",
              "    40% {\n",
              "      border-color: transparent;\n",
              "      border-right-color: var(--fill-color);\n",
              "      border-top-color: var(--fill-color);\n",
              "    }\n",
              "    60% {\n",
              "      border-color: transparent;\n",
              "      border-right-color: var(--fill-color);\n",
              "    }\n",
              "    80% {\n",
              "      border-color: transparent;\n",
              "      border-right-color: var(--fill-color);\n",
              "      border-bottom-color: var(--fill-color);\n",
              "    }\n",
              "    90% {\n",
              "      border-color: transparent;\n",
              "      border-bottom-color: var(--fill-color);\n",
              "    }\n",
              "  }\n",
              "</style>\n",
              "\n",
              "  <script>\n",
              "    async function quickchart(key) {\n",
              "      const quickchartButtonEl =\n",
              "        document.querySelector('#' + key + ' button');\n",
              "      quickchartButtonEl.disabled = true;  // To prevent multiple clicks.\n",
              "      quickchartButtonEl.classList.add('colab-df-spinner');\n",
              "      try {\n",
              "        const charts = await google.colab.kernel.invokeFunction(\n",
              "            'suggestCharts', [key], {});\n",
              "      } catch (error) {\n",
              "        console.error('Error during call to suggestCharts:', error);\n",
              "      }\n",
              "      quickchartButtonEl.classList.remove('colab-df-spinner');\n",
              "      quickchartButtonEl.classList.add('colab-df-quickchart-complete');\n",
              "    }\n",
              "    (() => {\n",
              "      let quickchartButtonEl =\n",
              "        document.querySelector('#df-92cb3c3e-16a3-47a4-aa49-692b68f32137 button');\n",
              "      quickchartButtonEl.style.display =\n",
              "        google.colab.kernel.accessAllowed ? 'block' : 'none';\n",
              "    })();\n",
              "  </script>\n",
              "</div>\n",
              "    </div>\n",
              "  </div>\n"
            ]
          },
          "metadata": {},
          "execution_count": 14
        }
      ],
      "source": [
        "corpus_df.head(3).T"
      ],
      "id": "XtQnmBvAa3Af"
    },
    {
      "cell_type": "markdown",
      "metadata": {
        "id": "_1mQRpq4a3Af"
      },
      "source": [
        "## Reassemble Leminized Words"
      ],
      "id": "_1mQRpq4a3Af"
    },
    {
      "cell_type": "code",
      "execution_count": 15,
      "metadata": {
        "id": "s1sDV0zQa3Ag"
      },
      "outputs": [],
      "source": [
        "corpus_df['lemmas_joined'] = corpus_df.lemmas.apply(lambda x: ' '.join(x))"
      ],
      "id": "s1sDV0zQa3Ag"
    },
    {
      "cell_type": "code",
      "execution_count": 16,
      "metadata": {
        "colab": {
          "base_uri": "https://localhost:8080/"
        },
        "id": "6Ma4bVjEa3Ag",
        "outputId": "6538a274-6e89-4a72-d51c-f9705fd3afe7"
      },
      "outputs": [
        {
          "output_type": "execute_result",
          "data": {
            "text/plain": [
              "Doc_ID\n",
              "90    target heavily outnumber outgunne mike banning...\n",
              "91    sleepy dopey action bonanza angel fall disappo...\n",
              "92    angel fall mark time gerard butler secret serv...\n",
              "93    improve blandness mike banning gerard butler w...\n",
              "94    review contain spoiler angel fallen movie extr...\n",
              "Name: lemmas_joined, dtype: object"
            ]
          },
          "metadata": {},
          "execution_count": 16
        }
      ],
      "source": [
        "corpus_df['lemmas_joined'].head()"
      ],
      "id": "6Ma4bVjEa3Ag"
    },
    {
      "cell_type": "code",
      "execution_count": 17,
      "metadata": {
        "colab": {
          "base_uri": "https://localhost:8080/",
          "height": 414
        },
        "id": "jw0ZsRpda3Ag",
        "outputId": "64b422f4-a14a-46cb-fbfe-1e21d9ac0f94"
      },
      "outputs": [
        {
          "output_type": "execute_result",
          "data": {
            "text/plain": [
              "Doc_ID                                                                   90  \\\n",
              "DSI_Title                                         LKP_Doc1_Angel_has_fallen   \n",
              "Text                      Target is on the move . '' Heavily outnumbered...   \n",
              "Submission File Name                              LKP_Doc1_Angel_has_fallen   \n",
              "Student Name                                                            LKP   \n",
              "Genre of Movie                                                       Action   \n",
              "Review Type (pos or neg)                                           Negative   \n",
              "Movie Title                                                Angel_has_fallen   \n",
              "Descriptor                                     Action_Angel_has_fallen_N_90   \n",
              "Doc_ID                                                                   90   \n",
              "raw_sentences             [Target is on the move . '', Heavily outnumber...   \n",
              "lemmas                    [target, heavily, outnumber, outgunne, mike, b...   \n",
              "lemmas_joined             target heavily outnumber outgunne mike banning...   \n",
              "\n",
              "Doc_ID                                                                   91  \\\n",
              "DSI_Title                                         LKP_Doc2_Angel_has_fallen   \n",
              "Text                      The sleepy , dopey action bonanza `` Angel Has...   \n",
              "Submission File Name                              LKP_Doc2_Angel_has_fallen   \n",
              "Student Name                                                            LKP   \n",
              "Genre of Movie                                                       Action   \n",
              "Review Type (pos or neg)                                           Negative   \n",
              "Movie Title                                                Angel_has_fallen   \n",
              "Descriptor                                     Action_Angel_has_fallen_N_91   \n",
              "Doc_ID                                                                   91   \n",
              "raw_sentences             [The sleepy , dopey action bonanza `` Angel Ha...   \n",
              "lemmas                    [sleepy, dopey, action, bonanza, angel, fall, ...   \n",
              "lemmas_joined             sleepy dopey action bonanza angel fall disappo...   \n",
              "\n",
              "Doc_ID                                                                   92  \n",
              "DSI_Title                                         LKP_Doc3_Angel_has_fallen  \n",
              "Text                      `` Angel Has Fallen '' marks the third time th...  \n",
              "Submission File Name                              LKP_Doc3_Angel_has_fallen  \n",
              "Student Name                                                            LKP  \n",
              "Genre of Movie                                                       Action  \n",
              "Review Type (pos or neg)                                           Negative  \n",
              "Movie Title                                                Angel_has_fallen  \n",
              "Descriptor                                     Action_Angel_has_fallen_N_92  \n",
              "Doc_ID                                                                   92  \n",
              "raw_sentences             [`` Angel Has Fallen '' marks the third time t...  \n",
              "lemmas                    [angel, fall, mark, time, gerard, butler, secr...  \n",
              "lemmas_joined             angel fall mark time gerard butler secret serv...  "
            ],
            "text/html": [
              "\n",
              "  <div id=\"df-b4217906-c969-45f3-bc9f-5e264d649897\" class=\"colab-df-container\">\n",
              "    <div>\n",
              "<style scoped>\n",
              "    .dataframe tbody tr th:only-of-type {\n",
              "        vertical-align: middle;\n",
              "    }\n",
              "\n",
              "    .dataframe tbody tr th {\n",
              "        vertical-align: top;\n",
              "    }\n",
              "\n",
              "    .dataframe thead th {\n",
              "        text-align: right;\n",
              "    }\n",
              "</style>\n",
              "<table border=\"1\" class=\"dataframe\">\n",
              "  <thead>\n",
              "    <tr style=\"text-align: right;\">\n",
              "      <th>Doc_ID</th>\n",
              "      <th>90</th>\n",
              "      <th>91</th>\n",
              "      <th>92</th>\n",
              "    </tr>\n",
              "  </thead>\n",
              "  <tbody>\n",
              "    <tr>\n",
              "      <th>DSI_Title</th>\n",
              "      <td>LKP_Doc1_Angel_has_fallen</td>\n",
              "      <td>LKP_Doc2_Angel_has_fallen</td>\n",
              "      <td>LKP_Doc3_Angel_has_fallen</td>\n",
              "    </tr>\n",
              "    <tr>\n",
              "      <th>Text</th>\n",
              "      <td>Target is on the move . '' Heavily outnumbered...</td>\n",
              "      <td>The sleepy , dopey action bonanza `` Angel Has...</td>\n",
              "      <td>`` Angel Has Fallen '' marks the third time th...</td>\n",
              "    </tr>\n",
              "    <tr>\n",
              "      <th>Submission File Name</th>\n",
              "      <td>LKP_Doc1_Angel_has_fallen</td>\n",
              "      <td>LKP_Doc2_Angel_has_fallen</td>\n",
              "      <td>LKP_Doc3_Angel_has_fallen</td>\n",
              "    </tr>\n",
              "    <tr>\n",
              "      <th>Student Name</th>\n",
              "      <td>LKP</td>\n",
              "      <td>LKP</td>\n",
              "      <td>LKP</td>\n",
              "    </tr>\n",
              "    <tr>\n",
              "      <th>Genre of Movie</th>\n",
              "      <td>Action</td>\n",
              "      <td>Action</td>\n",
              "      <td>Action</td>\n",
              "    </tr>\n",
              "    <tr>\n",
              "      <th>Review Type (pos or neg)</th>\n",
              "      <td>Negative</td>\n",
              "      <td>Negative</td>\n",
              "      <td>Negative</td>\n",
              "    </tr>\n",
              "    <tr>\n",
              "      <th>Movie Title</th>\n",
              "      <td>Angel_has_fallen</td>\n",
              "      <td>Angel_has_fallen</td>\n",
              "      <td>Angel_has_fallen</td>\n",
              "    </tr>\n",
              "    <tr>\n",
              "      <th>Descriptor</th>\n",
              "      <td>Action_Angel_has_fallen_N_90</td>\n",
              "      <td>Action_Angel_has_fallen_N_91</td>\n",
              "      <td>Action_Angel_has_fallen_N_92</td>\n",
              "    </tr>\n",
              "    <tr>\n",
              "      <th>Doc_ID</th>\n",
              "      <td>90</td>\n",
              "      <td>91</td>\n",
              "      <td>92</td>\n",
              "    </tr>\n",
              "    <tr>\n",
              "      <th>raw_sentences</th>\n",
              "      <td>[Target is on the move . '', Heavily outnumber...</td>\n",
              "      <td>[The sleepy , dopey action bonanza `` Angel Ha...</td>\n",
              "      <td>[`` Angel Has Fallen '' marks the third time t...</td>\n",
              "    </tr>\n",
              "    <tr>\n",
              "      <th>lemmas</th>\n",
              "      <td>[target, heavily, outnumber, outgunne, mike, b...</td>\n",
              "      <td>[sleepy, dopey, action, bonanza, angel, fall, ...</td>\n",
              "      <td>[angel, fall, mark, time, gerard, butler, secr...</td>\n",
              "    </tr>\n",
              "    <tr>\n",
              "      <th>lemmas_joined</th>\n",
              "      <td>target heavily outnumber outgunne mike banning...</td>\n",
              "      <td>sleepy dopey action bonanza angel fall disappo...</td>\n",
              "      <td>angel fall mark time gerard butler secret serv...</td>\n",
              "    </tr>\n",
              "  </tbody>\n",
              "</table>\n",
              "</div>\n",
              "    <div class=\"colab-df-buttons\">\n",
              "\n",
              "  <div class=\"colab-df-container\">\n",
              "    <button class=\"colab-df-convert\" onclick=\"convertToInteractive('df-b4217906-c969-45f3-bc9f-5e264d649897')\"\n",
              "            title=\"Convert this dataframe to an interactive table.\"\n",
              "            style=\"display:none;\">\n",
              "\n",
              "  <svg xmlns=\"http://www.w3.org/2000/svg\" height=\"24px\" viewBox=\"0 -960 960 960\">\n",
              "    <path d=\"M120-120v-720h720v720H120Zm60-500h600v-160H180v160Zm220 220h160v-160H400v160Zm0 220h160v-160H400v160ZM180-400h160v-160H180v160Zm440 0h160v-160H620v160ZM180-180h160v-160H180v160Zm440 0h160v-160H620v160Z\"/>\n",
              "  </svg>\n",
              "    </button>\n",
              "\n",
              "  <style>\n",
              "    .colab-df-container {\n",
              "      display:flex;\n",
              "      gap: 12px;\n",
              "    }\n",
              "\n",
              "    .colab-df-convert {\n",
              "      background-color: #E8F0FE;\n",
              "      border: none;\n",
              "      border-radius: 50%;\n",
              "      cursor: pointer;\n",
              "      display: none;\n",
              "      fill: #1967D2;\n",
              "      height: 32px;\n",
              "      padding: 0 0 0 0;\n",
              "      width: 32px;\n",
              "    }\n",
              "\n",
              "    .colab-df-convert:hover {\n",
              "      background-color: #E2EBFA;\n",
              "      box-shadow: 0px 1px 2px rgba(60, 64, 67, 0.3), 0px 1px 3px 1px rgba(60, 64, 67, 0.15);\n",
              "      fill: #174EA6;\n",
              "    }\n",
              "\n",
              "    .colab-df-buttons div {\n",
              "      margin-bottom: 4px;\n",
              "    }\n",
              "\n",
              "    [theme=dark] .colab-df-convert {\n",
              "      background-color: #3B4455;\n",
              "      fill: #D2E3FC;\n",
              "    }\n",
              "\n",
              "    [theme=dark] .colab-df-convert:hover {\n",
              "      background-color: #434B5C;\n",
              "      box-shadow: 0px 1px 3px 1px rgba(0, 0, 0, 0.15);\n",
              "      filter: drop-shadow(0px 1px 2px rgba(0, 0, 0, 0.3));\n",
              "      fill: #FFFFFF;\n",
              "    }\n",
              "  </style>\n",
              "\n",
              "    <script>\n",
              "      const buttonEl =\n",
              "        document.querySelector('#df-b4217906-c969-45f3-bc9f-5e264d649897 button.colab-df-convert');\n",
              "      buttonEl.style.display =\n",
              "        google.colab.kernel.accessAllowed ? 'block' : 'none';\n",
              "\n",
              "      async function convertToInteractive(key) {\n",
              "        const element = document.querySelector('#df-b4217906-c969-45f3-bc9f-5e264d649897');\n",
              "        const dataTable =\n",
              "          await google.colab.kernel.invokeFunction('convertToInteractive',\n",
              "                                                    [key], {});\n",
              "        if (!dataTable) return;\n",
              "\n",
              "        const docLinkHtml = 'Like what you see? Visit the ' +\n",
              "          '<a target=\"_blank\" href=https://colab.research.google.com/notebooks/data_table.ipynb>data table notebook</a>'\n",
              "          + ' to learn more about interactive tables.';\n",
              "        element.innerHTML = '';\n",
              "        dataTable['output_type'] = 'display_data';\n",
              "        await google.colab.output.renderOutput(dataTable, element);\n",
              "        const docLink = document.createElement('div');\n",
              "        docLink.innerHTML = docLinkHtml;\n",
              "        element.appendChild(docLink);\n",
              "      }\n",
              "    </script>\n",
              "  </div>\n",
              "\n",
              "\n",
              "<div id=\"df-497db677-1510-49bc-a783-f7ab4bb3f24b\">\n",
              "  <button class=\"colab-df-quickchart\" onclick=\"quickchart('df-497db677-1510-49bc-a783-f7ab4bb3f24b')\"\n",
              "            title=\"Suggest charts.\"\n",
              "            style=\"display:none;\">\n",
              "\n",
              "<svg xmlns=\"http://www.w3.org/2000/svg\" height=\"24px\"viewBox=\"0 0 24 24\"\n",
              "     width=\"24px\">\n",
              "    <g>\n",
              "        <path d=\"M19 3H5c-1.1 0-2 .9-2 2v14c0 1.1.9 2 2 2h14c1.1 0 2-.9 2-2V5c0-1.1-.9-2-2-2zM9 17H7v-7h2v7zm4 0h-2V7h2v10zm4 0h-2v-4h2v4z\"/>\n",
              "    </g>\n",
              "</svg>\n",
              "  </button>\n",
              "\n",
              "<style>\n",
              "  .colab-df-quickchart {\n",
              "      --bg-color: #E8F0FE;\n",
              "      --fill-color: #1967D2;\n",
              "      --hover-bg-color: #E2EBFA;\n",
              "      --hover-fill-color: #174EA6;\n",
              "      --disabled-fill-color: #AAA;\n",
              "      --disabled-bg-color: #DDD;\n",
              "  }\n",
              "\n",
              "  [theme=dark] .colab-df-quickchart {\n",
              "      --bg-color: #3B4455;\n",
              "      --fill-color: #D2E3FC;\n",
              "      --hover-bg-color: #434B5C;\n",
              "      --hover-fill-color: #FFFFFF;\n",
              "      --disabled-bg-color: #3B4455;\n",
              "      --disabled-fill-color: #666;\n",
              "  }\n",
              "\n",
              "  .colab-df-quickchart {\n",
              "    background-color: var(--bg-color);\n",
              "    border: none;\n",
              "    border-radius: 50%;\n",
              "    cursor: pointer;\n",
              "    display: none;\n",
              "    fill: var(--fill-color);\n",
              "    height: 32px;\n",
              "    padding: 0;\n",
              "    width: 32px;\n",
              "  }\n",
              "\n",
              "  .colab-df-quickchart:hover {\n",
              "    background-color: var(--hover-bg-color);\n",
              "    box-shadow: 0 1px 2px rgba(60, 64, 67, 0.3), 0 1px 3px 1px rgba(60, 64, 67, 0.15);\n",
              "    fill: var(--button-hover-fill-color);\n",
              "  }\n",
              "\n",
              "  .colab-df-quickchart-complete:disabled,\n",
              "  .colab-df-quickchart-complete:disabled:hover {\n",
              "    background-color: var(--disabled-bg-color);\n",
              "    fill: var(--disabled-fill-color);\n",
              "    box-shadow: none;\n",
              "  }\n",
              "\n",
              "  .colab-df-spinner {\n",
              "    border: 2px solid var(--fill-color);\n",
              "    border-color: transparent;\n",
              "    border-bottom-color: var(--fill-color);\n",
              "    animation:\n",
              "      spin 1s steps(1) infinite;\n",
              "  }\n",
              "\n",
              "  @keyframes spin {\n",
              "    0% {\n",
              "      border-color: transparent;\n",
              "      border-bottom-color: var(--fill-color);\n",
              "      border-left-color: var(--fill-color);\n",
              "    }\n",
              "    20% {\n",
              "      border-color: transparent;\n",
              "      border-left-color: var(--fill-color);\n",
              "      border-top-color: var(--fill-color);\n",
              "    }\n",
              "    30% {\n",
              "      border-color: transparent;\n",
              "      border-left-color: var(--fill-color);\n",
              "      border-top-color: var(--fill-color);\n",
              "      border-right-color: var(--fill-color);\n",
              "    }\n",
              "    40% {\n",
              "      border-color: transparent;\n",
              "      border-right-color: var(--fill-color);\n",
              "      border-top-color: var(--fill-color);\n",
              "    }\n",
              "    60% {\n",
              "      border-color: transparent;\n",
              "      border-right-color: var(--fill-color);\n",
              "    }\n",
              "    80% {\n",
              "      border-color: transparent;\n",
              "      border-right-color: var(--fill-color);\n",
              "      border-bottom-color: var(--fill-color);\n",
              "    }\n",
              "    90% {\n",
              "      border-color: transparent;\n",
              "      border-bottom-color: var(--fill-color);\n",
              "    }\n",
              "  }\n",
              "</style>\n",
              "\n",
              "  <script>\n",
              "    async function quickchart(key) {\n",
              "      const quickchartButtonEl =\n",
              "        document.querySelector('#' + key + ' button');\n",
              "      quickchartButtonEl.disabled = true;  // To prevent multiple clicks.\n",
              "      quickchartButtonEl.classList.add('colab-df-spinner');\n",
              "      try {\n",
              "        const charts = await google.colab.kernel.invokeFunction(\n",
              "            'suggestCharts', [key], {});\n",
              "      } catch (error) {\n",
              "        console.error('Error during call to suggestCharts:', error);\n",
              "      }\n",
              "      quickchartButtonEl.classList.remove('colab-df-spinner');\n",
              "      quickchartButtonEl.classList.add('colab-df-quickchart-complete');\n",
              "    }\n",
              "    (() => {\n",
              "      let quickchartButtonEl =\n",
              "        document.querySelector('#df-497db677-1510-49bc-a783-f7ab4bb3f24b button');\n",
              "      quickchartButtonEl.style.display =\n",
              "        google.colab.kernel.accessAllowed ? 'block' : 'none';\n",
              "    })();\n",
              "  </script>\n",
              "</div>\n",
              "    </div>\n",
              "  </div>\n"
            ]
          },
          "metadata": {},
          "execution_count": 17
        }
      ],
      "source": [
        "corpus_df.head(3).T"
      ],
      "id": "jw0ZsRpda3Ag"
    },
    {
      "cell_type": "markdown",
      "metadata": {
        "id": "njfHIsmwa3Ag"
      },
      "source": [
        "## Vocabulary Data Wrangling"
      ],
      "id": "njfHIsmwa3Ag"
    },
    {
      "cell_type": "code",
      "execution_count": 18,
      "metadata": {
        "colab": {
          "base_uri": "https://localhost:8080/"
        },
        "id": "t7I95D0Ja3Ag",
        "outputId": "4a17439b-e649-4c8d-bd32-0106b6e05eb2"
      },
      "outputs": [
        {
          "output_type": "stream",
          "name": "stdout",
          "text": [
            "All Word Vocabulary size: 8802\n",
            "Curated Vocabulary size: 1774\n"
          ]
        }
      ],
      "source": [
        "vectorizer = CountVectorizer(ngram_range=(1, 1))\n",
        "transformed_documents = vectorizer.fit_transform(corpus_df.lemmas_joined)\n",
        "doc_term_matrix = transformed_documents.todense()\n",
        "doc_term_df = pd.DataFrame(doc_term_matrix,\n",
        "                           columns=vectorizer.get_feature_names_out(),\n",
        "                           index=corpus_df.Descriptor)\n",
        "print(f'All Word Vocabulary size: {doc_term_df.shape[1]}')\n",
        "all_words = set(doc_term_df.columns)\n",
        "\n",
        "vectorizer = CountVectorizer(ngram_range=(1, 1), min_df=5, max_df=.8)\n",
        "transformed_documents = vectorizer.fit_transform(corpus_df.lemmas_joined)\n",
        "doc_term_matrix = transformed_documents.todense()\n",
        "doc_term_df = pd.DataFrame(doc_term_matrix,\n",
        "                           columns=vectorizer.get_feature_names_out(),\n",
        "                           index=corpus_df.Descriptor)\n",
        "print(f'Curated Vocabulary size: {doc_term_df.shape[1]}')\n",
        "vocabulary = set(doc_term_df.columns)\n",
        "\n",
        "words_to_remove = default_stopwords.union(all_words - vocabulary)"
      ],
      "id": "t7I95D0Ja3Ag"
    },
    {
      "cell_type": "code",
      "execution_count": 19,
      "metadata": {
        "colab": {
          "base_uri": "https://localhost:8080/",
          "height": 700
        },
        "id": "Vf9jUu_Ia3Ah",
        "outputId": "13a4f543-04dc-4bcc-83c3-71966780f89e"
      },
      "outputs": [
        {
          "output_type": "display_data",
          "data": {
            "text/plain": [
              "<Figure size 1200x800 with 1 Axes>"
            ],
            "image/png": "[encoded data removed]"
          },
          "metadata": {}
        }
      ],
      "source": [
        "plt.figure(figsize = (12, 8))\n",
        "plt.hist(doc_term_df.sum(axis=0).T, range=(0, 200))\n",
        "plt.xlabel('Number of Occurrences',fontsize=14)\n",
        "plt.ylabel('Number of Terms',fontsize=14);"
      ],
      "id": "Vf9jUu_Ia3Ah"
    },
    {
      "cell_type": "code",
      "execution_count": 20,
      "metadata": {
        "colab": {
          "base_uri": "https://localhost:8080/"
        },
        "id": "WS25YoJFa3Ah",
        "outputId": "abc7ea06-0cc0-489b-b56b-9b7f92e31e22"
      },
      "outputs": [
        {
          "output_type": "execute_result",
          "data": {
            "text/plain": [
              "Doc_ID\n",
              "90    [target, heavily, mike, banning, gerard, butle...\n",
              "91    [action, angel, fall, reason, expect, second, ...\n",
              "92    [angel, fall, mark, time, gerard, butler, secr...\n",
              "93    [mike, banning, gerard, butler, accept, promot...\n",
              "94    [review, contain, spoiler, angel, fallen, movi...\n",
              "Name: lemmas, dtype: object"
            ]
          },
          "metadata": {},
          "execution_count": 20
        }
      ],
      "source": [
        "# Re-tokenize words, recreate joined documents\n",
        "corpus_df['lemmas'] = corpus_df.Text.apply(lambda x: get_lemmas(x, words_to_remove))\n",
        "corpus_df['lemmas_joined'] = corpus_df.lemmas.apply(lambda x: ' '.join(x))\n",
        "corpus_df.lemmas.head()"
      ],
      "id": "WS25YoJFa3Ah"
    },
    {
      "cell_type": "markdown",
      "metadata": {
        "id": "Z6g66oDqa3Ai"
      },
      "source": [
        "## Get Lemmatized and Filtered Sentences"
      ],
      "id": "Z6g66oDqa3Ai"
    },
    {
      "cell_type": "markdown",
      "metadata": {
        "id": "UVMq7dXya3Ai"
      },
      "source": [
        "Removes the additional words"
      ],
      "id": "UVMq7dXya3Ai"
    },
    {
      "cell_type": "code",
      "execution_count": 21,
      "metadata": {
        "id": "BAuLZmYaa3Ai"
      },
      "outputs": [],
      "source": [
        "corpus_df['sentences_lemmatized']=\\\n",
        "corpus_df.raw_sentences.apply(lambda x: [lemmatize_sentence(s, words_to_remove) for s in x])"
      ],
      "id": "BAuLZmYaa3Ai"
    },
    {
      "cell_type": "code",
      "execution_count": 22,
      "metadata": {
        "colab": {
          "base_uri": "https://localhost:8080/",
          "height": 543
        },
        "id": "gJz7XDnBa3Aj",
        "outputId": "c08a8bd8-7465-4446-a245-12be6ea58514"
      },
      "outputs": [
        {
          "output_type": "execute_result",
          "data": {
            "text/plain": [
              "Doc_ID                                                                   90  \\\n",
              "DSI_Title                                         LKP_Doc1_Angel_has_fallen   \n",
              "Text                      Target is on the move . '' Heavily outnumbered...   \n",
              "Submission File Name                              LKP_Doc1_Angel_has_fallen   \n",
              "Student Name                                                            LKP   \n",
              "Genre of Movie                                                       Action   \n",
              "Review Type (pos or neg)                                           Negative   \n",
              "Movie Title                                                Angel_has_fallen   \n",
              "Descriptor                                     Action_Angel_has_fallen_N_90   \n",
              "Doc_ID                                                                   90   \n",
              "raw_sentences             [Target is on the move . '', Heavily outnumber...   \n",
              "lemmas                    [target, heavily, mike, banning, gerard, butle...   \n",
              "lemmas_joined             target heavily mike banning gerard butler leve...   \n",
              "sentences_lemmatized      [target, heavily mike banning gerard butler le...   \n",
              "\n",
              "Doc_ID                                                                   91  \\\n",
              "DSI_Title                                         LKP_Doc2_Angel_has_fallen   \n",
              "Text                      The sleepy , dopey action bonanza `` Angel Has...   \n",
              "Submission File Name                              LKP_Doc2_Angel_has_fallen   \n",
              "Student Name                                                            LKP   \n",
              "Genre of Movie                                                       Action   \n",
              "Review Type (pos or neg)                                           Negative   \n",
              "Movie Title                                                Angel_has_fallen   \n",
              "Descriptor                                     Action_Angel_has_fallen_N_91   \n",
              "Doc_ID                                                                   91   \n",
              "raw_sentences             [The sleepy , dopey action bonanza `` Angel Ha...   \n",
              "lemmas                    [action, angel, fall, reason, expect, second, ...   \n",
              "lemmas_joined             action angel fall reason expect second sequel ...   \n",
              "sentences_lemmatized      [action angel fall reason expect, second seque...   \n",
              "\n",
              "Doc_ID                                                                   92  \\\n",
              "DSI_Title                                         LKP_Doc3_Angel_has_fallen   \n",
              "Text                      `` Angel Has Fallen '' marks the third time th...   \n",
              "Submission File Name                              LKP_Doc3_Angel_has_fallen   \n",
              "Student Name                                                            LKP   \n",
              "Genre of Movie                                                       Action   \n",
              "Review Type (pos or neg)                                           Negative   \n",
              "Movie Title                                                Angel_has_fallen   \n",
              "Descriptor                                     Action_Angel_has_fallen_N_92   \n",
              "Doc_ID                                                                   92   \n",
              "raw_sentences             [`` Angel Has Fallen '' marks the third time t...   \n",
              "lemmas                    [angel, fall, mark, time, gerard, butler, secr...   \n",
              "lemmas_joined             angel fall mark time gerard butler secret serv...   \n",
              "sentences_lemmatized      [angel fall mark time gerard butler secret ser...   \n",
              "\n",
              "Doc_ID                                                                   93  \\\n",
              "DSI_Title                                         LKP_Doc4_Angel_has_fallen   \n",
              "Text                      Improving through blandness . So Mike Banning ...   \n",
              "Submission File Name                              LKP_Doc4_Angel_has_fallen   \n",
              "Student Name                                                            LKP   \n",
              "Genre of Movie                                                       Action   \n",
              "Review Type (pos or neg)                                           Negative   \n",
              "Movie Title                                                Angel_has_fallen   \n",
              "Descriptor                                     Action_Angel_has_fallen_N_93   \n",
              "Doc_ID                                                                   93   \n",
              "raw_sentences             [Improving through blandness ., So Mike Bannin...   \n",
              "lemmas                    [mike, banning, gerard, butler, accept, promot...   \n",
              "lemmas_joined             mike banning gerard butler accept promotion ti...   \n",
              "sentences_lemmatized      [, mike banning gerard butler, accept promotio...   \n",
              "\n",
              "Doc_ID                                                                   94  \n",
              "DSI_Title                                         LKP_Doc5_Angel_has_fallen  \n",
              "Text                      This review may contain spoilers . Angel Has F...  \n",
              "Submission File Name                              LKP_Doc5_Angel_has_fallen  \n",
              "Student Name                                                            LKP  \n",
              "Genre of Movie                                                       Action  \n",
              "Review Type (pos or neg)                                           Negative  \n",
              "Movie Title                                                Angel_has_fallen  \n",
              "Descriptor                                     Action_Angel_has_fallen_N_94  \n",
              "Doc_ID                                                                   94  \n",
              "raw_sentences             [This review may contain spoilers ., Angel Has...  \n",
              "lemmas                    [review, contain, spoiler, angel, fallen, movi...  \n",
              "lemmas_joined             review contain spoiler angel fallen movie extr...  \n",
              "sentences_lemmatized      [review contain spoiler, angel fallen movie ex...  "
            ],
            "text/html": [
              "\n",
              "  <div id=\"df-63768789-1eca-4fc2-93da-0622ec7030df\" class=\"colab-df-container\">\n",
              "    <div>\n",
              "<style scoped>\n",
              "    .dataframe tbody tr th:only-of-type {\n",
              "        vertical-align: middle;\n",
              "    }\n",
              "\n",
              "    .dataframe tbody tr th {\n",
              "        vertical-align: top;\n",
              "    }\n",
              "\n",
              "    .dataframe thead th {\n",
              "        text-align: right;\n",
              "    }\n",
              "</style>\n",
              "<table border=\"1\" class=\"dataframe\">\n",
              "  <thead>\n",
              "    <tr style=\"text-align: right;\">\n",
              "      <th>Doc_ID</th>\n",
              "      <th>90</th>\n",
              "      <th>91</th>\n",
              "      <th>92</th>\n",
              "      <th>93</th>\n",
              "      <th>94</th>\n",
              "    </tr>\n",
              "  </thead>\n",
              "  <tbody>\n",
              "    <tr>\n",
              "      <th>DSI_Title</th>\n",
              "      <td>LKP_Doc1_Angel_has_fallen</td>\n",
              "      <td>LKP_Doc2_Angel_has_fallen</td>\n",
              "      <td>LKP_Doc3_Angel_has_fallen</td>\n",
              "      <td>LKP_Doc4_Angel_has_fallen</td>\n",
              "      <td>LKP_Doc5_Angel_has_fallen</td>\n",
              "    </tr>\n",
              "    <tr>\n",
              "      <th>Text</th>\n",
              "      <td>Target is on the move . '' Heavily outnumbered...</td>\n",
              "      <td>The sleepy , dopey action bonanza `` Angel Has...</td>\n",
              "      <td>`` Angel Has Fallen '' marks the third time th...</td>\n",
              "      <td>Improving through blandness . So Mike Banning ...</td>\n",
              "      <td>This review may contain spoilers . Angel Has F...</td>\n",
              "    </tr>\n",
              "    <tr>\n",
              "      <th>Submission File Name</th>\n",
              "      <td>LKP_Doc1_Angel_has_fallen</td>\n",
              "      <td>LKP_Doc2_Angel_has_fallen</td>\n",
              "      <td>LKP_Doc3_Angel_has_fallen</td>\n",
              "      <td>LKP_Doc4_Angel_has_fallen</td>\n",
              "      <td>LKP_Doc5_Angel_has_fallen</td>\n",
              "    </tr>\n",
              "    <tr>\n",
              "      <th>Student Name</th>\n",
              "      <td>LKP</td>\n",
              "      <td>LKP</td>\n",
              "      <td>LKP</td>\n",
              "      <td>LKP</td>\n",
              "      <td>LKP</td>\n",
              "    </tr>\n",
              "    <tr>\n",
              "      <th>Genre of Movie</th>\n",
              "      <td>Action</td>\n",
              "      <td>Action</td>\n",
              "      <td>Action</td>\n",
              "      <td>Action</td>\n",
              "      <td>Action</td>\n",
              "    </tr>\n",
              "    <tr>\n",
              "      <th>Review Type (pos or neg)</th>\n",
              "      <td>Negative</td>\n",
              "      <td>Negative</td>\n",
              "      <td>Negative</td>\n",
              "      <td>Negative</td>\n",
              "      <td>Negative</td>\n",
              "    </tr>\n",
              "    <tr>\n",
              "      <th>Movie Title</th>\n",
              "      <td>Angel_has_fallen</td>\n",
              "      <td>Angel_has_fallen</td>\n",
              "      <td>Angel_has_fallen</td>\n",
              "      <td>Angel_has_fallen</td>\n",
              "      <td>Angel_has_fallen</td>\n",
              "    </tr>\n",
              "    <tr>\n",
              "      <th>Descriptor</th>\n",
              "      <td>Action_Angel_has_fallen_N_90</td>\n",
              "      <td>Action_Angel_has_fallen_N_91</td>\n",
              "      <td>Action_Angel_has_fallen_N_92</td>\n",
              "      <td>Action_Angel_has_fallen_N_93</td>\n",
              "      <td>Action_Angel_has_fallen_N_94</td>\n",
              "    </tr>\n",
              "    <tr>\n",
              "      <th>Doc_ID</th>\n",
              "      <td>90</td>\n",
              "      <td>91</td>\n",
              "      <td>92</td>\n",
              "      <td>93</td>\n",
              "      <td>94</td>\n",
              "    </tr>\n",
              "    <tr>\n",
              "      <th>raw_sentences</th>\n",
              "      <td>[Target is on the move . '', Heavily outnumber...</td>\n",
              "      <td>[The sleepy , dopey action bonanza `` Angel Ha...</td>\n",
              "      <td>[`` Angel Has Fallen '' marks the third time t...</td>\n",
              "      <td>[Improving through blandness ., So Mike Bannin...</td>\n",
              "      <td>[This review may contain spoilers ., Angel Has...</td>\n",
              "    </tr>\n",
              "    <tr>\n",
              "      <th>lemmas</th>\n",
              "      <td>[target, heavily, mike, banning, gerard, butle...</td>\n",
              "      <td>[action, angel, fall, reason, expect, second, ...</td>\n",
              "      <td>[angel, fall, mark, time, gerard, butler, secr...</td>\n",
              "      <td>[mike, banning, gerard, butler, accept, promot...</td>\n",
              "      <td>[review, contain, spoiler, angel, fallen, movi...</td>\n",
              "    </tr>\n",
              "    <tr>\n",
              "      <th>lemmas_joined</th>\n",
              "      <td>target heavily mike banning gerard butler leve...</td>\n",
              "      <td>action angel fall reason expect second sequel ...</td>\n",
              "      <td>angel fall mark time gerard butler secret serv...</td>\n",
              "      <td>mike banning gerard butler accept promotion ti...</td>\n",
              "      <td>review contain spoiler angel fallen movie extr...</td>\n",
              "    </tr>\n",
              "    <tr>\n",
              "      <th>sentences_lemmatized</th>\n",
              "      <td>[target, heavily mike banning gerard butler le...</td>\n",
              "      <td>[action angel fall reason expect, second seque...</td>\n",
              "      <td>[angel fall mark time gerard butler secret ser...</td>\n",
              "      <td>[, mike banning gerard butler, accept promotio...</td>\n",
              "      <td>[review contain spoiler, angel fallen movie ex...</td>\n",
              "    </tr>\n",
              "  </tbody>\n",
              "</table>\n",
              "</div>\n",
              "    <div class=\"colab-df-buttons\">\n",
              "\n",
              "  <div class=\"colab-df-container\">\n",
              "    <button class=\"colab-df-convert\" onclick=\"convertToInteractive('df-63768789-1eca-4fc2-93da-0622ec7030df')\"\n",
              "            title=\"Convert this dataframe to an interactive table.\"\n",
              "            style=\"display:none;\">\n",
              "\n",
              "  <svg xmlns=\"http://www.w3.org/2000/svg\" height=\"24px\" viewBox=\"0 -960 960 960\">\n",
              "    <path d=\"M120-120v-720h720v720H120Zm60-500h600v-160H180v160Zm220 220h160v-160H400v160Zm0 220h160v-160H400v160ZM180-400h160v-160H180v160Zm440 0h160v-160H620v160ZM180-180h160v-160H180v160Zm440 0h160v-160H620v160Z\"/>\n",
              "  </svg>\n",
              "    </button>\n",
              "\n",
              "  <style>\n",
              "    .colab-df-container {\n",
              "      display:flex;\n",
              "      gap: 12px;\n",
              "    }\n",
              "\n",
              "    .colab-df-convert {\n",
              "      background-color: #E8F0FE;\n",
              "      border: none;\n",
              "      border-radius: 50%;\n",
              "      cursor: pointer;\n",
              "      display: none;\n",
              "      fill: #1967D2;\n",
              "      height: 32px;\n",
              "      padding: 0 0 0 0;\n",
              "      width: 32px;\n",
              "    }\n",
              "\n",
              "    .colab-df-convert:hover {\n",
              "      background-color: #E2EBFA;\n",
              "      box-shadow: 0px 1px 2px rgba(60, 64, 67, 0.3), 0px 1px 3px 1px rgba(60, 64, 67, 0.15);\n",
              "      fill: #174EA6;\n",
              "    }\n",
              "\n",
              "    .colab-df-buttons div {\n",
              "      margin-bottom: 4px;\n",
              "    }\n",
              "\n",
              "    [theme=dark] .colab-df-convert {\n",
              "      background-color: #3B4455;\n",
              "      fill: #D2E3FC;\n",
              "    }\n",
              "\n",
              "    [theme=dark] .colab-df-convert:hover {\n",
              "      background-color: #434B5C;\n",
              "      box-shadow: 0px 1px 3px 1px rgba(0, 0, 0, 0.15);\n",
              "      filter: drop-shadow(0px 1px 2px rgba(0, 0, 0, 0.3));\n",
              "      fill: #FFFFFF;\n",
              "    }\n",
              "  </style>\n",
              "\n",
              "    <script>\n",
              "      const buttonEl =\n",
              "        document.querySelector('#df-63768789-1eca-4fc2-93da-0622ec7030df button.colab-df-convert');\n",
              "      buttonEl.style.display =\n",
              "        google.colab.kernel.accessAllowed ? 'block' : 'none';\n",
              "\n",
              "      async function convertToInteractive(key) {\n",
              "        const element = document.querySelector('#df-63768789-1eca-4fc2-93da-0622ec7030df');\n",
              "        const dataTable =\n",
              "          await google.colab.kernel.invokeFunction('convertToInteractive',\n",
              "                                                    [key], {});\n",
              "        if (!dataTable) return;\n",
              "\n",
              "        const docLinkHtml = 'Like what you see? Visit the ' +\n",
              "          '<a target=\"_blank\" href=https://colab.research.google.com/notebooks/data_table.ipynb>data table notebook</a>'\n",
              "          + ' to learn more about interactive tables.';\n",
              "        element.innerHTML = '';\n",
              "        dataTable['output_type'] = 'display_data';\n",
              "        await google.colab.output.renderOutput(dataTable, element);\n",
              "        const docLink = document.createElement('div');\n",
              "        docLink.innerHTML = docLinkHtml;\n",
              "        element.appendChild(docLink);\n",
              "      }\n",
              "    </script>\n",
              "  </div>\n",
              "\n",
              "\n",
              "<div id=\"df-5f69dab5-fead-44f9-bb1d-caeff9331454\">\n",
              "  <button class=\"colab-df-quickchart\" onclick=\"quickchart('df-5f69dab5-fead-44f9-bb1d-caeff9331454')\"\n",
              "            title=\"Suggest charts.\"\n",
              "            style=\"display:none;\">\n",
              "\n",
              "<svg xmlns=\"http://www.w3.org/2000/svg\" height=\"24px\"viewBox=\"0 0 24 24\"\n",
              "     width=\"24px\">\n",
              "    <g>\n",
              "        <path d=\"M19 3H5c-1.1 0-2 .9-2 2v14c0 1.1.9 2 2 2h14c1.1 0 2-.9 2-2V5c0-1.1-.9-2-2-2zM9 17H7v-7h2v7zm4 0h-2V7h2v10zm4 0h-2v-4h2v4z\"/>\n",
              "    </g>\n",
              "</svg>\n",
              "  </button>\n",
              "\n",
              "<style>\n",
              "  .colab-df-quickchart {\n",
              "      --bg-color: #E8F0FE;\n",
              "      --fill-color: #1967D2;\n",
              "      --hover-bg-color: #E2EBFA;\n",
              "      --hover-fill-color: #174EA6;\n",
              "      --disabled-fill-color: #AAA;\n",
              "      --disabled-bg-color: #DDD;\n",
              "  }\n",
              "\n",
              "  [theme=dark] .colab-df-quickchart {\n",
              "      --bg-color: #3B4455;\n",
              "      --fill-color: #D2E3FC;\n",
              "      --hover-bg-color: #434B5C;\n",
              "      --hover-fill-color: #FFFFFF;\n",
              "      --disabled-bg-color: #3B4455;\n",
              "      --disabled-fill-color: #666;\n",
              "  }\n",
              "\n",
              "  .colab-df-quickchart {\n",
              "    background-color: var(--bg-color);\n",
              "    border: none;\n",
              "    border-radius: 50%;\n",
              "    cursor: pointer;\n",
              "    display: none;\n",
              "    fill: var(--fill-color);\n",
              "    height: 32px;\n",
              "    padding: 0;\n",
              "    width: 32px;\n",
              "  }\n",
              "\n",
              "  .colab-df-quickchart:hover {\n",
              "    background-color: var(--hover-bg-color);\n",
              "    box-shadow: 0 1px 2px rgba(60, 64, 67, 0.3), 0 1px 3px 1px rgba(60, 64, 67, 0.15);\n",
              "    fill: var(--button-hover-fill-color);\n",
              "  }\n",
              "\n",
              "  .colab-df-quickchart-complete:disabled,\n",
              "  .colab-df-quickchart-complete:disabled:hover {\n",
              "    background-color: var(--disabled-bg-color);\n",
              "    fill: var(--disabled-fill-color);\n",
              "    box-shadow: none;\n",
              "  }\n",
              "\n",
              "  .colab-df-spinner {\n",
              "    border: 2px solid var(--fill-color);\n",
              "    border-color: transparent;\n",
              "    border-bottom-color: var(--fill-color);\n",
              "    animation:\n",
              "      spin 1s steps(1) infinite;\n",
              "  }\n",
              "\n",
              "  @keyframes spin {\n",
              "    0% {\n",
              "      border-color: transparent;\n",
              "      border-bottom-color: var(--fill-color);\n",
              "      border-left-color: var(--fill-color);\n",
              "    }\n",
              "    20% {\n",
              "      border-color: transparent;\n",
              "      border-left-color: var(--fill-color);\n",
              "      border-top-color: var(--fill-color);\n",
              "    }\n",
              "    30% {\n",
              "      border-color: transparent;\n",
              "      border-left-color: var(--fill-color);\n",
              "      border-top-color: var(--fill-color);\n",
              "      border-right-color: var(--fill-color);\n",
              "    }\n",
              "    40% {\n",
              "      border-color: transparent;\n",
              "      border-right-color: var(--fill-color);\n",
              "      border-top-color: var(--fill-color);\n",
              "    }\n",
              "    60% {\n",
              "      border-color: transparent;\n",
              "      border-right-color: var(--fill-color);\n",
              "    }\n",
              "    80% {\n",
              "      border-color: transparent;\n",
              "      border-right-color: var(--fill-color);\n",
              "      border-bottom-color: var(--fill-color);\n",
              "    }\n",
              "    90% {\n",
              "      border-color: transparent;\n",
              "      border-bottom-color: var(--fill-color);\n",
              "    }\n",
              "  }\n",
              "</style>\n",
              "\n",
              "  <script>\n",
              "    async function quickchart(key) {\n",
              "      const quickchartButtonEl =\n",
              "        document.querySelector('#' + key + ' button');\n",
              "      quickchartButtonEl.disabled = true;  // To prevent multiple clicks.\n",
              "      quickchartButtonEl.classList.add('colab-df-spinner');\n",
              "      try {\n",
              "        const charts = await google.colab.kernel.invokeFunction(\n",
              "            'suggestCharts', [key], {});\n",
              "      } catch (error) {\n",
              "        console.error('Error during call to suggestCharts:', error);\n",
              "      }\n",
              "      quickchartButtonEl.classList.remove('colab-df-spinner');\n",
              "      quickchartButtonEl.classList.add('colab-df-quickchart-complete');\n",
              "    }\n",
              "    (() => {\n",
              "      let quickchartButtonEl =\n",
              "        document.querySelector('#df-5f69dab5-fead-44f9-bb1d-caeff9331454 button');\n",
              "      quickchartButtonEl.style.display =\n",
              "        google.colab.kernel.accessAllowed ? 'block' : 'none';\n",
              "    })();\n",
              "  </script>\n",
              "</div>\n",
              "    </div>\n",
              "  </div>\n"
            ]
          },
          "metadata": {},
          "execution_count": 22
        }
      ],
      "source": [
        "corpus_df.head().T"
      ],
      "id": "gJz7XDnBa3Aj"
    },
    {
      "cell_type": "markdown",
      "metadata": {
        "id": "hV1q2O9ea3Aj"
      },
      "source": [
        "## Review Documents By Movie Title"
      ],
      "id": "hV1q2O9ea3Aj"
    },
    {
      "cell_type": "code",
      "execution_count": 23,
      "metadata": {
        "colab": {
          "base_uri": "https://localhost:8080/"
        },
        "id": "DGP9WB_Oa3Aj",
        "outputId": "11e1a92f-0c73-46c2-c123-748dea524c96"
      },
      "outputs": [
        {
          "output_type": "stream",
          "name": "stdout",
          "text": [
            "['Angel_has_fallen' 'Inception' 'No_Time_to_Die' 'Taken' 'Taxi' 'Barbie'\n",
            " 'Dirty_Grandpa' 'Holmes_and_Watson' 'Lost City' 'Mean_Girls'\n",
            " 'Drag_Me_To_Hell' 'Fresh' 'It_Chapter_Two' 'The Conjuring 2' 'The_Others'\n",
            " 'EQUILIBRIUM' 'Minority_Report' 'Oblivion' 'Pitch_Black' 'The_Batman']\n"
          ]
        }
      ],
      "source": [
        "print(corpus_df['Movie Title'].unique())"
      ],
      "id": "DGP9WB_Oa3Aj"
    },
    {
      "cell_type": "code",
      "execution_count": 24,
      "metadata": {
        "scrolled": false,
        "colab": {
          "base_uri": "https://localhost:8080/",
          "height": 444
        },
        "id": "hhiDmYQHa3Ak",
        "outputId": "5806e5a8-dff9-48b8-ae20-46dd1ecd4d4f"
      },
      "outputs": [
        {
          "output_type": "execute_result",
          "data": {
            "text/plain": [
              "Doc_ID                                                                   65  \\\n",
              "DSI_Title                                                     VGI_Doc6_Taxi   \n",
              "Text                      This is quite simply the french version of US ...   \n",
              "Submission File Name                                          VGI_Doc6_Taxi   \n",
              "Student Name                                                            VGI   \n",
              "Genre of Movie                                                       Action   \n",
              "Review Type (pos or neg)                                           Negative   \n",
              "Movie Title                                                            Taxi   \n",
              "Descriptor                                                 Action_Taxi_N_65   \n",
              "Doc_ID                                                                   65   \n",
              "raw_sentences             [This is quite simply the french version of US...   \n",
              "lemmas                    [simply, french, version, blockbuster, car, mo...   \n",
              "lemmas_joined             simply french version blockbuster car movie kn...   \n",
              "sentences_lemmatized      [simply french version blockbuster car movie, ...   \n",
              "\n",
              "Doc_ID                                                                   66  \\\n",
              "DSI_Title                                                     VGI_Doc7_Taxi   \n",
              "Text                      This has to be the biggest pile of pap i have ...   \n",
              "Submission File Name                                          VGI_Doc7_Taxi   \n",
              "Student Name                                                            VGI   \n",
              "Genre of Movie                                                       Action   \n",
              "Review Type (pos or neg)                                           Negative   \n",
              "Movie Title                                                            Taxi   \n",
              "Descriptor                                                 Action_Taxi_N_66   \n",
              "Doc_ID                                                                   66   \n",
              "raw_sentences             [This has to be the biggest pile of pap i have...   \n",
              "lemmas                    [big, life, waste, time, watch, find, entertai...   \n",
              "lemmas_joined             big life waste time watch find entertain thing...   \n",
              "sentences_lemmatized      [big life, waste time watch, find entertain th...   \n",
              "\n",
              "Doc_ID                                                                   67  \n",
              "DSI_Title                                                     VGI_Doc8_Taxi  \n",
              "Text                      When I rented this movie , I expected it to be...  \n",
              "Submission File Name                                          VGI_Doc8_Taxi  \n",
              "Student Name                                                            VGI  \n",
              "Genre of Movie                                                       Action  \n",
              "Review Type (pos or neg)                                           Negative  \n",
              "Movie Title                                                            Taxi  \n",
              "Descriptor                                                 Action_Taxi_N_67  \n",
              "Doc_ID                                                                   67  \n",
              "raw_sentences             [When I rented this movie , I expected it to b...  \n",
              "lemmas                    [movie, expect, silly, french, comedy, hope, l...  \n",
              "lemmas_joined             movie expect silly french comedy hope lot shoo...  \n",
              "sentences_lemmatized      [movie expect silly french comedy hope lot sho...  "
            ],
            "text/html": [
              "\n",
              "  <div id=\"df-f8e3d634-209c-4e1e-a993-ac5c2b18d1d8\" class=\"colab-df-container\">\n",
              "    <div>\n",
              "<style scoped>\n",
              "    .dataframe tbody tr th:only-of-type {\n",
              "        vertical-align: middle;\n",
              "    }\n",
              "\n",
              "    .dataframe tbody tr th {\n",
              "        vertical-align: top;\n",
              "    }\n",
              "\n",
              "    .dataframe thead th {\n",
              "        text-align: right;\n",
              "    }\n",
              "</style>\n",
              "<table border=\"1\" class=\"dataframe\">\n",
              "  <thead>\n",
              "    <tr style=\"text-align: right;\">\n",
              "      <th>Doc_ID</th>\n",
              "      <th>65</th>\n",
              "      <th>66</th>\n",
              "      <th>67</th>\n",
              "    </tr>\n",
              "  </thead>\n",
              "  <tbody>\n",
              "    <tr>\n",
              "      <th>DSI_Title</th>\n",
              "      <td>VGI_Doc6_Taxi</td>\n",
              "      <td>VGI_Doc7_Taxi</td>\n",
              "      <td>VGI_Doc8_Taxi</td>\n",
              "    </tr>\n",
              "    <tr>\n",
              "      <th>Text</th>\n",
              "      <td>This is quite simply the french version of US ...</td>\n",
              "      <td>This has to be the biggest pile of pap i have ...</td>\n",
              "      <td>When I rented this movie , I expected it to be...</td>\n",
              "    </tr>\n",
              "    <tr>\n",
              "      <th>Submission File Name</th>\n",
              "      <td>VGI_Doc6_Taxi</td>\n",
              "      <td>VGI_Doc7_Taxi</td>\n",
              "      <td>VGI_Doc8_Taxi</td>\n",
              "    </tr>\n",
              "    <tr>\n",
              "      <th>Student Name</th>\n",
              "      <td>VGI</td>\n",
              "      <td>VGI</td>\n",
              "      <td>VGI</td>\n",
              "    </tr>\n",
              "    <tr>\n",
              "      <th>Genre of Movie</th>\n",
              "      <td>Action</td>\n",
              "      <td>Action</td>\n",
              "      <td>Action</td>\n",
              "    </tr>\n",
              "    <tr>\n",
              "      <th>Review Type (pos or neg)</th>\n",
              "      <td>Negative</td>\n",
              "      <td>Negative</td>\n",
              "      <td>Negative</td>\n",
              "    </tr>\n",
              "    <tr>\n",
              "      <th>Movie Title</th>\n",
              "      <td>Taxi</td>\n",
              "      <td>Taxi</td>\n",
              "      <td>Taxi</td>\n",
              "    </tr>\n",
              "    <tr>\n",
              "      <th>Descriptor</th>\n",
              "      <td>Action_Taxi_N_65</td>\n",
              "      <td>Action_Taxi_N_66</td>\n",
              "      <td>Action_Taxi_N_67</td>\n",
              "    </tr>\n",
              "    <tr>\n",
              "      <th>Doc_ID</th>\n",
              "      <td>65</td>\n",
              "      <td>66</td>\n",
              "      <td>67</td>\n",
              "    </tr>\n",
              "    <tr>\n",
              "      <th>raw_sentences</th>\n",
              "      <td>[This is quite simply the french version of US...</td>\n",
              "      <td>[This has to be the biggest pile of pap i have...</td>\n",
              "      <td>[When I rented this movie , I expected it to b...</td>\n",
              "    </tr>\n",
              "    <tr>\n",
              "      <th>lemmas</th>\n",
              "      <td>[simply, french, version, blockbuster, car, mo...</td>\n",
              "      <td>[big, life, waste, time, watch, find, entertai...</td>\n",
              "      <td>[movie, expect, silly, french, comedy, hope, l...</td>\n",
              "    </tr>\n",
              "    <tr>\n",
              "      <th>lemmas_joined</th>\n",
              "      <td>simply french version blockbuster car movie kn...</td>\n",
              "      <td>big life waste time watch find entertain thing...</td>\n",
              "      <td>movie expect silly french comedy hope lot shoo...</td>\n",
              "    </tr>\n",
              "    <tr>\n",
              "      <th>sentences_lemmatized</th>\n",
              "      <td>[simply french version blockbuster car movie, ...</td>\n",
              "      <td>[big life, waste time watch, find entertain th...</td>\n",
              "      <td>[movie expect silly french comedy hope lot sho...</td>\n",
              "    </tr>\n",
              "  </tbody>\n",
              "</table>\n",
              "</div>\n",
              "    <div class=\"colab-df-buttons\">\n",
              "\n",
              "  <div class=\"colab-df-container\">\n",
              "    <button class=\"colab-df-convert\" onclick=\"convertToInteractive('df-f8e3d634-209c-4e1e-a993-ac5c2b18d1d8')\"\n",
              "            title=\"Convert this dataframe to an interactive table.\"\n",
              "            style=\"display:none;\">\n",
              "\n",
              "  <svg xmlns=\"http://www.w3.org/2000/svg\" height=\"24px\" viewBox=\"0 -960 960 960\">\n",
              "    <path d=\"M120-120v-720h720v720H120Zm60-500h600v-160H180v160Zm220 220h160v-160H400v160Zm0 220h160v-160H400v160ZM180-400h160v-160H180v160Zm440 0h160v-160H620v160ZM180-180h160v-160H180v160Zm440 0h160v-160H620v160Z\"/>\n",
              "  </svg>\n",
              "    </button>\n",
              "\n",
              "  <style>\n",
              "    .colab-df-container {\n",
              "      display:flex;\n",
              "      gap: 12px;\n",
              "    }\n",
              "\n",
              "    .colab-df-convert {\n",
              "      background-color: #E8F0FE;\n",
              "      border: none;\n",
              "      border-radius: 50%;\n",
              "      cursor: pointer;\n",
              "      display: none;\n",
              "      fill: #1967D2;\n",
              "      height: 32px;\n",
              "      padding: 0 0 0 0;\n",
              "      width: 32px;\n",
              "    }\n",
              "\n",
              "    .colab-df-convert:hover {\n",
              "      background-color: #E2EBFA;\n",
              "      box-shadow: 0px 1px 2px rgba(60, 64, 67, 0.3), 0px 1px 3px 1px rgba(60, 64, 67, 0.15);\n",
              "      fill: #174EA6;\n",
              "    }\n",
              "\n",
              "    .colab-df-buttons div {\n",
              "      margin-bottom: 4px;\n",
              "    }\n",
              "\n",
              "    [theme=dark] .colab-df-convert {\n",
              "      background-color: #3B4455;\n",
              "      fill: #D2E3FC;\n",
              "    }\n",
              "\n",
              "    [theme=dark] .colab-df-convert:hover {\n",
              "      background-color: #434B5C;\n",
              "      box-shadow: 0px 1px 3px 1px rgba(0, 0, 0, 0.15);\n",
              "      filter: drop-shadow(0px 1px 2px rgba(0, 0, 0, 0.3));\n",
              "      fill: #FFFFFF;\n",
              "    }\n",
              "  </style>\n",
              "\n",
              "    <script>\n",
              "      const buttonEl =\n",
              "        document.querySelector('#df-f8e3d634-209c-4e1e-a993-ac5c2b18d1d8 button.colab-df-convert');\n",
              "      buttonEl.style.display =\n",
              "        google.colab.kernel.accessAllowed ? 'block' : 'none';\n",
              "\n",
              "      async function convertToInteractive(key) {\n",
              "        const element = document.querySelector('#df-f8e3d634-209c-4e1e-a993-ac5c2b18d1d8');\n",
              "        const dataTable =\n",
              "          await google.colab.kernel.invokeFunction('convertToInteractive',\n",
              "                                                    [key], {});\n",
              "        if (!dataTable) return;\n",
              "\n",
              "        const docLinkHtml = 'Like what you see? Visit the ' +\n",
              "          '<a target=\"_blank\" href=https://colab.research.google.com/notebooks/data_table.ipynb>data table notebook</a>'\n",
              "          + ' to learn more about interactive tables.';\n",
              "        element.innerHTML = '';\n",
              "        dataTable['output_type'] = 'display_data';\n",
              "        await google.colab.output.renderOutput(dataTable, element);\n",
              "        const docLink = document.createElement('div');\n",
              "        docLink.innerHTML = docLinkHtml;\n",
              "        element.appendChild(docLink);\n",
              "      }\n",
              "    </script>\n",
              "  </div>\n",
              "\n",
              "\n",
              "<div id=\"df-bfe9209c-cddf-45df-90c5-0e52b2bbdc07\">\n",
              "  <button class=\"colab-df-quickchart\" onclick=\"quickchart('df-bfe9209c-cddf-45df-90c5-0e52b2bbdc07')\"\n",
              "            title=\"Suggest charts.\"\n",
              "            style=\"display:none;\">\n",
              "\n",
              "<svg xmlns=\"http://www.w3.org/2000/svg\" height=\"24px\"viewBox=\"0 0 24 24\"\n",
              "     width=\"24px\">\n",
              "    <g>\n",
              "        <path d=\"M19 3H5c-1.1 0-2 .9-2 2v14c0 1.1.9 2 2 2h14c1.1 0 2-.9 2-2V5c0-1.1-.9-2-2-2zM9 17H7v-7h2v7zm4 0h-2V7h2v10zm4 0h-2v-4h2v4z\"/>\n",
              "    </g>\n",
              "</svg>\n",
              "  </button>\n",
              "\n",
              "<style>\n",
              "  .colab-df-quickchart {\n",
              "      --bg-color: #E8F0FE;\n",
              "      --fill-color: #1967D2;\n",
              "      --hover-bg-color: #E2EBFA;\n",
              "      --hover-fill-color: #174EA6;\n",
              "      --disabled-fill-color: #AAA;\n",
              "      --disabled-bg-color: #DDD;\n",
              "  }\n",
              "\n",
              "  [theme=dark] .colab-df-quickchart {\n",
              "      --bg-color: #3B4455;\n",
              "      --fill-color: #D2E3FC;\n",
              "      --hover-bg-color: #434B5C;\n",
              "      --hover-fill-color: #FFFFFF;\n",
              "      --disabled-bg-color: #3B4455;\n",
              "      --disabled-fill-color: #666;\n",
              "  }\n",
              "\n",
              "  .colab-df-quickchart {\n",
              "    background-color: var(--bg-color);\n",
              "    border: none;\n",
              "    border-radius: 50%;\n",
              "    cursor: pointer;\n",
              "    display: none;\n",
              "    fill: var(--fill-color);\n",
              "    height: 32px;\n",
              "    padding: 0;\n",
              "    width: 32px;\n",
              "  }\n",
              "\n",
              "  .colab-df-quickchart:hover {\n",
              "    background-color: var(--hover-bg-color);\n",
              "    box-shadow: 0 1px 2px rgba(60, 64, 67, 0.3), 0 1px 3px 1px rgba(60, 64, 67, 0.15);\n",
              "    fill: var(--button-hover-fill-color);\n",
              "  }\n",
              "\n",
              "  .colab-df-quickchart-complete:disabled,\n",
              "  .colab-df-quickchart-complete:disabled:hover {\n",
              "    background-color: var(--disabled-bg-color);\n",
              "    fill: var(--disabled-fill-color);\n",
              "    box-shadow: none;\n",
              "  }\n",
              "\n",
              "  .colab-df-spinner {\n",
              "    border: 2px solid var(--fill-color);\n",
              "    border-color: transparent;\n",
              "    border-bottom-color: var(--fill-color);\n",
              "    animation:\n",
              "      spin 1s steps(1) infinite;\n",
              "  }\n",
              "\n",
              "  @keyframes spin {\n",
              "    0% {\n",
              "      border-color: transparent;\n",
              "      border-bottom-color: var(--fill-color);\n",
              "      border-left-color: var(--fill-color);\n",
              "    }\n",
              "    20% {\n",
              "      border-color: transparent;\n",
              "      border-left-color: var(--fill-color);\n",
              "      border-top-color: var(--fill-color);\n",
              "    }\n",
              "    30% {\n",
              "      border-color: transparent;\n",
              "      border-left-color: var(--fill-color);\n",
              "      border-top-color: var(--fill-color);\n",
              "      border-right-color: var(--fill-color);\n",
              "    }\n",
              "    40% {\n",
              "      border-color: transparent;\n",
              "      border-right-color: var(--fill-color);\n",
              "      border-top-color: var(--fill-color);\n",
              "    }\n",
              "    60% {\n",
              "      border-color: transparent;\n",
              "      border-right-color: var(--fill-color);\n",
              "    }\n",
              "    80% {\n",
              "      border-color: transparent;\n",
              "      border-right-color: var(--fill-color);\n",
              "      border-bottom-color: var(--fill-color);\n",
              "    }\n",
              "    90% {\n",
              "      border-color: transparent;\n",
              "      border-bottom-color: var(--fill-color);\n",
              "    }\n",
              "  }\n",
              "</style>\n",
              "\n",
              "  <script>\n",
              "    async function quickchart(key) {\n",
              "      const quickchartButtonEl =\n",
              "        document.querySelector('#' + key + ' button');\n",
              "      quickchartButtonEl.disabled = true;  // To prevent multiple clicks.\n",
              "      quickchartButtonEl.classList.add('colab-df-spinner');\n",
              "      try {\n",
              "        const charts = await google.colab.kernel.invokeFunction(\n",
              "            'suggestCharts', [key], {});\n",
              "      } catch (error) {\n",
              "        console.error('Error during call to suggestCharts:', error);\n",
              "      }\n",
              "      quickchartButtonEl.classList.remove('colab-df-spinner');\n",
              "      quickchartButtonEl.classList.add('colab-df-quickchart-complete');\n",
              "    }\n",
              "    (() => {\n",
              "      let quickchartButtonEl =\n",
              "        document.querySelector('#df-bfe9209c-cddf-45df-90c5-0e52b2bbdc07 button');\n",
              "      quickchartButtonEl.style.display =\n",
              "        google.colab.kernel.accessAllowed ? 'block' : 'none';\n",
              "    })();\n",
              "  </script>\n",
              "</div>\n",
              "    </div>\n",
              "  </div>\n"
            ]
          },
          "metadata": {},
          "execution_count": 24
        }
      ],
      "source": [
        "movie_df = corpus_df[corpus_df['Movie Title'] == 'Taxi'].copy()\n",
        "# or\n",
        "#movie_df = corpus_df[corpus_df['Movie Title'] == 'Dirty_Grandpa'].copy()\n",
        "movie_df.head(3).T"
      ],
      "id": "hhiDmYQHa3Ak"
    },
    {
      "cell_type": "markdown",
      "metadata": {
        "id": "a89S78L_a3An"
      },
      "source": [
        "## Recurrent Neural Network (RNN) Model Development"
      ],
      "id": "a89S78L_a3An"
    },
    {
      "cell_type": "markdown",
      "metadata": {
        "id": "000k4u2ua3An"
      },
      "source": [
        "<img src=\"https://github.com/djp840/MSDS_453_Public/blob/main/images/BidirectionalRNN.png?raw=true\">"
      ],
      "id": "000k4u2ua3An"
    },
    {
      "cell_type": "markdown",
      "metadata": {
        "id": "woiyYARCa3An"
      },
      "source": [
        "<div class=\"alert alert-block alert-info\">\n",
        "    <b>tf.keras.layers.Bidirectional</b><br>\n",
        "    https://www.tensorflow.org/api_docs/python/tf/keras/layers/Bidirectional\n",
        "    </div>"
      ],
      "id": "woiyYARCa3An"
    },
    {
      "cell_type": "code",
      "execution_count": 25,
      "metadata": {
        "colab": {
          "base_uri": "https://localhost:8080/",
          "height": 444
        },
        "id": "-bxUk9j-a3An",
        "outputId": "bb2851b1-039c-4bf5-cd58-86aff86b4f05"
      },
      "outputs": [
        {
          "output_type": "execute_result",
          "data": {
            "text/plain": [
              "                                                                          0  \\\n",
              "DSI_Title                                         LKP_Doc1_Angel_has_fallen   \n",
              "Text                      Target is on the move . '' Heavily outnumbered...   \n",
              "Submission File Name                              LKP_Doc1_Angel_has_fallen   \n",
              "Student Name                                                            LKP   \n",
              "Genre of Movie                                                       Action   \n",
              "Review Type (pos or neg)                                           Negative   \n",
              "Movie Title                                                Angel_has_fallen   \n",
              "Descriptor                                     Action_Angel_has_fallen_N_90   \n",
              "Doc_ID                                                                   90   \n",
              "raw_sentences             [Target is on the move . '', Heavily outnumber...   \n",
              "lemmas                    [target, heavily, mike, banning, gerard, butle...   \n",
              "lemmas_joined             target heavily mike banning gerard butler leve...   \n",
              "sentences_lemmatized      [target, heavily mike banning gerard butler le...   \n",
              "\n",
              "                                                                          1  \\\n",
              "DSI_Title                                         LKP_Doc2_Angel_has_fallen   \n",
              "Text                      The sleepy , dopey action bonanza `` Angel Has...   \n",
              "Submission File Name                              LKP_Doc2_Angel_has_fallen   \n",
              "Student Name                                                            LKP   \n",
              "Genre of Movie                                                       Action   \n",
              "Review Type (pos or neg)                                           Negative   \n",
              "Movie Title                                                Angel_has_fallen   \n",
              "Descriptor                                     Action_Angel_has_fallen_N_91   \n",
              "Doc_ID                                                                   91   \n",
              "raw_sentences             [The sleepy , dopey action bonanza `` Angel Ha...   \n",
              "lemmas                    [action, angel, fall, reason, expect, second, ...   \n",
              "lemmas_joined             action angel fall reason expect second sequel ...   \n",
              "sentences_lemmatized      [action angel fall reason expect, second seque...   \n",
              "\n",
              "                                                                          2  \\\n",
              "DSI_Title                                         LKP_Doc3_Angel_has_fallen   \n",
              "Text                      `` Angel Has Fallen '' marks the third time th...   \n",
              "Submission File Name                              LKP_Doc3_Angel_has_fallen   \n",
              "Student Name                                                            LKP   \n",
              "Genre of Movie                                                       Action   \n",
              "Review Type (pos or neg)                                           Negative   \n",
              "Movie Title                                                Angel_has_fallen   \n",
              "Descriptor                                     Action_Angel_has_fallen_N_92   \n",
              "Doc_ID                                                                   92   \n",
              "raw_sentences             [`` Angel Has Fallen '' marks the third time t...   \n",
              "lemmas                    [angel, fall, mark, time, gerard, butler, secr...   \n",
              "lemmas_joined             angel fall mark time gerard butler secret serv...   \n",
              "sentences_lemmatized      [angel fall mark time gerard butler secret ser...   \n",
              "\n",
              "                                                                          3  \n",
              "DSI_Title                                         LKP_Doc4_Angel_has_fallen  \n",
              "Text                      Improving through blandness . So Mike Banning ...  \n",
              "Submission File Name                              LKP_Doc4_Angel_has_fallen  \n",
              "Student Name                                                            LKP  \n",
              "Genre of Movie                                                       Action  \n",
              "Review Type (pos or neg)                                           Negative  \n",
              "Movie Title                                                Angel_has_fallen  \n",
              "Descriptor                                     Action_Angel_has_fallen_N_93  \n",
              "Doc_ID                                                                   93  \n",
              "raw_sentences             [Improving through blandness ., So Mike Bannin...  \n",
              "lemmas                    [mike, banning, gerard, butler, accept, promot...  \n",
              "lemmas_joined             mike banning gerard butler accept promotion ti...  \n",
              "sentences_lemmatized      [, mike banning gerard butler, accept promotio...  "
            ],
            "text/html": [
              "\n",
              "  <div id=\"df-5447a9b3-d8e9-4be8-b4b8-60ae7659935d\" class=\"colab-df-container\">\n",
              "    <div>\n",
              "<style scoped>\n",
              "    .dataframe tbody tr th:only-of-type {\n",
              "        vertical-align: middle;\n",
              "    }\n",
              "\n",
              "    .dataframe tbody tr th {\n",
              "        vertical-align: top;\n",
              "    }\n",
              "\n",
              "    .dataframe thead th {\n",
              "        text-align: right;\n",
              "    }\n",
              "</style>\n",
              "<table border=\"1\" class=\"dataframe\">\n",
              "  <thead>\n",
              "    <tr style=\"text-align: right;\">\n",
              "      <th></th>\n",
              "      <th>0</th>\n",
              "      <th>1</th>\n",
              "      <th>2</th>\n",
              "      <th>3</th>\n",
              "    </tr>\n",
              "  </thead>\n",
              "  <tbody>\n",
              "    <tr>\n",
              "      <th>DSI_Title</th>\n",
              "      <td>LKP_Doc1_Angel_has_fallen</td>\n",
              "      <td>LKP_Doc2_Angel_has_fallen</td>\n",
              "      <td>LKP_Doc3_Angel_has_fallen</td>\n",
              "      <td>LKP_Doc4_Angel_has_fallen</td>\n",
              "    </tr>\n",
              "    <tr>\n",
              "      <th>Text</th>\n",
              "      <td>Target is on the move . '' Heavily outnumbered...</td>\n",
              "      <td>The sleepy , dopey action bonanza `` Angel Has...</td>\n",
              "      <td>`` Angel Has Fallen '' marks the third time th...</td>\n",
              "      <td>Improving through blandness . So Mike Banning ...</td>\n",
              "    </tr>\n",
              "    <tr>\n",
              "      <th>Submission File Name</th>\n",
              "      <td>LKP_Doc1_Angel_has_fallen</td>\n",
              "      <td>LKP_Doc2_Angel_has_fallen</td>\n",
              "      <td>LKP_Doc3_Angel_has_fallen</td>\n",
              "      <td>LKP_Doc4_Angel_has_fallen</td>\n",
              "    </tr>\n",
              "    <tr>\n",
              "      <th>Student Name</th>\n",
              "      <td>LKP</td>\n",
              "      <td>LKP</td>\n",
              "      <td>LKP</td>\n",
              "      <td>LKP</td>\n",
              "    </tr>\n",
              "    <tr>\n",
              "      <th>Genre of Movie</th>\n",
              "      <td>Action</td>\n",
              "      <td>Action</td>\n",
              "      <td>Action</td>\n",
              "      <td>Action</td>\n",
              "    </tr>\n",
              "    <tr>\n",
              "      <th>Review Type (pos or neg)</th>\n",
              "      <td>Negative</td>\n",
              "      <td>Negative</td>\n",
              "      <td>Negative</td>\n",
              "      <td>Negative</td>\n",
              "    </tr>\n",
              "    <tr>\n",
              "      <th>Movie Title</th>\n",
              "      <td>Angel_has_fallen</td>\n",
              "      <td>Angel_has_fallen</td>\n",
              "      <td>Angel_has_fallen</td>\n",
              "      <td>Angel_has_fallen</td>\n",
              "    </tr>\n",
              "    <tr>\n",
              "      <th>Descriptor</th>\n",
              "      <td>Action_Angel_has_fallen_N_90</td>\n",
              "      <td>Action_Angel_has_fallen_N_91</td>\n",
              "      <td>Action_Angel_has_fallen_N_92</td>\n",
              "      <td>Action_Angel_has_fallen_N_93</td>\n",
              "    </tr>\n",
              "    <tr>\n",
              "      <th>Doc_ID</th>\n",
              "      <td>90</td>\n",
              "      <td>91</td>\n",
              "      <td>92</td>\n",
              "      <td>93</td>\n",
              "    </tr>\n",
              "    <tr>\n",
              "      <th>raw_sentences</th>\n",
              "      <td>[Target is on the move . '', Heavily outnumber...</td>\n",
              "      <td>[The sleepy , dopey action bonanza `` Angel Ha...</td>\n",
              "      <td>[`` Angel Has Fallen '' marks the third time t...</td>\n",
              "      <td>[Improving through blandness ., So Mike Bannin...</td>\n",
              "    </tr>\n",
              "    <tr>\n",
              "      <th>lemmas</th>\n",
              "      <td>[target, heavily, mike, banning, gerard, butle...</td>\n",
              "      <td>[action, angel, fall, reason, expect, second, ...</td>\n",
              "      <td>[angel, fall, mark, time, gerard, butler, secr...</td>\n",
              "      <td>[mike, banning, gerard, butler, accept, promot...</td>\n",
              "    </tr>\n",
              "    <tr>\n",
              "      <th>lemmas_joined</th>\n",
              "      <td>target heavily mike banning gerard butler leve...</td>\n",
              "      <td>action angel fall reason expect second sequel ...</td>\n",
              "      <td>angel fall mark time gerard butler secret serv...</td>\n",
              "      <td>mike banning gerard butler accept promotion ti...</td>\n",
              "    </tr>\n",
              "    <tr>\n",
              "      <th>sentences_lemmatized</th>\n",
              "      <td>[target, heavily mike banning gerard butler le...</td>\n",
              "      <td>[action angel fall reason expect, second seque...</td>\n",
              "      <td>[angel fall mark time gerard butler secret ser...</td>\n",
              "      <td>[, mike banning gerard butler, accept promotio...</td>\n",
              "    </tr>\n",
              "  </tbody>\n",
              "</table>\n",
              "</div>\n",
              "    <div class=\"colab-df-buttons\">\n",
              "\n",
              "  <div class=\"colab-df-container\">\n",
              "    <button class=\"colab-df-convert\" onclick=\"convertToInteractive('df-5447a9b3-d8e9-4be8-b4b8-60ae7659935d')\"\n",
              "            title=\"Convert this dataframe to an interactive table.\"\n",
              "            style=\"display:none;\">\n",
              "\n",
              "  <svg xmlns=\"http://www.w3.org/2000/svg\" height=\"24px\" viewBox=\"0 -960 960 960\">\n",
              "    <path d=\"M120-120v-720h720v720H120Zm60-500h600v-160H180v160Zm220 220h160v-160H400v160Zm0 220h160v-160H400v160ZM180-400h160v-160H180v160Zm440 0h160v-160H620v160ZM180-180h160v-160H180v160Zm440 0h160v-160H620v160Z\"/>\n",
              "  </svg>\n",
              "    </button>\n",
              "\n",
              "  <style>\n",
              "    .colab-df-container {\n",
              "      display:flex;\n",
              "      gap: 12px;\n",
              "    }\n",
              "\n",
              "    .colab-df-convert {\n",
              "      background-color: #E8F0FE;\n",
              "      border: none;\n",
              "      border-radius: 50%;\n",
              "      cursor: pointer;\n",
              "      display: none;\n",
              "      fill: #1967D2;\n",
              "      height: 32px;\n",
              "      padding: 0 0 0 0;\n",
              "      width: 32px;\n",
              "    }\n",
              "\n",
              "    .colab-df-convert:hover {\n",
              "      background-color: #E2EBFA;\n",
              "      box-shadow: 0px 1px 2px rgba(60, 64, 67, 0.3), 0px 1px 3px 1px rgba(60, 64, 67, 0.15);\n",
              "      fill: #174EA6;\n",
              "    }\n",
              "\n",
              "    .colab-df-buttons div {\n",
              "      margin-bottom: 4px;\n",
              "    }\n",
              "\n",
              "    [theme=dark] .colab-df-convert {\n",
              "      background-color: #3B4455;\n",
              "      fill: #D2E3FC;\n",
              "    }\n",
              "\n",
              "    [theme=dark] .colab-df-convert:hover {\n",
              "      background-color: #434B5C;\n",
              "      box-shadow: 0px 1px 3px 1px rgba(0, 0, 0, 0.15);\n",
              "      filter: drop-shadow(0px 1px 2px rgba(0, 0, 0, 0.3));\n",
              "      fill: #FFFFFF;\n",
              "    }\n",
              "  </style>\n",
              "\n",
              "    <script>\n",
              "      const buttonEl =\n",
              "        document.querySelector('#df-5447a9b3-d8e9-4be8-b4b8-60ae7659935d button.colab-df-convert');\n",
              "      buttonEl.style.display =\n",
              "        google.colab.kernel.accessAllowed ? 'block' : 'none';\n",
              "\n",
              "      async function convertToInteractive(key) {\n",
              "        const element = document.querySelector('#df-5447a9b3-d8e9-4be8-b4b8-60ae7659935d');\n",
              "        const dataTable =\n",
              "          await google.colab.kernel.invokeFunction('convertToInteractive',\n",
              "                                                    [key], {});\n",
              "        if (!dataTable) return;\n",
              "\n",
              "        const docLinkHtml = 'Like what you see? Visit the ' +\n",
              "          '<a target=\"_blank\" href=https://colab.research.google.com/notebooks/data_table.ipynb>data table notebook</a>'\n",
              "          + ' to learn more about interactive tables.';\n",
              "        element.innerHTML = '';\n",
              "        dataTable['output_type'] = 'display_data';\n",
              "        await google.colab.output.renderOutput(dataTable, element);\n",
              "        const docLink = document.createElement('div');\n",
              "        docLink.innerHTML = docLinkHtml;\n",
              "        element.appendChild(docLink);\n",
              "      }\n",
              "    </script>\n",
              "  </div>\n",
              "\n",
              "\n",
              "<div id=\"df-d9b944fa-f565-4b29-90c4-e08805a0dda6\">\n",
              "  <button class=\"colab-df-quickchart\" onclick=\"quickchart('df-d9b944fa-f565-4b29-90c4-e08805a0dda6')\"\n",
              "            title=\"Suggest charts.\"\n",
              "            style=\"display:none;\">\n",
              "\n",
              "<svg xmlns=\"http://www.w3.org/2000/svg\" height=\"24px\"viewBox=\"0 0 24 24\"\n",
              "     width=\"24px\">\n",
              "    <g>\n",
              "        <path d=\"M19 3H5c-1.1 0-2 .9-2 2v14c0 1.1.9 2 2 2h14c1.1 0 2-.9 2-2V5c0-1.1-.9-2-2-2zM9 17H7v-7h2v7zm4 0h-2V7h2v10zm4 0h-2v-4h2v4z\"/>\n",
              "    </g>\n",
              "</svg>\n",
              "  </button>\n",
              "\n",
              "<style>\n",
              "  .colab-df-quickchart {\n",
              "      --bg-color: #E8F0FE;\n",
              "      --fill-color: #1967D2;\n",
              "      --hover-bg-color: #E2EBFA;\n",
              "      --hover-fill-color: #174EA6;\n",
              "      --disabled-fill-color: #AAA;\n",
              "      --disabled-bg-color: #DDD;\n",
              "  }\n",
              "\n",
              "  [theme=dark] .colab-df-quickchart {\n",
              "      --bg-color: #3B4455;\n",
              "      --fill-color: #D2E3FC;\n",
              "      --hover-bg-color: #434B5C;\n",
              "      --hover-fill-color: #FFFFFF;\n",
              "      --disabled-bg-color: #3B4455;\n",
              "      --disabled-fill-color: #666;\n",
              "  }\n",
              "\n",
              "  .colab-df-quickchart {\n",
              "    background-color: var(--bg-color);\n",
              "    border: none;\n",
              "    border-radius: 50%;\n",
              "    cursor: pointer;\n",
              "    display: none;\n",
              "    fill: var(--fill-color);\n",
              "    height: 32px;\n",
              "    padding: 0;\n",
              "    width: 32px;\n",
              "  }\n",
              "\n",
              "  .colab-df-quickchart:hover {\n",
              "    background-color: var(--hover-bg-color);\n",
              "    box-shadow: 0 1px 2px rgba(60, 64, 67, 0.3), 0 1px 3px 1px rgba(60, 64, 67, 0.15);\n",
              "    fill: var(--button-hover-fill-color);\n",
              "  }\n",
              "\n",
              "  .colab-df-quickchart-complete:disabled,\n",
              "  .colab-df-quickchart-complete:disabled:hover {\n",
              "    background-color: var(--disabled-bg-color);\n",
              "    fill: var(--disabled-fill-color);\n",
              "    box-shadow: none;\n",
              "  }\n",
              "\n",
              "  .colab-df-spinner {\n",
              "    border: 2px solid var(--fill-color);\n",
              "    border-color: transparent;\n",
              "    border-bottom-color: var(--fill-color);\n",
              "    animation:\n",
              "      spin 1s steps(1) infinite;\n",
              "  }\n",
              "\n",
              "  @keyframes spin {\n",
              "    0% {\n",
              "      border-color: transparent;\n",
              "      border-bottom-color: var(--fill-color);\n",
              "      border-left-color: var(--fill-color);\n",
              "    }\n",
              "    20% {\n",
              "      border-color: transparent;\n",
              "      border-left-color: var(--fill-color);\n",
              "      border-top-color: var(--fill-color);\n",
              "    }\n",
              "    30% {\n",
              "      border-color: transparent;\n",
              "      border-left-color: var(--fill-color);\n",
              "      border-top-color: var(--fill-color);\n",
              "      border-right-color: var(--fill-color);\n",
              "    }\n",
              "    40% {\n",
              "      border-color: transparent;\n",
              "      border-right-color: var(--fill-color);\n",
              "      border-top-color: var(--fill-color);\n",
              "    }\n",
              "    60% {\n",
              "      border-color: transparent;\n",
              "      border-right-color: var(--fill-color);\n",
              "    }\n",
              "    80% {\n",
              "      border-color: transparent;\n",
              "      border-right-color: var(--fill-color);\n",
              "      border-bottom-color: var(--fill-color);\n",
              "    }\n",
              "    90% {\n",
              "      border-color: transparent;\n",
              "      border-bottom-color: var(--fill-color);\n",
              "    }\n",
              "  }\n",
              "</style>\n",
              "\n",
              "  <script>\n",
              "    async function quickchart(key) {\n",
              "      const quickchartButtonEl =\n",
              "        document.querySelector('#' + key + ' button');\n",
              "      quickchartButtonEl.disabled = true;  // To prevent multiple clicks.\n",
              "      quickchartButtonEl.classList.add('colab-df-spinner');\n",
              "      try {\n",
              "        const charts = await google.colab.kernel.invokeFunction(\n",
              "            'suggestCharts', [key], {});\n",
              "      } catch (error) {\n",
              "        console.error('Error during call to suggestCharts:', error);\n",
              "      }\n",
              "      quickchartButtonEl.classList.remove('colab-df-spinner');\n",
              "      quickchartButtonEl.classList.add('colab-df-quickchart-complete');\n",
              "    }\n",
              "    (() => {\n",
              "      let quickchartButtonEl =\n",
              "        document.querySelector('#df-d9b944fa-f565-4b29-90c4-e08805a0dda6 button');\n",
              "      quickchartButtonEl.style.display =\n",
              "        google.colab.kernel.accessAllowed ? 'block' : 'none';\n",
              "    })();\n",
              "  </script>\n",
              "</div>\n",
              "    </div>\n",
              "  </div>\n"
            ]
          },
          "metadata": {},
          "execution_count": 25
        }
      ],
      "source": [
        "datafull=corpus_df.copy()\n",
        "datafull.reset_index(drop=True, inplace=True)\n",
        "datafull.head(4).T"
      ],
      "id": "-bxUk9j-a3An"
    },
    {
      "cell_type": "code",
      "execution_count": 26,
      "metadata": {
        "id": "LQT4ammqa3Ao"
      },
      "outputs": [],
      "source": [
        "datafull['Text'] = datafull['Text'].apply(lambda x :clean_doc(x))"
      ],
      "id": "LQT4ammqa3Ao"
    },
    {
      "cell_type": "markdown",
      "metadata": {
        "id": "-zmYIKlwa3Ao"
      },
      "source": [
        "## Preprocess DataSet"
      ],
      "id": "-zmYIKlwa3Ao"
    },
    {
      "cell_type": "code",
      "execution_count": 27,
      "metadata": {
        "id": "bxxvu9hda3Ao"
      },
      "outputs": [],
      "source": [
        "data = datafull[['Text','Genre of Movie']].copy()"
      ],
      "id": "bxxvu9hda3Ao"
    },
    {
      "cell_type": "code",
      "execution_count": 28,
      "metadata": {
        "colab": {
          "base_uri": "https://localhost:8080/"
        },
        "id": "-u7wjI_ha3Ao",
        "outputId": "5aa020e6-7335-466a-a992-b72c8e42a106"
      },
      "outputs": [
        {
          "output_type": "execute_result",
          "data": {
            "text/plain": [
              "195    3\n",
              "196    3\n",
              "197    3\n",
              "198    3\n",
              "199    3\n",
              "Name: Genre of Movie code, dtype: int8"
            ]
          },
          "metadata": {},
          "execution_count": 28
        }
      ],
      "source": [
        "data['Genre of Movie'] = data['Genre of Movie'].astype(\"category\")\n",
        "data['Genre of Movie code'] = data['Genre of Movie'].cat.codes\n",
        "data['Genre of Movie code'].tail().T"
      ],
      "id": "-u7wjI_ha3Ao"
    },
    {
      "cell_type": "markdown",
      "metadata": {
        "id": "SSMUzGs3a3Ap"
      },
      "source": [
        "## Review Examples by Genre"
      ],
      "id": "SSMUzGs3a3Ap"
    },
    {
      "cell_type": "code",
      "execution_count": 29,
      "metadata": {
        "colab": {
          "base_uri": "https://localhost:8080/"
        },
        "id": "dFkTjTiRa3Ap",
        "outputId": "6cb94c33-e4bd-465f-d88b-38ea156a33b6"
      },
      "outputs": [
        {
          "output_type": "execute_result",
          "data": {
            "text/plain": [
              "Genre of Movie  Genre of Movie code\n",
              "Action          0                      50\n",
              "Comedy          1                      50\n",
              "Horror          2                      50\n",
              "Sci-Fi          3                      50\n",
              "dtype: int64"
            ]
          },
          "metadata": {},
          "execution_count": 29
        }
      ],
      "source": [
        "features, targets = data['Text'], data['Genre of Movie code']\n",
        "data[[\"Genre of Movie\",\"Genre of Movie code\"]].value_counts()"
      ],
      "id": "dFkTjTiRa3Ap"
    },
    {
      "cell_type": "markdown",
      "metadata": {
        "id": "NY7k4lDua3Ap"
      },
      "source": [
        "## Create Datasets for Model Development"
      ],
      "id": "NY7k4lDua3Ap"
    },
    {
      "cell_type": "markdown",
      "metadata": {
        "id": "mDweoux3a3Ap"
      },
      "source": [
        "### Cell 10 - def get_dataset_partitions_pd"
      ],
      "id": "mDweoux3a3Ap"
    },
    {
      "cell_type": "code",
      "execution_count": 30,
      "metadata": {
        "colab": {
          "base_uri": "https://localhost:8080/"
        },
        "id": "URwJacXqa3Ap",
        "outputId": "bcb2008d-922b-4461-d7a0-3693ab9966f6"
      },
      "outputs": [
        {
          "output_type": "execute_result",
          "data": {
            "text/plain": [
              "((160, 2), (20, 2), (20, 2))"
            ]
          },
          "metadata": {},
          "execution_count": 30
        }
      ],
      "source": [
        "trainds, valds, testds = get_dataset_partitions_pd(data[['Text','Genre of Movie code']])\n",
        "trainds.shape, valds.shape, testds.shape"
      ],
      "id": "URwJacXqa3Ap"
    },
    {
      "cell_type": "markdown",
      "metadata": {
        "id": "hzPDnrNaa3Aq"
      },
      "source": [
        "## Convert DataFrame to TensorFlow DataSet"
      ],
      "id": "hzPDnrNaa3Aq"
    },
    {
      "cell_type": "code",
      "execution_count": 31,
      "metadata": {
        "id": "YPouUedHa3Aq"
      },
      "outputs": [],
      "source": [
        "# train X & y\n",
        "train_text_ds_raw = tf.data.Dataset.from_tensor_slices(\n",
        "            tf.cast(trainds['Text'].values, tf.string)\n",
        ")\n",
        "train_cat_ds_raw = tf.data.Dataset.from_tensor_slices(\n",
        "            tf.cast(trainds['Genre of Movie code'].values, tf.int64),\n",
        "  )\n",
        "# test X & y\n",
        "test_text_ds_raw = tf.data.Dataset.from_tensor_slices(\n",
        "            tf.cast(testds['Text'].values, tf.string)\n",
        ")\n",
        "test_cat_ds_raw = tf.data.Dataset.from_tensor_slices(\n",
        "            tf.cast(testds['Genre of Movie code'].values, tf.int64),\n",
        ")\n",
        "#val X & Y\n",
        "val_text_ds_raw = tf.data.Dataset.from_tensor_slices(\n",
        "            tf.cast(valds['Text'].values, tf.string)\n",
        ")\n",
        "val_cat_ds_raw = tf.data.Dataset.from_tensor_slices(\n",
        "            tf.cast(valds['Genre of Movie code'].values, tf.int64),\n",
        ")"
      ],
      "id": "YPouUedHa3Aq"
    },
    {
      "cell_type": "markdown",
      "metadata": {
        "id": "X9_xVgpTa3Aq"
      },
      "source": [
        "## Create DataSets (X=Preprocessed Text, Y=Encoded Categories)"
      ],
      "id": "X9_xVgpTa3Aq"
    },
    {
      "cell_type": "code",
      "execution_count": 32,
      "metadata": {
        "id": "0-jMMV07a3Aq"
      },
      "outputs": [],
      "source": [
        "train_ds = tf.data.Dataset.zip(\n",
        "    (\n",
        "            train_text_ds_raw,\n",
        "            train_cat_ds_raw\n",
        "     )\n",
        ")\n",
        "test_ds = tf.data.Dataset.zip(\n",
        "    (\n",
        "            test_text_ds_raw,\n",
        "            test_cat_ds_raw\n",
        "     )\n",
        ")\n",
        "val_ds = tf.data.Dataset.zip(\n",
        "    (\n",
        "            val_text_ds_raw,\n",
        "            val_cat_ds_raw\n",
        "     )\n",
        ")"
      ],
      "id": "0-jMMV07a3Aq"
    },
    {
      "cell_type": "markdown",
      "metadata": {
        "id": "3e0rdBjya3Aq"
      },
      "source": [
        "## Create Data Pipelines (Batching, Shuffling, and Optimizing)"
      ],
      "id": "3e0rdBjya3Aq"
    },
    {
      "cell_type": "code",
      "execution_count": 33,
      "metadata": {
        "id": "iJuYZeC-a3Aq"
      },
      "outputs": [],
      "source": [
        "batch_size = 3\n",
        "AUTOTUNE = tf.data.experimental.AUTOTUNE\n",
        "buffer_size=train_ds.cardinality().numpy()\n",
        "\n",
        "train_ds = train_ds.shuffle(buffer_size=buffer_size)\\\n",
        "                   .batch(batch_size=batch_size,drop_remainder=True)\\\n",
        "                   .cache()\\\n",
        "                   .prefetch(AUTOTUNE)\n",
        "\n",
        "test_ds = test_ds.shuffle(buffer_size=buffer_size)\\\n",
        "                   .batch(batch_size=batch_size,drop_remainder=True)\\\n",
        "                   .cache()\\\n",
        "                   .prefetch(AUTOTUNE)\n",
        "\n",
        "\n",
        "val_ds = val_ds.shuffle(buffer_size=buffer_size)\\\n",
        "                   .batch(batch_size=batch_size,drop_remainder=True)\\\n",
        "                   .cache()\\\n",
        "                   .prefetch(AUTOTUNE)"
      ],
      "id": "iJuYZeC-a3Aq"
    },
    {
      "cell_type": "code",
      "execution_count": 34,
      "metadata": {
        "colab": {
          "base_uri": "https://localhost:8080/"
        },
        "id": "hd3vvOA5a3Aq",
        "outputId": "2f03d936-00fb-41e7-b459-85ba1b0a972b"
      },
      "outputs": [
        {
          "output_type": "stream",
          "name": "stdout",
          "text": [
            "<class 'pandas.core.frame.DataFrame'>\n",
            "RangeIndex: 200 entries, 0 to 199\n",
            "Data columns (total 3 columns):\n",
            " #   Column               Non-Null Count  Dtype   \n",
            "---  ------               --------------  -----   \n",
            " 0   Text                 200 non-null    object  \n",
            " 1   Genre of Movie       200 non-null    category\n",
            " 2   Genre of Movie code  200 non-null    int8    \n",
            "dtypes: category(1), int8(1), object(1)\n",
            "memory usage: 2.3+ KB\n"
          ]
        }
      ],
      "source": [
        "data.info()"
      ],
      "id": "hd3vvOA5a3Aq"
    },
    {
      "cell_type": "markdown",
      "metadata": {
        "id": "KJpyv_O8a3Ar"
      },
      "source": [
        "## Create the Text Encoder"
      ],
      "id": "KJpyv_O8a3Ar"
    },
    {
      "cell_type": "markdown",
      "metadata": {
        "id": "OwdQLOVma3Ar"
      },
      "source": [
        "The raw text loaded by `tfds` needs to be processed before it can be used in a model. The simplest way to process text for training is using the `experimental.preprocessing.TextVectorization` layer. This layer has many capabilities, but this tutorial sticks to the default behavior."
      ],
      "id": "OwdQLOVma3Ar"
    },
    {
      "cell_type": "markdown",
      "metadata": {
        "id": "cxvx2hUOa3Ar"
      },
      "source": [
        "Create the layer, and pass the dataset's text to the layer's `.adapt` method:\n",
        "The processing of each sample contains the following steps:\n",
        "\n",
        "    standardize each sample (usually lowercasing + punctuation stripping)\n",
        "    split each sample into substrings (usually words)\n",
        "    recombine substrings into tokens (usually ngrams)\n",
        "    index tokens (associate a unique int value with each token)\n",
        "    transform each sample using this index, either into a vector of ints or a dense float vector."
      ],
      "id": "cxvx2hUOa3Ar"
    },
    {
      "cell_type": "markdown",
      "metadata": {
        "id": "XTJmKS4Ca3Ar"
      },
      "source": [
        "<div class=\"alert alert-block alert-info\">\n",
        "    <b>tf.keras.layers.TextVectorization</b><br>\n",
        "   https://www.tensorflow.org/api_docs/python/tf/keras/layers/TextVectorization\n",
        "    </div>"
      ],
      "id": "XTJmKS4Ca3Ar"
    },
    {
      "cell_type": "code",
      "execution_count": 35,
      "metadata": {
        "id": "fRuTUz_sa3Ar"
      },
      "outputs": [],
      "source": [
        "VOCAB_SIZE=5000\n",
        "encoder = tf.keras.layers.TextVectorization(\n",
        "    max_tokens=VOCAB_SIZE, standardize=\"lower_and_strip_punctuation\", pad_to_max_tokens= True)\n",
        "encoder.adapt(train_ds.map(lambda text, label: text), batch_size= None)"
      ],
      "id": "fRuTUz_sa3Ar"
    },
    {
      "cell_type": "code",
      "execution_count": 36,
      "metadata": {
        "colab": {
          "base_uri": "https://localhost:8080/"
        },
        "id": "QadfX_5Xa3Ar",
        "outputId": "7e802471-0d96-46a1-9464-e96da28c7fed"
      },
      "outputs": [
        {
          "output_type": "execute_result",
          "data": {
            "text/plain": [
              "5000"
            ]
          },
          "metadata": {},
          "execution_count": 36
        }
      ],
      "source": [
        "vocab = np.array(encoder.get_vocabulary())\n",
        "len(vocab)"
      ],
      "id": "QadfX_5Xa3Ar"
    },
    {
      "cell_type": "code",
      "execution_count": 37,
      "metadata": {
        "colab": {
          "base_uri": "https://localhost:8080/"
        },
        "id": "p8MvQujla3As",
        "outputId": "7660c69c-a4d7-4f43-a0af-76d0628b3bec"
      },
      "outputs": [
        {
          "output_type": "execute_result",
          "data": {
            "text/plain": [
              "array(['', '[UNK]', 's', 'the', 'film', 'i', 'movie', 'nt', 'like', 'one',\n",
              "       'it', 'time', 'character', 'even', 'get', 'also', 'make', 'two',\n",
              "       'action', 'story'], dtype='<U19')"
            ]
          },
          "metadata": {},
          "execution_count": 37
        }
      ],
      "source": [
        "vocab = np.array(encoder.get_vocabulary())\n",
        "vocab[:20]"
      ],
      "id": "p8MvQujla3As"
    },
    {
      "cell_type": "code",
      "execution_count": 38,
      "metadata": {
        "colab": {
          "base_uri": "https://localhost:8080/"
        },
        "id": "IlpDqtF_a3As",
        "outputId": "965dd8f3-f2dd-40ea-f74b-62f5bd3edeb9"
      },
      "outputs": [
        {
          "output_type": "execute_result",
          "data": {
            "text/plain": [
              "array(['thx1138', 'thwarting', 'thwarted', 'thursday', 'thunderbolt',\n",
              "       'thug', 'thud', 'throwing', 'throwback', 'throwaway', 'through',\n",
              "       'throe', 'throatclenching', 'thrives', 'thrive', 'threaten',\n",
              "       'thrash', 'thowy', 'thousand', 'thoughtpoliceman'], dtype='<U19')"
            ]
          },
          "metadata": {},
          "execution_count": 38
        }
      ],
      "source": [
        "vocab[-20:]"
      ],
      "id": "IlpDqtF_a3As"
    },
    {
      "cell_type": "markdown",
      "metadata": {
        "id": "w3HbReZea3As"
      },
      "source": [
        "## Example of Encoded Words"
      ],
      "id": "w3HbReZea3As"
    },
    {
      "cell_type": "code",
      "execution_count": 39,
      "metadata": {
        "colab": {
          "base_uri": "https://localhost:8080/"
        },
        "id": "72xCLWaha3As",
        "outputId": "02f195cc-8f12-42df-8ae5-1ab32e66a20b"
      },
      "outputs": [
        {
          "output_type": "execute_result",
          "data": {
            "text/plain": [
              "array([   1,  220, 1379,  492, 2225,    1,  104,  104])"
            ]
          },
          "metadata": {},
          "execution_count": 39
        }
      ],
      "source": [
        "encoded_example = encoder('encanto we dont talk about bruno no no').numpy()\n",
        "encoded_example[:]"
      ],
      "id": "72xCLWaha3As"
    },
    {
      "cell_type": "code",
      "execution_count": 40,
      "metadata": {
        "colab": {
          "base_uri": "https://localhost:8080/"
        },
        "id": "Oq7IIlXza3As",
        "outputId": "d962b8b3-5b02-409c-848f-83878f8202a0"
      },
      "outputs": [
        {
          "output_type": "execute_result",
          "data": {
            "text/plain": [
              "5000"
            ]
          },
          "metadata": {},
          "execution_count": 40
        }
      ],
      "source": [
        "len(encoder.get_vocabulary())"
      ],
      "id": "Oq7IIlXza3As"
    },
    {
      "cell_type": "code",
      "execution_count": 41,
      "metadata": {
        "colab": {
          "base_uri": "https://localhost:8080/"
        },
        "id": "llMJM3c5a3As",
        "outputId": "4ae35156-476c-49dd-fdd4-b16fb6df7062"
      },
      "outputs": [
        {
          "output_type": "execute_result",
          "data": {
            "text/plain": [
              "<tf.Tensor: shape=(276,), dtype=int64, numpy=\n",
              "array([1045,  363,  855,    1,    1,  114,  187,  675,  421, 3154,    1,\n",
              "          1,    1, 1238,    1,  493,    1,  462,  733,   25, 1224,  494,\n",
              "          2,  941, 4223,    1,  441, 1561,  278,    2, 3479, 1660,  108,\n",
              "       2206,   26,  380,  147,  578,    1, 3246,  279,  984,    2,  968,\n",
              "         32,  282,   74,   79, 1033,  998,  187, 4309,  470,  325,   57,\n",
              "        167,  376,  163, 1438,  713,  662,  616,   25,  207,   34,   24,\n",
              "        231,  644, 1531,  163,  402, 3597,  114,    7,  629,    2, 1070,\n",
              "        818,  697, 2118,  336,  524,  320, 2920, 3446, 1936,    1, 2633,\n",
              "          7,  160,  260,  688,   96,  330, 3647, 2468, 2480,    1,   88,\n",
              "          1,   20,  377, 1429,  202,    1,  933,  956, 1304,   77, 1451,\n",
              "       1599, 1677, 2005,  237, 1887, 1934, 4117, 4151,  234,    1,    1,\n",
              "         42,  269,  187,    2,    1,    1, 3058, 1151,  332, 2121, 4067,\n",
              "       3044, 3155,  909,  521,   34, 3504, 1987, 4131,  162,   59, 1667,\n",
              "        794,  512, 1381, 2841,  114,  130, 4015, 3181,  303,    1,  422,\n",
              "          4,   53, 3578,   18,  147,   10,    2, 3861, 2149,    7,    1,\n",
              "        114,    2,  529,    1,   28, 1028,    1,    1,   13, 2088, 2564,\n",
              "       1599,  130,    1,  101, 3706,   42,    7,  834,   10,   15, 1996,\n",
              "       1875,   11,  163,    2, 1644,  398, 1274, 1289, 2207,  326, 4697,\n",
              "        565,    1,    1, 2249,  506,  399, 4274,  187, 2065, 2770,    1,\n",
              "       3931, 1093,  347,   23,   64,  678,  452,    1,  247,  142,  109,\n",
              "       1479,  732, 1131,  680, 4793,    2,  712, 2049,  133, 1489,  410,\n",
              "        783,  239,  394,  439, 4027,  502, 4966,  564,    1,  308, 2190,\n",
              "          1,    1, 1778,  163, 3078, 4275, 2529, 2065,    2,    1, 2627,\n",
              "       3523,  318,  327,    1,    1, 2347, 2165,   91,  114, 3647,   13,\n",
              "       1257, 3110,    1,    1,  167,  376,  507,   10,    2,    9,   64,\n",
              "         29])>"
            ]
          },
          "metadata": {},
          "execution_count": 41
        }
      ],
      "source": [
        "encoder(data['Text'][0])"
      ],
      "id": "llMJM3c5a3As"
    },
    {
      "cell_type": "code",
      "execution_count": 42,
      "metadata": {
        "colab": {
          "base_uri": "https://localhost:8080/"
        },
        "id": "g9JI1g1wa3As",
        "outputId": "7ce70582-f8dc-4fd6-876b-edcc365cf30b"
      },
      "outputs": [
        {
          "output_type": "stream",
          "name": "stdout",
          "text": [
            "texts:  [b\"Dirty Grandpa 11 % approval rating Rotten Tomatoes . It nominated five Golden Raspberries almost immaculate attendance record critic ' worst year list . Those reviewed pain point filthy found experience . Mark Kermode needed shower , Mike Ryan wanted burn print Glenn McDonald likened torture porn . For , chart-topping god-awfulness n't confined 2016 . Deadline 's Pete Hammond called worst movie Robert De Niro `` worst movie anyone ever `` . Reader , I liked . I liked time , watching last night , I liked even . It n't . Dirty Grandpa 's CinemaScore ass opening night audience reaction scale A ( excellent ) F ( frightful ) B . That 's worse Joker ( B+ ) improvement Little Fockers ( B- ) . These , perhaps , revealing comparison . For really condemned Dirty Grandpa eye critic position fag-end De Niro 's decade horriblis : prolific run rubbish dotted enough class remind time dropped trouser . In particular , Dirty Grandpa came wake Last Vegas The Intern : laughless horror-shows notable uncomfortable elderly tumescence . Dirty Grandpa , contrast , embrace old erection . De Niro 's character spent 15 chaste year caring wife , faithful devoted 40 . Now 's died , 's unabashed trying seize whatever life left particularly 's young female . So enlists Zac Efron 's uptight lawyer drive Florida Spring Break , hope hot young grandson effective wingman . But Efron opposite drink spiked , inhales epic amount crack wake beach naked save novelty thong swastika penis drawn forehead , FaceTime parent , fiancee rabbi . Is upcoming wedding really good idea ? And grandpa 's road trip really self-serving seemed ? Dan Mazer ( longtime Sacha Baron Cohen collaborator ) team firmly pop 's side . Not De Niro unlikely Jack Reacher , duffing gang dare threaten black gay friend , 's also filthily sage peril sleepwalking marriage sowing wild oat chance .\"]\n",
            "\n"
          ]
        }
      ],
      "source": [
        "for example, label in train_ds.take(1):\n",
        "  print('texts: ', example.numpy()[:1])\n",
        "  print()"
      ],
      "id": "g9JI1g1wa3As"
    },
    {
      "cell_type": "markdown",
      "metadata": {
        "id": "gdkSacw7a3As"
      },
      "source": [
        "## Build RNN Sequential Model"
      ],
      "id": "gdkSacw7a3As"
    },
    {
      "cell_type": "markdown",
      "metadata": {
        "id": "-D0HJalka3At"
      },
      "source": [
        "<div class=\"alert alert-block alert-info\">\n",
        "    <b>tf.keras.layers</b><br>\n",
        "    https://www.tensorflow.org/api_docs/python/tf/keras/layers\n",
        "    </div>"
      ],
      "id": "-D0HJalka3At"
    },
    {
      "cell_type": "code",
      "execution_count": 43,
      "metadata": {
        "id": "mlMTTIVJa3At"
      },
      "outputs": [],
      "source": [
        "k.clear_session()\n",
        "num_classes=4\n",
        "model=tf.keras.Sequential([encoder\n",
        "   ,tf.keras.layers.Embedding(len(encoder.get_vocabulary()), 64, mask_zero=True)\n",
        "   ,tf.keras.layers.Bidirectional(tf.keras.layers.LSTM(64,  return_sequences=True, dropout=0.3))\n",
        "   ,tf.keras.layers.Bidirectional(tf.keras.layers.LSTM(32,dropout=0.3))\n",
        "   ,tf.keras.layers.Dense(64, activation='relu')\n",
        "   ,tf.keras.layers.Dense(num_classes,activation='softmax')\n",
        "])"
      ],
      "id": "mlMTTIVJa3At"
    },
    {
      "cell_type": "code",
      "execution_count": 44,
      "metadata": {
        "scrolled": false,
        "colab": {
          "base_uri": "https://localhost:8080/"
        },
        "id": "NQf85-wMa3Av",
        "outputId": "6f488c23-9a6e-48c1-e7bc-e44b5b90b9b4"
      },
      "outputs": [
        {
          "output_type": "stream",
          "name": "stdout",
          "text": [
            "Model: \"sequential\"\n",
            "_________________________________________________________________\n",
            " Layer (type)                Output Shape              Param #   \n",
            "=================================================================\n",
            " text_vectorization (TextVe  (None, None)              0         \n",
            " ctorization)                                                    \n",
            "                                                                 \n",
            " embedding (Embedding)       (None, None, 64)          320000    \n",
            "                                                                 \n",
            " bidirectional (Bidirection  (None, None, 128)         66048     \n",
            " al)                                                             \n",
            "                                                                 \n",
            " bidirectional_1 (Bidirecti  (None, 64)                41216     \n",
            " onal)                                                           \n",
            "                                                                 \n",
            " dense (Dense)               (None, 64)                4160      \n",
            "                                                                 \n",
            " dense_1 (Dense)             (None, 4)                 260       \n",
            "                                                                 \n",
            "=================================================================\n",
            "Total params: 431684 (1.65 MB)\n",
            "Trainable params: 431684 (1.65 MB)\n",
            "Non-trainable params: 0 (0.00 Byte)\n",
            "_________________________________________________________________\n"
          ]
        }
      ],
      "source": [
        "model.summary()"
      ],
      "id": "NQf85-wMa3Av"
    },
    {
      "cell_type": "code",
      "execution_count": 45,
      "metadata": {
        "id": "8DHZZA3Va3At"
      },
      "outputs": [],
      "source": [
        "model.compile(optimizer= tf.keras.optimizers.Adam( )\n",
        "              ,loss=tf.keras.losses.SparseCategoricalCrossentropy()\n",
        "              ,metrics=['accuracy'])"
      ],
      "id": "8DHZZA3Va3At"
    },
    {
      "cell_type": "code",
      "execution_count": 46,
      "metadata": {
        "scrolled": true,
        "colab": {
          "base_uri": "https://localhost:8080/"
        },
        "id": "enUJuZYka3At",
        "outputId": "bb9c5384-48ce-4a63-d87d-8b87cba14b8c"
      },
      "outputs": [
        {
          "output_type": "stream",
          "name": "stdout",
          "text": [
            "Epoch 1/200\n",
            "53/53 [==============================] - 61s 716ms/step - loss: 1.3885 - accuracy: 0.2327 - val_loss: 1.4064 - val_accuracy: 0.0000e+00\n",
            "Epoch 2/200\n",
            "53/53 [==============================] - 31s 590ms/step - loss: 1.2857 - accuracy: 0.4403 - val_loss: 1.1345 - val_accuracy: 0.4444\n",
            "Epoch 3/200\n",
            "53/53 [==============================] - 31s 590ms/step - loss: 0.8196 - accuracy: 0.5409 - val_loss: 1.7121 - val_accuracy: 0.4444\n",
            "Epoch 4/200\n",
            "53/53 [==============================] - 31s 592ms/step - loss: 0.7197 - accuracy: 0.6226 - val_loss: 1.5909 - val_accuracy: 0.4444\n",
            "CPU times: user 3min 46s, sys: 1.3 s, total: 3min 47s\n",
            "Wall time: 2min 35s\n"
          ]
        }
      ],
      "source": [
        "%%time\n",
        "history = model.fit(train_ds\n",
        "         ,epochs=200\n",
        "         ,validation_data=val_ds\n",
        "         ,validation_steps=3\n",
        "         ,callbacks=[tf.keras.callbacks.EarlyStopping(monitor='val_accuracy', patience=2)])"
      ],
      "id": "enUJuZYka3At"
    },
    {
      "cell_type": "markdown",
      "metadata": {
        "id": "_zzUFij9a3At"
      },
      "source": [
        "## Model Performance Test Accuracy"
      ],
      "id": "_zzUFij9a3At"
    },
    {
      "cell_type": "code",
      "execution_count": 47,
      "metadata": {
        "colab": {
          "base_uri": "https://localhost:8080/"
        },
        "id": "BAPDfPMGa3At",
        "outputId": "5ac9adf8-aa87-427f-aa6a-04699985c569"
      },
      "outputs": [
        {
          "output_type": "stream",
          "name": "stdout",
          "text": [
            "6/6 [==============================] - 1s 149ms/step - loss: 1.0673 - accuracy: 0.3333\n",
            "Test Loss: 1.0673301219940186\n",
            "Test Accuracy: 0.3333333432674408\n"
          ]
        }
      ],
      "source": [
        "test_loss, test_acc = model.evaluate(test_ds)\n",
        "\n",
        "print('Test Loss: {}'.format(test_loss))\n",
        "print('Test Accuracy: {}'.format(test_acc))"
      ],
      "id": "BAPDfPMGa3At"
    },
    {
      "cell_type": "markdown",
      "metadata": {
        "id": "7g7U9UUVa3Au"
      },
      "source": [
        "## Plotting Performance Metrics - Multi-Layer Bidirectional RNN"
      ],
      "id": "7g7U9UUVa3Au"
    },
    {
      "cell_type": "code",
      "execution_count": 48,
      "metadata": {
        "colab": {
          "base_uri": "https://localhost:8080/"
        },
        "id": "vuMi14LQa3Au",
        "outputId": "b106bd93-963a-4fbc-db60-42775e641931"
      },
      "outputs": [
        {
          "output_type": "execute_result",
          "data": {
            "text/plain": [
              "dict_keys(['loss', 'accuracy', 'val_loss', 'val_accuracy'])"
            ]
          },
          "metadata": {},
          "execution_count": 48
        }
      ],
      "source": [
        "history_dict = history.history\n",
        "history_dict.keys()"
      ],
      "id": "vuMi14LQa3Au"
    },
    {
      "cell_type": "code",
      "execution_count": 49,
      "metadata": {
        "colab": {
          "base_uri": "https://localhost:8080/",
          "height": 170
        },
        "id": "gPDxsrVYa3Au",
        "outputId": "6a39407a-76fb-439a-dd8f-cf533505930d"
      },
      "outputs": [
        {
          "output_type": "execute_result",
          "data": {
            "text/plain": [
              "    loss  accuracy  val_loss  val_accuracy\n",
              "0  1.388     0.233     1.406         0.000\n",
              "1  1.286     0.440     1.134         0.444\n",
              "2  0.820     0.541     1.712         0.444\n",
              "3  0.720     0.623     1.591         0.444"
            ],
            "text/html": [
              "\n",
              "  <div id=\"df-8b69dd83-60c0-4de5-9696-96f9dbdcdaaf\" class=\"colab-df-container\">\n",
              "    <div>\n",
              "<style scoped>\n",
              "    .dataframe tbody tr th:only-of-type {\n",
              "        vertical-align: middle;\n",
              "    }\n",
              "\n",
              "    .dataframe tbody tr th {\n",
              "        vertical-align: top;\n",
              "    }\n",
              "\n",
              "    .dataframe thead th {\n",
              "        text-align: right;\n",
              "    }\n",
              "</style>\n",
              "<table border=\"1\" class=\"dataframe\">\n",
              "  <thead>\n",
              "    <tr style=\"text-align: right;\">\n",
              "      <th></th>\n",
              "      <th>loss</th>\n",
              "      <th>accuracy</th>\n",
              "      <th>val_loss</th>\n",
              "      <th>val_accuracy</th>\n",
              "    </tr>\n",
              "  </thead>\n",
              "  <tbody>\n",
              "    <tr>\n",
              "      <th>0</th>\n",
              "      <td>1.388</td>\n",
              "      <td>0.233</td>\n",
              "      <td>1.406</td>\n",
              "      <td>0.000</td>\n",
              "    </tr>\n",
              "    <tr>\n",
              "      <th>1</th>\n",
              "      <td>1.286</td>\n",
              "      <td>0.440</td>\n",
              "      <td>1.134</td>\n",
              "      <td>0.444</td>\n",
              "    </tr>\n",
              "    <tr>\n",
              "      <th>2</th>\n",
              "      <td>0.820</td>\n",
              "      <td>0.541</td>\n",
              "      <td>1.712</td>\n",
              "      <td>0.444</td>\n",
              "    </tr>\n",
              "    <tr>\n",
              "      <th>3</th>\n",
              "      <td>0.720</td>\n",
              "      <td>0.623</td>\n",
              "      <td>1.591</td>\n",
              "      <td>0.444</td>\n",
              "    </tr>\n",
              "  </tbody>\n",
              "</table>\n",
              "</div>\n",
              "    <div class=\"colab-df-buttons\">\n",
              "\n",
              "  <div class=\"colab-df-container\">\n",
              "    <button class=\"colab-df-convert\" onclick=\"convertToInteractive('df-8b69dd83-60c0-4de5-9696-96f9dbdcdaaf')\"\n",
              "            title=\"Convert this dataframe to an interactive table.\"\n",
              "            style=\"display:none;\">\n",
              "\n",
              "  <svg xmlns=\"http://www.w3.org/2000/svg\" height=\"24px\" viewBox=\"0 -960 960 960\">\n",
              "    <path d=\"M120-120v-720h720v720H120Zm60-500h600v-160H180v160Zm220 220h160v-160H400v160Zm0 220h160v-160H400v160ZM180-400h160v-160H180v160Zm440 0h160v-160H620v160ZM180-180h160v-160H180v160Zm440 0h160v-160H620v160Z\"/>\n",
              "  </svg>\n",
              "    </button>\n",
              "\n",
              "  <style>\n",
              "    .colab-df-container {\n",
              "      display:flex;\n",
              "      gap: 12px;\n",
              "    }\n",
              "\n",
              "    .colab-df-convert {\n",
              "      background-color: #E8F0FE;\n",
              "      border: none;\n",
              "      border-radius: 50%;\n",
              "      cursor: pointer;\n",
              "      display: none;\n",
              "      fill: #1967D2;\n",
              "      height: 32px;\n",
              "      padding: 0 0 0 0;\n",
              "      width: 32px;\n",
              "    }\n",
              "\n",
              "    .colab-df-convert:hover {\n",
              "      background-color: #E2EBFA;\n",
              "      box-shadow: 0px 1px 2px rgba(60, 64, 67, 0.3), 0px 1px 3px 1px rgba(60, 64, 67, 0.15);\n",
              "      fill: #174EA6;\n",
              "    }\n",
              "\n",
              "    .colab-df-buttons div {\n",
              "      margin-bottom: 4px;\n",
              "    }\n",
              "\n",
              "    [theme=dark] .colab-df-convert {\n",
              "      background-color: #3B4455;\n",
              "      fill: #D2E3FC;\n",
              "    }\n",
              "\n",
              "    [theme=dark] .colab-df-convert:hover {\n",
              "      background-color: #434B5C;\n",
              "      box-shadow: 0px 1px 3px 1px rgba(0, 0, 0, 0.15);\n",
              "      filter: drop-shadow(0px 1px 2px rgba(0, 0, 0, 0.3));\n",
              "      fill: #FFFFFF;\n",
              "    }\n",
              "  </style>\n",
              "\n",
              "    <script>\n",
              "      const buttonEl =\n",
              "        document.querySelector('#df-8b69dd83-60c0-4de5-9696-96f9dbdcdaaf button.colab-df-convert');\n",
              "      buttonEl.style.display =\n",
              "        google.colab.kernel.accessAllowed ? 'block' : 'none';\n",
              "\n",
              "      async function convertToInteractive(key) {\n",
              "        const element = document.querySelector('#df-8b69dd83-60c0-4de5-9696-96f9dbdcdaaf');\n",
              "        const dataTable =\n",
              "          await google.colab.kernel.invokeFunction('convertToInteractive',\n",
              "                                                    [key], {});\n",
              "        if (!dataTable) return;\n",
              "\n",
              "        const docLinkHtml = 'Like what you see? Visit the ' +\n",
              "          '<a target=\"_blank\" href=https://colab.research.google.com/notebooks/data_table.ipynb>data table notebook</a>'\n",
              "          + ' to learn more about interactive tables.';\n",
              "        element.innerHTML = '';\n",
              "        dataTable['output_type'] = 'display_data';\n",
              "        await google.colab.output.renderOutput(dataTable, element);\n",
              "        const docLink = document.createElement('div');\n",
              "        docLink.innerHTML = docLinkHtml;\n",
              "        element.appendChild(docLink);\n",
              "      }\n",
              "    </script>\n",
              "  </div>\n",
              "\n",
              "\n",
              "<div id=\"df-6607079b-ad2a-4ff7-98c1-2e9de051f1f1\">\n",
              "  <button class=\"colab-df-quickchart\" onclick=\"quickchart('df-6607079b-ad2a-4ff7-98c1-2e9de051f1f1')\"\n",
              "            title=\"Suggest charts.\"\n",
              "            style=\"display:none;\">\n",
              "\n",
              "<svg xmlns=\"http://www.w3.org/2000/svg\" height=\"24px\"viewBox=\"0 0 24 24\"\n",
              "     width=\"24px\">\n",
              "    <g>\n",
              "        <path d=\"M19 3H5c-1.1 0-2 .9-2 2v14c0 1.1.9 2 2 2h14c1.1 0 2-.9 2-2V5c0-1.1-.9-2-2-2zM9 17H7v-7h2v7zm4 0h-2V7h2v10zm4 0h-2v-4h2v4z\"/>\n",
              "    </g>\n",
              "</svg>\n",
              "  </button>\n",
              "\n",
              "<style>\n",
              "  .colab-df-quickchart {\n",
              "      --bg-color: #E8F0FE;\n",
              "      --fill-color: #1967D2;\n",
              "      --hover-bg-color: #E2EBFA;\n",
              "      --hover-fill-color: #174EA6;\n",
              "      --disabled-fill-color: #AAA;\n",
              "      --disabled-bg-color: #DDD;\n",
              "  }\n",
              "\n",
              "  [theme=dark] .colab-df-quickchart {\n",
              "      --bg-color: #3B4455;\n",
              "      --fill-color: #D2E3FC;\n",
              "      --hover-bg-color: #434B5C;\n",
              "      --hover-fill-color: #FFFFFF;\n",
              "      --disabled-bg-color: #3B4455;\n",
              "      --disabled-fill-color: #666;\n",
              "  }\n",
              "\n",
              "  .colab-df-quickchart {\n",
              "    background-color: var(--bg-color);\n",
              "    border: none;\n",
              "    border-radius: 50%;\n",
              "    cursor: pointer;\n",
              "    display: none;\n",
              "    fill: var(--fill-color);\n",
              "    height: 32px;\n",
              "    padding: 0;\n",
              "    width: 32px;\n",
              "  }\n",
              "\n",
              "  .colab-df-quickchart:hover {\n",
              "    background-color: var(--hover-bg-color);\n",
              "    box-shadow: 0 1px 2px rgba(60, 64, 67, 0.3), 0 1px 3px 1px rgba(60, 64, 67, 0.15);\n",
              "    fill: var(--button-hover-fill-color);\n",
              "  }\n",
              "\n",
              "  .colab-df-quickchart-complete:disabled,\n",
              "  .colab-df-quickchart-complete:disabled:hover {\n",
              "    background-color: var(--disabled-bg-color);\n",
              "    fill: var(--disabled-fill-color);\n",
              "    box-shadow: none;\n",
              "  }\n",
              "\n",
              "  .colab-df-spinner {\n",
              "    border: 2px solid var(--fill-color);\n",
              "    border-color: transparent;\n",
              "    border-bottom-color: var(--fill-color);\n",
              "    animation:\n",
              "      spin 1s steps(1) infinite;\n",
              "  }\n",
              "\n",
              "  @keyframes spin {\n",
              "    0% {\n",
              "      border-color: transparent;\n",
              "      border-bottom-color: var(--fill-color);\n",
              "      border-left-color: var(--fill-color);\n",
              "    }\n",
              "    20% {\n",
              "      border-color: transparent;\n",
              "      border-left-color: var(--fill-color);\n",
              "      border-top-color: var(--fill-color);\n",
              "    }\n",
              "    30% {\n",
              "      border-color: transparent;\n",
              "      border-left-color: var(--fill-color);\n",
              "      border-top-color: var(--fill-color);\n",
              "      border-right-color: var(--fill-color);\n",
              "    }\n",
              "    40% {\n",
              "      border-color: transparent;\n",
              "      border-right-color: var(--fill-color);\n",
              "      border-top-color: var(--fill-color);\n",
              "    }\n",
              "    60% {\n",
              "      border-color: transparent;\n",
              "      border-right-color: var(--fill-color);\n",
              "    }\n",
              "    80% {\n",
              "      border-color: transparent;\n",
              "      border-right-color: var(--fill-color);\n",
              "      border-bottom-color: var(--fill-color);\n",
              "    }\n",
              "    90% {\n",
              "      border-color: transparent;\n",
              "      border-bottom-color: var(--fill-color);\n",
              "    }\n",
              "  }\n",
              "</style>\n",
              "\n",
              "  <script>\n",
              "    async function quickchart(key) {\n",
              "      const quickchartButtonEl =\n",
              "        document.querySelector('#' + key + ' button');\n",
              "      quickchartButtonEl.disabled = true;  // To prevent multiple clicks.\n",
              "      quickchartButtonEl.classList.add('colab-df-spinner');\n",
              "      try {\n",
              "        const charts = await google.colab.kernel.invokeFunction(\n",
              "            'suggestCharts', [key], {});\n",
              "      } catch (error) {\n",
              "        console.error('Error during call to suggestCharts:', error);\n",
              "      }\n",
              "      quickchartButtonEl.classList.remove('colab-df-spinner');\n",
              "      quickchartButtonEl.classList.add('colab-df-quickchart-complete');\n",
              "    }\n",
              "    (() => {\n",
              "      let quickchartButtonEl =\n",
              "        document.querySelector('#df-6607079b-ad2a-4ff7-98c1-2e9de051f1f1 button');\n",
              "      quickchartButtonEl.style.display =\n",
              "        google.colab.kernel.accessAllowed ? 'block' : 'none';\n",
              "    })();\n",
              "  </script>\n",
              "</div>\n",
              "    </div>\n",
              "  </div>\n"
            ]
          },
          "metadata": {},
          "execution_count": 49
        }
      ],
      "source": [
        "history_df=pd.DataFrame(history_dict)\n",
        "history_df.tail().round(3)"
      ],
      "id": "gPDxsrVYa3Au"
    },
    {
      "cell_type": "code",
      "execution_count": 50,
      "metadata": {
        "id": "7hne-WYKa3Au"
      },
      "outputs": [],
      "source": [
        "losses = history.history['loss']\n",
        "accs = history.history['accuracy']\n",
        "val_losses = history.history['val_loss']\n",
        "val_accs = history.history['val_accuracy']\n",
        "epochs = len(losses)"
      ],
      "id": "7hne-WYKa3Au"
    },
    {
      "cell_type": "code",
      "execution_count": 51,
      "metadata": {
        "colab": {
          "base_uri": "https://localhost:8080/",
          "height": 1000
        },
        "id": "cKhOUHxQa3Au",
        "outputId": "053ee98d-6b44-4c31-b821-a4167e9045b2"
      },
      "outputs": [
        {
          "output_type": "display_data",
          "data": {
            "text/plain": [
              "<Figure size 1600x1200 with 2 Axes>"
            ],
            "image/png": "[encoded data removed]"
          },
          "metadata": {}
        }
      ],
      "source": [
        "plt.subplots(figsize=(16,12))\n",
        "plt.tight_layout()\n",
        "display_training_curves(history.history['accuracy'], history.history['val_accuracy'], 'accuracy', 211)\n",
        "display_training_curves(history.history['loss'], history.history['val_loss'], 'loss', 212)"
      ],
      "id": "cKhOUHxQa3Au"
    },
    {
      "cell_type": "markdown",
      "metadata": {
        "id": "ij3sDWgGa3Au"
      },
      "source": [
        "## Confusion Matrix Post Model Performance Analysis"
      ],
      "id": "ij3sDWgGa3Au"
    },
    {
      "cell_type": "code",
      "execution_count": 52,
      "metadata": {
        "colab": {
          "base_uri": "https://localhost:8080/"
        },
        "id": "IaLsjXkQa3Au",
        "outputId": "58f308f7-29f7-4ddf-f1ee-c5f5896baddd"
      },
      "outputs": [
        {
          "output_type": "stream",
          "name": "stdout",
          "text": [
            "6/6 [==============================] - 6s 83ms/step\n"
          ]
        }
      ],
      "source": [
        "preds2 = model.predict(test_ds)\n",
        "y_pred2 = np.argmax(preds2, axis=1)\n",
        "y2 = np.concatenate([y for x, y in test_ds], axis=0)"
      ],
      "id": "IaLsjXkQa3Au"
    },
    {
      "cell_type": "code",
      "execution_count": 53,
      "metadata": {
        "id": "Vg92x2bla3Au"
      },
      "outputs": [],
      "source": [
        "CLASSES_LIST = ['Action','Comedy','Horror','Sci Fi']"
      ],
      "id": "Vg92x2bla3Au"
    },
    {
      "cell_type": "code",
      "execution_count": 54,
      "metadata": {
        "colab": {
          "base_uri": "https://localhost:8080/",
          "height": 310
        },
        "id": "D5Uk7pKca3Av",
        "outputId": "f91c9f10-1a51-499f-a2c7-c0e7c5481df3"
      },
      "outputs": [
        {
          "output_type": "display_data",
          "data": {
            "text/plain": [
              "<Figure size 300x300 with 1 Axes>"
            ],
            "image/png": "[encoded data removed]"
          },
          "metadata": {}
        }
      ],
      "source": [
        "plot_confusion_matrix_labeled(y2,y_pred2, CLASSES_LIST=CLASSES_LIST)"
      ],
      "id": "D5Uk7pKca3Av"
    },
    {
      "cell_type": "code",
      "execution_count": 55,
      "metadata": {
        "id": "NyqS9FJka3Av"
      },
      "outputs": [],
      "source": [
        "cm = sns.light_palette((260, 75, 60), input=\"husl\", as_cmap=True)"
      ],
      "id": "NyqS9FJka3Av"
    },
    {
      "cell_type": "code",
      "execution_count": 56,
      "metadata": {
        "colab": {
          "base_uri": "https://localhost:8080/",
          "height": 170
        },
        "id": "RTAGFvGga3Av",
        "outputId": "27fce399-ecc0-41f9-be35-c0242bce8dba"
      },
      "outputs": [
        {
          "output_type": "execute_result",
          "data": {
            "text/plain": [
              "<pandas.io.formats.style.Styler at 0x7b3a8b8e14e0>"
            ],
            "text/html": [
              "<style type=\"text/css\">\n",
              "#T_4320a_row0_col0, #T_4320a_row0_col1, #T_4320a_row0_col2, #T_4320a_row0_col3, #T_4320a_row0_col5, #T_4320a_row0_col7, #T_4320a_row0_col8, #T_4320a_row0_col10, #T_4320a_row0_col11, #T_4320a_row0_col13, #T_4320a_row2_col0, #T_4320a_row2_col4, #T_4320a_row2_col6, #T_4320a_row2_col9, #T_4320a_row2_col12, #T_4320a_row2_col14 {\n",
              "  background-color: #f0f1f2;\n",
              "  color: #000000;\n",
              "}\n",
              "#T_4320a_row0_col4, #T_4320a_row3_col2 {\n",
              "  background-color: #e0e3f0;\n",
              "  color: #000000;\n",
              "}\n",
              "#T_4320a_row0_col6 {\n",
              "  background-color: #e4e7f1;\n",
              "  color: #000000;\n",
              "}\n",
              "#T_4320a_row0_col9 {\n",
              "  background-color: #d5daef;\n",
              "  color: #000000;\n",
              "}\n",
              "#T_4320a_row0_col12 {\n",
              "  background-color: #dee1f0;\n",
              "  color: #000000;\n",
              "}\n",
              "#T_4320a_row0_col14 {\n",
              "  background-color: #e6e8f1;\n",
              "  color: #000000;\n",
              "}\n",
              "#T_4320a_row1_col0, #T_4320a_row1_col1, #T_4320a_row1_col2, #T_4320a_row1_col4, #T_4320a_row1_col6, #T_4320a_row1_col9, #T_4320a_row1_col12, #T_4320a_row1_col14, #T_4320a_row3_col3, #T_4320a_row3_col5, #T_4320a_row3_col7, #T_4320a_row3_col8, #T_4320a_row3_col10, #T_4320a_row3_col11, #T_4320a_row3_col13 {\n",
              "  background-color: #778ce4;\n",
              "  color: #f1f1f1;\n",
              "}\n",
              "#T_4320a_row1_col3, #T_4320a_row1_col5, #T_4320a_row1_col7, #T_4320a_row1_col11, #T_4320a_row1_col13, #T_4320a_row3_col4, #T_4320a_row3_col12 {\n",
              "  background-color: #ecedf2;\n",
              "  color: #000000;\n",
              "}\n",
              "#T_4320a_row1_col8, #T_4320a_row3_col6, #T_4320a_row3_col14 {\n",
              "  background-color: #ebedf2;\n",
              "  color: #000000;\n",
              "}\n",
              "#T_4320a_row1_col10, #T_4320a_row2_col2, #T_4320a_row3_col9 {\n",
              "  background-color: #edeef2;\n",
              "  color: #000000;\n",
              "}\n",
              "#T_4320a_row2_col1 {\n",
              "  background-color: #a8b5ea;\n",
              "  color: #000000;\n",
              "}\n",
              "#T_4320a_row2_col3, #T_4320a_row2_col8 {\n",
              "  background-color: #9eace8;\n",
              "  color: #000000;\n",
              "}\n",
              "#T_4320a_row2_col5 {\n",
              "  background-color: #9dace8;\n",
              "  color: #000000;\n",
              "}\n",
              "#T_4320a_row2_col7, #T_4320a_row2_col11, #T_4320a_row2_col13 {\n",
              "  background-color: #9fade8;\n",
              "  color: #000000;\n",
              "}\n",
              "#T_4320a_row2_col10 {\n",
              "  background-color: #9caae8;\n",
              "  color: #000000;\n",
              "}\n",
              "#T_4320a_row3_col0 {\n",
              "  background-color: #e4e6f1;\n",
              "  color: #000000;\n",
              "}\n",
              "#T_4320a_row3_col1 {\n",
              "  background-color: #98a7e8;\n",
              "  color: #f1f1f1;\n",
              "}\n",
              "</style>\n",
              "<table id=\"T_4320a\" class=\"dataframe\">\n",
              "  <thead>\n",
              "    <tr>\n",
              "      <th class=\"blank level0\" >&nbsp;</th>\n",
              "      <th id=\"T_4320a_level0_col0\" class=\"col_heading level0 col0\" >0</th>\n",
              "      <th id=\"T_4320a_level0_col1\" class=\"col_heading level0 col1\" >1</th>\n",
              "      <th id=\"T_4320a_level0_col2\" class=\"col_heading level0 col2\" >2</th>\n",
              "      <th id=\"T_4320a_level0_col3\" class=\"col_heading level0 col3\" >3</th>\n",
              "      <th id=\"T_4320a_level0_col4\" class=\"col_heading level0 col4\" >4</th>\n",
              "      <th id=\"T_4320a_level0_col5\" class=\"col_heading level0 col5\" >5</th>\n",
              "      <th id=\"T_4320a_level0_col6\" class=\"col_heading level0 col6\" >6</th>\n",
              "      <th id=\"T_4320a_level0_col7\" class=\"col_heading level0 col7\" >7</th>\n",
              "      <th id=\"T_4320a_level0_col8\" class=\"col_heading level0 col8\" >8</th>\n",
              "      <th id=\"T_4320a_level0_col9\" class=\"col_heading level0 col9\" >9</th>\n",
              "      <th id=\"T_4320a_level0_col10\" class=\"col_heading level0 col10\" >10</th>\n",
              "      <th id=\"T_4320a_level0_col11\" class=\"col_heading level0 col11\" >11</th>\n",
              "      <th id=\"T_4320a_level0_col12\" class=\"col_heading level0 col12\" >12</th>\n",
              "      <th id=\"T_4320a_level0_col13\" class=\"col_heading level0 col13\" >13</th>\n",
              "      <th id=\"T_4320a_level0_col14\" class=\"col_heading level0 col14\" >14</th>\n",
              "    </tr>\n",
              "  </thead>\n",
              "  <tbody>\n",
              "    <tr>\n",
              "      <th id=\"T_4320a_level0_row0\" class=\"row_heading level0 row0\" >Action</th>\n",
              "      <td id=\"T_4320a_row0_col0\" class=\"data row0 col0\" >5.79%</td>\n",
              "      <td id=\"T_4320a_row0_col1\" class=\"data row0 col1\" >4.63%</td>\n",
              "      <td id=\"T_4320a_row0_col2\" class=\"data row0 col2\" >6.70%</td>\n",
              "      <td id=\"T_4320a_row0_col3\" class=\"data row0 col3\" >1.76%</td>\n",
              "      <td id=\"T_4320a_row0_col4\" class=\"data row0 col4\" >12.56%</td>\n",
              "      <td id=\"T_4320a_row0_col5\" class=\"data row0 col5\" >1.70%</td>\n",
              "      <td id=\"T_4320a_row0_col6\" class=\"data row0 col6\" >10.19%</td>\n",
              "      <td id=\"T_4320a_row0_col7\" class=\"data row0 col7\" >1.56%</td>\n",
              "      <td id=\"T_4320a_row0_col8\" class=\"data row0 col8\" >1.98%</td>\n",
              "      <td id=\"T_4320a_row0_col9\" class=\"data row0 col9\" >18.58%</td>\n",
              "      <td id=\"T_4320a_row0_col10\" class=\"data row0 col10\" >1.24%</td>\n",
              "      <td id=\"T_4320a_row0_col11\" class=\"data row0 col11\" >1.54%</td>\n",
              "      <td id=\"T_4320a_row0_col12\" class=\"data row0 col12\" >13.69%</td>\n",
              "      <td id=\"T_4320a_row0_col13\" class=\"data row0 col13\" >1.94%</td>\n",
              "      <td id=\"T_4320a_row0_col14\" class=\"data row0 col14\" >9.37%</td>\n",
              "    </tr>\n",
              "    <tr>\n",
              "      <th id=\"T_4320a_level0_row1\" class=\"row_heading level0 row1\" >Comedy</th>\n",
              "      <td id=\"T_4320a_row1_col0\" class=\"data row1 col0\" >75.13%</td>\n",
              "      <td id=\"T_4320a_row1_col1\" class=\"data row1 col1\" >39.76%</td>\n",
              "      <td id=\"T_4320a_row1_col2\" class=\"data row1 col2\" >69.80%</td>\n",
              "      <td id=\"T_4320a_row1_col3\" class=\"data row1 col3\" >3.54%</td>\n",
              "      <td id=\"T_4320a_row1_col4\" class=\"data row1 col4\" >80.49%</td>\n",
              "      <td id=\"T_4320a_row1_col5\" class=\"data row1 col5\" >3.47%</td>\n",
              "      <td id=\"T_4320a_row1_col6\" class=\"data row1 col6\" >81.61%</td>\n",
              "      <td id=\"T_4320a_row1_col7\" class=\"data row1 col7\" >3.40%</td>\n",
              "      <td id=\"T_4320a_row1_col8\" class=\"data row1 col8\" >4.08%</td>\n",
              "      <td id=\"T_4320a_row1_col9\" class=\"data row1 col9\" >76.51%</td>\n",
              "      <td id=\"T_4320a_row1_col10\" class=\"data row1 col10\" >2.71%</td>\n",
              "      <td id=\"T_4320a_row1_col11\" class=\"data row1 col11\" >3.33%</td>\n",
              "      <td id=\"T_4320a_row1_col12\" class=\"data row1 col12\" >79.00%</td>\n",
              "      <td id=\"T_4320a_row1_col13\" class=\"data row1 col13\" >3.93%</td>\n",
              "      <td id=\"T_4320a_row1_col14\" class=\"data row1 col14\" >82.98%</td>\n",
              "    </tr>\n",
              "    <tr>\n",
              "      <th id=\"T_4320a_level0_row2\" class=\"row_heading level0 row2\" >Horror</th>\n",
              "      <td id=\"T_4320a_row2_col0\" class=\"data row2 col0\" >6.05%</td>\n",
              "      <td id=\"T_4320a_row2_col1\" class=\"data row2 col1\" >25.47%</td>\n",
              "      <td id=\"T_4320a_row2_col2\" class=\"data row2 col2\" >8.39%</td>\n",
              "      <td id=\"T_4320a_row2_col3\" class=\"data row2 col3\" >38.63%</td>\n",
              "      <td id=\"T_4320a_row2_col4\" class=\"data row2 col4\" >2.06%</td>\n",
              "      <td id=\"T_4320a_row2_col5\" class=\"data row2 col5\" >38.70%</td>\n",
              "      <td id=\"T_4320a_row2_col6\" class=\"data row2 col6\" >2.44%</td>\n",
              "      <td id=\"T_4320a_row2_col7\" class=\"data row2 col7\" >38.30%</td>\n",
              "      <td id=\"T_4320a_row2_col8\" class=\"data row2 col8\" >38.14%</td>\n",
              "      <td id=\"T_4320a_row2_col9\" class=\"data row2 col9\" >1.39%</td>\n",
              "      <td id=\"T_4320a_row2_col10\" class=\"data row2 col10\" >39.50%</td>\n",
              "      <td id=\"T_4320a_row2_col11\" class=\"data row2 col11\" >38.28%</td>\n",
              "      <td id=\"T_4320a_row2_col12\" class=\"data row2 col12\" >2.28%</td>\n",
              "      <td id=\"T_4320a_row2_col13\" class=\"data row2 col13\" >38.13%</td>\n",
              "      <td id=\"T_4320a_row2_col14\" class=\"data row2 col14\" >2.22%</td>\n",
              "    </tr>\n",
              "    <tr>\n",
              "      <th id=\"T_4320a_level0_row3\" class=\"row_heading level0 row3\" >Sci Fi</th>\n",
              "      <td id=\"T_4320a_row3_col0\" class=\"data row3 col0\" >13.03%</td>\n",
              "      <td id=\"T_4320a_row3_col1\" class=\"data row3 col1\" >30.15%</td>\n",
              "      <td id=\"T_4320a_row3_col2\" class=\"data row3 col2\" >15.10%</td>\n",
              "      <td id=\"T_4320a_row3_col3\" class=\"data row3 col3\" >56.07%</td>\n",
              "      <td id=\"T_4320a_row3_col4\" class=\"data row3 col4\" >4.90%</td>\n",
              "      <td id=\"T_4320a_row3_col5\" class=\"data row3 col5\" >56.12%</td>\n",
              "      <td id=\"T_4320a_row3_col6\" class=\"data row3 col6\" >5.76%</td>\n",
              "      <td id=\"T_4320a_row3_col7\" class=\"data row3 col7\" >56.74%</td>\n",
              "      <td id=\"T_4320a_row3_col8\" class=\"data row3 col8\" >55.80%</td>\n",
              "      <td id=\"T_4320a_row3_col9\" class=\"data row3 col9\" >3.53%</td>\n",
              "      <td id=\"T_4320a_row3_col10\" class=\"data row3 col10\" >56.55%</td>\n",
              "      <td id=\"T_4320a_row3_col11\" class=\"data row3 col11\" >56.86%</td>\n",
              "      <td id=\"T_4320a_row3_col12\" class=\"data row3 col12\" >5.02%</td>\n",
              "      <td id=\"T_4320a_row3_col13\" class=\"data row3 col13\" >55.99%</td>\n",
              "      <td id=\"T_4320a_row3_col14\" class=\"data row3 col14\" >5.43%</td>\n",
              "    </tr>\n",
              "  </tbody>\n",
              "</table>\n"
            ]
          },
          "metadata": {},
          "execution_count": 56
        }
      ],
      "source": [
        "df2 = pd.DataFrame(preds2[0:15]\n",
        "                  ,columns = CLASSES_LIST).T\n",
        "df2.style.format(\"{:.2%}\").background_gradient(cmap=cm)"
      ],
      "id": "RTAGFvGga3Av"
    },
    {
      "cell_type": "markdown",
      "metadata": {
        "id": "PPWcUzgma3Av"
      },
      "source": [
        "## RNN Model Architecture"
      ],
      "id": "PPWcUzgma3Av"
    }
  ],
  "metadata": {
    "kernelspec": {
      "display_name": "Python 3",
      "language": "python",
      "name": "python3"
    },
    "language_info": {
      "codemirror_mode": {
        "name": "ipython",
        "version": 3
      },
      "file_extension": ".py",
      "mimetype": "text/x-python",
      "name": "python",
      "nbconvert_exporter": "python",
      "pygments_lexer": "ipython3",
      "version": "3.8.10"
    },
    "colab": {
      "provenance": [],
      "collapsed_sections": [
        "lGzlf27ONXaD"
      ],
      "include_colab_link": true
    }
  },
  "nbformat": 4,
  "nbformat_minor": 5
}