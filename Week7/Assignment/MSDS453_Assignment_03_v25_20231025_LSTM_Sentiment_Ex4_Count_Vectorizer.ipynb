{
  "cells": [
    {
      "cell_type": "markdown",
      "metadata": {
        "id": "view-in-github",
        "colab_type": "text"
      },
      "source": [
        "<a href=\"https://colab.research.google.com/github/vasisvaran/Deep-Learning-Papers-Reading-Roadmap/blob/master/Week7/Assignment/MSDS453_Assignment_03_v25_20231025_LSTM_Sentiment_Ex4_Count_Vectorizer.ipynb\" target=\"_parent\"><img src=\"https://colab.research.google.com/assets/colab-badge.svg\" alt=\"Open In Colab\"/></a>"
      ]
    },
    {
      "cell_type": "markdown",
      "metadata": {
        "id": "D4fvdNtua3AI"
      },
      "source": [
        "<img src=\"https://github.com/djp840/MSDS_453_Public/blob/main/images/NorthwesternHeader.png?raw=1\">"
      ],
      "id": "D4fvdNtua3AI"
    },
    {
      "cell_type": "markdown",
      "metadata": {
        "id": "NG2UslRFa3AN"
      },
      "source": [
        "## MSDS453 - Research Assignment 03 - Ontology Plus Context and Modeling"
      ],
      "id": "NG2UslRFa3AN"
    },
    {
      "cell_type": "markdown",
      "metadata": {
        "id": "ZkbnxCcEa3AN"
      },
      "source": [
        "Take the ontology that you developed in week 6 and consider how your ten chosen documents for this quarter's class corpus map to that ontology.\n",
        "\n",
        "Protégé is a tool that takes inputs for a human-created Ontology and creates a visualization.\n",
        "\n",
        "Use Python algorithms to generate Knowledge Graphs from your documents.\n",
        "\n",
        "TensorFlow Bidirectional RNN Model"
      ],
      "id": "ZkbnxCcEa3AN"
    },
    {
      "cell_type": "code",
      "execution_count": 1,
      "metadata": {
        "id": "0bb6XKuca3AO"
      },
      "outputs": [],
      "source": [
        "import pandas as pd\n",
        "import numpy as np\n",
        "import re\n",
        "import string\n",
        "import seaborn as sns\n",
        "import matplotlib.pyplot as plt\n",
        "import nltk\n",
        "from collections import Counter\n",
        "from dataclasses import dataclass\n",
        "from timeit import default_timer as timer\n",
        "\n",
        "from nltk.corpus import stopwords\n",
        "from nltk.stem.wordnet import WordNetLemmatizer\n",
        "from nltk.tokenize import word_tokenize\n",
        "\n",
        "import gensim\n",
        "from gensim.models import Word2Vec\n",
        "\n",
        "import spacy\n",
        "from spacy import displacy\n",
        "\n",
        "from spacy.matcher import Matcher\n",
        "from spacy.tokens import Span\n",
        "\n",
        "import networkx as nx\n",
        "import matplotlib.pyplot as plt\n",
        "from tqdm import tqdm\n",
        "\n",
        "\n",
        "from sklearn.feature_extraction.text import TfidfVectorizer\n",
        "from sklearn.feature_extraction.text import CountVectorizer\n",
        "from sklearn.metrics.pairwise import cosine_similarity\n",
        "from sklearn.svm import SVC\n",
        "from sklearn.metrics import accuracy_score, f1_score\n",
        "from sklearn.model_selection import train_test_split\n",
        "\n",
        "from IPython.display import display, HTML\n",
        "\n",
        "from sklearn.metrics import confusion_matrix, classification_report\n",
        "from sklearn.metrics import accuracy_score, f1_score\n",
        "\n",
        "import tensorflow as tf\n",
        "from tensorflow import keras\n",
        "import tensorflow_datasets as tfds\n",
        "tf.random.set_seed(2022)\n",
        "import tensorflow.keras.backend as k\n",
        "\n",
        "from typing import List, Callable, Dict, Tuple, Set"
      ],
      "id": "0bb6XKuca3AO"
    },
    {
      "cell_type": "markdown",
      "metadata": {
        "id": "8Qzg7r_Ea3AQ"
      },
      "source": [
        "<div class=\"alert alert-block alert-danger\">\n",
        "<b>Required Installation: en_core_web_lg</b><br>\"python -m spacy download en_core_web_lg\"<br><br>English pipeline optimized for CPU. Components: tok2vec, tagger, parser, senter, ner, attribute_ruler, lemmatizer<br>\n",
        "    <b>https://spacy.io/models/en#en_core_web_lg </b>\n",
        "</div>"
      ],
      "id": "8Qzg7r_Ea3AQ"
    },
    {
      "cell_type": "markdown",
      "metadata": {
        "id": "UufSGLC6a3AQ"
      },
      "source": [
        "## Requires Restart Of Runtime After Installation"
      ],
      "id": "UufSGLC6a3AQ"
    },
    {
      "cell_type": "code",
      "execution_count": 2,
      "metadata": {
        "colab": {
          "base_uri": "https://localhost:8080/"
        },
        "id": "4r4cNgT1a3AR",
        "outputId": "f0238050-6257-4166-f716-d096626b737d"
      },
      "outputs": [
        {
          "output_type": "stream",
          "name": "stdout",
          "text": [
            "2023-10-31 17:48:31.449711: E tensorflow/compiler/xla/stream_executor/cuda/cuda_dnn.cc:9342] Unable to register cuDNN factory: Attempting to register factory for plugin cuDNN when one has already been registered\n",
            "2023-10-31 17:48:31.449783: E tensorflow/compiler/xla/stream_executor/cuda/cuda_fft.cc:609] Unable to register cuFFT factory: Attempting to register factory for plugin cuFFT when one has already been registered\n",
            "2023-10-31 17:48:31.449830: E tensorflow/compiler/xla/stream_executor/cuda/cuda_blas.cc:1518] Unable to register cuBLAS factory: Attempting to register factory for plugin cuBLAS when one has already been registered\n",
            "2023-10-31 17:48:34.415645: W tensorflow/compiler/tf2tensorrt/utils/py_utils.cc:38] TF-TRT Warning: Could not find TensorRT\n",
            "\u001b[2K     \u001b[90m━━━━━━━━━━━━━━━━━━━━━━━━━━━━━━━━━━━━━━━━\u001b[0m \u001b[32m587.7/587.7 MB\u001b[0m \u001b[31m1.0 MB/s\u001b[0m eta \u001b[36m0:00:00\u001b[0m\n",
            "\u001b[?25h\u001b[38;5;2m✔ Download and installation successful\u001b[0m\n",
            "You can now load the package via spacy.load('en_core_web_lg')\n"
          ]
        }
      ],
      "source": [
        "!python -m spacy download en_core_web_lg -q"
      ],
      "id": "4r4cNgT1a3AR"
    },
    {
      "cell_type": "code",
      "execution_count": 3,
      "metadata": {
        "id": "meoFskZSa3AS"
      },
      "outputs": [],
      "source": [
        "nlp = spacy.load('en_core_web_lg')"
      ],
      "id": "meoFskZSa3AS"
    },
    {
      "cell_type": "markdown",
      "metadata": {
        "id": "l4GmMWVma3AS"
      },
      "source": [
        "### Mount Google Drive to Colab Environment"
      ],
      "id": "l4GmMWVma3AS"
    },
    {
      "cell_type": "code",
      "execution_count": 4,
      "metadata": {
        "id": "zDMUmHNEa3AT",
        "outputId": "5325ddbf-48df-4b7c-ea25-23407bb5b124",
        "colab": {
          "base_uri": "https://localhost:8080/"
        }
      },
      "outputs": [
        {
          "output_type": "stream",
          "name": "stdout",
          "text": [
            "Mounted at /content/gdrive\n"
          ]
        }
      ],
      "source": [
        "from google.colab import drive\n",
        "drive.mount('/content/gdrive')"
      ],
      "id": "zDMUmHNEa3AT"
    },
    {
      "cell_type": "markdown",
      "metadata": {
        "id": "YGekOXfXa3AU"
      },
      "source": [
        "### NLTK Downloads"
      ],
      "id": "YGekOXfXa3AU"
    },
    {
      "cell_type": "code",
      "execution_count": 5,
      "metadata": {
        "colab": {
          "base_uri": "https://localhost:8080/"
        },
        "id": "-zgAZ6Gxa3AU",
        "outputId": "464f5929-42d2-4dd9-8094-bdf8e45bddcd"
      },
      "outputs": [
        {
          "output_type": "execute_result",
          "data": {
            "text/plain": [
              "True"
            ]
          },
          "metadata": {},
          "execution_count": 5
        }
      ],
      "source": [
        "# Only run this once, they will be downloaded.\n",
        "nltk.download('stopwords',quiet=True)\n",
        "nltk.download('wordnet',quiet=True)\n",
        "nltk.download('punkt',quiet=True)\n",
        "nltk.download('omw-1.4',quiet=True)"
      ],
      "id": "-zgAZ6Gxa3AU"
    },
    {
      "cell_type": "markdown",
      "metadata": {
        "id": "IkXQ8BNMa3AW"
      },
      "source": [
        "<div class=\"alert alert-block alert-danger\">\n",
        "<b>Gensim</b> is a Python library for topic modelling, document indexing and similarity retrieval with large corpora. Target audience is the natural language processing (NLP) and information retrieval (IR) community <br><br>\n",
        "    <b>https://pypi.org/project/gensim/ </b>\n",
        "</div>"
      ],
      "id": "IkXQ8BNMa3AW"
    },
    {
      "cell_type": "code",
      "execution_count": 6,
      "metadata": {
        "id": "QBRVq1pma3AW"
      },
      "outputs": [],
      "source": [
        "import pkg_resources\n",
        "#pkg_resources.require(\"gensim<=3.8.3\");"
      ],
      "id": "QBRVq1pma3AW"
    },
    {
      "cell_type": "code",
      "execution_count": 7,
      "metadata": {
        "colab": {
          "base_uri": "https://localhost:8080/"
        },
        "id": "JKIg6MlPa3AX",
        "outputId": "894273e9-10ee-4a73-eab7-88c88ba56e60"
      },
      "outputs": [
        {
          "output_type": "stream",
          "name": "stdout",
          "text": [
            "Genism Version:  4.3.2\n"
          ]
        }
      ],
      "source": [
        "print(\"Genism Version: \", gensim.__version__)"
      ],
      "id": "JKIg6MlPa3AX"
    },
    {
      "cell_type": "markdown",
      "metadata": {
        "id": "OySRSOAna3AX"
      },
      "source": [
        "<div class=\"alert alert-block alert-info\">\n",
        "    <b>Suppress warning messages</b></div>"
      ],
      "id": "OySRSOAna3AX"
    },
    {
      "cell_type": "code",
      "execution_count": 8,
      "metadata": {
        "id": "0w4TZ5Wha3AX"
      },
      "outputs": [],
      "source": [
        "def warn(*args, **kwargs):\n",
        "    pass\n",
        "import warnings\n",
        "warnings.warn = warn"
      ],
      "id": "0w4TZ5Wha3AX"
    },
    {
      "cell_type": "markdown",
      "metadata": {
        "id": "G2JtEj_0a3AY"
      },
      "source": [
        "## Data Wrangling Utility Functions"
      ],
      "id": "G2JtEj_0a3AY"
    },
    {
      "cell_type": "code",
      "execution_count": 9,
      "metadata": {
        "id": "vxBi5x5Ga3AZ"
      },
      "outputs": [],
      "source": [
        "def add_movie_descriptor(data: pd.DataFrame, corpus_df: pd.DataFrame):\n",
        "    \"\"\"\n",
        "    Adds \"Movie Description\" to the supplied dataframe, in the form {Genre}_{P|N}_{Movie Title}_{DocID}\n",
        "    \"\"\"\n",
        "    review = np.where(corpus_df['Review Type (pos or neg)'] == 'Positive', 'P', 'N')\n",
        "    data['Descriptor'] = corpus_df['Genre of Movie'] + '_' + corpus_df['Movie Title'] + '_' + review + '_' + corpus_df['Doc_ID'].astype(str)\n",
        "\n",
        "def get_corpus_df(path: str) -> pd.DataFrame:\n",
        "    data = pd.read_csv(path,encoding=\"utf-8\")\n",
        "    add_movie_descriptor(data, data)\n",
        "    sorted_data = data.sort_values(['Descriptor'])\n",
        "    indexed_data = sorted_data.set_index(['Doc_ID'])\n",
        "    indexed_data['Doc_ID'] = indexed_data.index\n",
        "    return indexed_data\n",
        "\n",
        "def remove_punctuation(text: str) -> str:\n",
        "    return re.sub('[^a-zA-Z]', '', str(text))\n",
        "\n",
        "def remove_tags(text: str) -> str:\n",
        "    return re.sub('&lt;/?.*?&gt;', '', text)\n",
        "\n",
        "def remove_special_chars_and_digits(text: str) -> str:\n",
        "    return re.sub('(\\\\d|\\\\W)+', '', text)\n",
        "\n",
        "def get_sentences(text: str) -> List[str]:\n",
        "    return [str(x) for x in nlp(text).sents]\n",
        "\n",
        "def get_coref_resolved_sentences(text: str) -> List[str]:\n",
        "    return [str(x) for x in nlp(text).sents]\n",
        "\n",
        "def get_lemmas(text: str, stopwords: Set[str]) -> List[str]:\n",
        "    initial = [remove_tags(remove_special_chars_and_digits(remove_punctuation(x.lemma_.lower()))) for x in nlp(text)]\n",
        "    return [x for x in initial if x not in stopwords]\n",
        "\n",
        "def lemmatize_sentence(text: str, stopwords: Set[str]) -> str:\n",
        "    return ' '.join(get_lemmas(text, stopwords))\n",
        "\n",
        "def clean_doc(doc):\n",
        "    #doc = remove_punctuation(doc)\n",
        "    doc= ' '.join(remove_stop_words(doc))\n",
        "    doc = apply_lemmatization(doc)\n",
        "    return doc\n",
        "\n",
        "def remove_stop_words(in_text):\n",
        "    stop_words = set(stopwords.words('english'))\n",
        "    word_tokens = word_tokenize(in_text)\n",
        "    filtered_sentence = [w for w in word_tokens if not w in stop_words]\n",
        "    return filtered_sentence\n",
        "\n",
        "def apply_lemmatization(in_text):\n",
        "    # Lemmatization\n",
        "    lem = WordNetLemmatizer()\n",
        "    word_list = nltk.word_tokenize(in_text)\n",
        "    output = ' '.join([lem.lemmatize(w) for w in word_list])\n",
        "    return output\n",
        "\n",
        "def counter_word(text):\n",
        "  count=Counter()\n",
        "  for i in text.values:\n",
        "    for word in i.split():\n",
        "      count[word]=+1\n",
        "  return count\n",
        "\n",
        "def get_dataset_partitions_pd(df, train_split=0.8, val_split=0.10, test_split=0.10):\n",
        "       # Specify seed to always have the same split distribution between runs\n",
        "  df_sample = df.sample(frac=1, random_state=12)\n",
        "  indices_or_sections = [int(.8*len(df)), int(.9*len(df))]\n",
        "  train_ds, val_ds, test_ds = np.split(df_sample, indices_or_sections)\n",
        "  return train_ds, val_ds, test_ds"
      ],
      "id": "vxBi5x5Ga3AZ"
    },
    {
      "cell_type": "markdown",
      "metadata": {
        "id": "h3HpYEQma3Ae"
      },
      "source": [
        "## Visualization Utility Functions"
      ],
      "id": "h3HpYEQma3Ae"
    },
    {
      "cell_type": "code",
      "execution_count": 10,
      "metadata": {
        "id": "dKM5avFHa3Ae"
      },
      "outputs": [],
      "source": [
        "def plot_confusion_matrix_labeled(y_true, y_pred, CLASSES_LIST):\n",
        "    mtx = confusion_matrix(y_true, y_pred)\n",
        "    # define classes\n",
        "    classes = CLASSES_LIST\n",
        "    temp_df = pd.DataFrame(data=mtx,columns=classes)\n",
        "    temp_df.index = classes\n",
        "    fig, ax = plt.subplots(figsize=(10,10))\n",
        "    sns.heatmap(temp_df, annot=True, fmt='d', linewidths=.75,  cbar=False, ax=ax,cmap='Blues',linecolor='white')\n",
        "    #  square=True,\n",
        "    plt.ylabel('true label')\n",
        "    plt.xlabel('predicted label')\n",
        "\n",
        "def plot_graphs(history, metric):\n",
        "  plt.plot(history.history[metric])\n",
        "  plt.plot(history.history['val_'+metric], '')\n",
        "  plt.xlabel(\"Epochs\")\n",
        "  plt.ylabel(metric)\n",
        "  plt.legend([metric, 'val_'+metric])\n",
        "\n",
        "def display_training_curves(training, validation, title, subplot):\n",
        "  ax = plt.subplot(subplot)\n",
        "  ax.plot(training)\n",
        "  ax.plot(validation)\n",
        "  ax.set_title('model '+ title)\n",
        "  ax.set_ylabel(title)\n",
        "  ax.set_xlabel('epoch')\n",
        "  ax.legend(['training', 'validation'])"
      ],
      "id": "dKM5avFHa3Ae"
    },
    {
      "cell_type": "markdown",
      "metadata": {
        "id": "ivV9e_Hha3Ae"
      },
      "source": [
        "## Loading the Class Corpus"
      ],
      "id": "ivV9e_Hha3Ae"
    },
    {
      "cell_type": "code",
      "execution_count": 11,
      "metadata": {
        "id": "wIzJs8lEa3Ae"
      },
      "outputs": [],
      "source": [
        "CORPUS_PATH=\\\n",
        "'/content/gdrive/MyDrive/Temp/MSDS453/MSDS453_ClassCorpus_Final_Sec57_v2_20230928.csv'\n",
        "corpus_df = get_corpus_df(CORPUS_PATH)"
      ],
      "id": "wIzJs8lEa3Ae"
    },
    {
      "cell_type": "markdown",
      "metadata": {
        "id": "jw2-5h6ha3Af"
      },
      "source": [
        "## Exploratory Data Analysis"
      ],
      "id": "jw2-5h6ha3Af"
    },
    {
      "cell_type": "code",
      "execution_count": 12,
      "metadata": {
        "colab": {
          "base_uri": "https://localhost:8080/",
          "height": 363
        },
        "id": "x0DA0tgGa3Af",
        "outputId": "632003ce-f764-473b-bf90-1df5c91b37d1"
      },
      "outputs": [
        {
          "output_type": "execute_result",
          "data": {
            "text/plain": [
              "Doc_ID                                                                   90  \\\n",
              "DSI_Title                                         LKP_Doc1_Angel_has_fallen   \n",
              "Text                      Target is on the move . '' Heavily outnumbered...   \n",
              "Submission File Name                              LKP_Doc1_Angel_has_fallen   \n",
              "Student Name                                                            LKP   \n",
              "Genre of Movie                                                       Action   \n",
              "Review Type (pos or neg)                                           Negative   \n",
              "Movie Title                                                Angel_has_fallen   \n",
              "Descriptor                                     Action_Angel_has_fallen_N_90   \n",
              "Doc_ID                                                                   90   \n",
              "raw_sentences             [Target is on the move . '', Heavily outnumber...   \n",
              "\n",
              "Doc_ID                                                                   91  \\\n",
              "DSI_Title                                         LKP_Doc2_Angel_has_fallen   \n",
              "Text                      The sleepy , dopey action bonanza `` Angel Has...   \n",
              "Submission File Name                              LKP_Doc2_Angel_has_fallen   \n",
              "Student Name                                                            LKP   \n",
              "Genre of Movie                                                       Action   \n",
              "Review Type (pos or neg)                                           Negative   \n",
              "Movie Title                                                Angel_has_fallen   \n",
              "Descriptor                                     Action_Angel_has_fallen_N_91   \n",
              "Doc_ID                                                                   91   \n",
              "raw_sentences             [The sleepy , dopey action bonanza `` Angel Ha...   \n",
              "\n",
              "Doc_ID                                                                   92  \n",
              "DSI_Title                                         LKP_Doc3_Angel_has_fallen  \n",
              "Text                      `` Angel Has Fallen '' marks the third time th...  \n",
              "Submission File Name                              LKP_Doc3_Angel_has_fallen  \n",
              "Student Name                                                            LKP  \n",
              "Genre of Movie                                                       Action  \n",
              "Review Type (pos or neg)                                           Negative  \n",
              "Movie Title                                                Angel_has_fallen  \n",
              "Descriptor                                     Action_Angel_has_fallen_N_92  \n",
              "Doc_ID                                                                   92  \n",
              "raw_sentences             [`` Angel Has Fallen '' marks the third time t...  "
            ],
            "text/html": [
              "\n",
              "  <div id=\"df-c7411d6b-eb09-4526-87dd-b21bdb6bc0c6\" class=\"colab-df-container\">\n",
              "    <div>\n",
              "<style scoped>\n",
              "    .dataframe tbody tr th:only-of-type {\n",
              "        vertical-align: middle;\n",
              "    }\n",
              "\n",
              "    .dataframe tbody tr th {\n",
              "        vertical-align: top;\n",
              "    }\n",
              "\n",
              "    .dataframe thead th {\n",
              "        text-align: right;\n",
              "    }\n",
              "</style>\n",
              "<table border=\"1\" class=\"dataframe\">\n",
              "  <thead>\n",
              "    <tr style=\"text-align: right;\">\n",
              "      <th>Doc_ID</th>\n",
              "      <th>90</th>\n",
              "      <th>91</th>\n",
              "      <th>92</th>\n",
              "    </tr>\n",
              "  </thead>\n",
              "  <tbody>\n",
              "    <tr>\n",
              "      <th>DSI_Title</th>\n",
              "      <td>LKP_Doc1_Angel_has_fallen</td>\n",
              "      <td>LKP_Doc2_Angel_has_fallen</td>\n",
              "      <td>LKP_Doc3_Angel_has_fallen</td>\n",
              "    </tr>\n",
              "    <tr>\n",
              "      <th>Text</th>\n",
              "      <td>Target is on the move . '' Heavily outnumbered...</td>\n",
              "      <td>The sleepy , dopey action bonanza `` Angel Has...</td>\n",
              "      <td>`` Angel Has Fallen '' marks the third time th...</td>\n",
              "    </tr>\n",
              "    <tr>\n",
              "      <th>Submission File Name</th>\n",
              "      <td>LKP_Doc1_Angel_has_fallen</td>\n",
              "      <td>LKP_Doc2_Angel_has_fallen</td>\n",
              "      <td>LKP_Doc3_Angel_has_fallen</td>\n",
              "    </tr>\n",
              "    <tr>\n",
              "      <th>Student Name</th>\n",
              "      <td>LKP</td>\n",
              "      <td>LKP</td>\n",
              "      <td>LKP</td>\n",
              "    </tr>\n",
              "    <tr>\n",
              "      <th>Genre of Movie</th>\n",
              "      <td>Action</td>\n",
              "      <td>Action</td>\n",
              "      <td>Action</td>\n",
              "    </tr>\n",
              "    <tr>\n",
              "      <th>Review Type (pos or neg)</th>\n",
              "      <td>Negative</td>\n",
              "      <td>Negative</td>\n",
              "      <td>Negative</td>\n",
              "    </tr>\n",
              "    <tr>\n",
              "      <th>Movie Title</th>\n",
              "      <td>Angel_has_fallen</td>\n",
              "      <td>Angel_has_fallen</td>\n",
              "      <td>Angel_has_fallen</td>\n",
              "    </tr>\n",
              "    <tr>\n",
              "      <th>Descriptor</th>\n",
              "      <td>Action_Angel_has_fallen_N_90</td>\n",
              "      <td>Action_Angel_has_fallen_N_91</td>\n",
              "      <td>Action_Angel_has_fallen_N_92</td>\n",
              "    </tr>\n",
              "    <tr>\n",
              "      <th>Doc_ID</th>\n",
              "      <td>90</td>\n",
              "      <td>91</td>\n",
              "      <td>92</td>\n",
              "    </tr>\n",
              "    <tr>\n",
              "      <th>raw_sentences</th>\n",
              "      <td>[Target is on the move . '', Heavily outnumber...</td>\n",
              "      <td>[The sleepy , dopey action bonanza `` Angel Ha...</td>\n",
              "      <td>[`` Angel Has Fallen '' marks the third time t...</td>\n",
              "    </tr>\n",
              "  </tbody>\n",
              "</table>\n",
              "</div>\n",
              "    <div class=\"colab-df-buttons\">\n",
              "\n",
              "  <div class=\"colab-df-container\">\n",
              "    <button class=\"colab-df-convert\" onclick=\"convertToInteractive('df-c7411d6b-eb09-4526-87dd-b21bdb6bc0c6')\"\n",
              "            title=\"Convert this dataframe to an interactive table.\"\n",
              "            style=\"display:none;\">\n",
              "\n",
              "  <svg xmlns=\"http://www.w3.org/2000/svg\" height=\"24px\" viewBox=\"0 -960 960 960\">\n",
              "    <path d=\"M120-120v-720h720v720H120Zm60-500h600v-160H180v160Zm220 220h160v-160H400v160Zm0 220h160v-160H400v160ZM180-400h160v-160H180v160Zm440 0h160v-160H620v160ZM180-180h160v-160H180v160Zm440 0h160v-160H620v160Z\"/>\n",
              "  </svg>\n",
              "    </button>\n",
              "\n",
              "  <style>\n",
              "    .colab-df-container {\n",
              "      display:flex;\n",
              "      gap: 12px;\n",
              "    }\n",
              "\n",
              "    .colab-df-convert {\n",
              "      background-color: #E8F0FE;\n",
              "      border: none;\n",
              "      border-radius: 50%;\n",
              "      cursor: pointer;\n",
              "      display: none;\n",
              "      fill: #1967D2;\n",
              "      height: 32px;\n",
              "      padding: 0 0 0 0;\n",
              "      width: 32px;\n",
              "    }\n",
              "\n",
              "    .colab-df-convert:hover {\n",
              "      background-color: #E2EBFA;\n",
              "      box-shadow: 0px 1px 2px rgba(60, 64, 67, 0.3), 0px 1px 3px 1px rgba(60, 64, 67, 0.15);\n",
              "      fill: #174EA6;\n",
              "    }\n",
              "\n",
              "    .colab-df-buttons div {\n",
              "      margin-bottom: 4px;\n",
              "    }\n",
              "\n",
              "    [theme=dark] .colab-df-convert {\n",
              "      background-color: #3B4455;\n",
              "      fill: #D2E3FC;\n",
              "    }\n",
              "\n",
              "    [theme=dark] .colab-df-convert:hover {\n",
              "      background-color: #434B5C;\n",
              "      box-shadow: 0px 1px 3px 1px rgba(0, 0, 0, 0.15);\n",
              "      filter: drop-shadow(0px 1px 2px rgba(0, 0, 0, 0.3));\n",
              "      fill: #FFFFFF;\n",
              "    }\n",
              "  </style>\n",
              "\n",
              "    <script>\n",
              "      const buttonEl =\n",
              "        document.querySelector('#df-c7411d6b-eb09-4526-87dd-b21bdb6bc0c6 button.colab-df-convert');\n",
              "      buttonEl.style.display =\n",
              "        google.colab.kernel.accessAllowed ? 'block' : 'none';\n",
              "\n",
              "      async function convertToInteractive(key) {\n",
              "        const element = document.querySelector('#df-c7411d6b-eb09-4526-87dd-b21bdb6bc0c6');\n",
              "        const dataTable =\n",
              "          await google.colab.kernel.invokeFunction('convertToInteractive',\n",
              "                                                    [key], {});\n",
              "        if (!dataTable) return;\n",
              "\n",
              "        const docLinkHtml = 'Like what you see? Visit the ' +\n",
              "          '<a target=\"_blank\" href=https://colab.research.google.com/notebooks/data_table.ipynb>data table notebook</a>'\n",
              "          + ' to learn more about interactive tables.';\n",
              "        element.innerHTML = '';\n",
              "        dataTable['output_type'] = 'display_data';\n",
              "        await google.colab.output.renderOutput(dataTable, element);\n",
              "        const docLink = document.createElement('div');\n",
              "        docLink.innerHTML = docLinkHtml;\n",
              "        element.appendChild(docLink);\n",
              "      }\n",
              "    </script>\n",
              "  </div>\n",
              "\n",
              "\n",
              "<div id=\"df-739d5601-aec2-4159-95f7-48d1f0ddef65\">\n",
              "  <button class=\"colab-df-quickchart\" onclick=\"quickchart('df-739d5601-aec2-4159-95f7-48d1f0ddef65')\"\n",
              "            title=\"Suggest charts.\"\n",
              "            style=\"display:none;\">\n",
              "\n",
              "<svg xmlns=\"http://www.w3.org/2000/svg\" height=\"24px\"viewBox=\"0 0 24 24\"\n",
              "     width=\"24px\">\n",
              "    <g>\n",
              "        <path d=\"M19 3H5c-1.1 0-2 .9-2 2v14c0 1.1.9 2 2 2h14c1.1 0 2-.9 2-2V5c0-1.1-.9-2-2-2zM9 17H7v-7h2v7zm4 0h-2V7h2v10zm4 0h-2v-4h2v4z\"/>\n",
              "    </g>\n",
              "</svg>\n",
              "  </button>\n",
              "\n",
              "<style>\n",
              "  .colab-df-quickchart {\n",
              "      --bg-color: #E8F0FE;\n",
              "      --fill-color: #1967D2;\n",
              "      --hover-bg-color: #E2EBFA;\n",
              "      --hover-fill-color: #174EA6;\n",
              "      --disabled-fill-color: #AAA;\n",
              "      --disabled-bg-color: #DDD;\n",
              "  }\n",
              "\n",
              "  [theme=dark] .colab-df-quickchart {\n",
              "      --bg-color: #3B4455;\n",
              "      --fill-color: #D2E3FC;\n",
              "      --hover-bg-color: #434B5C;\n",
              "      --hover-fill-color: #FFFFFF;\n",
              "      --disabled-bg-color: #3B4455;\n",
              "      --disabled-fill-color: #666;\n",
              "  }\n",
              "\n",
              "  .colab-df-quickchart {\n",
              "    background-color: var(--bg-color);\n",
              "    border: none;\n",
              "    border-radius: 50%;\n",
              "    cursor: pointer;\n",
              "    display: none;\n",
              "    fill: var(--fill-color);\n",
              "    height: 32px;\n",
              "    padding: 0;\n",
              "    width: 32px;\n",
              "  }\n",
              "\n",
              "  .colab-df-quickchart:hover {\n",
              "    background-color: var(--hover-bg-color);\n",
              "    box-shadow: 0 1px 2px rgba(60, 64, 67, 0.3), 0 1px 3px 1px rgba(60, 64, 67, 0.15);\n",
              "    fill: var(--button-hover-fill-color);\n",
              "  }\n",
              "\n",
              "  .colab-df-quickchart-complete:disabled,\n",
              "  .colab-df-quickchart-complete:disabled:hover {\n",
              "    background-color: var(--disabled-bg-color);\n",
              "    fill: var(--disabled-fill-color);\n",
              "    box-shadow: none;\n",
              "  }\n",
              "\n",
              "  .colab-df-spinner {\n",
              "    border: 2px solid var(--fill-color);\n",
              "    border-color: transparent;\n",
              "    border-bottom-color: var(--fill-color);\n",
              "    animation:\n",
              "      spin 1s steps(1) infinite;\n",
              "  }\n",
              "\n",
              "  @keyframes spin {\n",
              "    0% {\n",
              "      border-color: transparent;\n",
              "      border-bottom-color: var(--fill-color);\n",
              "      border-left-color: var(--fill-color);\n",
              "    }\n",
              "    20% {\n",
              "      border-color: transparent;\n",
              "      border-left-color: var(--fill-color);\n",
              "      border-top-color: var(--fill-color);\n",
              "    }\n",
              "    30% {\n",
              "      border-color: transparent;\n",
              "      border-left-color: var(--fill-color);\n",
              "      border-top-color: var(--fill-color);\n",
              "      border-right-color: var(--fill-color);\n",
              "    }\n",
              "    40% {\n",
              "      border-color: transparent;\n",
              "      border-right-color: var(--fill-color);\n",
              "      border-top-color: var(--fill-color);\n",
              "    }\n",
              "    60% {\n",
              "      border-color: transparent;\n",
              "      border-right-color: var(--fill-color);\n",
              "    }\n",
              "    80% {\n",
              "      border-color: transparent;\n",
              "      border-right-color: var(--fill-color);\n",
              "      border-bottom-color: var(--fill-color);\n",
              "    }\n",
              "    90% {\n",
              "      border-color: transparent;\n",
              "      border-bottom-color: var(--fill-color);\n",
              "    }\n",
              "  }\n",
              "</style>\n",
              "\n",
              "  <script>\n",
              "    async function quickchart(key) {\n",
              "      const quickchartButtonEl =\n",
              "        document.querySelector('#' + key + ' button');\n",
              "      quickchartButtonEl.disabled = true;  // To prevent multiple clicks.\n",
              "      quickchartButtonEl.classList.add('colab-df-spinner');\n",
              "      try {\n",
              "        const charts = await google.colab.kernel.invokeFunction(\n",
              "            'suggestCharts', [key], {});\n",
              "      } catch (error) {\n",
              "        console.error('Error during call to suggestCharts:', error);\n",
              "      }\n",
              "      quickchartButtonEl.classList.remove('colab-df-spinner');\n",
              "      quickchartButtonEl.classList.add('colab-df-quickchart-complete');\n",
              "    }\n",
              "    (() => {\n",
              "      let quickchartButtonEl =\n",
              "        document.querySelector('#df-739d5601-aec2-4159-95f7-48d1f0ddef65 button');\n",
              "      quickchartButtonEl.style.display =\n",
              "        google.colab.kernel.accessAllowed ? 'block' : 'none';\n",
              "    })();\n",
              "  </script>\n",
              "</div>\n",
              "    </div>\n",
              "  </div>\n"
            ]
          },
          "metadata": {},
          "execution_count": 12
        }
      ],
      "source": [
        "# Tokenize sentences\n",
        "corpus_df['raw_sentences'] = corpus_df.Text.apply(get_sentences)\n",
        "corpus_df.head(3).T"
      ],
      "id": "x0DA0tgGa3Af"
    },
    {
      "cell_type": "markdown",
      "metadata": {
        "id": "Tjsk_ujna3Af"
      },
      "source": [
        "## Tokenize Words"
      ],
      "id": "Tjsk_ujna3Af"
    },
    {
      "cell_type": "code",
      "execution_count": 13,
      "metadata": {
        "scrolled": false,
        "colab": {
          "base_uri": "https://localhost:8080/"
        },
        "id": "cYstpp6Ga3Af",
        "outputId": "ecf9811b-dd41-48e7-ceda-bcd0ecc35f5e"
      },
      "outputs": [
        {
          "output_type": "execute_result",
          "data": {
            "text/plain": [
              "Doc_ID\n",
              "90    [target, heavily, outnumber, outgunne, mike, b...\n",
              "91    [sleepy, dopey, action, bonanza, angel, fall, ...\n",
              "92    [angel, fall, mark, time, gerard, butler, secr...\n",
              "93    [improve, blandness, mike, banning, gerard, bu...\n",
              "94    [review, contain, spoiler, angel, fallen, movi...\n",
              "Name: lemmas, dtype: object"
            ]
          },
          "metadata": {},
          "execution_count": 13
        }
      ],
      "source": [
        "default_stopwords=\\\n",
        "set(nltk.corpus.stopwords.words('english')).union(set(nlp.Defaults.stop_words)).union({' ', ''})\n",
        "corpus_df['lemmas'] = corpus_df.Text.apply(lambda x: get_lemmas(x, default_stopwords))\n",
        "corpus_df.lemmas.head()"
      ],
      "id": "cYstpp6Ga3Af"
    },
    {
      "cell_type": "code",
      "execution_count": 14,
      "metadata": {
        "colab": {
          "base_uri": "https://localhost:8080/",
          "height": 395
        },
        "id": "XtQnmBvAa3Af",
        "outputId": "af3502b4-163e-4307-8633-73e6f0cc41ce"
      },
      "outputs": [
        {
          "output_type": "execute_result",
          "data": {
            "text/plain": [
              "Doc_ID                                                                   90  \\\n",
              "DSI_Title                                         LKP_Doc1_Angel_has_fallen   \n",
              "Text                      Target is on the move . '' Heavily outnumbered...   \n",
              "Submission File Name                              LKP_Doc1_Angel_has_fallen   \n",
              "Student Name                                                            LKP   \n",
              "Genre of Movie                                                       Action   \n",
              "Review Type (pos or neg)                                           Negative   \n",
              "Movie Title                                                Angel_has_fallen   \n",
              "Descriptor                                     Action_Angel_has_fallen_N_90   \n",
              "Doc_ID                                                                   90   \n",
              "raw_sentences             [Target is on the move . '', Heavily outnumber...   \n",
              "lemmas                    [target, heavily, outnumber, outgunne, mike, b...   \n",
              "\n",
              "Doc_ID                                                                   91  \\\n",
              "DSI_Title                                         LKP_Doc2_Angel_has_fallen   \n",
              "Text                      The sleepy , dopey action bonanza `` Angel Has...   \n",
              "Submission File Name                              LKP_Doc2_Angel_has_fallen   \n",
              "Student Name                                                            LKP   \n",
              "Genre of Movie                                                       Action   \n",
              "Review Type (pos or neg)                                           Negative   \n",
              "Movie Title                                                Angel_has_fallen   \n",
              "Descriptor                                     Action_Angel_has_fallen_N_91   \n",
              "Doc_ID                                                                   91   \n",
              "raw_sentences             [The sleepy , dopey action bonanza `` Angel Ha...   \n",
              "lemmas                    [sleepy, dopey, action, bonanza, angel, fall, ...   \n",
              "\n",
              "Doc_ID                                                                   92  \n",
              "DSI_Title                                         LKP_Doc3_Angel_has_fallen  \n",
              "Text                      `` Angel Has Fallen '' marks the third time th...  \n",
              "Submission File Name                              LKP_Doc3_Angel_has_fallen  \n",
              "Student Name                                                            LKP  \n",
              "Genre of Movie                                                       Action  \n",
              "Review Type (pos or neg)                                           Negative  \n",
              "Movie Title                                                Angel_has_fallen  \n",
              "Descriptor                                     Action_Angel_has_fallen_N_92  \n",
              "Doc_ID                                                                   92  \n",
              "raw_sentences             [`` Angel Has Fallen '' marks the third time t...  \n",
              "lemmas                    [angel, fall, mark, time, gerard, butler, secr...  "
            ],
            "text/html": [
              "\n",
              "  <div id=\"df-fd9a9779-778b-404b-88e3-9eee5f42c80c\" class=\"colab-df-container\">\n",
              "    <div>\n",
              "<style scoped>\n",
              "    .dataframe tbody tr th:only-of-type {\n",
              "        vertical-align: middle;\n",
              "    }\n",
              "\n",
              "    .dataframe tbody tr th {\n",
              "        vertical-align: top;\n",
              "    }\n",
              "\n",
              "    .dataframe thead th {\n",
              "        text-align: right;\n",
              "    }\n",
              "</style>\n",
              "<table border=\"1\" class=\"dataframe\">\n",
              "  <thead>\n",
              "    <tr style=\"text-align: right;\">\n",
              "      <th>Doc_ID</th>\n",
              "      <th>90</th>\n",
              "      <th>91</th>\n",
              "      <th>92</th>\n",
              "    </tr>\n",
              "  </thead>\n",
              "  <tbody>\n",
              "    <tr>\n",
              "      <th>DSI_Title</th>\n",
              "      <td>LKP_Doc1_Angel_has_fallen</td>\n",
              "      <td>LKP_Doc2_Angel_has_fallen</td>\n",
              "      <td>LKP_Doc3_Angel_has_fallen</td>\n",
              "    </tr>\n",
              "    <tr>\n",
              "      <th>Text</th>\n",
              "      <td>Target is on the move . '' Heavily outnumbered...</td>\n",
              "      <td>The sleepy , dopey action bonanza `` Angel Has...</td>\n",
              "      <td>`` Angel Has Fallen '' marks the third time th...</td>\n",
              "    </tr>\n",
              "    <tr>\n",
              "      <th>Submission File Name</th>\n",
              "      <td>LKP_Doc1_Angel_has_fallen</td>\n",
              "      <td>LKP_Doc2_Angel_has_fallen</td>\n",
              "      <td>LKP_Doc3_Angel_has_fallen</td>\n",
              "    </tr>\n",
              "    <tr>\n",
              "      <th>Student Name</th>\n",
              "      <td>LKP</td>\n",
              "      <td>LKP</td>\n",
              "      <td>LKP</td>\n",
              "    </tr>\n",
              "    <tr>\n",
              "      <th>Genre of Movie</th>\n",
              "      <td>Action</td>\n",
              "      <td>Action</td>\n",
              "      <td>Action</td>\n",
              "    </tr>\n",
              "    <tr>\n",
              "      <th>Review Type (pos or neg)</th>\n",
              "      <td>Negative</td>\n",
              "      <td>Negative</td>\n",
              "      <td>Negative</td>\n",
              "    </tr>\n",
              "    <tr>\n",
              "      <th>Movie Title</th>\n",
              "      <td>Angel_has_fallen</td>\n",
              "      <td>Angel_has_fallen</td>\n",
              "      <td>Angel_has_fallen</td>\n",
              "    </tr>\n",
              "    <tr>\n",
              "      <th>Descriptor</th>\n",
              "      <td>Action_Angel_has_fallen_N_90</td>\n",
              "      <td>Action_Angel_has_fallen_N_91</td>\n",
              "      <td>Action_Angel_has_fallen_N_92</td>\n",
              "    </tr>\n",
              "    <tr>\n",
              "      <th>Doc_ID</th>\n",
              "      <td>90</td>\n",
              "      <td>91</td>\n",
              "      <td>92</td>\n",
              "    </tr>\n",
              "    <tr>\n",
              "      <th>raw_sentences</th>\n",
              "      <td>[Target is on the move . '', Heavily outnumber...</td>\n",
              "      <td>[The sleepy , dopey action bonanza `` Angel Ha...</td>\n",
              "      <td>[`` Angel Has Fallen '' marks the third time t...</td>\n",
              "    </tr>\n",
              "    <tr>\n",
              "      <th>lemmas</th>\n",
              "      <td>[target, heavily, outnumber, outgunne, mike, b...</td>\n",
              "      <td>[sleepy, dopey, action, bonanza, angel, fall, ...</td>\n",
              "      <td>[angel, fall, mark, time, gerard, butler, secr...</td>\n",
              "    </tr>\n",
              "  </tbody>\n",
              "</table>\n",
              "</div>\n",
              "    <div class=\"colab-df-buttons\">\n",
              "\n",
              "  <div class=\"colab-df-container\">\n",
              "    <button class=\"colab-df-convert\" onclick=\"convertToInteractive('df-fd9a9779-778b-404b-88e3-9eee5f42c80c')\"\n",
              "            title=\"Convert this dataframe to an interactive table.\"\n",
              "            style=\"display:none;\">\n",
              "\n",
              "  <svg xmlns=\"http://www.w3.org/2000/svg\" height=\"24px\" viewBox=\"0 -960 960 960\">\n",
              "    <path d=\"M120-120v-720h720v720H120Zm60-500h600v-160H180v160Zm220 220h160v-160H400v160Zm0 220h160v-160H400v160ZM180-400h160v-160H180v160Zm440 0h160v-160H620v160ZM180-180h160v-160H180v160Zm440 0h160v-160H620v160Z\"/>\n",
              "  </svg>\n",
              "    </button>\n",
              "\n",
              "  <style>\n",
              "    .colab-df-container {\n",
              "      display:flex;\n",
              "      gap: 12px;\n",
              "    }\n",
              "\n",
              "    .colab-df-convert {\n",
              "      background-color: #E8F0FE;\n",
              "      border: none;\n",
              "      border-radius: 50%;\n",
              "      cursor: pointer;\n",
              "      display: none;\n",
              "      fill: #1967D2;\n",
              "      height: 32px;\n",
              "      padding: 0 0 0 0;\n",
              "      width: 32px;\n",
              "    }\n",
              "\n",
              "    .colab-df-convert:hover {\n",
              "      background-color: #E2EBFA;\n",
              "      box-shadow: 0px 1px 2px rgba(60, 64, 67, 0.3), 0px 1px 3px 1px rgba(60, 64, 67, 0.15);\n",
              "      fill: #174EA6;\n",
              "    }\n",
              "\n",
              "    .colab-df-buttons div {\n",
              "      margin-bottom: 4px;\n",
              "    }\n",
              "\n",
              "    [theme=dark] .colab-df-convert {\n",
              "      background-color: #3B4455;\n",
              "      fill: #D2E3FC;\n",
              "    }\n",
              "\n",
              "    [theme=dark] .colab-df-convert:hover {\n",
              "      background-color: #434B5C;\n",
              "      box-shadow: 0px 1px 3px 1px rgba(0, 0, 0, 0.15);\n",
              "      filter: drop-shadow(0px 1px 2px rgba(0, 0, 0, 0.3));\n",
              "      fill: #FFFFFF;\n",
              "    }\n",
              "  </style>\n",
              "\n",
              "    <script>\n",
              "      const buttonEl =\n",
              "        document.querySelector('#df-fd9a9779-778b-404b-88e3-9eee5f42c80c button.colab-df-convert');\n",
              "      buttonEl.style.display =\n",
              "        google.colab.kernel.accessAllowed ? 'block' : 'none';\n",
              "\n",
              "      async function convertToInteractive(key) {\n",
              "        const element = document.querySelector('#df-fd9a9779-778b-404b-88e3-9eee5f42c80c');\n",
              "        const dataTable =\n",
              "          await google.colab.kernel.invokeFunction('convertToInteractive',\n",
              "                                                    [key], {});\n",
              "        if (!dataTable) return;\n",
              "\n",
              "        const docLinkHtml = 'Like what you see? Visit the ' +\n",
              "          '<a target=\"_blank\" href=https://colab.research.google.com/notebooks/data_table.ipynb>data table notebook</a>'\n",
              "          + ' to learn more about interactive tables.';\n",
              "        element.innerHTML = '';\n",
              "        dataTable['output_type'] = 'display_data';\n",
              "        await google.colab.output.renderOutput(dataTable, element);\n",
              "        const docLink = document.createElement('div');\n",
              "        docLink.innerHTML = docLinkHtml;\n",
              "        element.appendChild(docLink);\n",
              "      }\n",
              "    </script>\n",
              "  </div>\n",
              "\n",
              "\n",
              "<div id=\"df-c4f09218-1f02-4a2b-bab3-4b09848b1a1b\">\n",
              "  <button class=\"colab-df-quickchart\" onclick=\"quickchart('df-c4f09218-1f02-4a2b-bab3-4b09848b1a1b')\"\n",
              "            title=\"Suggest charts.\"\n",
              "            style=\"display:none;\">\n",
              "\n",
              "<svg xmlns=\"http://www.w3.org/2000/svg\" height=\"24px\"viewBox=\"0 0 24 24\"\n",
              "     width=\"24px\">\n",
              "    <g>\n",
              "        <path d=\"M19 3H5c-1.1 0-2 .9-2 2v14c0 1.1.9 2 2 2h14c1.1 0 2-.9 2-2V5c0-1.1-.9-2-2-2zM9 17H7v-7h2v7zm4 0h-2V7h2v10zm4 0h-2v-4h2v4z\"/>\n",
              "    </g>\n",
              "</svg>\n",
              "  </button>\n",
              "\n",
              "<style>\n",
              "  .colab-df-quickchart {\n",
              "      --bg-color: #E8F0FE;\n",
              "      --fill-color: #1967D2;\n",
              "      --hover-bg-color: #E2EBFA;\n",
              "      --hover-fill-color: #174EA6;\n",
              "      --disabled-fill-color: #AAA;\n",
              "      --disabled-bg-color: #DDD;\n",
              "  }\n",
              "\n",
              "  [theme=dark] .colab-df-quickchart {\n",
              "      --bg-color: #3B4455;\n",
              "      --fill-color: #D2E3FC;\n",
              "      --hover-bg-color: #434B5C;\n",
              "      --hover-fill-color: #FFFFFF;\n",
              "      --disabled-bg-color: #3B4455;\n",
              "      --disabled-fill-color: #666;\n",
              "  }\n",
              "\n",
              "  .colab-df-quickchart {\n",
              "    background-color: var(--bg-color);\n",
              "    border: none;\n",
              "    border-radius: 50%;\n",
              "    cursor: pointer;\n",
              "    display: none;\n",
              "    fill: var(--fill-color);\n",
              "    height: 32px;\n",
              "    padding: 0;\n",
              "    width: 32px;\n",
              "  }\n",
              "\n",
              "  .colab-df-quickchart:hover {\n",
              "    background-color: var(--hover-bg-color);\n",
              "    box-shadow: 0 1px 2px rgba(60, 64, 67, 0.3), 0 1px 3px 1px rgba(60, 64, 67, 0.15);\n",
              "    fill: var(--button-hover-fill-color);\n",
              "  }\n",
              "\n",
              "  .colab-df-quickchart-complete:disabled,\n",
              "  .colab-df-quickchart-complete:disabled:hover {\n",
              "    background-color: var(--disabled-bg-color);\n",
              "    fill: var(--disabled-fill-color);\n",
              "    box-shadow: none;\n",
              "  }\n",
              "\n",
              "  .colab-df-spinner {\n",
              "    border: 2px solid var(--fill-color);\n",
              "    border-color: transparent;\n",
              "    border-bottom-color: var(--fill-color);\n",
              "    animation:\n",
              "      spin 1s steps(1) infinite;\n",
              "  }\n",
              "\n",
              "  @keyframes spin {\n",
              "    0% {\n",
              "      border-color: transparent;\n",
              "      border-bottom-color: var(--fill-color);\n",
              "      border-left-color: var(--fill-color);\n",
              "    }\n",
              "    20% {\n",
              "      border-color: transparent;\n",
              "      border-left-color: var(--fill-color);\n",
              "      border-top-color: var(--fill-color);\n",
              "    }\n",
              "    30% {\n",
              "      border-color: transparent;\n",
              "      border-left-color: var(--fill-color);\n",
              "      border-top-color: var(--fill-color);\n",
              "      border-right-color: var(--fill-color);\n",
              "    }\n",
              "    40% {\n",
              "      border-color: transparent;\n",
              "      border-right-color: var(--fill-color);\n",
              "      border-top-color: var(--fill-color);\n",
              "    }\n",
              "    60% {\n",
              "      border-color: transparent;\n",
              "      border-right-color: var(--fill-color);\n",
              "    }\n",
              "    80% {\n",
              "      border-color: transparent;\n",
              "      border-right-color: var(--fill-color);\n",
              "      border-bottom-color: var(--fill-color);\n",
              "    }\n",
              "    90% {\n",
              "      border-color: transparent;\n",
              "      border-bottom-color: var(--fill-color);\n",
              "    }\n",
              "  }\n",
              "</style>\n",
              "\n",
              "  <script>\n",
              "    async function quickchart(key) {\n",
              "      const quickchartButtonEl =\n",
              "        document.querySelector('#' + key + ' button');\n",
              "      quickchartButtonEl.disabled = true;  // To prevent multiple clicks.\n",
              "      quickchartButtonEl.classList.add('colab-df-spinner');\n",
              "      try {\n",
              "        const charts = await google.colab.kernel.invokeFunction(\n",
              "            'suggestCharts', [key], {});\n",
              "      } catch (error) {\n",
              "        console.error('Error during call to suggestCharts:', error);\n",
              "      }\n",
              "      quickchartButtonEl.classList.remove('colab-df-spinner');\n",
              "      quickchartButtonEl.classList.add('colab-df-quickchart-complete');\n",
              "    }\n",
              "    (() => {\n",
              "      let quickchartButtonEl =\n",
              "        document.querySelector('#df-c4f09218-1f02-4a2b-bab3-4b09848b1a1b button');\n",
              "      quickchartButtonEl.style.display =\n",
              "        google.colab.kernel.accessAllowed ? 'block' : 'none';\n",
              "    })();\n",
              "  </script>\n",
              "</div>\n",
              "    </div>\n",
              "  </div>\n"
            ]
          },
          "metadata": {},
          "execution_count": 14
        }
      ],
      "source": [
        "corpus_df.head(3).T"
      ],
      "id": "XtQnmBvAa3Af"
    },
    {
      "cell_type": "markdown",
      "metadata": {
        "id": "_1mQRpq4a3Af"
      },
      "source": [
        "## Reassemble Leminized Words"
      ],
      "id": "_1mQRpq4a3Af"
    },
    {
      "cell_type": "code",
      "execution_count": 15,
      "metadata": {
        "id": "s1sDV0zQa3Ag"
      },
      "outputs": [],
      "source": [
        "corpus_df['lemmas_joined'] = corpus_df.lemmas.apply(lambda x: ' '.join(x))"
      ],
      "id": "s1sDV0zQa3Ag"
    },
    {
      "cell_type": "code",
      "execution_count": 16,
      "metadata": {
        "colab": {
          "base_uri": "https://localhost:8080/"
        },
        "id": "6Ma4bVjEa3Ag",
        "outputId": "0ae76c89-e949-4707-ab15-7b679cd6db77"
      },
      "outputs": [
        {
          "output_type": "execute_result",
          "data": {
            "text/plain": [
              "Doc_ID\n",
              "90    target heavily outnumber outgunne mike banning...\n",
              "91    sleepy dopey action bonanza angel fall disappo...\n",
              "92    angel fall mark time gerard butler secret serv...\n",
              "93    improve blandness mike banning gerard butler w...\n",
              "94    review contain spoiler angel fallen movie extr...\n",
              "Name: lemmas_joined, dtype: object"
            ]
          },
          "metadata": {},
          "execution_count": 16
        }
      ],
      "source": [
        "corpus_df['lemmas_joined'].head()"
      ],
      "id": "6Ma4bVjEa3Ag"
    },
    {
      "cell_type": "code",
      "execution_count": 17,
      "metadata": {
        "colab": {
          "base_uri": "https://localhost:8080/",
          "height": 426
        },
        "id": "jw0ZsRpda3Ag",
        "outputId": "526192e8-8e5f-4f9c-b045-69569bd43d15"
      },
      "outputs": [
        {
          "output_type": "execute_result",
          "data": {
            "text/plain": [
              "Doc_ID                                                                   90  \\\n",
              "DSI_Title                                         LKP_Doc1_Angel_has_fallen   \n",
              "Text                      Target is on the move . '' Heavily outnumbered...   \n",
              "Submission File Name                              LKP_Doc1_Angel_has_fallen   \n",
              "Student Name                                                            LKP   \n",
              "Genre of Movie                                                       Action   \n",
              "Review Type (pos or neg)                                           Negative   \n",
              "Movie Title                                                Angel_has_fallen   \n",
              "Descriptor                                     Action_Angel_has_fallen_N_90   \n",
              "Doc_ID                                                                   90   \n",
              "raw_sentences             [Target is on the move . '', Heavily outnumber...   \n",
              "lemmas                    [target, heavily, outnumber, outgunne, mike, b...   \n",
              "lemmas_joined             target heavily outnumber outgunne mike banning...   \n",
              "\n",
              "Doc_ID                                                                   91  \\\n",
              "DSI_Title                                         LKP_Doc2_Angel_has_fallen   \n",
              "Text                      The sleepy , dopey action bonanza `` Angel Has...   \n",
              "Submission File Name                              LKP_Doc2_Angel_has_fallen   \n",
              "Student Name                                                            LKP   \n",
              "Genre of Movie                                                       Action   \n",
              "Review Type (pos or neg)                                           Negative   \n",
              "Movie Title                                                Angel_has_fallen   \n",
              "Descriptor                                     Action_Angel_has_fallen_N_91   \n",
              "Doc_ID                                                                   91   \n",
              "raw_sentences             [The sleepy , dopey action bonanza `` Angel Ha...   \n",
              "lemmas                    [sleepy, dopey, action, bonanza, angel, fall, ...   \n",
              "lemmas_joined             sleepy dopey action bonanza angel fall disappo...   \n",
              "\n",
              "Doc_ID                                                                   92  \n",
              "DSI_Title                                         LKP_Doc3_Angel_has_fallen  \n",
              "Text                      `` Angel Has Fallen '' marks the third time th...  \n",
              "Submission File Name                              LKP_Doc3_Angel_has_fallen  \n",
              "Student Name                                                            LKP  \n",
              "Genre of Movie                                                       Action  \n",
              "Review Type (pos or neg)                                           Negative  \n",
              "Movie Title                                                Angel_has_fallen  \n",
              "Descriptor                                     Action_Angel_has_fallen_N_92  \n",
              "Doc_ID                                                                   92  \n",
              "raw_sentences             [`` Angel Has Fallen '' marks the third time t...  \n",
              "lemmas                    [angel, fall, mark, time, gerard, butler, secr...  \n",
              "lemmas_joined             angel fall mark time gerard butler secret serv...  "
            ],
            "text/html": [
              "\n",
              "  <div id=\"df-73575b4c-1063-4056-9de1-cb733c8a8f72\" class=\"colab-df-container\">\n",
              "    <div>\n",
              "<style scoped>\n",
              "    .dataframe tbody tr th:only-of-type {\n",
              "        vertical-align: middle;\n",
              "    }\n",
              "\n",
              "    .dataframe tbody tr th {\n",
              "        vertical-align: top;\n",
              "    }\n",
              "\n",
              "    .dataframe thead th {\n",
              "        text-align: right;\n",
              "    }\n",
              "</style>\n",
              "<table border=\"1\" class=\"dataframe\">\n",
              "  <thead>\n",
              "    <tr style=\"text-align: right;\">\n",
              "      <th>Doc_ID</th>\n",
              "      <th>90</th>\n",
              "      <th>91</th>\n",
              "      <th>92</th>\n",
              "    </tr>\n",
              "  </thead>\n",
              "  <tbody>\n",
              "    <tr>\n",
              "      <th>DSI_Title</th>\n",
              "      <td>LKP_Doc1_Angel_has_fallen</td>\n",
              "      <td>LKP_Doc2_Angel_has_fallen</td>\n",
              "      <td>LKP_Doc3_Angel_has_fallen</td>\n",
              "    </tr>\n",
              "    <tr>\n",
              "      <th>Text</th>\n",
              "      <td>Target is on the move . '' Heavily outnumbered...</td>\n",
              "      <td>The sleepy , dopey action bonanza `` Angel Has...</td>\n",
              "      <td>`` Angel Has Fallen '' marks the third time th...</td>\n",
              "    </tr>\n",
              "    <tr>\n",
              "      <th>Submission File Name</th>\n",
              "      <td>LKP_Doc1_Angel_has_fallen</td>\n",
              "      <td>LKP_Doc2_Angel_has_fallen</td>\n",
              "      <td>LKP_Doc3_Angel_has_fallen</td>\n",
              "    </tr>\n",
              "    <tr>\n",
              "      <th>Student Name</th>\n",
              "      <td>LKP</td>\n",
              "      <td>LKP</td>\n",
              "      <td>LKP</td>\n",
              "    </tr>\n",
              "    <tr>\n",
              "      <th>Genre of Movie</th>\n",
              "      <td>Action</td>\n",
              "      <td>Action</td>\n",
              "      <td>Action</td>\n",
              "    </tr>\n",
              "    <tr>\n",
              "      <th>Review Type (pos or neg)</th>\n",
              "      <td>Negative</td>\n",
              "      <td>Negative</td>\n",
              "      <td>Negative</td>\n",
              "    </tr>\n",
              "    <tr>\n",
              "      <th>Movie Title</th>\n",
              "      <td>Angel_has_fallen</td>\n",
              "      <td>Angel_has_fallen</td>\n",
              "      <td>Angel_has_fallen</td>\n",
              "    </tr>\n",
              "    <tr>\n",
              "      <th>Descriptor</th>\n",
              "      <td>Action_Angel_has_fallen_N_90</td>\n",
              "      <td>Action_Angel_has_fallen_N_91</td>\n",
              "      <td>Action_Angel_has_fallen_N_92</td>\n",
              "    </tr>\n",
              "    <tr>\n",
              "      <th>Doc_ID</th>\n",
              "      <td>90</td>\n",
              "      <td>91</td>\n",
              "      <td>92</td>\n",
              "    </tr>\n",
              "    <tr>\n",
              "      <th>raw_sentences</th>\n",
              "      <td>[Target is on the move . '', Heavily outnumber...</td>\n",
              "      <td>[The sleepy , dopey action bonanza `` Angel Ha...</td>\n",
              "      <td>[`` Angel Has Fallen '' marks the third time t...</td>\n",
              "    </tr>\n",
              "    <tr>\n",
              "      <th>lemmas</th>\n",
              "      <td>[target, heavily, outnumber, outgunne, mike, b...</td>\n",
              "      <td>[sleepy, dopey, action, bonanza, angel, fall, ...</td>\n",
              "      <td>[angel, fall, mark, time, gerard, butler, secr...</td>\n",
              "    </tr>\n",
              "    <tr>\n",
              "      <th>lemmas_joined</th>\n",
              "      <td>target heavily outnumber outgunne mike banning...</td>\n",
              "      <td>sleepy dopey action bonanza angel fall disappo...</td>\n",
              "      <td>angel fall mark time gerard butler secret serv...</td>\n",
              "    </tr>\n",
              "  </tbody>\n",
              "</table>\n",
              "</div>\n",
              "    <div class=\"colab-df-buttons\">\n",
              "\n",
              "  <div class=\"colab-df-container\">\n",
              "    <button class=\"colab-df-convert\" onclick=\"convertToInteractive('df-73575b4c-1063-4056-9de1-cb733c8a8f72')\"\n",
              "            title=\"Convert this dataframe to an interactive table.\"\n",
              "            style=\"display:none;\">\n",
              "\n",
              "  <svg xmlns=\"http://www.w3.org/2000/svg\" height=\"24px\" viewBox=\"0 -960 960 960\">\n",
              "    <path d=\"M120-120v-720h720v720H120Zm60-500h600v-160H180v160Zm220 220h160v-160H400v160Zm0 220h160v-160H400v160ZM180-400h160v-160H180v160Zm440 0h160v-160H620v160ZM180-180h160v-160H180v160Zm440 0h160v-160H620v160Z\"/>\n",
              "  </svg>\n",
              "    </button>\n",
              "\n",
              "  <style>\n",
              "    .colab-df-container {\n",
              "      display:flex;\n",
              "      gap: 12px;\n",
              "    }\n",
              "\n",
              "    .colab-df-convert {\n",
              "      background-color: #E8F0FE;\n",
              "      border: none;\n",
              "      border-radius: 50%;\n",
              "      cursor: pointer;\n",
              "      display: none;\n",
              "      fill: #1967D2;\n",
              "      height: 32px;\n",
              "      padding: 0 0 0 0;\n",
              "      width: 32px;\n",
              "    }\n",
              "\n",
              "    .colab-df-convert:hover {\n",
              "      background-color: #E2EBFA;\n",
              "      box-shadow: 0px 1px 2px rgba(60, 64, 67, 0.3), 0px 1px 3px 1px rgba(60, 64, 67, 0.15);\n",
              "      fill: #174EA6;\n",
              "    }\n",
              "\n",
              "    .colab-df-buttons div {\n",
              "      margin-bottom: 4px;\n",
              "    }\n",
              "\n",
              "    [theme=dark] .colab-df-convert {\n",
              "      background-color: #3B4455;\n",
              "      fill: #D2E3FC;\n",
              "    }\n",
              "\n",
              "    [theme=dark] .colab-df-convert:hover {\n",
              "      background-color: #434B5C;\n",
              "      box-shadow: 0px 1px 3px 1px rgba(0, 0, 0, 0.15);\n",
              "      filter: drop-shadow(0px 1px 2px rgba(0, 0, 0, 0.3));\n",
              "      fill: #FFFFFF;\n",
              "    }\n",
              "  </style>\n",
              "\n",
              "    <script>\n",
              "      const buttonEl =\n",
              "        document.querySelector('#df-73575b4c-1063-4056-9de1-cb733c8a8f72 button.colab-df-convert');\n",
              "      buttonEl.style.display =\n",
              "        google.colab.kernel.accessAllowed ? 'block' : 'none';\n",
              "\n",
              "      async function convertToInteractive(key) {\n",
              "        const element = document.querySelector('#df-73575b4c-1063-4056-9de1-cb733c8a8f72');\n",
              "        const dataTable =\n",
              "          await google.colab.kernel.invokeFunction('convertToInteractive',\n",
              "                                                    [key], {});\n",
              "        if (!dataTable) return;\n",
              "\n",
              "        const docLinkHtml = 'Like what you see? Visit the ' +\n",
              "          '<a target=\"_blank\" href=https://colab.research.google.com/notebooks/data_table.ipynb>data table notebook</a>'\n",
              "          + ' to learn more about interactive tables.';\n",
              "        element.innerHTML = '';\n",
              "        dataTable['output_type'] = 'display_data';\n",
              "        await google.colab.output.renderOutput(dataTable, element);\n",
              "        const docLink = document.createElement('div');\n",
              "        docLink.innerHTML = docLinkHtml;\n",
              "        element.appendChild(docLink);\n",
              "      }\n",
              "    </script>\n",
              "  </div>\n",
              "\n",
              "\n",
              "<div id=\"df-592c8231-5798-4644-9258-04b534f09efa\">\n",
              "  <button class=\"colab-df-quickchart\" onclick=\"quickchart('df-592c8231-5798-4644-9258-04b534f09efa')\"\n",
              "            title=\"Suggest charts.\"\n",
              "            style=\"display:none;\">\n",
              "\n",
              "<svg xmlns=\"http://www.w3.org/2000/svg\" height=\"24px\"viewBox=\"0 0 24 24\"\n",
              "     width=\"24px\">\n",
              "    <g>\n",
              "        <path d=\"M19 3H5c-1.1 0-2 .9-2 2v14c0 1.1.9 2 2 2h14c1.1 0 2-.9 2-2V5c0-1.1-.9-2-2-2zM9 17H7v-7h2v7zm4 0h-2V7h2v10zm4 0h-2v-4h2v4z\"/>\n",
              "    </g>\n",
              "</svg>\n",
              "  </button>\n",
              "\n",
              "<style>\n",
              "  .colab-df-quickchart {\n",
              "      --bg-color: #E8F0FE;\n",
              "      --fill-color: #1967D2;\n",
              "      --hover-bg-color: #E2EBFA;\n",
              "      --hover-fill-color: #174EA6;\n",
              "      --disabled-fill-color: #AAA;\n",
              "      --disabled-bg-color: #DDD;\n",
              "  }\n",
              "\n",
              "  [theme=dark] .colab-df-quickchart {\n",
              "      --bg-color: #3B4455;\n",
              "      --fill-color: #D2E3FC;\n",
              "      --hover-bg-color: #434B5C;\n",
              "      --hover-fill-color: #FFFFFF;\n",
              "      --disabled-bg-color: #3B4455;\n",
              "      --disabled-fill-color: #666;\n",
              "  }\n",
              "\n",
              "  .colab-df-quickchart {\n",
              "    background-color: var(--bg-color);\n",
              "    border: none;\n",
              "    border-radius: 50%;\n",
              "    cursor: pointer;\n",
              "    display: none;\n",
              "    fill: var(--fill-color);\n",
              "    height: 32px;\n",
              "    padding: 0;\n",
              "    width: 32px;\n",
              "  }\n",
              "\n",
              "  .colab-df-quickchart:hover {\n",
              "    background-color: var(--hover-bg-color);\n",
              "    box-shadow: 0 1px 2px rgba(60, 64, 67, 0.3), 0 1px 3px 1px rgba(60, 64, 67, 0.15);\n",
              "    fill: var(--button-hover-fill-color);\n",
              "  }\n",
              "\n",
              "  .colab-df-quickchart-complete:disabled,\n",
              "  .colab-df-quickchart-complete:disabled:hover {\n",
              "    background-color: var(--disabled-bg-color);\n",
              "    fill: var(--disabled-fill-color);\n",
              "    box-shadow: none;\n",
              "  }\n",
              "\n",
              "  .colab-df-spinner {\n",
              "    border: 2px solid var(--fill-color);\n",
              "    border-color: transparent;\n",
              "    border-bottom-color: var(--fill-color);\n",
              "    animation:\n",
              "      spin 1s steps(1) infinite;\n",
              "  }\n",
              "\n",
              "  @keyframes spin {\n",
              "    0% {\n",
              "      border-color: transparent;\n",
              "      border-bottom-color: var(--fill-color);\n",
              "      border-left-color: var(--fill-color);\n",
              "    }\n",
              "    20% {\n",
              "      border-color: transparent;\n",
              "      border-left-color: var(--fill-color);\n",
              "      border-top-color: var(--fill-color);\n",
              "    }\n",
              "    30% {\n",
              "      border-color: transparent;\n",
              "      border-left-color: var(--fill-color);\n",
              "      border-top-color: var(--fill-color);\n",
              "      border-right-color: var(--fill-color);\n",
              "    }\n",
              "    40% {\n",
              "      border-color: transparent;\n",
              "      border-right-color: var(--fill-color);\n",
              "      border-top-color: var(--fill-color);\n",
              "    }\n",
              "    60% {\n",
              "      border-color: transparent;\n",
              "      border-right-color: var(--fill-color);\n",
              "    }\n",
              "    80% {\n",
              "      border-color: transparent;\n",
              "      border-right-color: var(--fill-color);\n",
              "      border-bottom-color: var(--fill-color);\n",
              "    }\n",
              "    90% {\n",
              "      border-color: transparent;\n",
              "      border-bottom-color: var(--fill-color);\n",
              "    }\n",
              "  }\n",
              "</style>\n",
              "\n",
              "  <script>\n",
              "    async function quickchart(key) {\n",
              "      const quickchartButtonEl =\n",
              "        document.querySelector('#' + key + ' button');\n",
              "      quickchartButtonEl.disabled = true;  // To prevent multiple clicks.\n",
              "      quickchartButtonEl.classList.add('colab-df-spinner');\n",
              "      try {\n",
              "        const charts = await google.colab.kernel.invokeFunction(\n",
              "            'suggestCharts', [key], {});\n",
              "      } catch (error) {\n",
              "        console.error('Error during call to suggestCharts:', error);\n",
              "      }\n",
              "      quickchartButtonEl.classList.remove('colab-df-spinner');\n",
              "      quickchartButtonEl.classList.add('colab-df-quickchart-complete');\n",
              "    }\n",
              "    (() => {\n",
              "      let quickchartButtonEl =\n",
              "        document.querySelector('#df-592c8231-5798-4644-9258-04b534f09efa button');\n",
              "      quickchartButtonEl.style.display =\n",
              "        google.colab.kernel.accessAllowed ? 'block' : 'none';\n",
              "    })();\n",
              "  </script>\n",
              "</div>\n",
              "    </div>\n",
              "  </div>\n"
            ]
          },
          "metadata": {},
          "execution_count": 17
        }
      ],
      "source": [
        "corpus_df.head(3).T"
      ],
      "id": "jw0ZsRpda3Ag"
    },
    {
      "cell_type": "markdown",
      "metadata": {
        "id": "njfHIsmwa3Ag"
      },
      "source": [
        "## Vocabulary Data Wrangling"
      ],
      "id": "njfHIsmwa3Ag"
    },
    {
      "cell_type": "code",
      "execution_count": 18,
      "metadata": {
        "colab": {
          "base_uri": "https://localhost:8080/"
        },
        "id": "t7I95D0Ja3Ag",
        "outputId": "d434e2f9-3e22-4cc0-9090-fd895e8403ad"
      },
      "outputs": [
        {
          "output_type": "stream",
          "name": "stdout",
          "text": [
            "All Word Vocabulary size: 8802\n",
            "Curated Vocabulary size: 8802\n"
          ]
        }
      ],
      "source": [
        "vectorizer = CountVectorizer(ngram_range=(1, 1))\n",
        "transformed_documents = vectorizer.fit_transform(corpus_df.lemmas_joined)\n",
        "doc_term_matrix = transformed_documents.todense()\n",
        "doc_term_df = pd.DataFrame(doc_term_matrix,\n",
        "                           columns=vectorizer.get_feature_names_out(),\n",
        "                           index=corpus_df.Descriptor)\n",
        "print(f'All Word Vocabulary size: {doc_term_df.shape[1]}')\n",
        "all_words = set(doc_term_df.columns)\n",
        "\n",
        "vectorizer = CountVectorizer(ngram_range=(1, 1), min_df=1,max_df=1.0)\n",
        "transformed_documents = vectorizer.fit_transform(corpus_df.lemmas_joined)\n",
        "doc_term_matrix = transformed_documents.todense()\n",
        "doc_term_df = pd.DataFrame(doc_term_matrix,\n",
        "                           columns=vectorizer.get_feature_names_out(),\n",
        "                           index=corpus_df.Descriptor)\n",
        "print(f'Curated Vocabulary size: {doc_term_df.shape[1]}')\n",
        "vocabulary = set(doc_term_df.columns)\n",
        "\n",
        "words_to_remove = default_stopwords.union(all_words - vocabulary)"
      ],
      "id": "t7I95D0Ja3Ag"
    },
    {
      "cell_type": "code",
      "execution_count": 19,
      "metadata": {
        "colab": {
          "base_uri": "https://localhost:8080/",
          "height": 701
        },
        "id": "Vf9jUu_Ia3Ah",
        "outputId": "11efbdb9-dce9-437c-dca1-e25d02dc62bf"
      },
      "outputs": [
        {
          "output_type": "display_data",
          "data": {
            "text/plain": [
              "<Figure size 1200x800 with 1 Axes>"
            ],
            "image/png": "[encoded data removed]"
          },
          "metadata": {}
        }
      ],
      "source": [
        "plt.figure(figsize = (12, 8))\n",
        "plt.hist(doc_term_df.sum(axis=0).T, range=(0, 200))\n",
        "plt.xlabel('Number of Occurrences',fontsize=14)\n",
        "plt.ylabel('Number of Terms',fontsize=14);"
      ],
      "id": "Vf9jUu_Ia3Ah"
    },
    {
      "cell_type": "code",
      "execution_count": 20,
      "metadata": {
        "colab": {
          "base_uri": "https://localhost:8080/"
        },
        "id": "WS25YoJFa3Ah",
        "outputId": "7a80b88f-5130-4a96-e38b-dec6b7aae066"
      },
      "outputs": [
        {
          "output_type": "execute_result",
          "data": {
            "text/plain": [
              "Doc_ID\n",
              "90    [target, heavily, outnumber, outgunne, mike, b...\n",
              "91    [sleepy, dopey, action, bonanza, angel, fall, ...\n",
              "92    [angel, fall, mark, time, gerard, butler, secr...\n",
              "93    [improve, blandness, mike, banning, gerard, bu...\n",
              "94    [review, contain, spoiler, angel, fallen, movi...\n",
              "Name: lemmas, dtype: object"
            ]
          },
          "metadata": {},
          "execution_count": 20
        }
      ],
      "source": [
        "# Re-tokenize words, recreate joined documents\n",
        "corpus_df['lemmas'] = corpus_df.Text.apply(lambda x: get_lemmas(x, words_to_remove))\n",
        "corpus_df['lemmas_joined'] = corpus_df.lemmas.apply(lambda x: ' '.join(x))\n",
        "corpus_df.lemmas.head()"
      ],
      "id": "WS25YoJFa3Ah"
    },
    {
      "cell_type": "markdown",
      "metadata": {
        "id": "Z6g66oDqa3Ai"
      },
      "source": [
        "## Get Lemmatized and Filtered Sentences"
      ],
      "id": "Z6g66oDqa3Ai"
    },
    {
      "cell_type": "markdown",
      "metadata": {
        "id": "UVMq7dXya3Ai"
      },
      "source": [
        "Removes the additional words"
      ],
      "id": "UVMq7dXya3Ai"
    },
    {
      "cell_type": "code",
      "execution_count": 21,
      "metadata": {
        "id": "BAuLZmYaa3Ai"
      },
      "outputs": [],
      "source": [
        "corpus_df['sentences_lemmatized']=\\\n",
        "corpus_df.raw_sentences.apply(lambda x: [lemmatize_sentence(s, words_to_remove) for s in x])"
      ],
      "id": "BAuLZmYaa3Ai"
    },
    {
      "cell_type": "code",
      "execution_count": 22,
      "metadata": {
        "colab": {
          "base_uri": "https://localhost:8080/",
          "height": 457
        },
        "id": "gJz7XDnBa3Aj",
        "outputId": "2970f197-1d1a-4888-d1c9-387fbbfd15bc"
      },
      "outputs": [
        {
          "output_type": "execute_result",
          "data": {
            "text/plain": [
              "Doc_ID                                                                   90  \\\n",
              "DSI_Title                                         LKP_Doc1_Angel_has_fallen   \n",
              "Text                      Target is on the move . '' Heavily outnumbered...   \n",
              "Submission File Name                              LKP_Doc1_Angel_has_fallen   \n",
              "Student Name                                                            LKP   \n",
              "Genre of Movie                                                       Action   \n",
              "Review Type (pos or neg)                                           Negative   \n",
              "Movie Title                                                Angel_has_fallen   \n",
              "Descriptor                                     Action_Angel_has_fallen_N_90   \n",
              "Doc_ID                                                                   90   \n",
              "raw_sentences             [Target is on the move . '', Heavily outnumber...   \n",
              "lemmas                    [target, heavily, outnumber, outgunne, mike, b...   \n",
              "lemmas_joined             target heavily outnumber outgunne mike banning...   \n",
              "sentences_lemmatized      [target, heavily outnumber outgunne mike banni...   \n",
              "\n",
              "Doc_ID                                                                   91  \\\n",
              "DSI_Title                                         LKP_Doc2_Angel_has_fallen   \n",
              "Text                      The sleepy , dopey action bonanza `` Angel Has...   \n",
              "Submission File Name                              LKP_Doc2_Angel_has_fallen   \n",
              "Student Name                                                            LKP   \n",
              "Genre of Movie                                                       Action   \n",
              "Review Type (pos or neg)                                           Negative   \n",
              "Movie Title                                                Angel_has_fallen   \n",
              "Descriptor                                     Action_Angel_has_fallen_N_91   \n",
              "Doc_ID                                                                   91   \n",
              "raw_sentences             [The sleepy , dopey action bonanza `` Angel Ha...   \n",
              "lemmas                    [sleepy, dopey, action, bonanza, angel, fall, ...   \n",
              "lemmas_joined             sleepy dopey action bonanza angel fall disappo...   \n",
              "sentences_lemmatized      [sleepy dopey action bonanza angel fall disapp...   \n",
              "\n",
              "Doc_ID                                                                   92  \\\n",
              "DSI_Title                                         LKP_Doc3_Angel_has_fallen   \n",
              "Text                      `` Angel Has Fallen '' marks the third time th...   \n",
              "Submission File Name                              LKP_Doc3_Angel_has_fallen   \n",
              "Student Name                                                            LKP   \n",
              "Genre of Movie                                                       Action   \n",
              "Review Type (pos or neg)                                           Negative   \n",
              "Movie Title                                                Angel_has_fallen   \n",
              "Descriptor                                     Action_Angel_has_fallen_N_92   \n",
              "Doc_ID                                                                   92   \n",
              "raw_sentences             [`` Angel Has Fallen '' marks the third time t...   \n",
              "lemmas                    [angel, fall, mark, time, gerard, butler, secr...   \n",
              "lemmas_joined             angel fall mark time gerard butler secret serv...   \n",
              "sentences_lemmatized      [angel fall mark time gerard butler secret ser...   \n",
              "\n",
              "Doc_ID                                                                   93  \\\n",
              "DSI_Title                                         LKP_Doc4_Angel_has_fallen   \n",
              "Text                      Improving through blandness . So Mike Banning ...   \n",
              "Submission File Name                              LKP_Doc4_Angel_has_fallen   \n",
              "Student Name                                                            LKP   \n",
              "Genre of Movie                                                       Action   \n",
              "Review Type (pos or neg)                                           Negative   \n",
              "Movie Title                                                Angel_has_fallen   \n",
              "Descriptor                                     Action_Angel_has_fallen_N_93   \n",
              "Doc_ID                                                                   93   \n",
              "raw_sentences             [Improving through blandness ., So Mike Bannin...   \n",
              "lemmas                    [improve, blandness, mike, banning, gerard, bu...   \n",
              "lemmas_joined             improve blandness mike banning gerard butler w...   \n",
              "sentences_lemmatized      [improve blandness, mike banning gerard butler...   \n",
              "\n",
              "Doc_ID                                                                   94  \n",
              "DSI_Title                                         LKP_Doc5_Angel_has_fallen  \n",
              "Text                      This review may contain spoilers . Angel Has F...  \n",
              "Submission File Name                              LKP_Doc5_Angel_has_fallen  \n",
              "Student Name                                                            LKP  \n",
              "Genre of Movie                                                       Action  \n",
              "Review Type (pos or neg)                                           Negative  \n",
              "Movie Title                                                Angel_has_fallen  \n",
              "Descriptor                                     Action_Angel_has_fallen_N_94  \n",
              "Doc_ID                                                                   94  \n",
              "raw_sentences             [This review may contain spoilers ., Angel Has...  \n",
              "lemmas                    [review, contain, spoiler, angel, fallen, movi...  \n",
              "lemmas_joined             review contain spoiler angel fallen movie extr...  \n",
              "sentences_lemmatized      [review contain spoiler, angel fallen movie ex...  "
            ],
            "text/html": [
              "\n",
              "  <div id=\"df-005c92df-864c-4e0e-9033-bc8bd34b1718\" class=\"colab-df-container\">\n",
              "    <div>\n",
              "<style scoped>\n",
              "    .dataframe tbody tr th:only-of-type {\n",
              "        vertical-align: middle;\n",
              "    }\n",
              "\n",
              "    .dataframe tbody tr th {\n",
              "        vertical-align: top;\n",
              "    }\n",
              "\n",
              "    .dataframe thead th {\n",
              "        text-align: right;\n",
              "    }\n",
              "</style>\n",
              "<table border=\"1\" class=\"dataframe\">\n",
              "  <thead>\n",
              "    <tr style=\"text-align: right;\">\n",
              "      <th>Doc_ID</th>\n",
              "      <th>90</th>\n",
              "      <th>91</th>\n",
              "      <th>92</th>\n",
              "      <th>93</th>\n",
              "      <th>94</th>\n",
              "    </tr>\n",
              "  </thead>\n",
              "  <tbody>\n",
              "    <tr>\n",
              "      <th>DSI_Title</th>\n",
              "      <td>LKP_Doc1_Angel_has_fallen</td>\n",
              "      <td>LKP_Doc2_Angel_has_fallen</td>\n",
              "      <td>LKP_Doc3_Angel_has_fallen</td>\n",
              "      <td>LKP_Doc4_Angel_has_fallen</td>\n",
              "      <td>LKP_Doc5_Angel_has_fallen</td>\n",
              "    </tr>\n",
              "    <tr>\n",
              "      <th>Text</th>\n",
              "      <td>Target is on the move . '' Heavily outnumbered...</td>\n",
              "      <td>The sleepy , dopey action bonanza `` Angel Has...</td>\n",
              "      <td>`` Angel Has Fallen '' marks the third time th...</td>\n",
              "      <td>Improving through blandness . So Mike Banning ...</td>\n",
              "      <td>This review may contain spoilers . Angel Has F...</td>\n",
              "    </tr>\n",
              "    <tr>\n",
              "      <th>Submission File Name</th>\n",
              "      <td>LKP_Doc1_Angel_has_fallen</td>\n",
              "      <td>LKP_Doc2_Angel_has_fallen</td>\n",
              "      <td>LKP_Doc3_Angel_has_fallen</td>\n",
              "      <td>LKP_Doc4_Angel_has_fallen</td>\n",
              "      <td>LKP_Doc5_Angel_has_fallen</td>\n",
              "    </tr>\n",
              "    <tr>\n",
              "      <th>Student Name</th>\n",
              "      <td>LKP</td>\n",
              "      <td>LKP</td>\n",
              "      <td>LKP</td>\n",
              "      <td>LKP</td>\n",
              "      <td>LKP</td>\n",
              "    </tr>\n",
              "    <tr>\n",
              "      <th>Genre of Movie</th>\n",
              "      <td>Action</td>\n",
              "      <td>Action</td>\n",
              "      <td>Action</td>\n",
              "      <td>Action</td>\n",
              "      <td>Action</td>\n",
              "    </tr>\n",
              "    <tr>\n",
              "      <th>Review Type (pos or neg)</th>\n",
              "      <td>Negative</td>\n",
              "      <td>Negative</td>\n",
              "      <td>Negative</td>\n",
              "      <td>Negative</td>\n",
              "      <td>Negative</td>\n",
              "    </tr>\n",
              "    <tr>\n",
              "      <th>Movie Title</th>\n",
              "      <td>Angel_has_fallen</td>\n",
              "      <td>Angel_has_fallen</td>\n",
              "      <td>Angel_has_fallen</td>\n",
              "      <td>Angel_has_fallen</td>\n",
              "      <td>Angel_has_fallen</td>\n",
              "    </tr>\n",
              "    <tr>\n",
              "      <th>Descriptor</th>\n",
              "      <td>Action_Angel_has_fallen_N_90</td>\n",
              "      <td>Action_Angel_has_fallen_N_91</td>\n",
              "      <td>Action_Angel_has_fallen_N_92</td>\n",
              "      <td>Action_Angel_has_fallen_N_93</td>\n",
              "      <td>Action_Angel_has_fallen_N_94</td>\n",
              "    </tr>\n",
              "    <tr>\n",
              "      <th>Doc_ID</th>\n",
              "      <td>90</td>\n",
              "      <td>91</td>\n",
              "      <td>92</td>\n",
              "      <td>93</td>\n",
              "      <td>94</td>\n",
              "    </tr>\n",
              "    <tr>\n",
              "      <th>raw_sentences</th>\n",
              "      <td>[Target is on the move . '', Heavily outnumber...</td>\n",
              "      <td>[The sleepy , dopey action bonanza `` Angel Ha...</td>\n",
              "      <td>[`` Angel Has Fallen '' marks the third time t...</td>\n",
              "      <td>[Improving through blandness ., So Mike Bannin...</td>\n",
              "      <td>[This review may contain spoilers ., Angel Has...</td>\n",
              "    </tr>\n",
              "    <tr>\n",
              "      <th>lemmas</th>\n",
              "      <td>[target, heavily, outnumber, outgunne, mike, b...</td>\n",
              "      <td>[sleepy, dopey, action, bonanza, angel, fall, ...</td>\n",
              "      <td>[angel, fall, mark, time, gerard, butler, secr...</td>\n",
              "      <td>[improve, blandness, mike, banning, gerard, bu...</td>\n",
              "      <td>[review, contain, spoiler, angel, fallen, movi...</td>\n",
              "    </tr>\n",
              "    <tr>\n",
              "      <th>lemmas_joined</th>\n",
              "      <td>target heavily outnumber outgunne mike banning...</td>\n",
              "      <td>sleepy dopey action bonanza angel fall disappo...</td>\n",
              "      <td>angel fall mark time gerard butler secret serv...</td>\n",
              "      <td>improve blandness mike banning gerard butler w...</td>\n",
              "      <td>review contain spoiler angel fallen movie extr...</td>\n",
              "    </tr>\n",
              "    <tr>\n",
              "      <th>sentences_lemmatized</th>\n",
              "      <td>[target, heavily outnumber outgunne mike banni...</td>\n",
              "      <td>[sleepy dopey action bonanza angel fall disapp...</td>\n",
              "      <td>[angel fall mark time gerard butler secret ser...</td>\n",
              "      <td>[improve blandness, mike banning gerard butler...</td>\n",
              "      <td>[review contain spoiler, angel fallen movie ex...</td>\n",
              "    </tr>\n",
              "  </tbody>\n",
              "</table>\n",
              "</div>\n",
              "    <div class=\"colab-df-buttons\">\n",
              "\n",
              "  <div class=\"colab-df-container\">\n",
              "    <button class=\"colab-df-convert\" onclick=\"convertToInteractive('df-005c92df-864c-4e0e-9033-bc8bd34b1718')\"\n",
              "            title=\"Convert this dataframe to an interactive table.\"\n",
              "            style=\"display:none;\">\n",
              "\n",
              "  <svg xmlns=\"http://www.w3.org/2000/svg\" height=\"24px\" viewBox=\"0 -960 960 960\">\n",
              "    <path d=\"M120-120v-720h720v720H120Zm60-500h600v-160H180v160Zm220 220h160v-160H400v160Zm0 220h160v-160H400v160ZM180-400h160v-160H180v160Zm440 0h160v-160H620v160ZM180-180h160v-160H180v160Zm440 0h160v-160H620v160Z\"/>\n",
              "  </svg>\n",
              "    </button>\n",
              "\n",
              "  <style>\n",
              "    .colab-df-container {\n",
              "      display:flex;\n",
              "      gap: 12px;\n",
              "    }\n",
              "\n",
              "    .colab-df-convert {\n",
              "      background-color: #E8F0FE;\n",
              "      border: none;\n",
              "      border-radius: 50%;\n",
              "      cursor: pointer;\n",
              "      display: none;\n",
              "      fill: #1967D2;\n",
              "      height: 32px;\n",
              "      padding: 0 0 0 0;\n",
              "      width: 32px;\n",
              "    }\n",
              "\n",
              "    .colab-df-convert:hover {\n",
              "      background-color: #E2EBFA;\n",
              "      box-shadow: 0px 1px 2px rgba(60, 64, 67, 0.3), 0px 1px 3px 1px rgba(60, 64, 67, 0.15);\n",
              "      fill: #174EA6;\n",
              "    }\n",
              "\n",
              "    .colab-df-buttons div {\n",
              "      margin-bottom: 4px;\n",
              "    }\n",
              "\n",
              "    [theme=dark] .colab-df-convert {\n",
              "      background-color: #3B4455;\n",
              "      fill: #D2E3FC;\n",
              "    }\n",
              "\n",
              "    [theme=dark] .colab-df-convert:hover {\n",
              "      background-color: #434B5C;\n",
              "      box-shadow: 0px 1px 3px 1px rgba(0, 0, 0, 0.15);\n",
              "      filter: drop-shadow(0px 1px 2px rgba(0, 0, 0, 0.3));\n",
              "      fill: #FFFFFF;\n",
              "    }\n",
              "  </style>\n",
              "\n",
              "    <script>\n",
              "      const buttonEl =\n",
              "        document.querySelector('#df-005c92df-864c-4e0e-9033-bc8bd34b1718 button.colab-df-convert');\n",
              "      buttonEl.style.display =\n",
              "        google.colab.kernel.accessAllowed ? 'block' : 'none';\n",
              "\n",
              "      async function convertToInteractive(key) {\n",
              "        const element = document.querySelector('#df-005c92df-864c-4e0e-9033-bc8bd34b1718');\n",
              "        const dataTable =\n",
              "          await google.colab.kernel.invokeFunction('convertToInteractive',\n",
              "                                                    [key], {});\n",
              "        if (!dataTable) return;\n",
              "\n",
              "        const docLinkHtml = 'Like what you see? Visit the ' +\n",
              "          '<a target=\"_blank\" href=https://colab.research.google.com/notebooks/data_table.ipynb>data table notebook</a>'\n",
              "          + ' to learn more about interactive tables.';\n",
              "        element.innerHTML = '';\n",
              "        dataTable['output_type'] = 'display_data';\n",
              "        await google.colab.output.renderOutput(dataTable, element);\n",
              "        const docLink = document.createElement('div');\n",
              "        docLink.innerHTML = docLinkHtml;\n",
              "        element.appendChild(docLink);\n",
              "      }\n",
              "    </script>\n",
              "  </div>\n",
              "\n",
              "\n",
              "<div id=\"df-c1959551-9b41-4002-bafd-6d4bf434053d\">\n",
              "  <button class=\"colab-df-quickchart\" onclick=\"quickchart('df-c1959551-9b41-4002-bafd-6d4bf434053d')\"\n",
              "            title=\"Suggest charts.\"\n",
              "            style=\"display:none;\">\n",
              "\n",
              "<svg xmlns=\"http://www.w3.org/2000/svg\" height=\"24px\"viewBox=\"0 0 24 24\"\n",
              "     width=\"24px\">\n",
              "    <g>\n",
              "        <path d=\"M19 3H5c-1.1 0-2 .9-2 2v14c0 1.1.9 2 2 2h14c1.1 0 2-.9 2-2V5c0-1.1-.9-2-2-2zM9 17H7v-7h2v7zm4 0h-2V7h2v10zm4 0h-2v-4h2v4z\"/>\n",
              "    </g>\n",
              "</svg>\n",
              "  </button>\n",
              "\n",
              "<style>\n",
              "  .colab-df-quickchart {\n",
              "      --bg-color: #E8F0FE;\n",
              "      --fill-color: #1967D2;\n",
              "      --hover-bg-color: #E2EBFA;\n",
              "      --hover-fill-color: #174EA6;\n",
              "      --disabled-fill-color: #AAA;\n",
              "      --disabled-bg-color: #DDD;\n",
              "  }\n",
              "\n",
              "  [theme=dark] .colab-df-quickchart {\n",
              "      --bg-color: #3B4455;\n",
              "      --fill-color: #D2E3FC;\n",
              "      --hover-bg-color: #434B5C;\n",
              "      --hover-fill-color: #FFFFFF;\n",
              "      --disabled-bg-color: #3B4455;\n",
              "      --disabled-fill-color: #666;\n",
              "  }\n",
              "\n",
              "  .colab-df-quickchart {\n",
              "    background-color: var(--bg-color);\n",
              "    border: none;\n",
              "    border-radius: 50%;\n",
              "    cursor: pointer;\n",
              "    display: none;\n",
              "    fill: var(--fill-color);\n",
              "    height: 32px;\n",
              "    padding: 0;\n",
              "    width: 32px;\n",
              "  }\n",
              "\n",
              "  .colab-df-quickchart:hover {\n",
              "    background-color: var(--hover-bg-color);\n",
              "    box-shadow: 0 1px 2px rgba(60, 64, 67, 0.3), 0 1px 3px 1px rgba(60, 64, 67, 0.15);\n",
              "    fill: var(--button-hover-fill-color);\n",
              "  }\n",
              "\n",
              "  .colab-df-quickchart-complete:disabled,\n",
              "  .colab-df-quickchart-complete:disabled:hover {\n",
              "    background-color: var(--disabled-bg-color);\n",
              "    fill: var(--disabled-fill-color);\n",
              "    box-shadow: none;\n",
              "  }\n",
              "\n",
              "  .colab-df-spinner {\n",
              "    border: 2px solid var(--fill-color);\n",
              "    border-color: transparent;\n",
              "    border-bottom-color: var(--fill-color);\n",
              "    animation:\n",
              "      spin 1s steps(1) infinite;\n",
              "  }\n",
              "\n",
              "  @keyframes spin {\n",
              "    0% {\n",
              "      border-color: transparent;\n",
              "      border-bottom-color: var(--fill-color);\n",
              "      border-left-color: var(--fill-color);\n",
              "    }\n",
              "    20% {\n",
              "      border-color: transparent;\n",
              "      border-left-color: var(--fill-color);\n",
              "      border-top-color: var(--fill-color);\n",
              "    }\n",
              "    30% {\n",
              "      border-color: transparent;\n",
              "      border-left-color: var(--fill-color);\n",
              "      border-top-color: var(--fill-color);\n",
              "      border-right-color: var(--fill-color);\n",
              "    }\n",
              "    40% {\n",
              "      border-color: transparent;\n",
              "      border-right-color: var(--fill-color);\n",
              "      border-top-color: var(--fill-color);\n",
              "    }\n",
              "    60% {\n",
              "      border-color: transparent;\n",
              "      border-right-color: var(--fill-color);\n",
              "    }\n",
              "    80% {\n",
              "      border-color: transparent;\n",
              "      border-right-color: var(--fill-color);\n",
              "      border-bottom-color: var(--fill-color);\n",
              "    }\n",
              "    90% {\n",
              "      border-color: transparent;\n",
              "      border-bottom-color: var(--fill-color);\n",
              "    }\n",
              "  }\n",
              "</style>\n",
              "\n",
              "  <script>\n",
              "    async function quickchart(key) {\n",
              "      const quickchartButtonEl =\n",
              "        document.querySelector('#' + key + ' button');\n",
              "      quickchartButtonEl.disabled = true;  // To prevent multiple clicks.\n",
              "      quickchartButtonEl.classList.add('colab-df-spinner');\n",
              "      try {\n",
              "        const charts = await google.colab.kernel.invokeFunction(\n",
              "            'suggestCharts', [key], {});\n",
              "      } catch (error) {\n",
              "        console.error('Error during call to suggestCharts:', error);\n",
              "      }\n",
              "      quickchartButtonEl.classList.remove('colab-df-spinner');\n",
              "      quickchartButtonEl.classList.add('colab-df-quickchart-complete');\n",
              "    }\n",
              "    (() => {\n",
              "      let quickchartButtonEl =\n",
              "        document.querySelector('#df-c1959551-9b41-4002-bafd-6d4bf434053d button');\n",
              "      quickchartButtonEl.style.display =\n",
              "        google.colab.kernel.accessAllowed ? 'block' : 'none';\n",
              "    })();\n",
              "  </script>\n",
              "</div>\n",
              "    </div>\n",
              "  </div>\n"
            ]
          },
          "metadata": {},
          "execution_count": 22
        }
      ],
      "source": [
        "corpus_df.head().T"
      ],
      "id": "gJz7XDnBa3Aj"
    },
    {
      "cell_type": "markdown",
      "metadata": {
        "id": "hV1q2O9ea3Aj"
      },
      "source": [
        "## Review Documents By Movie Title"
      ],
      "id": "hV1q2O9ea3Aj"
    },
    {
      "cell_type": "code",
      "execution_count": 23,
      "metadata": {
        "colab": {
          "base_uri": "https://localhost:8080/"
        },
        "id": "DGP9WB_Oa3Aj",
        "outputId": "fa14978f-0077-4035-d97b-e53323060630"
      },
      "outputs": [
        {
          "output_type": "stream",
          "name": "stdout",
          "text": [
            "['Angel_has_fallen' 'Inception' 'No_Time_to_Die' 'Taken' 'Taxi' 'Barbie'\n",
            " 'Dirty_Grandpa' 'Holmes_and_Watson' 'Lost City' 'Mean_Girls'\n",
            " 'Drag_Me_To_Hell' 'Fresh' 'It_Chapter_Two' 'The Conjuring 2' 'The_Others'\n",
            " 'EQUILIBRIUM' 'Minority_Report' 'Oblivion' 'Pitch_Black' 'The_Batman']\n"
          ]
        }
      ],
      "source": [
        "print(corpus_df['Movie Title'].unique())"
      ],
      "id": "DGP9WB_Oa3Aj"
    },
    {
      "cell_type": "code",
      "execution_count": 24,
      "metadata": {
        "scrolled": false,
        "colab": {
          "base_uri": "https://localhost:8080/",
          "height": 457
        },
        "id": "hhiDmYQHa3Ak",
        "outputId": "d861d533-3458-4077-fd61-c4066bccbd77"
      },
      "outputs": [
        {
          "output_type": "execute_result",
          "data": {
            "text/plain": [
              "Doc_ID                                                                   65  \\\n",
              "DSI_Title                                                     VGI_Doc6_Taxi   \n",
              "Text                      This is quite simply the french version of US ...   \n",
              "Submission File Name                                          VGI_Doc6_Taxi   \n",
              "Student Name                                                            VGI   \n",
              "Genre of Movie                                                       Action   \n",
              "Review Type (pos or neg)                                           Negative   \n",
              "Movie Title                                                            Taxi   \n",
              "Descriptor                                                 Action_Taxi_N_65   \n",
              "Doc_ID                                                                   65   \n",
              "raw_sentences             [This is quite simply the french version of US...   \n",
              "lemmas                    [simply, french, version, blockbuster, car, mo...   \n",
              "lemmas_joined             simply french version blockbuster car movie kn...   \n",
              "sentences_lemmatized      [simply french version blockbuster car movie, ...   \n",
              "\n",
              "Doc_ID                                                                   66  \\\n",
              "DSI_Title                                                     VGI_Doc7_Taxi   \n",
              "Text                      This has to be the biggest pile of pap i have ...   \n",
              "Submission File Name                                          VGI_Doc7_Taxi   \n",
              "Student Name                                                            VGI   \n",
              "Genre of Movie                                                       Action   \n",
              "Review Type (pos or neg)                                           Negative   \n",
              "Movie Title                                                            Taxi   \n",
              "Descriptor                                                 Action_Taxi_N_66   \n",
              "Doc_ID                                                                   66   \n",
              "raw_sentences             [This has to be the biggest pile of pap i have...   \n",
              "lemmas                    [big, pile, pap, life, waste, time, watch, fin...   \n",
              "lemmas_joined             big pile pap life waste time watch find entert...   \n",
              "sentences_lemmatized      [big pile pap life, waste time watch, find ent...   \n",
              "\n",
              "Doc_ID                                                                   67  \n",
              "DSI_Title                                                     VGI_Doc8_Taxi  \n",
              "Text                      When I rented this movie , I expected it to be...  \n",
              "Submission File Name                                          VGI_Doc8_Taxi  \n",
              "Student Name                                                            VGI  \n",
              "Genre of Movie                                                       Action  \n",
              "Review Type (pos or neg)                                           Negative  \n",
              "Movie Title                                                            Taxi  \n",
              "Descriptor                                                 Action_Taxi_N_67  \n",
              "Doc_ID                                                                   67  \n",
              "raw_sentences             [When I rented this movie , I expected it to b...  \n",
              "lemmas                    [rent, movie, expect, silly, juvenile, french,...  \n",
              "lemmas_joined             rent movie expect silly juvenile french comedy...  \n",
              "sentences_lemmatized      [rent movie expect silly juvenile french comed...  "
            ],
            "text/html": [
              "\n",
              "  <div id=\"df-d25b75c3-c690-4a84-b817-4b5043af7d55\" class=\"colab-df-container\">\n",
              "    <div>\n",
              "<style scoped>\n",
              "    .dataframe tbody tr th:only-of-type {\n",
              "        vertical-align: middle;\n",
              "    }\n",
              "\n",
              "    .dataframe tbody tr th {\n",
              "        vertical-align: top;\n",
              "    }\n",
              "\n",
              "    .dataframe thead th {\n",
              "        text-align: right;\n",
              "    }\n",
              "</style>\n",
              "<table border=\"1\" class=\"dataframe\">\n",
              "  <thead>\n",
              "    <tr style=\"text-align: right;\">\n",
              "      <th>Doc_ID</th>\n",
              "      <th>65</th>\n",
              "      <th>66</th>\n",
              "      <th>67</th>\n",
              "    </tr>\n",
              "  </thead>\n",
              "  <tbody>\n",
              "    <tr>\n",
              "      <th>DSI_Title</th>\n",
              "      <td>VGI_Doc6_Taxi</td>\n",
              "      <td>VGI_Doc7_Taxi</td>\n",
              "      <td>VGI_Doc8_Taxi</td>\n",
              "    </tr>\n",
              "    <tr>\n",
              "      <th>Text</th>\n",
              "      <td>This is quite simply the french version of US ...</td>\n",
              "      <td>This has to be the biggest pile of pap i have ...</td>\n",
              "      <td>When I rented this movie , I expected it to be...</td>\n",
              "    </tr>\n",
              "    <tr>\n",
              "      <th>Submission File Name</th>\n",
              "      <td>VGI_Doc6_Taxi</td>\n",
              "      <td>VGI_Doc7_Taxi</td>\n",
              "      <td>VGI_Doc8_Taxi</td>\n",
              "    </tr>\n",
              "    <tr>\n",
              "      <th>Student Name</th>\n",
              "      <td>VGI</td>\n",
              "      <td>VGI</td>\n",
              "      <td>VGI</td>\n",
              "    </tr>\n",
              "    <tr>\n",
              "      <th>Genre of Movie</th>\n",
              "      <td>Action</td>\n",
              "      <td>Action</td>\n",
              "      <td>Action</td>\n",
              "    </tr>\n",
              "    <tr>\n",
              "      <th>Review Type (pos or neg)</th>\n",
              "      <td>Negative</td>\n",
              "      <td>Negative</td>\n",
              "      <td>Negative</td>\n",
              "    </tr>\n",
              "    <tr>\n",
              "      <th>Movie Title</th>\n",
              "      <td>Taxi</td>\n",
              "      <td>Taxi</td>\n",
              "      <td>Taxi</td>\n",
              "    </tr>\n",
              "    <tr>\n",
              "      <th>Descriptor</th>\n",
              "      <td>Action_Taxi_N_65</td>\n",
              "      <td>Action_Taxi_N_66</td>\n",
              "      <td>Action_Taxi_N_67</td>\n",
              "    </tr>\n",
              "    <tr>\n",
              "      <th>Doc_ID</th>\n",
              "      <td>65</td>\n",
              "      <td>66</td>\n",
              "      <td>67</td>\n",
              "    </tr>\n",
              "    <tr>\n",
              "      <th>raw_sentences</th>\n",
              "      <td>[This is quite simply the french version of US...</td>\n",
              "      <td>[This has to be the biggest pile of pap i have...</td>\n",
              "      <td>[When I rented this movie , I expected it to b...</td>\n",
              "    </tr>\n",
              "    <tr>\n",
              "      <th>lemmas</th>\n",
              "      <td>[simply, french, version, blockbuster, car, mo...</td>\n",
              "      <td>[big, pile, pap, life, waste, time, watch, fin...</td>\n",
              "      <td>[rent, movie, expect, silly, juvenile, french,...</td>\n",
              "    </tr>\n",
              "    <tr>\n",
              "      <th>lemmas_joined</th>\n",
              "      <td>simply french version blockbuster car movie kn...</td>\n",
              "      <td>big pile pap life waste time watch find entert...</td>\n",
              "      <td>rent movie expect silly juvenile french comedy...</td>\n",
              "    </tr>\n",
              "    <tr>\n",
              "      <th>sentences_lemmatized</th>\n",
              "      <td>[simply french version blockbuster car movie, ...</td>\n",
              "      <td>[big pile pap life, waste time watch, find ent...</td>\n",
              "      <td>[rent movie expect silly juvenile french comed...</td>\n",
              "    </tr>\n",
              "  </tbody>\n",
              "</table>\n",
              "</div>\n",
              "    <div class=\"colab-df-buttons\">\n",
              "\n",
              "  <div class=\"colab-df-container\">\n",
              "    <button class=\"colab-df-convert\" onclick=\"convertToInteractive('df-d25b75c3-c690-4a84-b817-4b5043af7d55')\"\n",
              "            title=\"Convert this dataframe to an interactive table.\"\n",
              "            style=\"display:none;\">\n",
              "\n",
              "  <svg xmlns=\"http://www.w3.org/2000/svg\" height=\"24px\" viewBox=\"0 -960 960 960\">\n",
              "    <path d=\"M120-120v-720h720v720H120Zm60-500h600v-160H180v160Zm220 220h160v-160H400v160Zm0 220h160v-160H400v160ZM180-400h160v-160H180v160Zm440 0h160v-160H620v160ZM180-180h160v-160H180v160Zm440 0h160v-160H620v160Z\"/>\n",
              "  </svg>\n",
              "    </button>\n",
              "\n",
              "  <style>\n",
              "    .colab-df-container {\n",
              "      display:flex;\n",
              "      gap: 12px;\n",
              "    }\n",
              "\n",
              "    .colab-df-convert {\n",
              "      background-color: #E8F0FE;\n",
              "      border: none;\n",
              "      border-radius: 50%;\n",
              "      cursor: pointer;\n",
              "      display: none;\n",
              "      fill: #1967D2;\n",
              "      height: 32px;\n",
              "      padding: 0 0 0 0;\n",
              "      width: 32px;\n",
              "    }\n",
              "\n",
              "    .colab-df-convert:hover {\n",
              "      background-color: #E2EBFA;\n",
              "      box-shadow: 0px 1px 2px rgba(60, 64, 67, 0.3), 0px 1px 3px 1px rgba(60, 64, 67, 0.15);\n",
              "      fill: #174EA6;\n",
              "    }\n",
              "\n",
              "    .colab-df-buttons div {\n",
              "      margin-bottom: 4px;\n",
              "    }\n",
              "\n",
              "    [theme=dark] .colab-df-convert {\n",
              "      background-color: #3B4455;\n",
              "      fill: #D2E3FC;\n",
              "    }\n",
              "\n",
              "    [theme=dark] .colab-df-convert:hover {\n",
              "      background-color: #434B5C;\n",
              "      box-shadow: 0px 1px 3px 1px rgba(0, 0, 0, 0.15);\n",
              "      filter: drop-shadow(0px 1px 2px rgba(0, 0, 0, 0.3));\n",
              "      fill: #FFFFFF;\n",
              "    }\n",
              "  </style>\n",
              "\n",
              "    <script>\n",
              "      const buttonEl =\n",
              "        document.querySelector('#df-d25b75c3-c690-4a84-b817-4b5043af7d55 button.colab-df-convert');\n",
              "      buttonEl.style.display =\n",
              "        google.colab.kernel.accessAllowed ? 'block' : 'none';\n",
              "\n",
              "      async function convertToInteractive(key) {\n",
              "        const element = document.querySelector('#df-d25b75c3-c690-4a84-b817-4b5043af7d55');\n",
              "        const dataTable =\n",
              "          await google.colab.kernel.invokeFunction('convertToInteractive',\n",
              "                                                    [key], {});\n",
              "        if (!dataTable) return;\n",
              "\n",
              "        const docLinkHtml = 'Like what you see? Visit the ' +\n",
              "          '<a target=\"_blank\" href=https://colab.research.google.com/notebooks/data_table.ipynb>data table notebook</a>'\n",
              "          + ' to learn more about interactive tables.';\n",
              "        element.innerHTML = '';\n",
              "        dataTable['output_type'] = 'display_data';\n",
              "        await google.colab.output.renderOutput(dataTable, element);\n",
              "        const docLink = document.createElement('div');\n",
              "        docLink.innerHTML = docLinkHtml;\n",
              "        element.appendChild(docLink);\n",
              "      }\n",
              "    </script>\n",
              "  </div>\n",
              "\n",
              "\n",
              "<div id=\"df-14e71513-3d81-41ae-9ef7-8b34c65bc645\">\n",
              "  <button class=\"colab-df-quickchart\" onclick=\"quickchart('df-14e71513-3d81-41ae-9ef7-8b34c65bc645')\"\n",
              "            title=\"Suggest charts.\"\n",
              "            style=\"display:none;\">\n",
              "\n",
              "<svg xmlns=\"http://www.w3.org/2000/svg\" height=\"24px\"viewBox=\"0 0 24 24\"\n",
              "     width=\"24px\">\n",
              "    <g>\n",
              "        <path d=\"M19 3H5c-1.1 0-2 .9-2 2v14c0 1.1.9 2 2 2h14c1.1 0 2-.9 2-2V5c0-1.1-.9-2-2-2zM9 17H7v-7h2v7zm4 0h-2V7h2v10zm4 0h-2v-4h2v4z\"/>\n",
              "    </g>\n",
              "</svg>\n",
              "  </button>\n",
              "\n",
              "<style>\n",
              "  .colab-df-quickchart {\n",
              "      --bg-color: #E8F0FE;\n",
              "      --fill-color: #1967D2;\n",
              "      --hover-bg-color: #E2EBFA;\n",
              "      --hover-fill-color: #174EA6;\n",
              "      --disabled-fill-color: #AAA;\n",
              "      --disabled-bg-color: #DDD;\n",
              "  }\n",
              "\n",
              "  [theme=dark] .colab-df-quickchart {\n",
              "      --bg-color: #3B4455;\n",
              "      --fill-color: #D2E3FC;\n",
              "      --hover-bg-color: #434B5C;\n",
              "      --hover-fill-color: #FFFFFF;\n",
              "      --disabled-bg-color: #3B4455;\n",
              "      --disabled-fill-color: #666;\n",
              "  }\n",
              "\n",
              "  .colab-df-quickchart {\n",
              "    background-color: var(--bg-color);\n",
              "    border: none;\n",
              "    border-radius: 50%;\n",
              "    cursor: pointer;\n",
              "    display: none;\n",
              "    fill: var(--fill-color);\n",
              "    height: 32px;\n",
              "    padding: 0;\n",
              "    width: 32px;\n",
              "  }\n",
              "\n",
              "  .colab-df-quickchart:hover {\n",
              "    background-color: var(--hover-bg-color);\n",
              "    box-shadow: 0 1px 2px rgba(60, 64, 67, 0.3), 0 1px 3px 1px rgba(60, 64, 67, 0.15);\n",
              "    fill: var(--button-hover-fill-color);\n",
              "  }\n",
              "\n",
              "  .colab-df-quickchart-complete:disabled,\n",
              "  .colab-df-quickchart-complete:disabled:hover {\n",
              "    background-color: var(--disabled-bg-color);\n",
              "    fill: var(--disabled-fill-color);\n",
              "    box-shadow: none;\n",
              "  }\n",
              "\n",
              "  .colab-df-spinner {\n",
              "    border: 2px solid var(--fill-color);\n",
              "    border-color: transparent;\n",
              "    border-bottom-color: var(--fill-color);\n",
              "    animation:\n",
              "      spin 1s steps(1) infinite;\n",
              "  }\n",
              "\n",
              "  @keyframes spin {\n",
              "    0% {\n",
              "      border-color: transparent;\n",
              "      border-bottom-color: var(--fill-color);\n",
              "      border-left-color: var(--fill-color);\n",
              "    }\n",
              "    20% {\n",
              "      border-color: transparent;\n",
              "      border-left-color: var(--fill-color);\n",
              "      border-top-color: var(--fill-color);\n",
              "    }\n",
              "    30% {\n",
              "      border-color: transparent;\n",
              "      border-left-color: var(--fill-color);\n",
              "      border-top-color: var(--fill-color);\n",
              "      border-right-color: var(--fill-color);\n",
              "    }\n",
              "    40% {\n",
              "      border-color: transparent;\n",
              "      border-right-color: var(--fill-color);\n",
              "      border-top-color: var(--fill-color);\n",
              "    }\n",
              "    60% {\n",
              "      border-color: transparent;\n",
              "      border-right-color: var(--fill-color);\n",
              "    }\n",
              "    80% {\n",
              "      border-color: transparent;\n",
              "      border-right-color: var(--fill-color);\n",
              "      border-bottom-color: var(--fill-color);\n",
              "    }\n",
              "    90% {\n",
              "      border-color: transparent;\n",
              "      border-bottom-color: var(--fill-color);\n",
              "    }\n",
              "  }\n",
              "</style>\n",
              "\n",
              "  <script>\n",
              "    async function quickchart(key) {\n",
              "      const quickchartButtonEl =\n",
              "        document.querySelector('#' + key + ' button');\n",
              "      quickchartButtonEl.disabled = true;  // To prevent multiple clicks.\n",
              "      quickchartButtonEl.classList.add('colab-df-spinner');\n",
              "      try {\n",
              "        const charts = await google.colab.kernel.invokeFunction(\n",
              "            'suggestCharts', [key], {});\n",
              "      } catch (error) {\n",
              "        console.error('Error during call to suggestCharts:', error);\n",
              "      }\n",
              "      quickchartButtonEl.classList.remove('colab-df-spinner');\n",
              "      quickchartButtonEl.classList.add('colab-df-quickchart-complete');\n",
              "    }\n",
              "    (() => {\n",
              "      let quickchartButtonEl =\n",
              "        document.querySelector('#df-14e71513-3d81-41ae-9ef7-8b34c65bc645 button');\n",
              "      quickchartButtonEl.style.display =\n",
              "        google.colab.kernel.accessAllowed ? 'block' : 'none';\n",
              "    })();\n",
              "  </script>\n",
              "</div>\n",
              "    </div>\n",
              "  </div>\n"
            ]
          },
          "metadata": {},
          "execution_count": 24
        }
      ],
      "source": [
        "movie_df = corpus_df[corpus_df['Movie Title'] == 'Taxi'].copy()\n",
        "movie_df.head(3).T"
      ],
      "id": "hhiDmYQHa3Ak"
    },
    {
      "cell_type": "markdown",
      "metadata": {
        "id": "a89S78L_a3An"
      },
      "source": [
        "## Recurrent Neural Network (RNN) Model Development"
      ],
      "id": "a89S78L_a3An"
    },
    {
      "cell_type": "markdown",
      "metadata": {
        "id": "000k4u2ua3An"
      },
      "source": [
        "<img src=\"https://github.com/djp840/MSDS_453_Public/blob/main/images/BidirectionalRNN.png?raw=true\">"
      ],
      "id": "000k4u2ua3An"
    },
    {
      "cell_type": "markdown",
      "metadata": {
        "id": "woiyYARCa3An"
      },
      "source": [
        "<div class=\"alert alert-block alert-info\">\n",
        "    <b>tf.keras.layers.Bidirectional</b><br>\n",
        "    https://www.tensorflow.org/api_docs/python/tf/keras/layers/Bidirectional\n",
        "    </div>"
      ],
      "id": "woiyYARCa3An"
    },
    {
      "cell_type": "code",
      "execution_count": 25,
      "metadata": {
        "colab": {
          "base_uri": "https://localhost:8080/",
          "height": 457
        },
        "id": "-bxUk9j-a3An",
        "outputId": "50586d04-9ee1-40e8-a60a-c3124c888569"
      },
      "outputs": [
        {
          "output_type": "execute_result",
          "data": {
            "text/plain": [
              "                                                                          0  \\\n",
              "DSI_Title                                         LKP_Doc1_Angel_has_fallen   \n",
              "Text                      Target is on the move . '' Heavily outnumbered...   \n",
              "Submission File Name                              LKP_Doc1_Angel_has_fallen   \n",
              "Student Name                                                            LKP   \n",
              "Genre of Movie                                                       Action   \n",
              "Review Type (pos or neg)                                           Negative   \n",
              "Movie Title                                                Angel_has_fallen   \n",
              "Descriptor                                     Action_Angel_has_fallen_N_90   \n",
              "Doc_ID                                                                   90   \n",
              "raw_sentences             [Target is on the move . '', Heavily outnumber...   \n",
              "lemmas                    [target, heavily, outnumber, outgunne, mike, b...   \n",
              "lemmas_joined             target heavily outnumber outgunne mike banning...   \n",
              "sentences_lemmatized      [target, heavily outnumber outgunne mike banni...   \n",
              "\n",
              "                                                                          1  \\\n",
              "DSI_Title                                         LKP_Doc2_Angel_has_fallen   \n",
              "Text                      The sleepy , dopey action bonanza `` Angel Has...   \n",
              "Submission File Name                              LKP_Doc2_Angel_has_fallen   \n",
              "Student Name                                                            LKP   \n",
              "Genre of Movie                                                       Action   \n",
              "Review Type (pos or neg)                                           Negative   \n",
              "Movie Title                                                Angel_has_fallen   \n",
              "Descriptor                                     Action_Angel_has_fallen_N_91   \n",
              "Doc_ID                                                                   91   \n",
              "raw_sentences             [The sleepy , dopey action bonanza `` Angel Ha...   \n",
              "lemmas                    [sleepy, dopey, action, bonanza, angel, fall, ...   \n",
              "lemmas_joined             sleepy dopey action bonanza angel fall disappo...   \n",
              "sentences_lemmatized      [sleepy dopey action bonanza angel fall disapp...   \n",
              "\n",
              "                                                                          2  \\\n",
              "DSI_Title                                         LKP_Doc3_Angel_has_fallen   \n",
              "Text                      `` Angel Has Fallen '' marks the third time th...   \n",
              "Submission File Name                              LKP_Doc3_Angel_has_fallen   \n",
              "Student Name                                                            LKP   \n",
              "Genre of Movie                                                       Action   \n",
              "Review Type (pos or neg)                                           Negative   \n",
              "Movie Title                                                Angel_has_fallen   \n",
              "Descriptor                                     Action_Angel_has_fallen_N_92   \n",
              "Doc_ID                                                                   92   \n",
              "raw_sentences             [`` Angel Has Fallen '' marks the third time t...   \n",
              "lemmas                    [angel, fall, mark, time, gerard, butler, secr...   \n",
              "lemmas_joined             angel fall mark time gerard butler secret serv...   \n",
              "sentences_lemmatized      [angel fall mark time gerard butler secret ser...   \n",
              "\n",
              "                                                                          3  \n",
              "DSI_Title                                         LKP_Doc4_Angel_has_fallen  \n",
              "Text                      Improving through blandness . So Mike Banning ...  \n",
              "Submission File Name                              LKP_Doc4_Angel_has_fallen  \n",
              "Student Name                                                            LKP  \n",
              "Genre of Movie                                                       Action  \n",
              "Review Type (pos or neg)                                           Negative  \n",
              "Movie Title                                                Angel_has_fallen  \n",
              "Descriptor                                     Action_Angel_has_fallen_N_93  \n",
              "Doc_ID                                                                   93  \n",
              "raw_sentences             [Improving through blandness ., So Mike Bannin...  \n",
              "lemmas                    [improve, blandness, mike, banning, gerard, bu...  \n",
              "lemmas_joined             improve blandness mike banning gerard butler w...  \n",
              "sentences_lemmatized      [improve blandness, mike banning gerard butler...  "
            ],
            "text/html": [
              "\n",
              "  <div id=\"df-c0ef570d-07e3-44d1-b2e9-cbff2e701493\" class=\"colab-df-container\">\n",
              "    <div>\n",
              "<style scoped>\n",
              "    .dataframe tbody tr th:only-of-type {\n",
              "        vertical-align: middle;\n",
              "    }\n",
              "\n",
              "    .dataframe tbody tr th {\n",
              "        vertical-align: top;\n",
              "    }\n",
              "\n",
              "    .dataframe thead th {\n",
              "        text-align: right;\n",
              "    }\n",
              "</style>\n",
              "<table border=\"1\" class=\"dataframe\">\n",
              "  <thead>\n",
              "    <tr style=\"text-align: right;\">\n",
              "      <th></th>\n",
              "      <th>0</th>\n",
              "      <th>1</th>\n",
              "      <th>2</th>\n",
              "      <th>3</th>\n",
              "    </tr>\n",
              "  </thead>\n",
              "  <tbody>\n",
              "    <tr>\n",
              "      <th>DSI_Title</th>\n",
              "      <td>LKP_Doc1_Angel_has_fallen</td>\n",
              "      <td>LKP_Doc2_Angel_has_fallen</td>\n",
              "      <td>LKP_Doc3_Angel_has_fallen</td>\n",
              "      <td>LKP_Doc4_Angel_has_fallen</td>\n",
              "    </tr>\n",
              "    <tr>\n",
              "      <th>Text</th>\n",
              "      <td>Target is on the move . '' Heavily outnumbered...</td>\n",
              "      <td>The sleepy , dopey action bonanza `` Angel Has...</td>\n",
              "      <td>`` Angel Has Fallen '' marks the third time th...</td>\n",
              "      <td>Improving through blandness . So Mike Banning ...</td>\n",
              "    </tr>\n",
              "    <tr>\n",
              "      <th>Submission File Name</th>\n",
              "      <td>LKP_Doc1_Angel_has_fallen</td>\n",
              "      <td>LKP_Doc2_Angel_has_fallen</td>\n",
              "      <td>LKP_Doc3_Angel_has_fallen</td>\n",
              "      <td>LKP_Doc4_Angel_has_fallen</td>\n",
              "    </tr>\n",
              "    <tr>\n",
              "      <th>Student Name</th>\n",
              "      <td>LKP</td>\n",
              "      <td>LKP</td>\n",
              "      <td>LKP</td>\n",
              "      <td>LKP</td>\n",
              "    </tr>\n",
              "    <tr>\n",
              "      <th>Genre of Movie</th>\n",
              "      <td>Action</td>\n",
              "      <td>Action</td>\n",
              "      <td>Action</td>\n",
              "      <td>Action</td>\n",
              "    </tr>\n",
              "    <tr>\n",
              "      <th>Review Type (pos or neg)</th>\n",
              "      <td>Negative</td>\n",
              "      <td>Negative</td>\n",
              "      <td>Negative</td>\n",
              "      <td>Negative</td>\n",
              "    </tr>\n",
              "    <tr>\n",
              "      <th>Movie Title</th>\n",
              "      <td>Angel_has_fallen</td>\n",
              "      <td>Angel_has_fallen</td>\n",
              "      <td>Angel_has_fallen</td>\n",
              "      <td>Angel_has_fallen</td>\n",
              "    </tr>\n",
              "    <tr>\n",
              "      <th>Descriptor</th>\n",
              "      <td>Action_Angel_has_fallen_N_90</td>\n",
              "      <td>Action_Angel_has_fallen_N_91</td>\n",
              "      <td>Action_Angel_has_fallen_N_92</td>\n",
              "      <td>Action_Angel_has_fallen_N_93</td>\n",
              "    </tr>\n",
              "    <tr>\n",
              "      <th>Doc_ID</th>\n",
              "      <td>90</td>\n",
              "      <td>91</td>\n",
              "      <td>92</td>\n",
              "      <td>93</td>\n",
              "    </tr>\n",
              "    <tr>\n",
              "      <th>raw_sentences</th>\n",
              "      <td>[Target is on the move . '', Heavily outnumber...</td>\n",
              "      <td>[The sleepy , dopey action bonanza `` Angel Ha...</td>\n",
              "      <td>[`` Angel Has Fallen '' marks the third time t...</td>\n",
              "      <td>[Improving through blandness ., So Mike Bannin...</td>\n",
              "    </tr>\n",
              "    <tr>\n",
              "      <th>lemmas</th>\n",
              "      <td>[target, heavily, outnumber, outgunne, mike, b...</td>\n",
              "      <td>[sleepy, dopey, action, bonanza, angel, fall, ...</td>\n",
              "      <td>[angel, fall, mark, time, gerard, butler, secr...</td>\n",
              "      <td>[improve, blandness, mike, banning, gerard, bu...</td>\n",
              "    </tr>\n",
              "    <tr>\n",
              "      <th>lemmas_joined</th>\n",
              "      <td>target heavily outnumber outgunne mike banning...</td>\n",
              "      <td>sleepy dopey action bonanza angel fall disappo...</td>\n",
              "      <td>angel fall mark time gerard butler secret serv...</td>\n",
              "      <td>improve blandness mike banning gerard butler w...</td>\n",
              "    </tr>\n",
              "    <tr>\n",
              "      <th>sentences_lemmatized</th>\n",
              "      <td>[target, heavily outnumber outgunne mike banni...</td>\n",
              "      <td>[sleepy dopey action bonanza angel fall disapp...</td>\n",
              "      <td>[angel fall mark time gerard butler secret ser...</td>\n",
              "      <td>[improve blandness, mike banning gerard butler...</td>\n",
              "    </tr>\n",
              "  </tbody>\n",
              "</table>\n",
              "</div>\n",
              "    <div class=\"colab-df-buttons\">\n",
              "\n",
              "  <div class=\"colab-df-container\">\n",
              "    <button class=\"colab-df-convert\" onclick=\"convertToInteractive('df-c0ef570d-07e3-44d1-b2e9-cbff2e701493')\"\n",
              "            title=\"Convert this dataframe to an interactive table.\"\n",
              "            style=\"display:none;\">\n",
              "\n",
              "  <svg xmlns=\"http://www.w3.org/2000/svg\" height=\"24px\" viewBox=\"0 -960 960 960\">\n",
              "    <path d=\"M120-120v-720h720v720H120Zm60-500h600v-160H180v160Zm220 220h160v-160H400v160Zm0 220h160v-160H400v160ZM180-400h160v-160H180v160Zm440 0h160v-160H620v160ZM180-180h160v-160H180v160Zm440 0h160v-160H620v160Z\"/>\n",
              "  </svg>\n",
              "    </button>\n",
              "\n",
              "  <style>\n",
              "    .colab-df-container {\n",
              "      display:flex;\n",
              "      gap: 12px;\n",
              "    }\n",
              "\n",
              "    .colab-df-convert {\n",
              "      background-color: #E8F0FE;\n",
              "      border: none;\n",
              "      border-radius: 50%;\n",
              "      cursor: pointer;\n",
              "      display: none;\n",
              "      fill: #1967D2;\n",
              "      height: 32px;\n",
              "      padding: 0 0 0 0;\n",
              "      width: 32px;\n",
              "    }\n",
              "\n",
              "    .colab-df-convert:hover {\n",
              "      background-color: #E2EBFA;\n",
              "      box-shadow: 0px 1px 2px rgba(60, 64, 67, 0.3), 0px 1px 3px 1px rgba(60, 64, 67, 0.15);\n",
              "      fill: #174EA6;\n",
              "    }\n",
              "\n",
              "    .colab-df-buttons div {\n",
              "      margin-bottom: 4px;\n",
              "    }\n",
              "\n",
              "    [theme=dark] .colab-df-convert {\n",
              "      background-color: #3B4455;\n",
              "      fill: #D2E3FC;\n",
              "    }\n",
              "\n",
              "    [theme=dark] .colab-df-convert:hover {\n",
              "      background-color: #434B5C;\n",
              "      box-shadow: 0px 1px 3px 1px rgba(0, 0, 0, 0.15);\n",
              "      filter: drop-shadow(0px 1px 2px rgba(0, 0, 0, 0.3));\n",
              "      fill: #FFFFFF;\n",
              "    }\n",
              "  </style>\n",
              "\n",
              "    <script>\n",
              "      const buttonEl =\n",
              "        document.querySelector('#df-c0ef570d-07e3-44d1-b2e9-cbff2e701493 button.colab-df-convert');\n",
              "      buttonEl.style.display =\n",
              "        google.colab.kernel.accessAllowed ? 'block' : 'none';\n",
              "\n",
              "      async function convertToInteractive(key) {\n",
              "        const element = document.querySelector('#df-c0ef570d-07e3-44d1-b2e9-cbff2e701493');\n",
              "        const dataTable =\n",
              "          await google.colab.kernel.invokeFunction('convertToInteractive',\n",
              "                                                    [key], {});\n",
              "        if (!dataTable) return;\n",
              "\n",
              "        const docLinkHtml = 'Like what you see? Visit the ' +\n",
              "          '<a target=\"_blank\" href=https://colab.research.google.com/notebooks/data_table.ipynb>data table notebook</a>'\n",
              "          + ' to learn more about interactive tables.';\n",
              "        element.innerHTML = '';\n",
              "        dataTable['output_type'] = 'display_data';\n",
              "        await google.colab.output.renderOutput(dataTable, element);\n",
              "        const docLink = document.createElement('div');\n",
              "        docLink.innerHTML = docLinkHtml;\n",
              "        element.appendChild(docLink);\n",
              "      }\n",
              "    </script>\n",
              "  </div>\n",
              "\n",
              "\n",
              "<div id=\"df-a34d5c09-f3ce-463f-8d4d-59eba90bb9e0\">\n",
              "  <button class=\"colab-df-quickchart\" onclick=\"quickchart('df-a34d5c09-f3ce-463f-8d4d-59eba90bb9e0')\"\n",
              "            title=\"Suggest charts.\"\n",
              "            style=\"display:none;\">\n",
              "\n",
              "<svg xmlns=\"http://www.w3.org/2000/svg\" height=\"24px\"viewBox=\"0 0 24 24\"\n",
              "     width=\"24px\">\n",
              "    <g>\n",
              "        <path d=\"M19 3H5c-1.1 0-2 .9-2 2v14c0 1.1.9 2 2 2h14c1.1 0 2-.9 2-2V5c0-1.1-.9-2-2-2zM9 17H7v-7h2v7zm4 0h-2V7h2v10zm4 0h-2v-4h2v4z\"/>\n",
              "    </g>\n",
              "</svg>\n",
              "  </button>\n",
              "\n",
              "<style>\n",
              "  .colab-df-quickchart {\n",
              "      --bg-color: #E8F0FE;\n",
              "      --fill-color: #1967D2;\n",
              "      --hover-bg-color: #E2EBFA;\n",
              "      --hover-fill-color: #174EA6;\n",
              "      --disabled-fill-color: #AAA;\n",
              "      --disabled-bg-color: #DDD;\n",
              "  }\n",
              "\n",
              "  [theme=dark] .colab-df-quickchart {\n",
              "      --bg-color: #3B4455;\n",
              "      --fill-color: #D2E3FC;\n",
              "      --hover-bg-color: #434B5C;\n",
              "      --hover-fill-color: #FFFFFF;\n",
              "      --disabled-bg-color: #3B4455;\n",
              "      --disabled-fill-color: #666;\n",
              "  }\n",
              "\n",
              "  .colab-df-quickchart {\n",
              "    background-color: var(--bg-color);\n",
              "    border: none;\n",
              "    border-radius: 50%;\n",
              "    cursor: pointer;\n",
              "    display: none;\n",
              "    fill: var(--fill-color);\n",
              "    height: 32px;\n",
              "    padding: 0;\n",
              "    width: 32px;\n",
              "  }\n",
              "\n",
              "  .colab-df-quickchart:hover {\n",
              "    background-color: var(--hover-bg-color);\n",
              "    box-shadow: 0 1px 2px rgba(60, 64, 67, 0.3), 0 1px 3px 1px rgba(60, 64, 67, 0.15);\n",
              "    fill: var(--button-hover-fill-color);\n",
              "  }\n",
              "\n",
              "  .colab-df-quickchart-complete:disabled,\n",
              "  .colab-df-quickchart-complete:disabled:hover {\n",
              "    background-color: var(--disabled-bg-color);\n",
              "    fill: var(--disabled-fill-color);\n",
              "    box-shadow: none;\n",
              "  }\n",
              "\n",
              "  .colab-df-spinner {\n",
              "    border: 2px solid var(--fill-color);\n",
              "    border-color: transparent;\n",
              "    border-bottom-color: var(--fill-color);\n",
              "    animation:\n",
              "      spin 1s steps(1) infinite;\n",
              "  }\n",
              "\n",
              "  @keyframes spin {\n",
              "    0% {\n",
              "      border-color: transparent;\n",
              "      border-bottom-color: var(--fill-color);\n",
              "      border-left-color: var(--fill-color);\n",
              "    }\n",
              "    20% {\n",
              "      border-color: transparent;\n",
              "      border-left-color: var(--fill-color);\n",
              "      border-top-color: var(--fill-color);\n",
              "    }\n",
              "    30% {\n",
              "      border-color: transparent;\n",
              "      border-left-color: var(--fill-color);\n",
              "      border-top-color: var(--fill-color);\n",
              "      border-right-color: var(--fill-color);\n",
              "    }\n",
              "    40% {\n",
              "      border-color: transparent;\n",
              "      border-right-color: var(--fill-color);\n",
              "      border-top-color: var(--fill-color);\n",
              "    }\n",
              "    60% {\n",
              "      border-color: transparent;\n",
              "      border-right-color: var(--fill-color);\n",
              "    }\n",
              "    80% {\n",
              "      border-color: transparent;\n",
              "      border-right-color: var(--fill-color);\n",
              "      border-bottom-color: var(--fill-color);\n",
              "    }\n",
              "    90% {\n",
              "      border-color: transparent;\n",
              "      border-bottom-color: var(--fill-color);\n",
              "    }\n",
              "  }\n",
              "</style>\n",
              "\n",
              "  <script>\n",
              "    async function quickchart(key) {\n",
              "      const quickchartButtonEl =\n",
              "        document.querySelector('#' + key + ' button');\n",
              "      quickchartButtonEl.disabled = true;  // To prevent multiple clicks.\n",
              "      quickchartButtonEl.classList.add('colab-df-spinner');\n",
              "      try {\n",
              "        const charts = await google.colab.kernel.invokeFunction(\n",
              "            'suggestCharts', [key], {});\n",
              "      } catch (error) {\n",
              "        console.error('Error during call to suggestCharts:', error);\n",
              "      }\n",
              "      quickchartButtonEl.classList.remove('colab-df-spinner');\n",
              "      quickchartButtonEl.classList.add('colab-df-quickchart-complete');\n",
              "    }\n",
              "    (() => {\n",
              "      let quickchartButtonEl =\n",
              "        document.querySelector('#df-a34d5c09-f3ce-463f-8d4d-59eba90bb9e0 button');\n",
              "      quickchartButtonEl.style.display =\n",
              "        google.colab.kernel.accessAllowed ? 'block' : 'none';\n",
              "    })();\n",
              "  </script>\n",
              "</div>\n",
              "    </div>\n",
              "  </div>\n"
            ]
          },
          "metadata": {},
          "execution_count": 25
        }
      ],
      "source": [
        "datafull=corpus_df.copy()\n",
        "datafull.reset_index(drop=True, inplace=True)\n",
        "datafull.head(4).T"
      ],
      "id": "-bxUk9j-a3An"
    },
    {
      "cell_type": "code",
      "execution_count": 26,
      "metadata": {
        "id": "LQT4ammqa3Ao"
      },
      "outputs": [],
      "source": [
        "datafull['Text'] = datafull['Text'].apply(lambda x :clean_doc(x))"
      ],
      "id": "LQT4ammqa3Ao"
    },
    {
      "cell_type": "markdown",
      "metadata": {
        "id": "-zmYIKlwa3Ao"
      },
      "source": [
        "## Preprocess DataSet"
      ],
      "id": "-zmYIKlwa3Ao"
    },
    {
      "cell_type": "code",
      "execution_count": 27,
      "metadata": {
        "id": "bxxvu9hda3Ao"
      },
      "outputs": [],
      "source": [
        "data = datafull[['Text','Review Type (pos or neg)']].copy()"
      ],
      "id": "bxxvu9hda3Ao"
    },
    {
      "cell_type": "code",
      "execution_count": 28,
      "metadata": {
        "colab": {
          "base_uri": "https://localhost:8080/"
        },
        "id": "-u7wjI_ha3Ao",
        "outputId": "5b4ec7d3-ee16-4e3f-9063-30dfe154dadc"
      },
      "outputs": [
        {
          "output_type": "execute_result",
          "data": {
            "text/plain": [
              "195    1\n",
              "196    1\n",
              "197    1\n",
              "198    1\n",
              "199    1\n",
              "Name: Review Type (pos or neg) Code, dtype: int8"
            ]
          },
          "metadata": {},
          "execution_count": 28
        }
      ],
      "source": [
        "data['Review Type (pos or neg)'] = data['Review Type (pos or neg)'].astype(\"category\")\n",
        "data['Review Type (pos or neg) Code'] = data['Review Type (pos or neg)'].cat.codes\n",
        "data['Review Type (pos or neg) Code'].tail().T"
      ],
      "id": "-u7wjI_ha3Ao"
    },
    {
      "cell_type": "markdown",
      "metadata": {
        "id": "SSMUzGs3a3Ap"
      },
      "source": [
        "## Review Examples by Sentiment"
      ],
      "id": "SSMUzGs3a3Ap"
    },
    {
      "cell_type": "code",
      "execution_count": 29,
      "metadata": {
        "colab": {
          "base_uri": "https://localhost:8080/"
        },
        "id": "dFkTjTiRa3Ap",
        "outputId": "6f37c049-f3f7-4a7d-c157-ef7c15a7e034"
      },
      "outputs": [
        {
          "output_type": "execute_result",
          "data": {
            "text/plain": [
              "Review Type (pos or neg)  Review Type (pos or neg) Code\n",
              "Negative                  0                                100\n",
              "Positive                  1                                100\n",
              "dtype: int64"
            ]
          },
          "metadata": {},
          "execution_count": 29
        }
      ],
      "source": [
        "features, targets = data['Text'], data['Review Type (pos or neg) Code']\n",
        "data[[\"Review Type (pos or neg)\",\"Review Type (pos or neg) Code\"]].value_counts()"
      ],
      "id": "dFkTjTiRa3Ap"
    },
    {
      "cell_type": "markdown",
      "metadata": {
        "id": "NY7k4lDua3Ap"
      },
      "source": [
        "## Create Datasets for Model Development"
      ],
      "id": "NY7k4lDua3Ap"
    },
    {
      "cell_type": "code",
      "execution_count": 30,
      "metadata": {
        "colab": {
          "base_uri": "https://localhost:8080/"
        },
        "id": "URwJacXqa3Ap",
        "outputId": "0a5ee9ab-3410-48c9-ee4e-80ddd1dfc0fb"
      },
      "outputs": [
        {
          "output_type": "execute_result",
          "data": {
            "text/plain": [
              "((160, 2), (20, 2), (20, 2))"
            ]
          },
          "metadata": {},
          "execution_count": 30
        }
      ],
      "source": [
        "trainds, valds, testds = get_dataset_partitions_pd(data[['Text','Review Type (pos or neg) Code']])\n",
        "trainds.shape, valds.shape, testds.shape"
      ],
      "id": "URwJacXqa3Ap"
    },
    {
      "cell_type": "markdown",
      "metadata": {
        "id": "hzPDnrNaa3Aq"
      },
      "source": [
        "## Convert DataFrame to TensorFlow DataSet"
      ],
      "id": "hzPDnrNaa3Aq"
    },
    {
      "cell_type": "code",
      "execution_count": 31,
      "metadata": {
        "id": "YPouUedHa3Aq"
      },
      "outputs": [],
      "source": [
        "# train X & y\n",
        "train_text_ds_raw = tf.data.Dataset.from_tensor_slices(\n",
        "            tf.cast(trainds['Text'].values, tf.string)\n",
        ")\n",
        "train_cat_ds_raw = tf.data.Dataset.from_tensor_slices(\n",
        "            tf.cast(trainds['Review Type (pos or neg) Code'].values, tf.int64),\n",
        "  )\n",
        "# test X & y\n",
        "test_text_ds_raw = tf.data.Dataset.from_tensor_slices(\n",
        "            tf.cast(testds['Text'].values, tf.string)\n",
        ")\n",
        "test_cat_ds_raw = tf.data.Dataset.from_tensor_slices(\n",
        "            tf.cast(testds['Review Type (pos or neg) Code'].values, tf.int64),\n",
        ")\n",
        "#val X & Y\n",
        "val_text_ds_raw = tf.data.Dataset.from_tensor_slices(\n",
        "            tf.cast(valds['Text'].values, tf.string)\n",
        ")\n",
        "val_cat_ds_raw = tf.data.Dataset.from_tensor_slices(\n",
        "            tf.cast(valds['Review Type (pos or neg) Code'].values, tf.int64),\n",
        ")"
      ],
      "id": "YPouUedHa3Aq"
    },
    {
      "cell_type": "markdown",
      "metadata": {
        "id": "X9_xVgpTa3Aq"
      },
      "source": [
        "## Create DataSets (X=Preprocessed Text, Y=Encoded Categories)"
      ],
      "id": "X9_xVgpTa3Aq"
    },
    {
      "cell_type": "code",
      "execution_count": 32,
      "metadata": {
        "id": "0-jMMV07a3Aq"
      },
      "outputs": [],
      "source": [
        "train_ds = tf.data.Dataset.zip(\n",
        "    (\n",
        "            train_text_ds_raw,\n",
        "            train_cat_ds_raw\n",
        "     )\n",
        ")\n",
        "test_ds = tf.data.Dataset.zip(\n",
        "    (\n",
        "            test_text_ds_raw,\n",
        "            test_cat_ds_raw\n",
        "     )\n",
        ")\n",
        "val_ds = tf.data.Dataset.zip(\n",
        "    (\n",
        "            val_text_ds_raw,\n",
        "            val_cat_ds_raw\n",
        "     )\n",
        ")"
      ],
      "id": "0-jMMV07a3Aq"
    },
    {
      "cell_type": "markdown",
      "metadata": {
        "id": "3e0rdBjya3Aq"
      },
      "source": [
        "## Create Data Pipelines (Batching, Shuffling, and Optimizing)"
      ],
      "id": "3e0rdBjya3Aq"
    },
    {
      "cell_type": "code",
      "execution_count": 33,
      "metadata": {
        "id": "iJuYZeC-a3Aq"
      },
      "outputs": [],
      "source": [
        "batch_size = 3\n",
        "AUTOTUNE = tf.data.experimental.AUTOTUNE\n",
        "buffer_size=train_ds.cardinality().numpy()\n",
        "\n",
        "train_ds = train_ds.shuffle(buffer_size=buffer_size)\\\n",
        "                   .batch(batch_size=batch_size,drop_remainder=True)\\\n",
        "                   .cache()\\\n",
        "                   .prefetch(AUTOTUNE)\n",
        "\n",
        "test_ds = test_ds.shuffle(buffer_size=buffer_size)\\\n",
        "                   .batch(batch_size=batch_size,drop_remainder=True)\\\n",
        "                   .cache()\\\n",
        "                   .prefetch(AUTOTUNE)\n",
        "\n",
        "\n",
        "val_ds = val_ds.shuffle(buffer_size=buffer_size)\\\n",
        "                   .batch(batch_size=batch_size,drop_remainder=True)\\\n",
        "                   .cache()\\\n",
        "                   .prefetch(AUTOTUNE)"
      ],
      "id": "iJuYZeC-a3Aq"
    },
    {
      "cell_type": "code",
      "execution_count": 34,
      "metadata": {
        "colab": {
          "base_uri": "https://localhost:8080/"
        },
        "id": "hd3vvOA5a3Aq",
        "outputId": "ea0331e0-d547-468d-a9dc-cf67c9b9fcd5"
      },
      "outputs": [
        {
          "output_type": "stream",
          "name": "stdout",
          "text": [
            "<class 'pandas.core.frame.DataFrame'>\n",
            "RangeIndex: 200 entries, 0 to 199\n",
            "Data columns (total 3 columns):\n",
            " #   Column                         Non-Null Count  Dtype   \n",
            "---  ------                         --------------  -----   \n",
            " 0   Text                           200 non-null    object  \n",
            " 1   Review Type (pos or neg)       200 non-null    category\n",
            " 2   Review Type (pos or neg) Code  200 non-null    int8    \n",
            "dtypes: category(1), int8(1), object(1)\n",
            "memory usage: 2.2+ KB\n"
          ]
        }
      ],
      "source": [
        "data.info()"
      ],
      "id": "hd3vvOA5a3Aq"
    },
    {
      "cell_type": "markdown",
      "metadata": {
        "id": "KJpyv_O8a3Ar"
      },
      "source": [
        "## Create the Text Encoder"
      ],
      "id": "KJpyv_O8a3Ar"
    },
    {
      "cell_type": "markdown",
      "metadata": {
        "id": "OwdQLOVma3Ar"
      },
      "source": [
        "The raw text loaded by `tfds` needs to be processed before it can be used in a model. The simplest way to process text for training is using the `experimental.preprocessing.TextVectorization` layer. This layer has many capabilities, but this tutorial sticks to the default behavior."
      ],
      "id": "OwdQLOVma3Ar"
    },
    {
      "cell_type": "markdown",
      "metadata": {
        "id": "cxvx2hUOa3Ar"
      },
      "source": [
        "Create the layer, and pass the dataset's text to the layer's `.adapt` method:\n",
        "The processing of each sample contains the following steps:\n",
        "\n",
        "    standardize each sample (usually lowercasing + punctuation stripping)\n",
        "    split each sample into substrings (usually words)\n",
        "    recombine substrings into tokens (usually ngrams)\n",
        "    index tokens (associate a unique int value with each token)\n",
        "    transform each sample using this index, either into a vector of ints or a dense float vector."
      ],
      "id": "cxvx2hUOa3Ar"
    },
    {
      "cell_type": "markdown",
      "metadata": {
        "id": "XTJmKS4Ca3Ar"
      },
      "source": [
        "<div class=\"alert alert-block alert-info\">\n",
        "    <b>tf.keras.layers.TextVectorization</b><br>\n",
        "   https://www.tensorflow.org/api_docs/python/tf/keras/layers/TextVectorization\n",
        "    </div>"
      ],
      "id": "XTJmKS4Ca3Ar"
    },
    {
      "cell_type": "code",
      "execution_count": 35,
      "metadata": {
        "id": "fRuTUz_sa3Ar"
      },
      "outputs": [],
      "source": [
        "VOCAB_SIZE=5000\n",
        "encoder = tf.keras.layers.TextVectorization(\n",
        "    max_tokens=VOCAB_SIZE, standardize=\"lower_and_strip_punctuation\", pad_to_max_tokens= True)\n",
        "encoder.adapt(train_ds.map(lambda text, label: text), batch_size= None)"
      ],
      "id": "fRuTUz_sa3Ar"
    },
    {
      "cell_type": "code",
      "execution_count": 36,
      "metadata": {
        "colab": {
          "base_uri": "https://localhost:8080/"
        },
        "id": "QadfX_5Xa3Ar",
        "outputId": "6ff0dcb6-5ae2-4195-ecd8-275a89fcb017"
      },
      "outputs": [
        {
          "output_type": "execute_result",
          "data": {
            "text/plain": [
              "5000"
            ]
          },
          "metadata": {},
          "execution_count": 36
        }
      ],
      "source": [
        "vocab = np.array(encoder.get_vocabulary())\n",
        "len(vocab)"
      ],
      "id": "QadfX_5Xa3Ar"
    },
    {
      "cell_type": "code",
      "execution_count": 37,
      "metadata": {
        "colab": {
          "base_uri": "https://localhost:8080/"
        },
        "id": "p8MvQujla3As",
        "outputId": "32004354-109c-44b2-e3bb-8b5d32ed785f"
      },
      "outputs": [
        {
          "output_type": "execute_result",
          "data": {
            "text/plain": [
              "array(['', '[UNK]', 's', 'the', 'film', 'i', 'movie', 'nt', 'like', 'one',\n",
              "       'it', 'time', 'character', 'even', 'get', 'also', 'make', 'two',\n",
              "       'action', 'story'], dtype='<U19')"
            ]
          },
          "metadata": {},
          "execution_count": 37
        }
      ],
      "source": [
        "vocab[:20]"
      ],
      "id": "p8MvQujla3As"
    },
    {
      "cell_type": "code",
      "execution_count": 38,
      "metadata": {
        "colab": {
          "base_uri": "https://localhost:8080/"
        },
        "id": "IlpDqtF_a3As",
        "outputId": "a6aab1fa-1254-4aa2-ffcb-e0531146857e"
      },
      "outputs": [
        {
          "output_type": "execute_result",
          "data": {
            "text/plain": [
              "array(['thx1138', 'thwarting', 'thwarted', 'thursday', 'thunderbolt',\n",
              "       'thug', 'thud', 'throwing', 'throwback', 'throwaway', 'through',\n",
              "       'throe', 'throatclenching', 'thrives', 'thrive', 'threaten',\n",
              "       'thrash', 'thowy', 'thousand', 'thoughtpoliceman'], dtype='<U19')"
            ]
          },
          "metadata": {},
          "execution_count": 38
        }
      ],
      "source": [
        "vocab[-20:]"
      ],
      "id": "IlpDqtF_a3As"
    },
    {
      "cell_type": "markdown",
      "metadata": {
        "id": "w3HbReZea3As"
      },
      "source": [
        "## Example of Encoded Words"
      ],
      "id": "w3HbReZea3As"
    },
    {
      "cell_type": "code",
      "execution_count": 39,
      "metadata": {
        "colab": {
          "base_uri": "https://localhost:8080/"
        },
        "id": "72xCLWaha3As",
        "outputId": "c1811976-2fc2-43da-8610-ae5242c05b23"
      },
      "outputs": [
        {
          "output_type": "execute_result",
          "data": {
            "text/plain": [
              "array([   1,  220, 1379,  492, 2225,    1,  104,  104])"
            ]
          },
          "metadata": {},
          "execution_count": 39
        }
      ],
      "source": [
        "encoded_example = encoder('encanto we dont talk about bruno no no').numpy()\n",
        "encoded_example[:]"
      ],
      "id": "72xCLWaha3As"
    },
    {
      "cell_type": "code",
      "execution_count": 40,
      "metadata": {
        "colab": {
          "base_uri": "https://localhost:8080/"
        },
        "id": "Oq7IIlXza3As",
        "outputId": "ad792ee3-24ec-4d53-8671-a591e506c338"
      },
      "outputs": [
        {
          "output_type": "execute_result",
          "data": {
            "text/plain": [
              "5000"
            ]
          },
          "metadata": {},
          "execution_count": 40
        }
      ],
      "source": [
        "len(encoder.get_vocabulary())"
      ],
      "id": "Oq7IIlXza3As"
    },
    {
      "cell_type": "code",
      "execution_count": 41,
      "metadata": {
        "colab": {
          "base_uri": "https://localhost:8080/"
        },
        "id": "llMJM3c5a3As",
        "outputId": "1e99957b-adc7-4c22-80c5-af4833f60fd0"
      },
      "outputs": [
        {
          "output_type": "execute_result",
          "data": {
            "text/plain": [
              "<tf.Tensor: shape=(276,), dtype=int64, numpy=\n",
              "array([1045,  363,  855,    1,    1,  114,  187,  675,  421, 3154,    1,\n",
              "          1,    1, 1238,    1,  493,    1,  462,  733,   25, 1224,  494,\n",
              "          2,  941, 4223,    1,  441, 1561,  278,    2, 3479, 1660,  108,\n",
              "       2206,   26,  380,  147,  578,    1, 3246,  279,  984,    2,  968,\n",
              "         32,  282,   74,   79, 1033,  998,  187, 4309,  470,  325,   57,\n",
              "        167,  376,  163, 1438,  713,  662,  616,   25,  207,   34,   24,\n",
              "        231,  644, 1531,  163,  402, 3597,  114,    7,  629,    2, 1070,\n",
              "        818,  697, 2118,  336,  524,  320, 2920, 3446, 1936,    1, 2633,\n",
              "          7,  160,  260,  688,   96,  330, 3647, 2468, 2480,    1,   88,\n",
              "          1,   20,  377, 1429,  202,    1,  933,  956, 1304,   77, 1451,\n",
              "       1599, 1677, 2005,  237, 1887, 1934, 4117, 4151,  234,    1,    1,\n",
              "         42,  269,  187,    2,    1,    1, 3058, 1151,  332, 2121, 4067,\n",
              "       3044, 3155,  909,  521,   34, 3504, 1987, 4131,  162,   59, 1667,\n",
              "        794,  512, 1381, 2841,  114,  130, 4015, 3181,  303,    1,  422,\n",
              "          4,   53, 3578,   18,  147,   10,    2, 3861, 2149,    7,    1,\n",
              "        114,    2,  529,    1,   28, 1028,    1,    1,   13, 2088, 2564,\n",
              "       1599,  130,    1,  101, 3706,   42,    7,  834,   10,   15, 1996,\n",
              "       1875,   11,  163,    2, 1644,  398, 1274, 1289, 2207,  326, 4697,\n",
              "        565,    1,    1, 2249,  506,  399, 4274,  187, 2065, 2770,    1,\n",
              "       3931, 1093,  347,   23,   64,  678,  452,    1,  247,  142,  109,\n",
              "       1479,  732, 1131,  680, 4793,    2,  712, 2049,  133, 1489,  410,\n",
              "        783,  239,  394,  439, 4027,  502, 4966,  564,    1,  308, 2190,\n",
              "          1,    1, 1778,  163, 3078, 4275, 2529, 2065,    2,    1, 2627,\n",
              "       3523,  318,  327,    1,    1, 2347, 2165,   91,  114, 3647,   13,\n",
              "       1257, 3110,    1,    1,  167,  376,  507,   10,    2,    9,   64,\n",
              "         29])>"
            ]
          },
          "metadata": {},
          "execution_count": 41
        }
      ],
      "source": [
        "encoder(data['Text'][0])"
      ],
      "id": "llMJM3c5a3As"
    },
    {
      "cell_type": "code",
      "execution_count": 42,
      "metadata": {
        "colab": {
          "base_uri": "https://localhost:8080/"
        },
        "id": "g9JI1g1wa3As",
        "outputId": "445f6c15-0b69-423f-b5cc-fb7de46208f0"
      },
      "outputs": [
        {
          "output_type": "stream",
          "name": "stdout",
          "text": [
            "texts:  [b\"Dirty Grandpa 11 % approval rating Rotten Tomatoes . It nominated five Golden Raspberries almost immaculate attendance record critic ' worst year list . Those reviewed pain point filthy found experience . Mark Kermode needed shower , Mike Ryan wanted burn print Glenn McDonald likened torture porn . For , chart-topping god-awfulness n't confined 2016 . Deadline 's Pete Hammond called worst movie Robert De Niro `` worst movie anyone ever `` . Reader , I liked . I liked time , watching last night , I liked even . It n't . Dirty Grandpa 's CinemaScore ass opening night audience reaction scale A ( excellent ) F ( frightful ) B . That 's worse Joker ( B+ ) improvement Little Fockers ( B- ) . These , perhaps , revealing comparison . For really condemned Dirty Grandpa eye critic position fag-end De Niro 's decade horriblis : prolific run rubbish dotted enough class remind time dropped trouser . In particular , Dirty Grandpa came wake Last Vegas The Intern : laughless horror-shows notable uncomfortable elderly tumescence . Dirty Grandpa , contrast , embrace old erection . De Niro 's character spent 15 chaste year caring wife , faithful devoted 40 . Now 's died , 's unabashed trying seize whatever life left particularly 's young female . So enlists Zac Efron 's uptight lawyer drive Florida Spring Break , hope hot young grandson effective wingman . But Efron opposite drink spiked , inhales epic amount crack wake beach naked save novelty thong swastika penis drawn forehead , FaceTime parent , fiancee rabbi . Is upcoming wedding really good idea ? And grandpa 's road trip really self-serving seemed ? Dan Mazer ( longtime Sacha Baron Cohen collaborator ) team firmly pop 's side . Not De Niro unlikely Jack Reacher , duffing gang dare threaten black gay friend , 's also filthily sage peril sleepwalking marriage sowing wild oat chance .\"]\n",
            "\n"
          ]
        }
      ],
      "source": [
        "for example, label in train_ds.take(1):\n",
        "  print('texts: ', example.numpy()[:1])\n",
        "  print()"
      ],
      "id": "g9JI1g1wa3As"
    },
    {
      "cell_type": "markdown",
      "metadata": {
        "id": "gdkSacw7a3As"
      },
      "source": [
        "## Build RNN Sequential Model"
      ],
      "id": "gdkSacw7a3As"
    },
    {
      "cell_type": "markdown",
      "metadata": {
        "id": "-D0HJalka3At"
      },
      "source": [
        "<div class=\"alert alert-block alert-info\">\n",
        "    <b>tf.keras.layers</b><br>\n",
        "    https://www.tensorflow.org/api_docs/python/tf/keras/layers\n",
        "    </div>"
      ],
      "id": "-D0HJalka3At"
    },
    {
      "cell_type": "code",
      "execution_count": 43,
      "metadata": {
        "id": "mlMTTIVJa3At"
      },
      "outputs": [],
      "source": [
        "k.clear_session()\n",
        "num_classes=2\n",
        "model=tf.keras.Sequential([encoder\n",
        "   ,tf.keras.layers.Embedding(len(encoder.get_vocabulary()), 512, mask_zero=True)\n",
        "   ,tf.keras.layers.Bidirectional(tf.keras.layers.LSTM(128,  return_sequences=True, dropout=0.3))\n",
        "   ,tf.keras.layers.Bidirectional(tf.keras.layers.LSTM(32,dropout=0.3))\n",
        "   ,tf.keras.layers.Dense(64, activation='relu')\n",
        "   ,tf.keras.layers.Dense(num_classes,activation='softmax')\n",
        "])"
      ],
      "id": "mlMTTIVJa3At"
    },
    {
      "cell_type": "code",
      "execution_count": 44,
      "metadata": {
        "scrolled": false,
        "colab": {
          "base_uri": "https://localhost:8080/"
        },
        "id": "NQf85-wMa3Av",
        "outputId": "cf6b0014-3d01-45c0-a270-124094625df3"
      },
      "outputs": [
        {
          "output_type": "stream",
          "name": "stdout",
          "text": [
            "Model: \"sequential\"\n",
            "_________________________________________________________________\n",
            " Layer (type)                Output Shape              Param #   \n",
            "=================================================================\n",
            " text_vectorization (TextVe  (None, None)              0         \n",
            " ctorization)                                                    \n",
            "                                                                 \n",
            " embedding (Embedding)       (None, None, 512)         2560000   \n",
            "                                                                 \n",
            " bidirectional (Bidirection  (None, None, 256)         656384    \n",
            " al)                                                             \n",
            "                                                                 \n",
            " bidirectional_1 (Bidirecti  (None, 64)                73984     \n",
            " onal)                                                           \n",
            "                                                                 \n",
            " dense (Dense)               (None, 64)                4160      \n",
            "                                                                 \n",
            " dense_1 (Dense)             (None, 2)                 130       \n",
            "                                                                 \n",
            "=================================================================\n",
            "Total params: 3294658 (12.57 MB)\n",
            "Trainable params: 3294658 (12.57 MB)\n",
            "Non-trainable params: 0 (0.00 Byte)\n",
            "_________________________________________________________________\n"
          ]
        }
      ],
      "source": [
        "model.summary()"
      ],
      "id": "NQf85-wMa3Av"
    },
    {
      "cell_type": "code",
      "execution_count": 45,
      "metadata": {
        "id": "8DHZZA3Va3At"
      },
      "outputs": [],
      "source": [
        "model.compile(optimizer= tf.keras.optimizers.Adam( )\n",
        "              ,loss=tf.keras.losses.SparseCategoricalCrossentropy()\n",
        "              ,metrics=['accuracy'])"
      ],
      "id": "8DHZZA3Va3At"
    },
    {
      "cell_type": "code",
      "execution_count": 46,
      "metadata": {
        "scrolled": true,
        "colab": {
          "base_uri": "https://localhost:8080/"
        },
        "id": "enUJuZYka3At",
        "outputId": "4cad6a7b-39e0-4ba2-c197-ba04a42a12a5"
      },
      "outputs": [
        {
          "output_type": "stream",
          "name": "stdout",
          "text": [
            "Epoch 1/200\n",
            "53/53 [==============================] - 106s 2s/step - loss: 0.6998 - accuracy: 0.4528 - val_loss: 0.6915 - val_accuracy: 0.5556\n",
            "Epoch 2/200\n",
            "53/53 [==============================] - 76s 1s/step - loss: 0.4609 - accuracy: 0.8679 - val_loss: 0.6511 - val_accuracy: 0.7778\n",
            "Epoch 3/200\n",
            "53/53 [==============================] - 76s 1s/step - loss: 0.0147 - accuracy: 1.0000 - val_loss: 1.6879 - val_accuracy: 0.5556\n",
            "Epoch 4/200\n",
            "53/53 [==============================] - 79s 1s/step - loss: 6.4422e-04 - accuracy: 1.0000 - val_loss: 2.3212 - val_accuracy: 0.5556\n",
            "CPU times: user 8min 33s, sys: 9.94 s, total: 8min 43s\n",
            "Wall time: 6min 44s\n"
          ]
        }
      ],
      "source": [
        "%%time\n",
        "history = model.fit(train_ds\n",
        "         ,epochs=200\n",
        "         ,validation_data=val_ds\n",
        "         ,validation_steps=3\n",
        "         ,callbacks=[tf.keras.callbacks.EarlyStopping(monitor='val_accuracy', patience=2)])"
      ],
      "id": "enUJuZYka3At"
    },
    {
      "cell_type": "markdown",
      "metadata": {
        "id": "_zzUFij9a3At"
      },
      "source": [
        "## Model Performance Test Accuracy"
      ],
      "id": "_zzUFij9a3At"
    },
    {
      "cell_type": "code",
      "execution_count": 47,
      "metadata": {
        "colab": {
          "base_uri": "https://localhost:8080/"
        },
        "id": "BAPDfPMGa3At",
        "outputId": "3f25e71b-8def-4553-b8d0-654ba27a53de"
      },
      "outputs": [
        {
          "output_type": "stream",
          "name": "stdout",
          "text": [
            "6/6 [==============================] - 1s 138ms/step - loss: 2.2584 - accuracy: 0.5556\n",
            "Test Loss: 2.2584218978881836\n",
            "Test Accuracy: 0.5555555820465088\n"
          ]
        }
      ],
      "source": [
        "test_loss, test_acc = model.evaluate(test_ds)\n",
        "\n",
        "print('Test Loss: {}'.format(test_loss))\n",
        "print('Test Accuracy: {}'.format(test_acc))"
      ],
      "id": "BAPDfPMGa3At"
    },
    {
      "cell_type": "markdown",
      "metadata": {
        "id": "7g7U9UUVa3Au"
      },
      "source": [
        "## Plotting Performance Metrics - Multi-Layer Bidirectional RNN"
      ],
      "id": "7g7U9UUVa3Au"
    },
    {
      "cell_type": "code",
      "execution_count": 48,
      "metadata": {
        "colab": {
          "base_uri": "https://localhost:8080/"
        },
        "id": "vuMi14LQa3Au",
        "outputId": "3b58f875-2752-41b6-c669-7ba01c49dbc8"
      },
      "outputs": [
        {
          "output_type": "execute_result",
          "data": {
            "text/plain": [
              "dict_keys(['loss', 'accuracy', 'val_loss', 'val_accuracy'])"
            ]
          },
          "metadata": {},
          "execution_count": 48
        }
      ],
      "source": [
        "history_dict = history.history\n",
        "history_dict.keys()"
      ],
      "id": "vuMi14LQa3Au"
    },
    {
      "cell_type": "code",
      "execution_count": 49,
      "metadata": {
        "colab": {
          "base_uri": "https://localhost:8080/",
          "height": 175
        },
        "id": "gPDxsrVYa3Au",
        "outputId": "88480f72-6802-4bf2-a5f7-c3f2f3b5c29c"
      },
      "outputs": [
        {
          "output_type": "execute_result",
          "data": {
            "text/plain": [
              "    loss  accuracy  val_loss  val_accuracy\n",
              "0  0.700     0.453     0.692         0.556\n",
              "1  0.461     0.868     0.651         0.778\n",
              "2  0.015     1.000     1.688         0.556\n",
              "3  0.001     1.000     2.321         0.556"
            ],
            "text/html": [
              "\n",
              "  <div id=\"df-ebcd21da-c66b-4dcc-9074-9d4935f89d9f\" class=\"colab-df-container\">\n",
              "    <div>\n",
              "<style scoped>\n",
              "    .dataframe tbody tr th:only-of-type {\n",
              "        vertical-align: middle;\n",
              "    }\n",
              "\n",
              "    .dataframe tbody tr th {\n",
              "        vertical-align: top;\n",
              "    }\n",
              "\n",
              "    .dataframe thead th {\n",
              "        text-align: right;\n",
              "    }\n",
              "</style>\n",
              "<table border=\"1\" class=\"dataframe\">\n",
              "  <thead>\n",
              "    <tr style=\"text-align: right;\">\n",
              "      <th></th>\n",
              "      <th>loss</th>\n",
              "      <th>accuracy</th>\n",
              "      <th>val_loss</th>\n",
              "      <th>val_accuracy</th>\n",
              "    </tr>\n",
              "  </thead>\n",
              "  <tbody>\n",
              "    <tr>\n",
              "      <th>0</th>\n",
              "      <td>0.700</td>\n",
              "      <td>0.453</td>\n",
              "      <td>0.692</td>\n",
              "      <td>0.556</td>\n",
              "    </tr>\n",
              "    <tr>\n",
              "      <th>1</th>\n",
              "      <td>0.461</td>\n",
              "      <td>0.868</td>\n",
              "      <td>0.651</td>\n",
              "      <td>0.778</td>\n",
              "    </tr>\n",
              "    <tr>\n",
              "      <th>2</th>\n",
              "      <td>0.015</td>\n",
              "      <td>1.000</td>\n",
              "      <td>1.688</td>\n",
              "      <td>0.556</td>\n",
              "    </tr>\n",
              "    <tr>\n",
              "      <th>3</th>\n",
              "      <td>0.001</td>\n",
              "      <td>1.000</td>\n",
              "      <td>2.321</td>\n",
              "      <td>0.556</td>\n",
              "    </tr>\n",
              "  </tbody>\n",
              "</table>\n",
              "</div>\n",
              "    <div class=\"colab-df-buttons\">\n",
              "\n",
              "  <div class=\"colab-df-container\">\n",
              "    <button class=\"colab-df-convert\" onclick=\"convertToInteractive('df-ebcd21da-c66b-4dcc-9074-9d4935f89d9f')\"\n",
              "            title=\"Convert this dataframe to an interactive table.\"\n",
              "            style=\"display:none;\">\n",
              "\n",
              "  <svg xmlns=\"http://www.w3.org/2000/svg\" height=\"24px\" viewBox=\"0 -960 960 960\">\n",
              "    <path d=\"M120-120v-720h720v720H120Zm60-500h600v-160H180v160Zm220 220h160v-160H400v160Zm0 220h160v-160H400v160ZM180-400h160v-160H180v160Zm440 0h160v-160H620v160ZM180-180h160v-160H180v160Zm440 0h160v-160H620v160Z\"/>\n",
              "  </svg>\n",
              "    </button>\n",
              "\n",
              "  <style>\n",
              "    .colab-df-container {\n",
              "      display:flex;\n",
              "      gap: 12px;\n",
              "    }\n",
              "\n",
              "    .colab-df-convert {\n",
              "      background-color: #E8F0FE;\n",
              "      border: none;\n",
              "      border-radius: 50%;\n",
              "      cursor: pointer;\n",
              "      display: none;\n",
              "      fill: #1967D2;\n",
              "      height: 32px;\n",
              "      padding: 0 0 0 0;\n",
              "      width: 32px;\n",
              "    }\n",
              "\n",
              "    .colab-df-convert:hover {\n",
              "      background-color: #E2EBFA;\n",
              "      box-shadow: 0px 1px 2px rgba(60, 64, 67, 0.3), 0px 1px 3px 1px rgba(60, 64, 67, 0.15);\n",
              "      fill: #174EA6;\n",
              "    }\n",
              "\n",
              "    .colab-df-buttons div {\n",
              "      margin-bottom: 4px;\n",
              "    }\n",
              "\n",
              "    [theme=dark] .colab-df-convert {\n",
              "      background-color: #3B4455;\n",
              "      fill: #D2E3FC;\n",
              "    }\n",
              "\n",
              "    [theme=dark] .colab-df-convert:hover {\n",
              "      background-color: #434B5C;\n",
              "      box-shadow: 0px 1px 3px 1px rgba(0, 0, 0, 0.15);\n",
              "      filter: drop-shadow(0px 1px 2px rgba(0, 0, 0, 0.3));\n",
              "      fill: #FFFFFF;\n",
              "    }\n",
              "  </style>\n",
              "\n",
              "    <script>\n",
              "      const buttonEl =\n",
              "        document.querySelector('#df-ebcd21da-c66b-4dcc-9074-9d4935f89d9f button.colab-df-convert');\n",
              "      buttonEl.style.display =\n",
              "        google.colab.kernel.accessAllowed ? 'block' : 'none';\n",
              "\n",
              "      async function convertToInteractive(key) {\n",
              "        const element = document.querySelector('#df-ebcd21da-c66b-4dcc-9074-9d4935f89d9f');\n",
              "        const dataTable =\n",
              "          await google.colab.kernel.invokeFunction('convertToInteractive',\n",
              "                                                    [key], {});\n",
              "        if (!dataTable) return;\n",
              "\n",
              "        const docLinkHtml = 'Like what you see? Visit the ' +\n",
              "          '<a target=\"_blank\" href=https://colab.research.google.com/notebooks/data_table.ipynb>data table notebook</a>'\n",
              "          + ' to learn more about interactive tables.';\n",
              "        element.innerHTML = '';\n",
              "        dataTable['output_type'] = 'display_data';\n",
              "        await google.colab.output.renderOutput(dataTable, element);\n",
              "        const docLink = document.createElement('div');\n",
              "        docLink.innerHTML = docLinkHtml;\n",
              "        element.appendChild(docLink);\n",
              "      }\n",
              "    </script>\n",
              "  </div>\n",
              "\n",
              "\n",
              "<div id=\"df-d20b2f07-937e-445b-b100-e30d3ab9670b\">\n",
              "  <button class=\"colab-df-quickchart\" onclick=\"quickchart('df-d20b2f07-937e-445b-b100-e30d3ab9670b')\"\n",
              "            title=\"Suggest charts.\"\n",
              "            style=\"display:none;\">\n",
              "\n",
              "<svg xmlns=\"http://www.w3.org/2000/svg\" height=\"24px\"viewBox=\"0 0 24 24\"\n",
              "     width=\"24px\">\n",
              "    <g>\n",
              "        <path d=\"M19 3H5c-1.1 0-2 .9-2 2v14c0 1.1.9 2 2 2h14c1.1 0 2-.9 2-2V5c0-1.1-.9-2-2-2zM9 17H7v-7h2v7zm4 0h-2V7h2v10zm4 0h-2v-4h2v4z\"/>\n",
              "    </g>\n",
              "</svg>\n",
              "  </button>\n",
              "\n",
              "<style>\n",
              "  .colab-df-quickchart {\n",
              "      --bg-color: #E8F0FE;\n",
              "      --fill-color: #1967D2;\n",
              "      --hover-bg-color: #E2EBFA;\n",
              "      --hover-fill-color: #174EA6;\n",
              "      --disabled-fill-color: #AAA;\n",
              "      --disabled-bg-color: #DDD;\n",
              "  }\n",
              "\n",
              "  [theme=dark] .colab-df-quickchart {\n",
              "      --bg-color: #3B4455;\n",
              "      --fill-color: #D2E3FC;\n",
              "      --hover-bg-color: #434B5C;\n",
              "      --hover-fill-color: #FFFFFF;\n",
              "      --disabled-bg-color: #3B4455;\n",
              "      --disabled-fill-color: #666;\n",
              "  }\n",
              "\n",
              "  .colab-df-quickchart {\n",
              "    background-color: var(--bg-color);\n",
              "    border: none;\n",
              "    border-radius: 50%;\n",
              "    cursor: pointer;\n",
              "    display: none;\n",
              "    fill: var(--fill-color);\n",
              "    height: 32px;\n",
              "    padding: 0;\n",
              "    width: 32px;\n",
              "  }\n",
              "\n",
              "  .colab-df-quickchart:hover {\n",
              "    background-color: var(--hover-bg-color);\n",
              "    box-shadow: 0 1px 2px rgba(60, 64, 67, 0.3), 0 1px 3px 1px rgba(60, 64, 67, 0.15);\n",
              "    fill: var(--button-hover-fill-color);\n",
              "  }\n",
              "\n",
              "  .colab-df-quickchart-complete:disabled,\n",
              "  .colab-df-quickchart-complete:disabled:hover {\n",
              "    background-color: var(--disabled-bg-color);\n",
              "    fill: var(--disabled-fill-color);\n",
              "    box-shadow: none;\n",
              "  }\n",
              "\n",
              "  .colab-df-spinner {\n",
              "    border: 2px solid var(--fill-color);\n",
              "    border-color: transparent;\n",
              "    border-bottom-color: var(--fill-color);\n",
              "    animation:\n",
              "      spin 1s steps(1) infinite;\n",
              "  }\n",
              "\n",
              "  @keyframes spin {\n",
              "    0% {\n",
              "      border-color: transparent;\n",
              "      border-bottom-color: var(--fill-color);\n",
              "      border-left-color: var(--fill-color);\n",
              "    }\n",
              "    20% {\n",
              "      border-color: transparent;\n",
              "      border-left-color: var(--fill-color);\n",
              "      border-top-color: var(--fill-color);\n",
              "    }\n",
              "    30% {\n",
              "      border-color: transparent;\n",
              "      border-left-color: var(--fill-color);\n",
              "      border-top-color: var(--fill-color);\n",
              "      border-right-color: var(--fill-color);\n",
              "    }\n",
              "    40% {\n",
              "      border-color: transparent;\n",
              "      border-right-color: var(--fill-color);\n",
              "      border-top-color: var(--fill-color);\n",
              "    }\n",
              "    60% {\n",
              "      border-color: transparent;\n",
              "      border-right-color: var(--fill-color);\n",
              "    }\n",
              "    80% {\n",
              "      border-color: transparent;\n",
              "      border-right-color: var(--fill-color);\n",
              "      border-bottom-color: var(--fill-color);\n",
              "    }\n",
              "    90% {\n",
              "      border-color: transparent;\n",
              "      border-bottom-color: var(--fill-color);\n",
              "    }\n",
              "  }\n",
              "</style>\n",
              "\n",
              "  <script>\n",
              "    async function quickchart(key) {\n",
              "      const quickchartButtonEl =\n",
              "        document.querySelector('#' + key + ' button');\n",
              "      quickchartButtonEl.disabled = true;  // To prevent multiple clicks.\n",
              "      quickchartButtonEl.classList.add('colab-df-spinner');\n",
              "      try {\n",
              "        const charts = await google.colab.kernel.invokeFunction(\n",
              "            'suggestCharts', [key], {});\n",
              "      } catch (error) {\n",
              "        console.error('Error during call to suggestCharts:', error);\n",
              "      }\n",
              "      quickchartButtonEl.classList.remove('colab-df-spinner');\n",
              "      quickchartButtonEl.classList.add('colab-df-quickchart-complete');\n",
              "    }\n",
              "    (() => {\n",
              "      let quickchartButtonEl =\n",
              "        document.querySelector('#df-d20b2f07-937e-445b-b100-e30d3ab9670b button');\n",
              "      quickchartButtonEl.style.display =\n",
              "        google.colab.kernel.accessAllowed ? 'block' : 'none';\n",
              "    })();\n",
              "  </script>\n",
              "</div>\n",
              "    </div>\n",
              "  </div>\n"
            ]
          },
          "metadata": {},
          "execution_count": 49
        }
      ],
      "source": [
        "history_df=pd.DataFrame(history_dict)\n",
        "history_df.tail().round(3)"
      ],
      "id": "gPDxsrVYa3Au"
    },
    {
      "cell_type": "code",
      "execution_count": 50,
      "metadata": {
        "id": "7hne-WYKa3Au"
      },
      "outputs": [],
      "source": [
        "losses = history.history['loss']\n",
        "accs = history.history['accuracy']\n",
        "val_losses = history.history['val_loss']\n",
        "val_accs = history.history['val_accuracy']\n",
        "epochs = len(losses)"
      ],
      "id": "7hne-WYKa3Au"
    },
    {
      "cell_type": "code",
      "execution_count": 51,
      "metadata": {
        "colab": {
          "base_uri": "https://localhost:8080/",
          "height": 1000
        },
        "id": "cKhOUHxQa3Au",
        "outputId": "db51c950-1fdc-4bff-e381-dec0595dc9c4"
      },
      "outputs": [
        {
          "output_type": "display_data",
          "data": {
            "text/plain": [
              "<Figure size 1600x1200 with 2 Axes>"
            ],
            "image/png": "[encoded data removed]"
          },
          "metadata": {}
        }
      ],
      "source": [
        "plt.subplots(figsize=(16,12))\n",
        "plt.tight_layout()\n",
        "display_training_curves(history.history['accuracy'], history.history['val_accuracy'], 'accuracy', 211)\n",
        "display_training_curves(history.history['loss'], history.history['val_loss'], 'loss', 212)"
      ],
      "id": "cKhOUHxQa3Au"
    },
    {
      "cell_type": "markdown",
      "metadata": {
        "id": "ij3sDWgGa3Au"
      },
      "source": [
        "## Confusion Matrix Post Model Performance Analysis"
      ],
      "id": "ij3sDWgGa3Au"
    },
    {
      "cell_type": "code",
      "execution_count": 52,
      "metadata": {
        "colab": {
          "base_uri": "https://localhost:8080/"
        },
        "id": "IaLsjXkQa3Au",
        "outputId": "ee3c1d0e-7fba-4512-a8fd-7bc298eeb69c"
      },
      "outputs": [
        {
          "output_type": "stream",
          "name": "stdout",
          "text": [
            "6/6 [==============================] - 8s 212ms/step\n"
          ]
        }
      ],
      "source": [
        "preds2 = model.predict(test_ds)\n",
        "y_pred2 = np.argmax(preds2, axis=1)\n",
        "y2 = np.concatenate([y for x, y in test_ds], axis=0)"
      ],
      "id": "IaLsjXkQa3Au"
    },
    {
      "cell_type": "code",
      "execution_count": 53,
      "metadata": {
        "id": "Vg92x2bla3Au"
      },
      "outputs": [],
      "source": [
        "CLASSES_LIST = ['Positive','Negative']"
      ],
      "id": "Vg92x2bla3Au"
    },
    {
      "cell_type": "code",
      "execution_count": 54,
      "metadata": {
        "colab": {
          "base_uri": "https://localhost:8080/",
          "height": 850
        },
        "id": "D5Uk7pKca3Av",
        "outputId": "287dd2fe-c812-4787-d04e-cfd1854ae0d5"
      },
      "outputs": [
        {
          "output_type": "display_data",
          "data": {
            "text/plain": [
              "<Figure size 1000x1000 with 1 Axes>"
            ],
            "image/png": "[encoded data removed]"
          },
          "metadata": {}
        }
      ],
      "source": [
        "plot_confusion_matrix_labeled(y2,y_pred2, CLASSES_LIST=CLASSES_LIST)"
      ],
      "id": "D5Uk7pKca3Av"
    },
    {
      "cell_type": "code",
      "execution_count": 55,
      "metadata": {
        "id": "NyqS9FJka3Av"
      },
      "outputs": [],
      "source": [
        "cm = sns.light_palette((260, 75, 60), input=\"husl\", as_cmap=True)"
      ],
      "id": "NyqS9FJka3Av"
    },
    {
      "cell_type": "code",
      "execution_count": 56,
      "metadata": {
        "colab": {
          "base_uri": "https://localhost:8080/",
          "height": 112
        },
        "id": "RTAGFvGga3Av",
        "outputId": "148c2eda-0dbb-4cc3-b048-f84712abd6a3"
      },
      "outputs": [
        {
          "output_type": "execute_result",
          "data": {
            "text/plain": [
              "<pandas.io.formats.style.Styler at 0x79df6956b370>"
            ],
            "text/html": [
              "<style type=\"text/css\">\n",
              "#T_c1c29_row0_col0, #T_c1c29_row0_col1, #T_c1c29_row0_col2, #T_c1c29_row0_col3, #T_c1c29_row0_col4, #T_c1c29_row0_col6, #T_c1c29_row0_col7, #T_c1c29_row0_col8, #T_c1c29_row0_col10, #T_c1c29_row0_col11, #T_c1c29_row0_col13, #T_c1c29_row0_col14, #T_c1c29_row1_col5, #T_c1c29_row1_col9, #T_c1c29_row1_col12 {\n",
              "  background-color: #778ce4;\n",
              "  color: #f1f1f1;\n",
              "}\n",
              "#T_c1c29_row0_col5, #T_c1c29_row0_col9, #T_c1c29_row0_col12, #T_c1c29_row1_col0, #T_c1c29_row1_col1, #T_c1c29_row1_col2, #T_c1c29_row1_col3, #T_c1c29_row1_col4, #T_c1c29_row1_col6, #T_c1c29_row1_col7, #T_c1c29_row1_col8, #T_c1c29_row1_col10, #T_c1c29_row1_col11, #T_c1c29_row1_col13, #T_c1c29_row1_col14 {\n",
              "  background-color: #f0f1f2;\n",
              "  color: #000000;\n",
              "}\n",
              "</style>\n",
              "<table id=\"T_c1c29\" class=\"dataframe\">\n",
              "  <thead>\n",
              "    <tr>\n",
              "      <th class=\"blank level0\" >&nbsp;</th>\n",
              "      <th id=\"T_c1c29_level0_col0\" class=\"col_heading level0 col0\" >0</th>\n",
              "      <th id=\"T_c1c29_level0_col1\" class=\"col_heading level0 col1\" >1</th>\n",
              "      <th id=\"T_c1c29_level0_col2\" class=\"col_heading level0 col2\" >2</th>\n",
              "      <th id=\"T_c1c29_level0_col3\" class=\"col_heading level0 col3\" >3</th>\n",
              "      <th id=\"T_c1c29_level0_col4\" class=\"col_heading level0 col4\" >4</th>\n",
              "      <th id=\"T_c1c29_level0_col5\" class=\"col_heading level0 col5\" >5</th>\n",
              "      <th id=\"T_c1c29_level0_col6\" class=\"col_heading level0 col6\" >6</th>\n",
              "      <th id=\"T_c1c29_level0_col7\" class=\"col_heading level0 col7\" >7</th>\n",
              "      <th id=\"T_c1c29_level0_col8\" class=\"col_heading level0 col8\" >8</th>\n",
              "      <th id=\"T_c1c29_level0_col9\" class=\"col_heading level0 col9\" >9</th>\n",
              "      <th id=\"T_c1c29_level0_col10\" class=\"col_heading level0 col10\" >10</th>\n",
              "      <th id=\"T_c1c29_level0_col11\" class=\"col_heading level0 col11\" >11</th>\n",
              "      <th id=\"T_c1c29_level0_col12\" class=\"col_heading level0 col12\" >12</th>\n",
              "      <th id=\"T_c1c29_level0_col13\" class=\"col_heading level0 col13\" >13</th>\n",
              "      <th id=\"T_c1c29_level0_col14\" class=\"col_heading level0 col14\" >14</th>\n",
              "    </tr>\n",
              "  </thead>\n",
              "  <tbody>\n",
              "    <tr>\n",
              "      <th id=\"T_c1c29_level0_row0\" class=\"row_heading level0 row0\" >Positive</th>\n",
              "      <td id=\"T_c1c29_row0_col0\" class=\"data row0 col0\" >99.82%</td>\n",
              "      <td id=\"T_c1c29_row0_col1\" class=\"data row0 col1\" >99.12%</td>\n",
              "      <td id=\"T_c1c29_row0_col2\" class=\"data row0 col2\" >83.00%</td>\n",
              "      <td id=\"T_c1c29_row0_col3\" class=\"data row0 col3\" >96.76%</td>\n",
              "      <td id=\"T_c1c29_row0_col4\" class=\"data row0 col4\" >99.91%</td>\n",
              "      <td id=\"T_c1c29_row0_col5\" class=\"data row0 col5\" >15.61%</td>\n",
              "      <td id=\"T_c1c29_row0_col6\" class=\"data row0 col6\" >99.93%</td>\n",
              "      <td id=\"T_c1c29_row0_col7\" class=\"data row0 col7\" >99.91%</td>\n",
              "      <td id=\"T_c1c29_row0_col8\" class=\"data row0 col8\" >96.33%</td>\n",
              "      <td id=\"T_c1c29_row0_col9\" class=\"data row0 col9\" >0.62%</td>\n",
              "      <td id=\"T_c1c29_row0_col10\" class=\"data row0 col10\" >99.90%</td>\n",
              "      <td id=\"T_c1c29_row0_col11\" class=\"data row0 col11\" >99.39%</td>\n",
              "      <td id=\"T_c1c29_row0_col12\" class=\"data row0 col12\" >2.74%</td>\n",
              "      <td id=\"T_c1c29_row0_col13\" class=\"data row0 col13\" >99.61%</td>\n",
              "      <td id=\"T_c1c29_row0_col14\" class=\"data row0 col14\" >99.52%</td>\n",
              "    </tr>\n",
              "    <tr>\n",
              "      <th id=\"T_c1c29_level0_row1\" class=\"row_heading level0 row1\" >Negative</th>\n",
              "      <td id=\"T_c1c29_row1_col0\" class=\"data row1 col0\" >0.18%</td>\n",
              "      <td id=\"T_c1c29_row1_col1\" class=\"data row1 col1\" >0.88%</td>\n",
              "      <td id=\"T_c1c29_row1_col2\" class=\"data row1 col2\" >17.00%</td>\n",
              "      <td id=\"T_c1c29_row1_col3\" class=\"data row1 col3\" >3.24%</td>\n",
              "      <td id=\"T_c1c29_row1_col4\" class=\"data row1 col4\" >0.09%</td>\n",
              "      <td id=\"T_c1c29_row1_col5\" class=\"data row1 col5\" >84.39%</td>\n",
              "      <td id=\"T_c1c29_row1_col6\" class=\"data row1 col6\" >0.07%</td>\n",
              "      <td id=\"T_c1c29_row1_col7\" class=\"data row1 col7\" >0.09%</td>\n",
              "      <td id=\"T_c1c29_row1_col8\" class=\"data row1 col8\" >3.67%</td>\n",
              "      <td id=\"T_c1c29_row1_col9\" class=\"data row1 col9\" >99.38%</td>\n",
              "      <td id=\"T_c1c29_row1_col10\" class=\"data row1 col10\" >0.10%</td>\n",
              "      <td id=\"T_c1c29_row1_col11\" class=\"data row1 col11\" >0.61%</td>\n",
              "      <td id=\"T_c1c29_row1_col12\" class=\"data row1 col12\" >97.26%</td>\n",
              "      <td id=\"T_c1c29_row1_col13\" class=\"data row1 col13\" >0.39%</td>\n",
              "      <td id=\"T_c1c29_row1_col14\" class=\"data row1 col14\" >0.48%</td>\n",
              "    </tr>\n",
              "  </tbody>\n",
              "</table>\n"
            ]
          },
          "metadata": {},
          "execution_count": 56
        }
      ],
      "source": [
        "df2 = pd.DataFrame(preds2[0:15]\n",
        "                  ,columns = CLASSES_LIST).T\n",
        "df2.style.format(\"{:.2%}\").background_gradient(cmap=cm)"
      ],
      "id": "RTAGFvGga3Av"
    }
  ],
  "metadata": {
    "kernelspec": {
      "display_name": "Python 3",
      "language": "python",
      "name": "python3"
    },
    "language_info": {
      "codemirror_mode": {
        "name": "ipython",
        "version": 3
      },
      "file_extension": ".py",
      "mimetype": "text/x-python",
      "name": "python",
      "nbconvert_exporter": "python",
      "pygments_lexer": "ipython3",
      "version": "3.8.10"
    },
    "colab": {
      "provenance": [],
      "collapsed_sections": [
        "lGzlf27ONXaD"
      ],
      "include_colab_link": true
    }
  },
  "nbformat": 4,
  "nbformat_minor": 5
}